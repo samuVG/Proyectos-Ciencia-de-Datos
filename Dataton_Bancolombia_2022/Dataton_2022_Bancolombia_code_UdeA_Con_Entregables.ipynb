{
  "cells": [
    {
      "cell_type": "markdown",
      "metadata": {
        "id": "042vspZmHpY5"
      },
      "source": [
        "\n",
        "# <center> Dataton Bancolombia 2022: propuesta y diseño de un recomendador de noticias <center/>\n",
        "\n",
        "\n",
        "El siguiente trabajo fue elaborado por Samuel Vasco G.¹, J. Nicolay Ruiz A.¹.\n",
        "\n",
        "¹Instituto de Física de la Universidad de Antioquia"
      ]
    },
    {
      "cell_type": "markdown",
      "metadata": {
        "id": "cxKs0_07L1TM"
      },
      "source": [
        "## Cargar dataset (3 archivos csv)"
      ]
    },
    {
      "cell_type": "code",
      "execution_count": null,
      "metadata": {
        "id": "6CegOnn8L6c3"
      },
      "outputs": [],
      "source": [
        "import pandas as pd \n",
        "import numpy as np\n",
        "import re"
      ]
    },
    {
      "cell_type": "code",
      "execution_count": null,
      "metadata": {
        "id": "zHbI7UnAwlCN"
      },
      "outputs": [],
      "source": [
        "from google.colab import drive\n",
        "drive.mount('/content/drive')"
      ]
    },
    {
      "cell_type": "markdown",
      "metadata": {
        "id": "sFq6v_bi0DsK"
      },
      "source": [
        "La lectura y procesado de los datos se resume de la siguiente manera:\n",
        "\n",
        "Primeramente se cargan los tres datasets (_`cliente.csv`_, _`noticias.csv`_, _`clientes_noticias.csv`_).\n",
        "\n",
        "Se añade el nombre y subsector de cada cliente al dataset que contiene los clientes y noticias (_`clientes_noticias.csv`_). Se elimina la información de los intervalos de fechas porque no se usarán. Se añade el título de la noticia y el contenido de la misma al dataset que se está construyendo. Posteriormente se ordena de acuerdo a la identificación del cliente. Se eliminan todos los caractéres que sean diferentes a letras, además de los meses y días. Adicionalmente, se conservara todo minúsculas.\n",
        "\n",
        "Finalmente, por motivos de practicidada, se guarda este dataset para ser usado en el presente trabajo."
      ]
    },
    {
      "cell_type": "code",
      "execution_count": null,
      "metadata": {
        "id": "RFJ5zm0XwJ2h"
      },
      "outputs": [],
      "source": [
        "clientes = pd.read_csv('/content/drive/MyDrive/Bancolombia_Dataton_2022/clientes.csv')\n",
        "noticias = pd.read_csv('/content/drive/MyDrive/Bancolombia_Dataton_2022/noticias.csv')\n",
        "users_news = pd.read_csv('/content/drive/MyDrive/Bancolombia_Dataton_2022/clientes_noticias.csv')\n",
        "\n",
        "users_news = pd.merge(users_news, clientes[['nit', 'nombre', 'subsec']], on='nit')\n",
        "users_news = users_news.drop(columns=['news_init_date','news_final_date'])\n",
        "\n",
        "users_news = pd.merge(users_news, noticias[['news_id', 'news_title', 'news_text_content']], on='news_id').sort_values(by=['nit']).reset_index(drop=True)\n",
        "for col in users_news.columns[2:]:\n",
        "  users_news[col] = users_news[col].str.lower()\n",
        "  if col != 'news_url_absolute': \n",
        "    users_news[col] = users_news[col].replace(r\"[^A-Za-z\\s]\",\"\", regex=True)\n",
        "    users_news[col] = users_news[col].replace(r\"enero|febrero|marzo|abril|mayo|junio|julio|agosto|septiembre|octubre|noviembre|diciembre|lunes|martes|miercoles|jueves|viernes|sabado|domingo\", \"\", regex=True)\n",
        "    \n",
        "file = users_news.to_csv('/content/drive/MyDrive/Bancolombia_Dataton_2022/data_set.csv')"
      ]
    },
    {
      "cell_type": "code",
      "execution_count": null,
      "metadata": {
        "colab": {
          "base_uri": "https://localhost:8080/",
          "height": 641
        },
        "id": "Ame4jVwLKCRY",
        "outputId": "ac642afc-89d8-40d9-a1f9-9d1606797e9d"
      },
      "outputs": [
        {
          "data": {
            "text/html": [
              "<div>\n",
              "<style scoped>\n",
              "    .dataframe tbody tr th:only-of-type {\n",
              "        vertical-align: middle;\n",
              "    }\n",
              "\n",
              "    .dataframe tbody tr th {\n",
              "        vertical-align: top;\n",
              "    }\n",
              "\n",
              "    .dataframe thead th {\n",
              "        text-align: right;\n",
              "    }\n",
              "</style>\n",
              "<table border=\"1\" class=\"dataframe\">\n",
              "  <thead>\n",
              "    <tr style=\"text-align: right;\">\n",
              "      <th></th>\n",
              "      <th>nit</th>\n",
              "      <th>news_id</th>\n",
              "      <th>news_url_absolute</th>\n",
              "      <th>nombre</th>\n",
              "      <th>subsec</th>\n",
              "      <th>news_title</th>\n",
              "      <th>news_text_content</th>\n",
              "    </tr>\n",
              "  </thead>\n",
              "  <tbody>\n",
              "    <tr>\n",
              "      <th>0</th>\n",
              "      <td>800000946</td>\n",
              "      <td>news15986</td>\n",
              "      <td>https://www.infobae.com/cultura/agenda-cultura...</td>\n",
              "      <td>procter  gamble colombia ltda</td>\n",
              "      <td>manufactura de productos de tocador y articulo...</td>\n",
              "      <td>guia de arte y cultura semana del  al  de</td>\n",
              "      <td>arte agustina galindez quesada exhibe catarsis...</td>\n",
              "    </tr>\n",
              "    <tr>\n",
              "      <th>1</th>\n",
              "      <td>800000946</td>\n",
              "      <td>news89860</td>\n",
              "      <td>https://acento.com.do/economia/wall-street-cie...</td>\n",
              "      <td>procter  gamble colombia ltda</td>\n",
              "      <td>manufactura de productos de tocador y articulo...</td>\n",
              "      <td>wall street cierra el  en verde</td>\n",
              "      <td>wall street cerro en verde este  y el dow jone...</td>\n",
              "    </tr>\n",
              "    <tr>\n",
              "      <th>2</th>\n",
              "      <td>800000946</td>\n",
              "      <td>news89859</td>\n",
              "      <td>https://www.semana.com/economia/inversionistas...</td>\n",
              "      <td>procter  gamble colombia ltda</td>\n",
              "      <td>manufactura de productos de tocador y articulo...</td>\n",
              "      <td>wall street termina al alza su mejor mes del a...</td>\n",
              "      <td>la bolsa de nueva york finalizo con nota posit...</td>\n",
              "    </tr>\n",
              "    <tr>\n",
              "      <th>3</th>\n",
              "      <td>800000946</td>\n",
              "      <td>news89850</td>\n",
              "      <td>https://sportingcristal.org/page/9954/</td>\n",
              "      <td>procter  gamble colombia ltda</td>\n",
              "      <td>manufactura de productos de tocador y articulo...</td>\n",
              "      <td>pagina</td>\n",
              "      <td>el informe ofrece los desarrollos regionales d...</td>\n",
              "    </tr>\n",
              "    <tr>\n",
              "      <th>4</th>\n",
              "      <td>800000946</td>\n",
              "      <td>news69546</td>\n",
              "      <td>https://acento.com.do/economia/wall-street-cie...</td>\n",
              "      <td>procter  gamble colombia ltda</td>\n",
              "      <td>manufactura de productos de tocador y articulo...</td>\n",
              "      <td>wall street cierra a la baja este  y el dow jo...</td>\n",
              "      <td>wall street cerro este  en rojo y el dow jones...</td>\n",
              "    </tr>\n",
              "    <tr>\n",
              "      <th>...</th>\n",
              "      <td>...</td>\n",
              "      <td>...</td>\n",
              "      <td>...</td>\n",
              "      <td>...</td>\n",
              "      <td>...</td>\n",
              "      <td>...</td>\n",
              "      <td>...</td>\n",
              "    </tr>\n",
              "    <tr>\n",
              "      <th>74612</th>\n",
              "      <td>901576411</td>\n",
              "      <td>news96699</td>\n",
              "      <td>https://www.infobae.com/america/eeuu/2022/07/1...</td>\n",
              "      <td>mauria group sas</td>\n",
              "      <td>hoteles</td>\n",
              "      <td>tres hoteles del sur de la florida entre los  ...</td>\n",
              "      <td>como todos los anos la popular publicacion dig...</td>\n",
              "    </tr>\n",
              "    <tr>\n",
              "      <th>74613</th>\n",
              "      <td>901576411</td>\n",
              "      <td>news96696</td>\n",
              "      <td>https://www.eltiempo.com/deportes/futbol-inter...</td>\n",
              "      <td>mauria group sas</td>\n",
              "      <td>hoteles</td>\n",
              "      <td>catar en el paredon denuncian acoso sexual y r...</td>\n",
              "      <td>hola aqui tambien puedes encontrar mis noticia...</td>\n",
              "    </tr>\n",
              "    <tr>\n",
              "      <th>74614</th>\n",
              "      <td>901576411</td>\n",
              "      <td>news96693</td>\n",
              "      <td>https://www.larepublica.co/empresas/hotel-este...</td>\n",
              "      <td>mauria group sas</td>\n",
              "      <td>hoteles</td>\n",
              "      <td>hotel estelar registro ocupacion de  durante e...</td>\n",
              "      <td>en su primer semestre de operacion el hotel es...</td>\n",
              "    </tr>\n",
              "    <tr>\n",
              "      <th>74615</th>\n",
              "      <td>901576411</td>\n",
              "      <td>news98685</td>\n",
              "      <td>https://www.rcnradio.com/economia/el-desempleo...</td>\n",
              "      <td>mauria group sas</td>\n",
              "      <td>hoteles</td>\n",
              "      <td>el desempleo en colombia sigue cayendo en  lle...</td>\n",
              "      <td>el departamento nacional de estadisticas dane ...</td>\n",
              "    </tr>\n",
              "    <tr>\n",
              "      <th>74616</th>\n",
              "      <td>901576411</td>\n",
              "      <td>news79518</td>\n",
              "      <td>https://www.larepublica.co/ocio/mclaren-vender...</td>\n",
              "      <td>mauria group sas</td>\n",
              "      <td>hoteles</td>\n",
              "      <td>mclaren vendera zapatillas deportivas por us c...</td>\n",
              "      <td>mclaren group ltd esta incursionando en las za...</td>\n",
              "    </tr>\n",
              "  </tbody>\n",
              "</table>\n",
              "<p>74617 rows × 7 columns</p>\n",
              "</div>"
            ],
            "text/plain": [
              "             nit    news_id  \\\n",
              "0      800000946  news15986   \n",
              "1      800000946  news89860   \n",
              "2      800000946  news89859   \n",
              "3      800000946  news89850   \n",
              "4      800000946  news69546   \n",
              "...          ...        ...   \n",
              "74612  901576411  news96699   \n",
              "74613  901576411  news96696   \n",
              "74614  901576411  news96693   \n",
              "74615  901576411  news98685   \n",
              "74616  901576411  news79518   \n",
              "\n",
              "                                       news_url_absolute  \\\n",
              "0      https://www.infobae.com/cultura/agenda-cultura...   \n",
              "1      https://acento.com.do/economia/wall-street-cie...   \n",
              "2      https://www.semana.com/economia/inversionistas...   \n",
              "3                 https://sportingcristal.org/page/9954/   \n",
              "4      https://acento.com.do/economia/wall-street-cie...   \n",
              "...                                                  ...   \n",
              "74612  https://www.infobae.com/america/eeuu/2022/07/1...   \n",
              "74613  https://www.eltiempo.com/deportes/futbol-inter...   \n",
              "74614  https://www.larepublica.co/empresas/hotel-este...   \n",
              "74615  https://www.rcnradio.com/economia/el-desempleo...   \n",
              "74616  https://www.larepublica.co/ocio/mclaren-vender...   \n",
              "\n",
              "                              nombre  \\\n",
              "0      procter  gamble colombia ltda   \n",
              "1      procter  gamble colombia ltda   \n",
              "2      procter  gamble colombia ltda   \n",
              "3      procter  gamble colombia ltda   \n",
              "4      procter  gamble colombia ltda   \n",
              "...                              ...   \n",
              "74612               mauria group sas   \n",
              "74613               mauria group sas   \n",
              "74614               mauria group sas   \n",
              "74615               mauria group sas   \n",
              "74616               mauria group sas   \n",
              "\n",
              "                                                  subsec  \\\n",
              "0      manufactura de productos de tocador y articulo...   \n",
              "1      manufactura de productos de tocador y articulo...   \n",
              "2      manufactura de productos de tocador y articulo...   \n",
              "3      manufactura de productos de tocador y articulo...   \n",
              "4      manufactura de productos de tocador y articulo...   \n",
              "...                                                  ...   \n",
              "74612                                            hoteles   \n",
              "74613                                            hoteles   \n",
              "74614                                            hoteles   \n",
              "74615                                            hoteles   \n",
              "74616                                            hoteles   \n",
              "\n",
              "                                              news_title  \\\n",
              "0             guia de arte y cultura semana del  al  de    \n",
              "1                        wall street cierra el  en verde   \n",
              "2      wall street termina al alza su mejor mes del a...   \n",
              "3                                                pagina    \n",
              "4      wall street cierra a la baja este  y el dow jo...   \n",
              "...                                                  ...   \n",
              "74612  tres hoteles del sur de la florida entre los  ...   \n",
              "74613  catar en el paredon denuncian acoso sexual y r...   \n",
              "74614  hotel estelar registro ocupacion de  durante e...   \n",
              "74615  el desempleo en colombia sigue cayendo en  lle...   \n",
              "74616  mclaren vendera zapatillas deportivas por us c...   \n",
              "\n",
              "                                       news_text_content  \n",
              "0      arte agustina galindez quesada exhibe catarsis...  \n",
              "1      wall street cerro en verde este  y el dow jone...  \n",
              "2      la bolsa de nueva york finalizo con nota posit...  \n",
              "3      el informe ofrece los desarrollos regionales d...  \n",
              "4      wall street cerro este  en rojo y el dow jones...  \n",
              "...                                                  ...  \n",
              "74612  como todos los anos la popular publicacion dig...  \n",
              "74613  hola aqui tambien puedes encontrar mis noticia...  \n",
              "74614  en su primer semestre de operacion el hotel es...  \n",
              "74615  el departamento nacional de estadisticas dane ...  \n",
              "74616  mclaren group ltd esta incursionando en las za...  \n",
              "\n",
              "[74617 rows x 7 columns]"
            ]
          },
          "execution_count": 3,
          "metadata": {},
          "output_type": "execute_result"
        }
      ],
      "source": [
        "users_news = pd.read_csv('data_set.csv', index_col=[0])\n",
        "users_news"
      ]
    },
    {
      "cell_type": "code",
      "execution_count": null,
      "metadata": {
        "colab": {
          "base_uri": "https://localhost:8080/"
        },
        "id": "Lxr4cBNGDr3s",
        "outputId": "3132e7c7-8a5e-42b3-a486-6f7aa1fb21a8"
      },
      "outputs": [
        {
          "data": {
            "text/plain": [
              "((1506,), (23338,))"
            ]
          },
          "execution_count": 6,
          "metadata": {},
          "output_type": "execute_result"
        }
      ],
      "source": [
        "users_news.nombre.unique().shape, users_news.news_id.unique().shape"
      ]
    },
    {
      "cell_type": "markdown",
      "metadata": {
        "id": "f4Ba9IMW7V-Y"
      },
      "source": [
        "**Nota**:\n",
        "\n",
        " 39 noticias no tienen asociado un cliente y hay 1 cliente que no tiene noticias asociadas. Por eso hay menos nit´s y menos noticias únicos en este dataframe. \n",
        " \n",
        "  A partir del data Frame almacenado anteriormente, se genera un data set de noticias únicas (`noticias_unicas.csv`) el cual será utilizado en siguientes pasos."
      ]
    },
    {
      "cell_type": "code",
      "execution_count": null,
      "metadata": {
        "colab": {
          "base_uri": "https://localhost:8080/"
        },
        "id": "F93yC2-m4RrO",
        "outputId": "f8b39523-57de-4583-8eba-2473c0ec8b96"
      },
      "outputs": [
        {
          "name": "stderr",
          "output_type": "stream",
          "text": [
            "<ipython-input-9-aecc6849b487>:2: SettingWithCopyWarning: \n",
            "A value is trying to be set on a copy of a slice from a DataFrame.\n",
            "Try using .loc[row_indexer,col_indexer] = value instead\n",
            "\n",
            "See the caveats in the documentation: https://pandas.pydata.org/pandas-docs/stable/user_guide/indexing.html#returning-a-view-versus-a-copy\n",
            "  noticias_unicas[\"news_text_content\"] = users_news.news_title +  \" \" + users_news.news_text_content\n",
            "<ipython-input-9-aecc6849b487>:4: SettingWithCopyWarning: \n",
            "A value is trying to be set on a copy of a slice from a DataFrame\n",
            "\n",
            "See the caveats in the documentation: https://pandas.pydata.org/pandas-docs/stable/user_guide/indexing.html#returning-a-view-versus-a-copy\n",
            "  noticias_unicas.drop_duplicates(inplace=True, ignore_index=True)\n"
          ]
        }
      ],
      "source": [
        "noticias_unicas = users_news[[\"news_id\"]]\n",
        "noticias_unicas[\"news_text_content\"] = users_news.news_title +  \" \" + users_news.news_text_content\n",
        "\n",
        "noticias_unicas.drop_duplicates(inplace=True, ignore_index=True)"
      ]
    },
    {
      "cell_type": "markdown",
      "metadata": {
        "id": "nng5UMFJ730_"
      },
      "source": [
        "Con este dataset de noticias únicas se implementará el método de categorización (LDA) como se verá acontinuación."
      ]
    },
    {
      "cell_type": "markdown",
      "metadata": {
        "id": "zdhH-Gm8Pc5Z"
      },
      "source": [
        "# Stopwords"
      ]
    },
    {
      "cell_type": "markdown",
      "metadata": {
        "id": "yGRFsN2G0Dsq"
      },
      "source": [
        "Para la lectura ágil y requerida por el método a implementar, suele ser de gran utilidad eliminar todas aquellas palabras que no contengan información de relevancia (ej. artículos (el, la, los, ...). Se utiliza las stop_words en español de Spacy que tiene alrededor de 500 palabras. Además, se quitan todas las tildes y las ñ's de los stop words, dado que en el Scraping de la noticias se eliminaron."
      ]
    },
    {
      "cell_type": "code",
      "execution_count": null,
      "metadata": {
        "id": "6Mg1-Hf60Dss"
      },
      "outputs": [],
      "source": [
        "!pip install spacy"
      ]
    },
    {
      "cell_type": "code",
      "execution_count": null,
      "metadata": {
        "colab": {
          "base_uri": "https://localhost:8080/"
        },
        "id": "92WGR7D_Pk2R",
        "outputId": "97688f15-83a0-4f91-88c4-ad1c77e49663"
      },
      "outputs": [
        {
          "name": "stdout",
          "output_type": "stream",
          "text": [
            "✔ Download and installation successful\n",
            "You can now load the package via spacy.load('es_core_news_sm')\n",
            "None\n"
          ]
        }
      ],
      "source": [
        "import spacy\n",
        "from spacy.cli import download\n",
        "print(download('es_core_news_sm'))\n",
        "nlp = spacy.load('es_core_news_sm')\n",
        "spacy_stopwords_es = spacy.lang.es.stop_words.STOP_WORDS\n",
        "def normalize(s):\n",
        "    replacements = (\n",
        "        (\"á\", \"a\"),\n",
        "        (\"é\", \"e\"),\n",
        "        (\"í\", \"i\"),\n",
        "        (\"ó\", \"o\"),\n",
        "        (\"ú\", \"u\"),\n",
        "        (\"ñ\", \"n\")\n",
        "    )\n",
        "    for a, b in replacements:\n",
        "        s = s.replace(a, b)\n",
        "    return s\n",
        "stop_words = [normalize(word) for word in spacy_stopwords_es]"
      ]
    },
    {
      "cell_type": "markdown",
      "metadata": {
        "id": "N5ZqUOM4SmQZ"
      },
      "source": [
        "**Nota:** Ideas (alternativas a tener en cuenta)\n",
        "* Analisis de pesos personalizado por cliente, concatenar todas las noticias asociadas a un solo cliente y hacer un LDA o Hugging Face, y de la distribución de probabilidad producida generar la importancia a partir de pesos de cada categoria o tema. No se implementó dado el costo en tiempo computacional requerido para el modelamiento de tópicos con Latent Dirichlet Allocation a cada cliente único, alrededor de 1500 LDA's diferentes. "
      ]
    },
    {
      "cell_type": "markdown",
      "metadata": {
        "id": "esG56BQDq6tT"
      },
      "source": [
        "# Categorización\n",
        "\n",
        "## Latent Dirichlet Allocation. Topic Modelling. LDA SKlearn"
      ]
    },
    {
      "cell_type": "markdown",
      "metadata": {
        "id": "GHnfAyOCoSCR"
      },
      "source": [
        "#### Distribucíon de tópicos de todas las noticias en un sistema métrico. \n",
        "\n",
        "Se hace un LDA con todas las noticias únicas, luego, con los keywords asociados a cada tópico numérico se hace un Hugging Face concatenándolos y asignando el tópico con mayor probabilidad al número en cuestión. \n",
        "\n",
        "Se decidió usar las noticias únicas dado que es un data set con menor cantidad de datos que el data set que incluye las noticias con su respectivo cliente, es una relación de aproximadamente 23000 a 74000 noticias respectivamente. Además, para la categorización de las noticias (identificación de tópico) no es necesario tener en cuenta al cliente, pues la noticia hablará de un tema en específico independientemente del cliente. Una vez realizada la categorización a cada noticia se redistribuirán a sus respectivos clientes con su tema identificado.  "
      ]
    },
    {
      "cell_type": "code",
      "execution_count": null,
      "metadata": {
        "colab": {
          "base_uri": "https://localhost:8080/"
        },
        "id": "og7ho9HYsGi6",
        "outputId": "a8e78aaf-48b5-4c96-9178-56c9ac817fd5"
      },
      "outputs": [
        {
          "name": "stderr",
          "output_type": "stream",
          "text": [
            "[nltk_data] Downloading package punkt to\n",
            "[nltk_data]     C:\\Users\\PC\\AppData\\Roaming\\nltk_data...\n",
            "[nltk_data]   Package punkt is already up-to-date!\n",
            "[nltk_data] Downloading package wordnet to\n",
            "[nltk_data]     C:\\Users\\PC\\AppData\\Roaming\\nltk_data...\n",
            "[nltk_data]   Package wordnet is already up-to-date!\n",
            "[nltk_data] Downloading package omw-1.4 to\n",
            "[nltk_data]     C:\\Users\\PC\\AppData\\Roaming\\nltk_data...\n",
            "[nltk_data]   Package omw-1.4 is already up-to-date!\n"
          ]
        }
      ],
      "source": [
        "#importacion de librerias a usar en LDA\n",
        "import nltk\n",
        "nltk.download('punkt')\n",
        "nltk.download('wordnet')\n",
        "nltk.download('omw-1.4')\n",
        "from nltk.stem import WordNetLemmatizer  \n",
        "from nltk.tokenize import  word_tokenize\n",
        "from sklearn.feature_extraction.text import TfidfVectorizer"
      ]
    },
    {
      "cell_type": "markdown",
      "metadata": {
        "id": "k7RyYL841F80"
      },
      "source": [
        "Como se mencionó, para el preporcesamineto de texto, eliminamos las stop words de las noticias y algunas frases repetidas en una gran cantidad de noticias debidas a fallas en el Scraping, pues estas frases tienen que ver con publicidad o cookies de la página web. Además, se eliminan todas las palabras con 3 caracteres o menos, pues hay presencia de muchas palabras en ingles como the, is, etc."
      ]
    },
    {
      "cell_type": "code",
      "execution_count": null,
      "metadata": {
        "colab": {
          "base_uri": "https://localhost:8080/",
          "height": 430
        },
        "id": "hgfDVCs9uMez",
        "outputId": "912bb9b9-3d10-48f1-9a3b-8b426a0b90ae"
      },
      "outputs": [
        {
          "name": "stderr",
          "output_type": "stream",
          "text": [
            "<ipython-input-16-b393054c6d2c>:7: SettingWithCopyWarning: \n",
            "A value is trying to be set on a copy of a slice from a DataFrame.\n",
            "Try using .loc[row_indexer,col_indexer] = value instead\n",
            "\n",
            "See the caveats in the documentation: https://pandas.pydata.org/pandas-docs/stable/user_guide/indexing.html#returning-a-view-versus-a-copy\n",
            "  noticias_unicas['news_text_content_cleaned'] = noticias_unicas['news_text_content'].apply(clean_text)\n",
            "<ipython-input-16-b393054c6d2c>:8: SettingWithCopyWarning: \n",
            "A value is trying to be set on a copy of a slice from a DataFrame.\n",
            "Try using .loc[row_indexer,col_indexer] = value instead\n",
            "\n",
            "See the caveats in the documentation: https://pandas.pydata.org/pandas-docs/stable/user_guide/indexing.html#returning-a-view-versus-a-copy\n",
            "  noticias_unicas[\"news_text_content_cleaned\"] = noticias_unicas[\"news_text_content_cleaned\"].replace(r\"marcar autorizo envio newsletter avisos informativos personalizados interempresasnet autorizo envio comunicaciones terceros interempresasnet leido acepto aviso legal politica proteccion datos\",\"\", regex=True)\n",
            "<ipython-input-16-b393054c6d2c>:9: SettingWithCopyWarning: \n",
            "A value is trying to be set on a copy of a slice from a DataFrame.\n",
            "Try using .loc[row_indexer,col_indexer] = value instead\n",
            "\n",
            "See the caveats in the documentation: https://pandas.pydata.org/pandas-docs/stable/user_guide/indexing.html#returning-a-view-versus-a-copy\n",
            "  noticias_unicas[\"news_text_content_cleaned\"] = noticias_unicas[\"news_text_content_cleaned\"].replace(r\"proyectos latinoamerica empresas mundo negocios region contactos clave relacionados empresas proyectos analisis reportajes noticias entrevistas industria ingles espanol portugues\",\"\", regex=True)\n"
          ]
        }
      ],
      "source": [
        "def clean_text(headline):\n",
        "      le=WordNetLemmatizer()\n",
        "      word_tokens=word_tokenize(str(headline))\n",
        "      tokens=[le.lemmatize(w) for w in word_tokens if w not in stop_words and len(w)>3]\n",
        "      cleaned_text=\" \".join(tokens)\n",
        "      return cleaned_text\n",
        "noticias_unicas['news_text_content_cleaned'] = noticias_unicas['news_text_content'].apply(clean_text)\n",
        "noticias_unicas[\"news_text_content_cleaned\"] = noticias_unicas[\"news_text_content_cleaned\"].replace(r\"marcar autorizo envio newsletter avisos informativos personalizados interempresasnet autorizo envio comunicaciones terceros interempresasnet leido acepto aviso legal politica proteccion datos\",\"\", regex=True)\n",
        "noticias_unicas[\"news_text_content_cleaned\"] = noticias_unicas[\"news_text_content_cleaned\"].replace(r\"proyectos latinoamerica empresas mundo negocios region contactos clave relacionados empresas proyectos analisis reportajes noticias entrevistas industria ingles espanol portugues\",\"\", regex=True)"
      ]
    },
    {
      "cell_type": "markdown",
      "metadata": {
        "id": "c-vgNEhT1C0s"
      },
      "source": [
        "TFIDF vectorization on the text column.\n",
        "Vectores Term Frequency-Inverse Document Frequency (TF-IDF) para cada noticia. Esto producirá una matriz donde cada columna representa una palabra en el vocabulario general (todas las palabras que aparecen en al menos una noticia)."
      ]
    },
    {
      "cell_type": "code",
      "execution_count": null,
      "metadata": {
        "id": "TDaqWp360sW0"
      },
      "outputs": [],
      "source": [
        "vect =TfidfVectorizer(stop_words=stop_words,max_features=1000)\n",
        "vect_text=vect.fit_transform(noticias_unicas[\"news_text_content_cleaned\"])"
      ]
    },
    {
      "cell_type": "markdown",
      "metadata": {
        "id": "VtEr44eg1OKc"
      },
      "source": [
        "Implementamos LDA sobre el texto vectorizado, entrenamos el modelo y transformamos el texto vectorizado. Se ingresa como argumento de LDA 20 componentes, es decir, dividir las noticias en 20 tópicos. "
      ]
    },
    {
      "cell_type": "code",
      "execution_count": null,
      "metadata": {
        "id": "fFV7RLet1Sf8"
      },
      "outputs": [],
      "source": [
        "from sklearn.decomposition import LatentDirichletAllocation\n",
        "\n",
        "lda_model=LatentDirichletAllocation(n_components=20,\n",
        "          learning_method='online',random_state=0,max_iter=10) #online es mas rapido que batch cuando el tamaño de datos es mas grande\n",
        "lda_top=lda_model.fit_transform(vect_text)"
      ]
    },
    {
      "cell_type": "markdown",
      "metadata": {
        "id": "hNO4Hit94N01"
      },
      "source": [
        "Checking the results, probamos el modelo con una noticia y damos un vistazo a la distribución de probabilidad."
      ]
    },
    {
      "cell_type": "code",
      "execution_count": null,
      "metadata": {
        "colab": {
          "base_uri": "https://localhost:8080/"
        },
        "id": "GvmT79JE4OLM",
        "outputId": "64835711-dd0f-4b7f-bf0b-0c44274ff812"
      },
      "outputs": [
        {
          "name": "stdout",
          "output_type": "stream",
          "text": [
            "news 0: \n",
            "Topic  1 :  85.57131616689999 %\n",
            "Topic  2 :  0.6216805541581178 %\n",
            "Topic  3 :  0.6216805604668376 %\n",
            "Topic  4 :  3.238421620010379 %\n",
            "Topic  5 :  0.6216896287293169 %\n",
            "Topic  6 :  0.621680554360188 %\n",
            "Topic  7 :  0.6216805541581182 %\n",
            "Topic  8 :  0.6216806935752798 %\n",
            "Topic  9 :  0.6216805541581192 %\n",
            "Topic  10 :  0.6216805541581175 %\n",
            "Topic  11 :  0.6216805581934927 %\n",
            "Topic  12 :  0.621680554158119 %\n",
            "Topic  13 :  0.6216811483664518 %\n",
            "Topic  14 :  0.6216805830295653 %\n",
            "Topic  15 :  0.6216805647226009 %\n",
            "Topic  16 :  0.6216824190343073 %\n",
            "Topic  17 :  0.6216808693189771 %\n",
            "Topic  18 :  0.6216805849113184 %\n",
            "Topic  19 :  0.6216805608994135 %\n",
            "Topic  20 :  0.6216807166912851 %\n"
          ]
        }
      ],
      "source": [
        "print(\"news 0: \")\n",
        "for i,topic in enumerate(lda_top[1]):\n",
        "  print(\"Topic \",i+1,\": \",topic*100,\"%\")"
      ]
    },
    {
      "cell_type": "markdown",
      "metadata": {
        "id": "DYoZQZIC4i4F"
      },
      "source": [
        "Analyzing the Topics, se imprimen las 20 primeras keywords de los 20 tópicos en orden de mayor a menor frecuencia presentada en las noticias pertenecientes a dicho tópico. "
      ]
    },
    {
      "cell_type": "code",
      "execution_count": null,
      "metadata": {
        "colab": {
          "base_uri": "https://localhost:8080/"
        },
        "id": "LKjHVmyK4f0N",
        "outputId": "76812a51-d16f-4ad0-e35c-b7f56aad5b7f"
      },
      "outputs": [
        {
          "name": "stdout",
          "output_type": "stream",
          "text": [
            "\n",
            "Top 20 words in Topic 1: \n",
            "millones mercado inflacion precios dolares dolar precio banco aumento peso crecimiento tasa economia trimestre colombia pais empresas tasas unidos valor \n",
            "\n",
            "\n",
            "Top 20 words in Topic 2: \n",
            "vino argentina registro edicion acceso contenidos responsable propiedad feria medellin exportaciones dolar viruela naciones plantas aire francia joven valle imagen \n",
            "\n",
            "\n",
            "Top 20 words in Topic 3: \n",
            "venezuela peru brasil relaciones comercial eeuu edificio apertura paises taiwan unido agenda colombia plantas instalaciones emisiones iniciativa lideres pedro secretario \n",
            "\n",
            "\n",
            "Top 20 words in Topic 4: \n",
            "millones euro china taiwan billones credito inversion capital fondo inversiones fondos cartera grupo financiamiento banco semestre espana operaciones resultados operacion \n",
            "\n",
            "\n",
            "Top 20 words in Topic 5: \n",
            "salud hospital pacientes enfermedad viruela medico casos covid tratamiento atencion enfermedades persona centro prevencion publica contacto pruebas emergencia poblacion secretaria \n",
            "\n",
            "\n",
            "Top 20 words in Topic 6: \n",
            "correo electronico nombre direccion proxima sitio entrada recibir proyectos noticias siguientes usuario plataforma informacion clave relacionados etapa proyecto sector actual \n",
            "\n",
            "\n",
            "Top 20 words in Topic 7: \n",
            "cooky espana experiencia centro pagina politica usuario contenidos intereses madrid permiten riesgos socios integracion version cambiar informacion turismo legal tecnologias \n",
            "\n",
            "\n",
            "Top 20 words in Topic 8: \n",
            "ano ciudad persona bogota vida policia hombre medellin zona calle colombia musica familia lugar barrio nacional horas video autoridades carrera \n",
            "\n",
            "\n",
            "Top 20 words in Topic 9: \n",
            "cafe estrategia billones nina rural exportaciones massa plantas carga relaciones ayuda argentino francia desarrollar convocatoria aprendizaje agricultura presidencia nacional agricola \n",
            "\n",
            "\n",
            "Top 20 words in Topic 10: \n",
            "mexico costa rica ruta puerto alianza aplicacion unidos firma china ciudad destino latinoamerica internacionales exportaciones plantas naciones peru evento comercial \n",
            "\n",
            "\n",
            "Top 20 words in Topic 11: \n",
            "impuesto reforma tributaria impuestos temas disfrutar renta bebidas billones ingresos hacienda petro contenido peso gobierno propuesta noticias proyecto alimentos persona \n",
            "\n",
            "\n",
            "Top 20 words in Topic 12: \n",
            "contrato proyecto billones compromiso encuentro pensiones integral martin pedro version ejecucion suma ejercito materia nacional central compra colaboracion regional plazo \n",
            "\n",
            "\n",
            "Top 20 words in Topic 13: \n",
            "trabajadores agencia laboral trabajo empleo empleados laborales puestos mujeres persona personal tasa jornada empresas aumento pandemia poblacion hombre ciudades servicios \n",
            "\n",
            "\n",
            "Top 20 words in Topic 14: \n",
            "energia rusia ucrania energetica emisiones calor toneladas combustible produccion carbono electrica guerra suministro europa petroleo transicion europea climatico paises reducir \n",
            "\n",
            "\n",
            "Top 20 words in Topic 15: \n",
            "marca moda diseno modelo digital marcas vehiculo modelos mercado version vehiculos radio sistema mejores caracteristicas detalles compra aire linea tecnologia \n",
            "\n",
            "\n",
            "Top 20 words in Topic 16: \n",
            "leche salud productos alimentos producto consumo opciones enfermedades informacion obtener persona estudio calidad agua cuerpo plantas bebidas tipo enfermedad riesgo \n",
            "\n",
            "\n",
            "Top 20 words in Topic 17: \n",
            "desarrollo empresas empresa pais proyecto innovacion tecnologia colombia millones proyectos sector ano servicios persona universidad nacional programa compania trabajo sistema \n",
            "\n",
            "\n",
            "Top 20 words in Topic 18: \n",
            "agua metro terminos condiciones contenido servicio obras planta contar construccion empresa derechos caribe bogota kilometros costa servicios parque trabajos colombiana \n",
            "\n",
            "\n",
            "Top 20 words in Topic 19: \n",
            "copa partido futbol equipo colombia seleccion club america juego brasil mundial argentina partidos juegos minutos chile colombiano temporada titulo fecha \n",
            "\n",
            "\n",
            "Top 20 words in Topic 20: \n",
            "petro presidente gobierno colombia gustavo pais nacional politica duque ministro congreso politico partido ano posesion massa derecho justicia ivan derechos \n",
            "\n"
          ]
        }
      ],
      "source": [
        "vocab = vect.get_feature_names()\n",
        "for i, comp in enumerate(lda_model.components_):\n",
        "     vocab_comp = zip(vocab, comp)\n",
        "     sorted_words = sorted(vocab_comp, key= lambda x:x[1], reverse=True)[:20]\n",
        "     print(\"\\nTop 20 words in Topic \"+str(i+1)+\": \")\n",
        "     for t in sorted_words:\n",
        "            print(t[0],end=\" \")\n",
        "     print(\"\\n\")\n",
        "            "
      ]
    },
    {
      "cell_type": "code",
      "execution_count": null,
      "metadata": {
        "colab": {
          "base_uri": "https://localhost:8080/"
        },
        "id": "5WATjQDF7r6e",
        "outputId": "5f229b30-e740-411b-f770-7d72b5fdbcf9"
      },
      "outputs": [
        {
          "name": "stdout",
          "output_type": "stream",
          "text": [
            "Collecting pyldavis\n",
            "  Downloading pyLDAvis-3.3.1.tar.gz (1.7 MB)\n",
            "  Installing build dependencies: started\n",
            "  Installing build dependencies: finished with status 'done'\n",
            "  Getting requirements to build wheel: started\n",
            "  Getting requirements to build wheel: finished with status 'done'\n",
            "  Installing backend dependencies: started\n",
            "  Installing backend dependencies: finished with status 'done'\n",
            "    Preparing wheel metadata: started\n",
            "    Preparing wheel metadata: finished with status 'done'\n",
            "Requirement already satisfied: joblib in s:\\anaconda\\lib\\site-packages (from pyldavis) (1.0.1)\n",
            "Collecting sklearn\n",
            "  Downloading sklearn-0.0.post1.tar.gz (3.6 kB)\n",
            "Requirement already satisfied: scipy in s:\\anaconda\\lib\\site-packages (from pyldavis) (1.6.2)\n",
            "Requirement already satisfied: future in s:\\anaconda\\lib\\site-packages (from pyldavis) (0.18.2)\n",
            "Requirement already satisfied: numpy>=1.20.0 in s:\\anaconda\\lib\\site-packages (from pyldavis) (1.20.1)\n",
            "Requirement already satisfied: numexpr in s:\\anaconda\\lib\\site-packages (from pyldavis) (2.7.3)\n",
            "Collecting funcy\n",
            "  Downloading funcy-1.17-py2.py3-none-any.whl (33 kB)\n",
            "Requirement already satisfied: pandas>=1.2.0 in s:\\anaconda\\lib\\site-packages (from pyldavis) (1.2.4)\n",
            "Requirement already satisfied: scikit-learn in s:\\anaconda\\lib\\site-packages (from pyldavis) (0.24.1)\n",
            "Requirement already satisfied: jinja2 in s:\\anaconda\\lib\\site-packages (from pyldavis) (2.11.3)\n",
            "Collecting gensim\n",
            "  Downloading gensim-4.2.0-cp38-cp38-win_amd64.whl (24.0 MB)\n",
            "Requirement already satisfied: setuptools in s:\\anaconda\\lib\\site-packages (from pyldavis) (52.0.0.post20210125)\n",
            "Requirement already satisfied: python-dateutil>=2.7.3 in s:\\anaconda\\lib\\site-packages (from pandas>=1.2.0->pyldavis) (2.8.1)\n",
            "Requirement already satisfied: pytz>=2017.3 in s:\\anaconda\\lib\\site-packages (from pandas>=1.2.0->pyldavis) (2021.1)\n",
            "Requirement already satisfied: six>=1.5 in s:\\anaconda\\lib\\site-packages (from python-dateutil>=2.7.3->pandas>=1.2.0->pyldavis) (1.15.0)\n",
            "Collecting Cython==0.29.28\n",
            "  Downloading Cython-0.29.28-py2.py3-none-any.whl (983 kB)\n",
            "Requirement already satisfied: smart-open>=1.8.1 in s:\\anaconda\\lib\\site-packages (from gensim->pyldavis) (5.2.1)\n",
            "Requirement already satisfied: MarkupSafe>=0.23 in s:\\anaconda\\lib\\site-packages (from jinja2->pyldavis) (1.1.1)\n",
            "Requirement already satisfied: threadpoolctl>=2.0.0 in s:\\anaconda\\lib\\site-packages (from scikit-learn->pyldavis) (2.1.0)\n",
            "Building wheels for collected packages: pyldavis, sklearn\n",
            "  Building wheel for pyldavis (PEP 517): started\n",
            "  Building wheel for pyldavis (PEP 517): finished with status 'done'\n",
            "  Created wheel for pyldavis: filename=pyLDAvis-3.3.1-py2.py3-none-any.whl size=136904 sha256=487978d170cce79f95765c589c4fdc27a6dde5129415f345ab6a1dd508f164ae\n",
            "  Stored in directory: c:\\users\\pc\\appdata\\local\\pip\\cache\\wheels\\90\\61\\ec\\9dbe9efc3acf9c4e37ba70fbbcc3f3a0ebd121060aa593181a\n",
            "  Building wheel for sklearn (setup.py): started\n",
            "  Building wheel for sklearn (setup.py): finished with status 'done'\n",
            "  Created wheel for sklearn: filename=sklearn-0.0.post1-py3-none-any.whl size=2343 sha256=9091e1678c48d0232c62cc5a4d89be129eb90dd3cacaef92ba6674ace4d53abf\n",
            "  Stored in directory: c:\\users\\pc\\appdata\\local\\pip\\cache\\wheels\\14\\25\\f7\\1cc0956978ae479e75140219088deb7a36f60459df242b1a72\n",
            "Successfully built pyldavis sklearn\n",
            "Installing collected packages: Cython, sklearn, gensim, funcy, pyldavis\n",
            "  Attempting uninstall: Cython\n",
            "    Found existing installation: Cython 0.29.23\n",
            "    Uninstalling Cython-0.29.23:\n",
            "      Successfully uninstalled Cython-0.29.23\n",
            "Successfully installed Cython-0.29.28 funcy-1.17 gensim-4.2.0 pyldavis-3.3.1 sklearn-0.0.post1\n"
          ]
        }
      ],
      "source": [
        "!pip install pyldavis   "
      ]
    },
    {
      "cell_type": "markdown",
      "metadata": {
        "id": "617Z0Xy40DtL"
      },
      "source": [
        "Se usa la librería pyLDAvis, muy útil para visualizar la división de tópicos realizada por LDA en una representación vectorial de dimensión reducida 2-dimensional basada en distancias t-distributed Stochastic Neighbor Embedding. "
      ]
    },
    {
      "cell_type": "code",
      "execution_count": null,
      "metadata": {
        "colab": {
          "base_uri": "https://localhost:8080/",
          "height": 1000
        },
        "id": "2hCg2YAG5L3t",
        "outputId": "0e60c275-18fb-423f-a5c5-9ef4e5e3b3c1"
      },
      "outputs": [
        {
          "name": "stderr",
          "output_type": "stream",
          "text": [
            "S:\\Anaconda\\lib\\site-packages\\sklearn\\manifold\\_t_sne.py:691: FutureWarning: 'square_distances' has been introduced in 0.24 to help phase out legacy squaring behavior. The 'legacy' setting will be removed in 1.1 (renaming of 0.26), and the default setting will be changed to True. In 1.3, 'square_distances' will be removed altogether, and distances will be squared by default. Set 'square_distances'=True to silence this warning.\n",
            "  warnings.warn(\n"
          ]
        },
        {
          "data": {
            "text/html": [
              "\n",
              "<link rel=\"stylesheet\" type=\"text/css\" href=\"https://cdn.jsdelivr.net/gh/bmabey/pyLDAvis@3.3.1/pyLDAvis/js/ldavis.v1.0.0.css\">\n",
              "\n",
              "\n",
              "<div id=\"ldavis_el2258825248558118729551238264\"></div>\n",
              "<script type=\"text/javascript\">\n",
              "\n",
              "var ldavis_el2258825248558118729551238264_data = {\"mdsDat\": {\"x\": [-10.878067970275879, -60.88402557373047, -2.3361191749572754, -61.385318756103516, -28.737743377685547, 1.0666056871414185, 45.14072036743164, -140.7959747314453, 61.531681060791016, -72.56305694580078, 15.984491348266602, -160.85162353515625, 85.96183013916016, -99.02083587646484, -176.76412963867188, -117.18988037109375, 108.82991790771484, 47.588096618652344, -106.46783447265625, -50.61380386352539], \"y\": [10.538727760314941, -75.5918197631836, -53.2890739440918, -12.914633750915527, 126.2969970703125, -123.55281066894531, -7.947869300842285, -98.53054809570312, -83.24056243896484, -140.39688110351562, 63.57818603515625, 68.94514465332031, 51.922935485839844, 109.93634796142578, -8.681683540344238, -37.42020034790039, -22.946203231811523, 121.934814453125, 30.176889419555664, 59.32884216308594], \"topics\": [1, 2, 3, 4, 5, 6, 7, 8, 9, 10, 11, 12, 13, 14, 15, 16, 17, 18, 19, 20], \"cluster\": [1, 1, 1, 1, 1, 1, 1, 1, 1, 1, 1, 1, 1, 1, 1, 1, 1, 1, 1, 1], \"Freq\": [32.04660388219851, 20.170683667087562, 17.5086701132746, 11.186976215863453, 3.1047647939207943, 1.8036388514962878, 1.5884163040507389, 1.3856094581258844, 1.2613150537931466, 1.2470316240886763, 1.212352042073627, 1.0439990323029267, 0.9497531702194497, 0.9386776291774414, 0.8174760405405289, 0.7757148313238392, 0.7686353327280447, 0.7481958951309382, 0.721302591536212, 0.7201834710673373]}, \"tinfo\": {\"Term\": [\"cooky\", \"contrato\", \"cafe\", \"mexico\", \"proyecto\", \"millones\", \"venezuela\", \"salud\", \"argentina\", \"agua\", \"correo\", \"trabajo\", \"electronico\", \"brasil\", \"peru\", \"costa\", \"persona\", \"servicio\", \"metro\", \"vino\", \"marca\", \"empresa\", \"petro\", \"nombre\", \"trabajadores\", \"agencia\", \"rica\", \"acceso\", \"energia\", \"impuesto\", \"innovacion\", \"sostenibilidad\", \"tecnologias\", \"soluciones\", \"aprendizaje\", \"transformacion\", \"tecnologica\", \"ingenieria\", \"capacidades\", \"sostenible\", \"desarrollar\", \"iniciativas\", \"tecnologia\", \"sistemas\", \"herramientas\", \"universidades\", \"evaluacion\", \"profesionales\", \"empresarial\", \"inclusion\", \"formacion\", \"permiten\", \"ciencia\", \"practicas\", \"colaboracion\", \"desarrollo\", \"promocion\", \"procesos\", \"enfoque\", \"necesidades\", \"ambiental\", \"estudiantes\", \"proyectos\", \"empresas\", \"programa\", \"clientes\", \"gestion\", \"educacion\", \"calidad\", \"empresa\", \"servicios\", \"compania\", \"universidad\", \"digital\", \"sector\", \"industria\", \"area\", \"sistema\", \"social\", \"pais\", \"proyecto\", \"region\", \"productos\", \"ano\", \"persona\", \"trabajo\", \"colombia\", \"millones\", \"nacional\", \"mundo\", \"mercado\", \"musica\", \"festival\", \"teatro\", \"artistas\", \"barrio\", \"calle\", \"padre\", \"arte\", \"policia\", \"hijo\", \"joven\", \"madre\", \"medellin\", \"amigo\", \"muerte\", \"hijos\", \"municipio\", \"video\", \"noche\", \"hombre\", \"nina\", \"barranquilla\", \"cruz\", \"gomez\", \"libro\", \"familia\", \"municipal\", \"antioquia\", \"carrera\", \"mujer\", \"santa\", \"ciudad\", \"ninos\", \"autoridades\", \"ano\", \"vida\", \"bogota\", \"horas\", \"zona\", \"persona\", \"historia\", \"lugar\", \"casa\", \"momento\", \"redes\", \"colombia\", \"centro\", \"nacional\", \"tiempo\", \"pais\", \"massa\", \"electo\", \"posesion\", \"presidencial\", \"petro\", \"oposicion\", \"duque\", \"elecciones\", \"marquez\", \"gustavo\", \"pacto\", \"vicepresidenta\", \"discurso\", \"presidencia\", \"izquierda\", \"corrupcion\", \"mandatario\", \"ministra\", \"ivan\", \"politico\", \"justicia\", \"fuerzas\", \"congreso\", \"militares\", \"presidente\", \"fernandez\", \"dialogo\", \"militar\", \"constitucion\", \"tribunal\", \"gobierno\", \"ministro\", \"derecho\", \"politica\", \"bolivar\", \"defensa\", \"colombia\", \"pais\", \"partido\", \"nacional\", \"derechos\", \"cargo\", \"republica\", \"comision\", \"pueblo\", \"camara\", \"ano\", \"general\", \"bogota\", \"social\", \"ministerio\", \"dolar\", \"inflacion\", \"alza\", \"tasas\", \"precios\", \"indice\", \"bolsa\", \"caida\", \"trimestre\", \"ganancias\", \"tasa\", \"precio\", \"basicos\", \"anual\", \"bancos\", \"exportaciones\", \"dolares\", \"incremento\", \"deficit\", \"deuda\", \"promedio\", \"ventas\", \"aumento\", \"valores\", \"costos\", \"gasto\", \"comparacion\", \"mercados\", \"cifra\", \"tipos\", \"mercado\", \"banco\", \"crecimiento\", \"petroleo\", \"ciento\", \"interes\", \"millones\", \"peso\", \"economia\", \"valor\", \"puntos\", \"unidos\", \"empresas\", \"ingresos\", \"pais\", \"colombia\", \"sector\", \"produccion\", \"productos\", \"copa\", \"futbol\", \"seleccion\", \"club\", \"juego\", \"juegos\", \"partidos\", \"partido\", \"titulo\", \"temporada\", \"minutos\", \"equipo\", \"argentino\", \"tecnico\", \"vuelta\", \"america\", \"ecuador\", \"cali\", \"mundial\", \"deporte\", \"equipos\", \"fecha\", \"alemania\", \"jornada\", \"madrid\", \"categoria\", \"chile\", \"encuentro\", \"santos\", \"colombiano\", \"brasil\", \"colombia\", \"puntos\", \"argentina\", \"alianza\", \"nacional\", \"rusia\", \"calor\", \"ucrania\", \"emisiones\", \"energetica\", \"toneladas\", \"energia\", \"electrica\", \"carbono\", \"suministro\", \"combustible\", \"transicion\", \"petroleo\", \"europea\", \"climatico\", \"alemania\", \"guerra\", \"hectareas\", \"europa\", \"unido\", \"ahorro\", \"eficiencia\", \"reduccion\", \"reducir\", \"natural\", \"produccion\", \"union\", \"verde\", \"francia\", \"exportaciones\", \"global\", \"consumo\", \"paises\", \"espana\", \"vehiculos\", \"leche\", \"opciones\", \"enfermedades\", \"obtener\", \"plantas\", \"alimentos\", \"cuerpo\", \"producto\", \"investigaciones\", \"consumo\", \"organismo\", \"bebidas\", \"efectos\", \"ayuda\", \"ayudar\", \"presenta\", \"productos\", \"consumidores\", \"cuidado\", \"estudio\", \"perdida\", \"articulo\", \"factores\", \"enfermedad\", \"ejercicio\", \"opcion\", \"problemas\", \"indica\", \"niveles\", \"calidad\", \"salud\", \"informacion\", \"cosas\", \"riesgo\", \"tipo\", \"persona\", \"agua\", \"contenido\", \"datos\", \"marca\", \"moda\", \"modelos\", \"marcas\", \"diseno\", \"vehiculo\", \"version\", \"radio\", \"modelo\", \"caracteristicas\", \"detalles\", \"digital\", \"amplia\", \"vehiculos\", \"compra\", \"comprar\", \"ofrece\", \"mejores\", \"carga\", \"aire\", \"incluye\", \"usuario\", \"internet\", \"ofrecer\", \"cliente\", \"usuarios\", \"vista\", \"encontrar\", \"consumidores\", \"implica\", \"mercado\", \"precio\", \"linea\", \"sistema\", \"tecnologia\", \"plataforma\", \"productos\", \"electronico\", \"edicion\", \"taiwan\", \"china\", \"euro\", \"credito\", \"cartera\", \"financiamiento\", \"fondos\", \"billones\", \"inversiones\", \"financiacion\", \"fondo\", \"pensiones\", \"semestre\", \"inversion\", \"millones\", \"capital\", \"latinoamerica\", \"deuda\", \"operaciones\", \"ahorro\", \"operacion\", \"ejercicio\", \"financiera\", \"supone\", \"seguros\", \"activos\", \"trimestre\", \"financieros\", \"venta\", \"resultados\", \"banco\", \"grupo\", \"ingresos\", \"espana\", \"compania\", \"negocio\", \"crecimiento\", \"impuesto\", \"tributaria\", \"reforma\", \"impuestos\", \"renta\", \"disfrutar\", \"bebidas\", \"hacienda\", \"temas\", \"billones\", \"ingresos\", \"naturales\", \"pagar\", \"antonio\", \"propuesta\", \"encontrar\", \"patrimonio\", \"contenido\", \"noticias\", \"beneficios\", \"pensiones\", \"tengan\", \"alimentos\", \"ganancias\", \"ministro\", \"congreso\", \"peso\", \"petro\", \"seguir\", \"busca\", \"jose\", \"gobierno\", \"gustavo\", \"proyecto\", \"persona\", \"viruela\", \"pacientes\", \"hospital\", \"enfermedad\", \"medico\", \"tratamiento\", \"covid\", \"casos\", \"salud\", \"enfermedades\", \"prevencion\", \"contacto\", \"atencion\", \"pruebas\", \"emergencia\", \"causa\", \"secretaria\", \"publica\", \"poblacion\", \"muerte\", \"centro\", \"respuesta\", \"ministerio\", \"investigacion\", \"manos\", \"cabeza\", \"medidas\", \"evitar\", \"persona\", \"personal\", \"caso\", \"mundial\", \"correo\", \"electronico\", \"nombre\", \"proxima\", \"direccion\", \"sitio\", \"entrada\", \"recibir\", \"usuario\", \"siguientes\", \"relacionados\", \"etapa\", \"noticias\", \"clave\", \"plataforma\", \"proyectos\", \"actual\", \"cambiar\", \"planta\", \"infraestructura\", \"cargo\", \"informacion\", \"temas\", \"sector\", \"linea\", \"proyecto\", \"llega\", \"empresas\", \"general\", \"lugar\", \"norte\", \"laboral\", \"laborales\", \"trabajadores\", \"agencia\", \"empleados\", \"empleo\", \"puestos\", \"trabajo\", \"contratacion\", \"tasa\", \"jornada\", \"personal\", \"mujeres\", \"ciudades\", \"daniel\", \"poblacion\", \"pandemia\", \"trimestre\", \"trabajar\", \"aumento\", \"hombre\", \"recuperacion\", \"numero\", \"actividades\", \"generacion\", \"cifras\", \"persona\", \"creacion\", \"encuentran\", \"empresas\", \"servicios\", \"condiciones\", \"salud\", \"terminos\", \"metro\", \"contenido\", \"agua\", \"planta\", \"condiciones\", \"contar\", \"obras\", \"caribe\", \"servicio\", \"kilometros\", \"derechos\", \"trabajos\", \"construccion\", \"parque\", \"reservas\", \"empresa\", \"costa\", \"bogota\", \"colombiana\", \"servicios\", \"alumnado\", \"millones\", \"colombia\", \"discapacidad\", \"competencias\", \"teatro\", \"caracter\", \"situaciones\", \"tecnicas\", \"colombiano\", \"santa\", \"plantas\", \"natural\", \"billones\", \"comparacion\", \"seguros\", \"rica\", \"costa\", \"mexico\", \"ruta\", \"puerto\", \"aplicacion\", \"alianza\", \"firma\", \"destino\", \"china\", \"unidos\", \"ciudad\", \"alumnado\", \"discapacidad\", \"competencias\", \"teatro\", \"caracter\", \"situaciones\", \"tecnicas\", \"evaluacion\", \"culturales\", \"constitucion\", \"andalucia\", \"perfil\", \"igualdad\", \"basicos\", \"fine\", \"aprendizaje\", \"formas\", \"supone\", \"latinoamerica\", \"internacionales\", \"exportaciones\", \"plantas\", \"naciones\", \"peru\", \"evento\", \"comercial\", \"tierra\", \"impulso\", \"electronico\", \"paises\", \"correo\", \"edificio\", \"relaciones\", \"cruz\", \"internacional\", \"tributaria\", \"venezuela\", \"peru\", \"brasil\", \"relaciones\", \"comercial\", \"eeuu\", \"alumnado\", \"discapacidad\", \"competencias\", \"teatro\", \"caracter\", \"situaciones\", \"tecnicas\", \"evaluacion\", \"culturales\", \"constitucion\", \"andalucia\", \"perfil\", \"igualdad\", \"basicos\", \"fine\", \"aprendizaje\", \"formas\", \"supone\", \"implica\", \"deficit\", \"enfoque\", \"entender\", \"permiten\", \"torno\", \"edificio\", \"apertura\", \"paises\", \"taiwan\", \"unido\", \"agenda\", \"colombia\", \"plantas\", \"instalaciones\", \"emisiones\", \"iniciativa\", \"lideres\", \"pedro\", \"secretario\", \"capacidad\", \"semana\", \"comerciales\", \"cuentas\", \"diario\", \"millones\", \"comercio\", \"exportaciones\", \"propuesta\", \"acuerdos\", \"vino\", \"registro\", \"edicion\", \"contenidos\", \"argentina\", \"acceso\", \"propiedad\", \"responsable\", \"feria\", \"alumnado\", \"discapacidad\", \"competencias\", \"teatro\", \"caracter\", \"situaciones\", \"tecnicas\", \"evaluacion\", \"culturales\", \"constitucion\", \"andalucia\", \"perfil\", \"igualdad\", \"basicos\", \"fine\", \"aprendizaje\", \"formas\", \"supone\", \"implica\", \"deficit\", \"enfoque\", \"medellin\", \"exportaciones\", \"dolar\", \"viruela\", \"naciones\", \"plantas\", \"aire\", \"francia\", \"joven\", \"valle\", \"imagen\", \"cuerpo\", \"version\", \"seleccion\", \"copa\", \"cartagena\", \"control\", \"video\", \"evento\", \"iniciativas\", \"club\", \"cooky\", \"espana\", \"alumnado\", \"discapacidad\", \"competencias\", \"teatro\", \"caracter\", \"situaciones\", \"tecnicas\", \"evaluacion\", \"culturales\", \"constitucion\", \"andalucia\", \"perfil\", \"igualdad\", \"basicos\", \"fine\", \"aprendizaje\", \"formas\", \"supone\", \"implica\", \"deficit\", \"enfoque\", \"entender\", \"permiten\", \"torno\", \"sala\", \"principio\", \"capacidades\", \"consecuencia\", \"experiencia\", \"centro\", \"pagina\", \"politica\", \"usuario\", \"contenidos\", \"intereses\", \"madrid\", \"riesgos\", \"socios\", \"integracion\", \"version\", \"cambiar\", \"informacion\", \"turismo\", \"legal\", \"tecnologias\", \"efectos\", \"plataformas\", \"gomez\", \"contenido\", \"video\", \"requiere\", \"sitio\", \"funcion\", \"opciones\", \"area\", \"contrato\", \"proyecto\", \"alumnado\", \"discapacidad\", \"competencias\", \"teatro\", \"caracter\", \"situaciones\", \"tecnicas\", \"evaluacion\", \"culturales\", \"constitucion\", \"andalucia\", \"perfil\", \"igualdad\", \"basicos\", \"fine\", \"aprendizaje\", \"formas\", \"supone\", \"implica\", \"deficit\", \"enfoque\", \"entender\", \"permiten\", \"torno\", \"sala\", \"principio\", \"capacidades\", \"consecuencia\", \"billones\", \"compromiso\", \"encuentro\", \"pensiones\", \"integral\", \"martin\", \"pedro\", \"version\", \"ejecucion\", \"suma\", \"ejercito\", \"materia\", \"nacional\", \"central\", \"compra\", \"colaboracion\", \"regional\", \"plazo\", \"contratos\", \"suministro\", \"base\", \"intereses\", \"cafe\", \"costos\", \"metro\", \"patrimonio\", \"fase\", \"contratacion\", \"cafe\", \"estrategia\", \"alumnado\", \"discapacidad\", \"competencias\", \"teatro\", \"caracter\", \"situaciones\", \"tecnicas\", \"evaluacion\", \"culturales\", \"constitucion\", \"andalucia\", \"perfil\", \"igualdad\", \"basicos\", \"fine\", \"aprendizaje\", \"formas\", \"supone\", \"implica\", \"deficit\", \"enfoque\", \"entender\", \"permiten\", \"torno\", \"sala\", \"principio\", \"capacidades\", \"consecuencia\", \"billones\", \"nina\", \"rural\", \"exportaciones\", \"massa\", \"plantas\", \"carga\", \"relaciones\", \"ayuda\", \"argentino\", \"francia\", \"desarrollar\", \"convocatoria\", \"agricultura\", \"presidencia\", \"nacional\", \"agricola\", \"medico\", \"municipios\", \"programa\", \"ambientales\", \"ciento\", \"practicas\", \"promover\", \"apoyo\", \"petro\", \"version\"], \"Freq\": [724.0, 494.0, 483.0, 523.0, 573.0, 763.0, 401.0, 549.0, 464.0, 439.0, 365.0, 425.0, 353.0, 343.0, 294.0, 297.0, 602.0, 330.0, 285.0, 248.0, 299.0, 416.0, 469.0, 276.0, 254.0, 263.0, 223.0, 245.0, 319.0, 245.0, 201.78386707404624, 152.46024603026046, 96.12437498942364, 110.31336974543149, 53.572061770567764, 84.6240556560514, 58.098438758447024, 58.848550348994586, 52.18543648436319, 152.52895951076633, 80.6111316530962, 71.98882702118195, 199.3394700824349, 88.5688780405332, 67.47305326631594, 59.03659912809412, 43.972738563353005, 90.73500967363907, 82.91533631644214, 60.45254377025843, 105.45927554969032, 47.86712366498844, 97.74203775758808, 62.99348639059968, 70.32451028300132, 320.5653752025733, 48.42314617266, 103.77352645202784, 45.74711725131854, 79.24319959591799, 95.44884454116463, 104.38584675205486, 194.6227251168452, 272.5647745505067, 165.99196997827465, 138.21836480827875, 133.94675768231394, 141.29611871067334, 142.28939614416035, 219.08127450887935, 189.34852757499064, 162.75529106899194, 185.66164174267576, 140.8317535387812, 194.49162948627657, 140.4354946259602, 133.22377516209363, 156.14986675675095, 151.97047460730695, 214.0650050602523, 205.94232359287864, 132.74833551343238, 155.33584664215934, 189.9958864453523, 185.8186748533135, 159.05661377238684, 198.5948178616896, 196.4822572724835, 166.24853543906792, 145.52660358290692, 139.81282783810576, 119.03508819088603, 83.80165333393575, 45.99731294814261, 63.12408014379923, 110.96689099512764, 129.64827503607322, 99.74928302147343, 68.49428336852127, 147.48859980264234, 55.346950406795855, 81.45159345944904, 58.686772733684926, 135.5037578221679, 71.96369527982546, 78.5327250456914, 52.10210404117546, 101.70147479571264, 109.0702809991942, 85.34394796130516, 138.01243778213313, 68.4668154344782, 89.95414987021904, 54.15217835056693, 94.38761099496641, 49.0093111792858, 118.59382421507131, 55.93201339144293, 80.88793318411041, 106.84346911784085, 94.94169712111089, 88.72217488018117, 190.56098542644503, 97.56292823806022, 108.13422117085854, 248.62070799196823, 160.4532782588401, 167.26768612103308, 109.6415098602054, 129.9008641780932, 184.26774054092516, 104.58103189703736, 116.42027997386873, 101.51625610803303, 106.25316861740563, 94.90958920778333, 122.86131150159753, 102.33899429842236, 110.91457227678072, 99.03909021997364, 102.89475516143376, 101.90525421175874, 86.18204907107695, 102.0558642740185, 70.72006177870334, 398.8424216999557, 56.75452252838827, 137.97341951423303, 64.40493570463502, 66.22493937873747, 195.27554158924787, 69.64442258612755, 58.421070147279146, 55.60389322062911, 69.0933342507413, 68.86102516578829, 59.38902741387881, 85.61255401658832, 88.77175067148613, 96.40755339389797, 121.67149743695546, 97.69555588401057, 58.04739492354418, 129.72775463391162, 51.00226469139269, 320.4699961972363, 77.20556642539631, 65.12094891784147, 55.62671101307556, 37.540641191262104, 47.26998546445119, 318.08530985516455, 134.57716672274748, 98.26233367714062, 144.96962411145168, 86.16105962278165, 80.43972957042875, 226.26871550623113, 174.69676908932817, 115.64508615836179, 146.87982441385884, 96.22064567195957, 94.76588905869427, 88.53891175145287, 83.75178770359412, 80.69750789754681, 80.14778929133057, 103.68998349838867, 90.83872208756692, 90.59730990861028, 87.85074829219488, 85.67926351945725, 150.66762980111963, 204.04277519918259, 75.22608099025486, 82.62112109574235, 185.4771187980043, 64.37698646390669, 64.41565655527721, 61.46919208703693, 94.34377139275905, 58.57864064132982, 102.23108615294954, 138.71437666830053, 39.22570377995748, 51.21721005095635, 59.00361739040611, 67.13862016869788, 161.41537488427352, 72.11069447490154, 36.59395533367544, 61.446565034491485, 61.784617911811175, 77.35350809933911, 119.1033092376223, 60.717218889207935, 48.368414924212495, 35.38664557026754, 36.215881575758615, 70.61080361619173, 46.864537590984355, 37.7324906099809, 212.25051092581646, 127.21344050223954, 111.08673009797177, 57.838017808094804, 62.74373271723813, 78.0729915483957, 241.16456943282552, 113.86621655887701, 98.38446715646633, 80.53722204146116, 77.79636324018416, 81.1936890505797, 86.78738723429855, 71.05301357366868, 87.41964759571452, 90.94859572839468, 78.18892433994303, 74.26664707603382, 75.48357746251307, 166.71372297947207, 139.28709926419103, 111.21447513829177, 92.73655493385239, 81.55177656173613, 57.8833026678214, 60.37902318886885, 141.11371248092797, 44.87260390262334, 47.14529112667445, 51.35572073875495, 124.40007775944503, 34.17444170502655, 38.31575115677913, 26.213565743928537, 86.12035701781811, 33.449784884829384, 39.32336668483761, 73.63613692216931, 22.453084214742944, 39.57546855758836, 42.39523569423567, 23.535360219886797, 39.45008176283476, 30.59380082207054, 20.78033307689597, 48.209036160740034, 36.99323934208982, 16.048730334463414, 48.08140808360932, 74.6217235214381, 112.13456259201043, 42.202900215573294, 60.77672011326265, 40.26811509076496, 42.27505975165872, 124.13376111546303, 73.10192233791756, 111.93949809333466, 78.54503355575963, 84.5320038742167, 67.87067851491972, 160.99578423879314, 47.66722867953454, 54.65732154247269, 47.36182944905864, 55.15537080836801, 43.64870957306341, 44.04238787663533, 34.99023240719086, 34.18353836636929, 27.87221866933325, 47.635094690572664, 25.17711995275658, 45.968349376639495, 25.23432663123095, 26.52653177183427, 18.179778376960634, 24.409680200347356, 30.932899492815313, 24.070826509204934, 54.82683243553441, 20.25583930744506, 20.78687366414865, 18.704456430607287, 17.588252898044157, 26.502577412682644, 27.844652829808833, 32.91806949317828, 26.181549576227972, 22.327044134752498, 83.3662340720478, 41.0839034308749, 40.04578886046025, 37.38396043366098, 28.037494308695127, 58.544395412552646, 28.61932374121452, 44.96564149430984, 19.602184288951737, 43.499032175380215, 17.944555424797272, 26.366101893696676, 18.60810629659436, 22.68639770967419, 17.636770472783343, 17.155760822729402, 65.30287978216309, 18.469478658938186, 16.025057064450664, 30.54455790425986, 13.10483131716476, 16.972781905720822, 12.40092717930304, 23.74216033719376, 11.322503806602526, 14.292814260046248, 21.555651591523393, 11.366346657151773, 17.10920350786826, 30.486100653813665, 66.7966313699108, 37.99211006150072, 20.704977017763714, 23.083698689631785, 25.019897146544494, 35.415739106500006, 29.60842690047428, 19.01588428757477, 18.22038291717557, 190.45124118719426, 81.80330887885705, 54.07422899929431, 60.486030183994245, 70.6197021390493, 58.932295275536354, 44.899598183562944, 34.837455353395455, 63.38282564228462, 27.47288263488232, 27.386464661729217, 63.08640019379555, 19.615207122112057, 41.62345600506894, 26.615725424026564, 18.979292860878537, 21.232816099834555, 30.452928052315638, 17.287049574714473, 26.160500961102272, 17.88257366136769, 14.73957404709596, 15.612303336319139, 11.5917525698341, 11.306123433853502, 24.575694628838704, 13.209770296910925, 16.31811251549148, 12.511115412660558, 7.602230731066415, 52.66080414657606, 24.808112354253286, 26.08578892148287, 30.913460077282082, 25.093914224056498, 18.028664490624628, 23.804953845501014, 22.302644458189224, 18.14435082483199, 105.99442223007992, 115.94068964656672, 118.3585129803672, 56.10858330233397, 41.04673591363591, 33.40676846859851, 41.42132715495643, 57.68578214980365, 44.640522811319805, 23.382239639821606, 44.83745642925793, 17.722528494105827, 31.357769083920417, 51.922254103142016, 142.99135030994006, 45.270270104174706, 16.992012854593533, 17.535345794443963, 24.146284634647255, 16.632767657569794, 23.526000904451156, 10.817930554000316, 18.697907177394043, 8.841271365502108, 13.124690205077686, 17.035698247305092, 18.00223843619687, 11.922754524515158, 18.697601561604284, 24.01077017934438, 32.13268960297, 37.70471809082367, 20.685360313087383, 25.248292753996992, 20.716490669110392, 17.82593390599351, 17.68649191686039, 208.39909116115047, 134.15995318293287, 156.10075427814462, 110.1760593009796, 60.06101599245484, 64.31968911414441, 58.38909243467231, 45.35184371505772, 67.40543163366442, 54.15554983212476, 45.6031744750947, 25.469193458368856, 25.234910407910796, 23.492478057220808, 30.636053001949513, 24.18642114191052, 18.22829920625357, 35.95394882123281, 27.88848525941238, 21.918136316942416, 10.4841237606248, 10.375404254496583, 26.664552441949304, 9.997991877565816, 25.08246191989817, 20.79565039043804, 32.76708850551907, 45.34106134258752, 19.838267346278304, 16.65288791871519, 17.671504896411605, 32.55228402983756, 18.743583470796636, 26.73203719870503, 26.05328820756271, 108.28856588136294, 141.71752858855731, 170.5722726753578, 113.31728041601774, 104.15336976478834, 63.84228810785661, 96.8055594589461, 101.83908037163333, 246.89496861368568, 51.439150586735664, 25.332207301985587, 25.01231932203628, 59.1347857186294, 24.799382687129306, 20.689140538464912, 15.03505437225724, 18.792495970813256, 25.035512371404387, 18.967227300586444, 11.642960415360967, 30.018512505215185, 7.72577404018923, 17.491013346222566, 18.219987150369317, 5.722683083781002, 5.400956460078887, 11.751669519789488, 7.957687254341551, 35.72454291930588, 9.461144979325626, 12.578288404611651, 8.730533565177497, 327.52772661912064, 288.30857511173537, 148.59410520981544, 75.12076638537067, 103.95024336308123, 51.33870614109804, 38.469400413542914, 37.998152975709935, 21.182153282652727, 21.78531045310016, 15.982155794788223, 15.851573702108205, 23.379104518738995, 18.31906473375127, 19.821031919328657, 29.28650642235838, 13.923659738698156, 6.37384069064987, 11.05738117598182, 9.698970672156797, 12.160339729488548, 18.88254042277815, 13.274441102818916, 14.095922364037943, 6.641553089779068, 14.344799206509709, 2.6198449395118137, 9.890286116094213, 6.626503673049476, 5.154042993871467, 3.1896843048277326, 120.883994341455, 60.27191787878127, 142.75813077844936, 128.36936915487811, 60.913111620568884, 92.35523345510461, 46.06316301272792, 98.37966691384217, 12.97613957817495, 28.40709084341617, 27.015390704598254, 29.48784346044966, 34.441161297629804, 15.641589601966164, 12.403235075226943, 18.808439828290922, 19.583299305709136, 13.005400689849093, 13.623736485594511, 20.72710400090943, 18.37464147924447, 9.421748321121166, 12.44465581242902, 13.125205962860194, 9.731733998471407, 8.00537092215345, 29.70592150634058, 5.5679524541605145, 5.698493054424106, 20.74113737956861, 14.775020369151795, 9.285152651772753, 13.923289541262987, 103.76362249970073, 136.44789298585567, 90.91974085101872, 180.83192873436448, 61.27556179116993, 94.74261723272048, 49.93107193443464, 65.4567331008617, 36.60407848258927, 77.7882881072838, 25.66259675069171, 39.6871273663661, 17.12670562617021, 44.76245906856042, 22.421169594883416, 9.93378095389285, 43.30343247375843, 25.059485983672083, 29.987883701345357, 12.418057873464264, 23.01014326491979, 0.1285176003271448, 8.477534589262513, 8.256595330541371, 0.12851760032891255, 0.1285176216040293, 0.12851760036799983, 0.1285176004188661, 0.12851760089184278, 0.12851760106942284, 0.12869041777797385, 0.1285792522330357, 0.12855776064795357, 0.12853982026794886, 0.12853551499734858, 0.12852480874264205, 0.1285223351933789, 177.7176262371034, 181.85288742980055, 298.50333497415136, 76.83096952027108, 55.069927414914496, 24.42881799994635, 52.71344288569392, 22.062612150318493, 8.041890122775222, 19.106127102082862, 23.59018528201278, 14.949463797731369, 0.2088978791535854, 0.20889787954283337, 0.20889797819729294, 0.2088978796213761, 0.20889789600857867, 0.20889789444967272, 0.20889787951583835, 0.20889789616428442, 0.2088978802799049, 0.208897897981014, 0.20889787922360756, 0.2088978807858339, 0.20889787998224232, 0.20889787984736163, 0.20889788005294632, 0.20889787948948468, 0.20889788176464189, 0.20889787924711806, 0.20901763278986848, 0.2089628166359676, 0.2089504840260656, 0.20890193190215048, 0.20890122573249179, 0.2089002829087958, 0.20890005716002222, 0.2088992694543627, 0.2088991336028356, 0.20889904670229498, 0.2088989971310276, 0.20889896831608537, 0.20889876161322266, 0.20889872854253683, 0.20889857377352855, 0.2088983404025708, 0.2088982974600269, 0.20889820641285978, 298.64101014950785, 181.89160343205498, 174.5093763438546, 94.31120403833042, 44.339536993629636, 31.023447251519812, 0.2788922201542137, 0.2788922201427173, 0.27889222016645293, 0.27889222126027885, 0.2788922201592881, 0.27889222084012166, 0.2788922203648444, 0.27889222073052133, 0.2788922213516428, 0.2788922204428123, 0.27889222015415377, 0.27889222229489113, 0.27889222015185744, 0.27889222027363186, 0.2788922205231999, 0.27889222028521127, 0.2788922221904827, 0.2788922212208576, 0.2788922210351743, 0.27889222265573815, 0.2788922201526041, 0.2788922212692792, 0.2788922201855319, 0.278892221072894, 0.27894506080910614, 0.2789033861492597, 0.2788978766133863, 0.27889304116975894, 0.27889296871334635, 0.27889269002922124, 0.2788926085018524, 0.27889258310275417, 0.27889245069854324, 0.2788924002084372, 0.2788923554587402, 0.2788923511044689, 0.2788923508764413, 0.2788923414842879, 0.2788923353829563, 0.27889233079568854, 0.27889232798974467, 0.27889232617608484, 0.2788923255724529, 0.278892319041929, 0.27889230860060266, 0.27889230734592446, 0.2788922996748776, 0.27889229594260884, 218.32519700485648, 99.27311541058644, 86.8657900958594, 65.02672522057958, 170.3748404748359, 80.22507987591636, 34.199197021133905, 37.647998162791346, 26.208979376531303, 0.2762171830701022, 0.2762171830661724, 0.27621718308685295, 0.2762171831137911, 0.27621718620487723, 0.2762171875128515, 0.2762171844597425, 0.27621718811789275, 0.2762171834856969, 0.2762171830707317, 0.2762171830916364, 0.2762171835445155, 0.2762171830804033, 0.2762171830690012, 0.2762171849769968, 0.2762171847282618, 0.2762171869659979, 0.27621718441812165, 0.27621718396534517, 0.2762171835422288, 0.27621718329275485, 0.27634296933289443, 0.2763078554391287, 0.276226776590305, 0.2762242627667421, 0.2762221909576046, 0.2762184656213524, 0.2762184428936517, 0.2762179395616823, 0.2762178803209239, 0.27621780631190973, 0.27621779875475955, 0.27621777554570526, 0.2762176620283805, 0.2762176518073567, 0.2762175532777194, 0.2762174287807305, 0.27621735393187535, 0.27621734188794944, 0.2762173285365245, 0.2762173178185898, 0.2762173032321005, 721.8313442851249, 27.977073114109377, 0.31366223606163296, 0.3136622344953908, 0.313662234505332, 0.31366224245676366, 0.3136622482196695, 0.31366223448794794, 0.31366224704972684, 0.3136622344933884, 0.31366223472453686, 0.3136622345068669, 0.3136622344869478, 0.3136622648052058, 0.31366223449367203, 0.31366223570004037, 0.3136622614202618, 0.3136622345586953, 0.3136622345671693, 0.3136622349097785, 0.3136622346661339, 0.3136622344870447, 0.31366223608836885, 0.3136622370704354, 0.3136622919845127, 0.3136622344961466, 0.313662234512049, 0.31366223450441594, 0.3136622345070583, 0.31366223448710495, 0.31366267349407045, 0.31366255758528067, 0.3136623322644329, 0.3136623312665601, 0.3136623214887561, 0.3136623042796744, 0.3136622930306648, 0.3136622926066721, 0.3136622903961757, 0.31366228840561394, 0.31366228662585044, 0.3136622861560518, 0.3136622856411954, 0.31366228534625357, 0.3136622842313911, 0.3136622809389767, 0.31366228051992856, 0.31366228029712445, 0.3136622731390339, 0.3136622729722753, 0.3136622708549646, 0.3136622698020125, 0.3136622687116731, 0.3136622683010263, 0.31366226825293914, 0.31366226652273244, 0.31366226622456567, 370.09300253938994, 183.44637086684037, 0.4720449023765036, 0.47204490297075974, 0.47204490279498423, 0.4720449023680496, 0.47204490329500803, 0.4720449035551783, 0.4720449032448755, 0.4720449071915719, 0.4720449027275336, 0.4720449031681545, 0.47204490236912944, 0.4720449023744375, 0.4720449023718305, 0.4720449057475501, 0.4720449023763105, 0.4720449024947827, 0.4720449033877778, 0.47204490345267286, 0.47204490237630686, 0.4720449023722697, 0.472044907324185, 0.4720449025903678, 0.47204490237621083, 0.47204490352249107, 0.47204490276242217, 0.4720449032434736, 0.4720449041313868, 0.4720449036469331, 0.4720830731231092, 0.47206656641508343, 0.47206013928478974, 0.4720512276234959, 0.4720510570636001, 0.472046155419038, 0.47204502567032897, 0.4720449467076547, 0.47204494303477357, 0.4720449410965626, 0.4720449406666898, 0.47204493501016104, 0.47204493086969435, 0.4720449257241128, 0.4720449256100472, 0.4720449238671012, 0.4720449216978997, 0.4720449197549845, 0.47204491894607725, 0.4720449183761024, 0.47204491802388476, 0.47204491791222, 0.4720449170097702, 0.4720449166823653, 0.4720449157762046, 0.47204491486650435, 0.472044914682936, 0.47204491443919516, 442.37237262450293, 64.8730250075451, 0.5168386927521319, 0.5168386927725938, 0.5168386933877436, 0.5168386927430416, 0.5168386962230452, 0.516838692768221, 0.5168387010296301, 0.5168386935040499, 0.5168387199512493, 0.516838694811449, 0.5168386928229379, 0.5168386935050113, 0.516838692788521, 0.5168386934513939, 0.5168386934434929, 0.5168389252894392, 0.5168386955127936, 0.5168386945068089, 0.5168386939111008, 0.5168386945651293, 0.5168386956223735, 0.5168386988954351, 0.5168386980444107, 0.5168386964395787, 0.516838695346862, 0.5168386933163693, 0.5168386948510248, 0.5168386935475432, 0.5168910777505393, 0.5168582467077947, 0.5168508319286557, 0.5168489748360191, 0.5168415700862209, 0.5168400426695368, 0.5168397126541768, 0.5168392795642726, 0.5168392708168182, 0.5168391624155315, 0.5168390014601985, 0.5168389617093172, 0.516838935280841, 0.5168388233729437, 0.5168388203957274, 0.51683881309087, 0.5168387954521624, 0.5168387935677898, 0.516838793156028, 0.5168387862148451, 0.5168387747572996, 0.5168387729439503, 0.5168387643778857, 0.5168387431145687, 0.5168387326924058, 0.5168387266751606, 0.5168387251944426], \"Total\": [724.0, 494.0, 483.0, 523.0, 573.0, 763.0, 401.0, 549.0, 464.0, 439.0, 365.0, 425.0, 353.0, 343.0, 294.0, 297.0, 602.0, 330.0, 285.0, 248.0, 299.0, 416.0, 469.0, 276.0, 254.0, 263.0, 223.0, 245.0, 319.0, 245.0, 219.8007223886212, 176.16482488643783, 112.60385004176797, 129.41542470188742, 63.05648713671098, 103.41750543584557, 71.5171339450345, 73.09190740855246, 66.21887228292564, 194.08580367926885, 102.98423505981647, 92.06364297143328, 258.5742405280946, 115.17713167226968, 87.83235360397025, 78.14510734296725, 58.69639085837498, 121.51968081372623, 111.95804434922066, 81.65060114686416, 142.983117161955, 65.45049273462617, 133.84786365538324, 86.2977949649801, 98.53451443158137, 451.95065350540676, 68.29097014350563, 147.1248280611149, 65.14324832820077, 113.67755773175, 137.98052427934005, 151.49112039212483, 303.40544983246247, 459.91355153257734, 262.56945179360577, 214.06720838605185, 208.93735890731782, 223.22865137007824, 225.46595358857968, 416.2852327481826, 356.66013507844974, 290.9968156702909, 361.3609106599524, 245.29953228512045, 388.43722448077204, 251.64357210004596, 234.14212971125593, 301.5210758077341, 308.9234035032611, 600.3618025661826, 573.8681976101241, 247.45813336195388, 357.7887107208601, 623.4168400920981, 602.5255872186058, 425.2130341778261, 779.8313197186463, 763.5735181854493, 516.9030392334656, 359.0440617449453, 450.7354981117796, 131.5931801784328, 94.17634322226296, 54.60848710042675, 76.17909836979298, 135.7389381099763, 162.40315172948516, 126.23787242026299, 86.75929718856315, 196.3022330186245, 74.47940502376932, 109.81332189230535, 79.95121933347495, 193.3539751468984, 104.44295553869028, 114.56540155087785, 76.56976886168577, 150.18269685218922, 162.135035129378, 127.29457453093973, 208.05832099242497, 103.416303717039, 136.94525191944308, 82.64607396788769, 144.34718772376914, 75.04016782089634, 181.96504003657725, 87.26904919700675, 126.80083718174257, 170.738774632277, 152.8722531463074, 146.52529028469908, 349.7818428068444, 165.16730541914913, 197.70416969937776, 623.4168400920981, 349.9153135497158, 376.01364447849556, 213.50456556711856, 291.5970879217102, 602.5255872186058, 206.15282965893118, 267.09602251374065, 229.02121067948065, 292.409511434281, 194.8397682103459, 779.8313197186463, 307.5416206667764, 516.9030392334656, 323.6935713262536, 600.3618025661826, 105.21785501948429, 95.82038574916032, 117.4926567097543, 82.21972162041541, 469.8159482942565, 68.3804049080135, 166.4801720520775, 77.90811136291956, 81.9702644811788, 243.73826216879434, 87.17045013579975, 73.68036518680198, 70.97997939795044, 88.52901673066559, 89.21514565762403, 76.98007489280556, 112.37182096440941, 118.57529453672159, 130.17978256392496, 167.19547714458196, 141.10156784120343, 86.63052689988658, 193.86495014251153, 76.61572549693936, 485.7625706013491, 117.12303425166026, 102.08249251848801, 88.568716812715, 60.266160468059454, 76.63605515154508, 562.9026900133772, 229.50427946963921, 166.07067977791965, 262.6265723514819, 152.20212315515133, 138.48370888179198, 779.8313197186463, 600.3618025661826, 276.9672549304178, 516.9030392334656, 212.6202628585394, 207.88193716090845, 187.54913345507083, 170.61537053436817, 154.28938984992928, 158.49863395403037, 623.4168400920981, 314.6021425881944, 376.01364447849556, 308.9234035032611, 248.28153388021838, 163.88793156410213, 230.9313364317311, 88.39160294290895, 100.13138579338329, 244.9026516613306, 86.78352467477605, 88.22829712875651, 89.79626547702746, 139.96929858642147, 88.27308709277769, 158.727730442024, 215.64077077680517, 61.91868036864562, 82.49154483475894, 95.12491825425705, 112.69800939077666, 272.10934219082606, 122.70951771341086, 64.9248170155437, 109.3554463515516, 110.88782980569678, 143.15731770020406, 227.1050924732898, 119.11598403449476, 96.1330439841462, 71.21165146726754, 73.25500396863758, 145.15101219522242, 97.92824777281945, 80.07288230590994, 450.7354981117796, 287.068407121428, 255.68883791318524, 124.87649233785481, 137.33352999404477, 180.8642466544711, 763.5735181854493, 334.24921719130197, 298.8785671821146, 241.4117256145025, 235.84117923353088, 329.21211418038206, 459.91355153257734, 203.44976897714903, 600.3618025661826, 779.8313197186463, 388.43722448077204, 302.1650463183944, 357.7887107208601, 181.08978608883226, 167.0597420214314, 154.23090641921235, 137.15252448445372, 128.74726595612802, 97.91390645817988, 115.23775377056758, 276.9672549304178, 92.88515967333603, 101.3897116753446, 125.74452638750158, 315.30710288618127, 92.94693999911844, 113.31251163794954, 81.24150912050618, 269.4151370033508, 114.11409065767994, 140.6393542248662, 266.9014232485945, 82.20706036946218, 146.1546429138563, 157.62784656939007, 92.37471173573304, 158.73943555326585, 125.28056745616134, 86.0456366143419, 202.0483309650184, 159.1051242866387, 70.22210623459642, 210.38290761389234, 343.59060072159764, 779.8313197186463, 235.84117923353088, 464.6540877736164, 269.18903613867775, 516.9030392334656, 171.5622642483823, 105.39119553356794, 168.83209603075096, 125.29789578960397, 145.32834657150582, 123.24970787011931, 319.4678938060495, 96.8928633798884, 113.20699281731405, 108.79601222055433, 140.56589775457638, 114.57800539541243, 124.87649233785481, 101.09612865162575, 112.25364596255058, 92.37471173573304, 161.4080667515498, 90.14372454614394, 166.27124385980505, 94.4023533651582, 112.62557111418799, 77.82469432502212, 106.5053251741642, 137.9623555550321, 131.76265551806912, 302.1650463183944, 113.51413329829018, 127.72411534100536, 118.18094671749274, 112.69800939077666, 179.61456598420705, 200.90926925036584, 298.14056622936386, 295.01045038662534, 186.8793079208594, 104.67218738995697, 113.68867557808053, 116.21108887727215, 119.0919952935603, 92.52188517533742, 218.71497326643973, 115.50815049570807, 195.82736826007928, 90.32439154071488, 200.90926925036584, 84.23554992814256, 131.04796164178424, 96.38220533329729, 119.09524924407175, 93.55646086582749, 93.93301011039281, 357.7887107208601, 103.56308052076207, 91.3745961123141, 179.8019747556799, 78.24854339695129, 104.62516353647925, 79.97761293125171, 156.25174001310253, 75.89171621499806, 97.9016250946211, 150.69688802871545, 79.78011100203297, 120.66206186953058, 225.46595358857968, 549.0324980371173, 333.61030789068485, 159.49547973334657, 187.1047036239397, 244.80278056420556, 602.5255872186058, 439.1696381904274, 218.9496773899955, 253.89109471232013, 299.4598042313647, 132.33344936750518, 111.48457459592714, 138.47564674032114, 169.92830416268015, 142.45696763876194, 116.13381375117696, 108.2422882427163, 197.96961214690333, 86.58373852058368, 99.09436608383979, 245.29953228512045, 86.48556131819682, 186.8793079208594, 144.19420546705294, 105.79549325748594, 122.1652512839941, 175.24844770642713, 104.68097146276247, 162.3282158856275, 113.9757321138636, 95.53337678959204, 101.27014273455833, 83.12441458988678, 81.48853464813803, 180.1860485303895, 107.05863464164047, 132.6495244000029, 103.56308052076207, 64.46039582353818, 450.7354981117796, 215.64077077680517, 233.1207284481136, 301.5210758077341, 258.5742405280946, 168.5921117734307, 357.7887107208601, 353.4364380016795, 206.91101164272334, 116.83648403359102, 243.73011709919928, 269.5822763295486, 153.661160134376, 120.5458148163668, 109.91926691667514, 138.491847614453, 192.95724810412887, 161.44408284631382, 89.44566936382401, 189.69696598413233, 78.52057234135525, 140.39189128869918, 271.9539309395837, 763.5735181854493, 260.9051970155529, 105.29166333631714, 109.3554463515516, 157.7769508062338, 112.62557111418799, 163.6472779609448, 75.89171621499806, 133.01327668575186, 63.55793507254663, 96.0064469658378, 128.3102220062262, 139.96929858642147, 95.08892487869652, 149.4919656336261, 199.715928630474, 287.068407121428, 359.5389242728051, 203.44976897714903, 295.01045038662534, 290.9968156702909, 174.0285464920442, 255.68883791318524, 245.21596198152469, 174.88701061678393, 245.67524838692952, 175.7230417437081, 101.17715846776558, 140.2230946650396, 131.04796164178424, 117.53598267993956, 235.81753605453216, 192.95724810412887, 203.44976897714903, 115.12551889576193, 115.07151761247692, 111.71678383440096, 155.98006285271384, 132.6495244000029, 100.89237615001002, 218.9496773899955, 177.95979891739051, 157.5706242188724, 78.52057234135525, 79.3167284449865, 218.71497326643973, 88.27308709277769, 229.50427946963921, 193.86495014251153, 334.24921719130197, 469.8159482942565, 219.28093934721045, 184.113816320308, 200.7704010018936, 562.9026900133772, 243.73826216879434, 573.8681976101241, 602.5255872186058, 111.34410657664445, 158.7869088669595, 223.72957027844438, 156.25174001310253, 176.80465190977822, 123.45187196493399, 193.1088116213503, 222.58634635101248, 549.0324980371173, 116.21108887727215, 80.9511495335203, 92.77153033108286, 229.3311329355785, 105.16506019355995, 94.49328862410711, 122.73424568402548, 164.34225384078945, 222.76029408940434, 185.4627404541962, 114.56540155087785, 307.5416206667764, 105.83252192437043, 248.28153388021838, 258.8127332827976, 85.57149176065197, 83.04485248427417, 181.27380646199964, 129.91669622740568, 602.5255872186058, 175.55461276308455, 304.6427646835864, 266.9014232485945, 365.74400422701274, 353.4364380016795, 276.9809114218305, 164.93349050114585, 229.2465685745054, 135.9497750993875, 119.4867293771715, 128.13535291583904, 95.53337678959204, 100.61940488774238, 78.01192361608851, 111.61992289201095, 177.95979891739051, 144.0313783490651, 168.5921117734307, 303.40544983246247, 164.67724628886458, 85.67290264630219, 176.40381120158162, 158.64590956489334, 207.88193716090845, 333.61030789068485, 235.81753605453216, 388.43722448077204, 233.1207284481136, 573.8681976101241, 105.73286642091513, 459.91355153257734, 314.6021425881944, 267.09602251374065, 171.17796984515036, 208.71260336505372, 105.90647554854138, 254.45375184677061, 263.816695449979, 132.0936231371348, 203.16958777075925, 104.34192793459195, 425.2130341778261, 70.79980116035168, 158.727730442024, 158.73943555326585, 175.55461276308455, 236.59905277006104, 132.44703313061305, 108.89691699112433, 185.4627404541962, 200.36708808481518, 139.96929858642147, 147.4159762773652, 227.1050924732898, 208.05832099242497, 108.28411130186437, 175.83924470308264, 192.84042503766156, 144.81859898708353, 120.08750601148539, 602.5255872186058, 114.05121242318181, 118.02332052414177, 459.91355153257734, 356.66013507844974, 272.8369973510095, 549.0324980371173, 196.1279642490776, 285.00702193975235, 218.9496773899955, 439.1696381904274, 176.40381120158162, 272.8369973510095, 143.92369865895552, 243.48469746293839, 149.11526097268595, 330.9238771294098, 121.730832041827, 212.6202628585394, 92.49871331811997, 249.35641002949532, 135.58176517654132, 80.0361445401286, 416.2852327481826, 297.24222864836327, 376.01364447849556, 157.1275352065244, 356.66013507844974, 8.743647413123963, 763.5735181854493, 779.8313197186463, 37.5395502231507, 52.938123097590164, 54.60848710042675, 56.51495855379875, 57.01217341692329, 57.80764851529958, 210.38290761389234, 146.52529028469908, 92.52188517533742, 131.76265551806912, 192.95724810412887, 73.25500396863758, 96.0064469658378, 223.46236995260196, 297.24222864836327, 523.7427735482225, 220.342825327542, 178.642478769462, 122.81303163408299, 269.18903613867775, 155.31532476513502, 80.09501804304628, 243.73011709919928, 329.21211418038206, 349.7818428068444, 8.743647413123963, 37.5395502231507, 52.938123097590164, 54.60848710042675, 56.51495855379875, 57.01217341692329, 57.80764851529958, 58.69639085837498, 59.739194756183814, 60.266160468059454, 60.40627902043326, 60.459474371611996, 61.09902721249704, 61.91868036864562, 62.738956221078006, 63.05648713671098, 63.15874493188319, 63.55793507254663, 105.29166333631714, 146.34369491217913, 112.69800939077666, 92.52188517533742, 92.01273492457429, 294.32839241306226, 168.56981291957803, 189.10170496979003, 124.56448206503289, 67.8250375105941, 353.4364380016795, 298.14056622936386, 365.74400422701274, 75.6923161459716, 220.52240747714282, 82.64607396788769, 253.8479311099751, 174.88701061678393, 401.560644029028, 294.32839241306226, 343.59060072159764, 220.52240747714282, 189.10170496979003, 141.84346197643885, 8.743647413123963, 37.5395502231507, 52.938123097590164, 54.60848710042675, 56.51495855379875, 57.01217341692329, 57.80764851529958, 58.69639085837498, 59.739194756183814, 60.266160468059454, 60.40627902043326, 60.459474371611996, 61.09902721249704, 61.91868036864562, 62.738956221078006, 63.05648713671098, 63.15874493188319, 63.55793507254663, 64.46039582353818, 64.9248170155437, 65.14324832820077, 65.28951046948484, 65.45049273462617, 65.45806788306587, 75.6923161459716, 86.36965561317487, 298.14056622936386, 116.83648403359102, 94.4023533651582, 113.52770536581932, 779.8313197186463, 92.52188517533742, 77.81137869907346, 125.29789578960397, 138.03512627017818, 93.33449345613838, 79.35034409113081, 100.59166888995766, 171.15839991208645, 265.81326401016105, 97.33436490552778, 88.81169712124397, 105.0303104260389, 763.5735181854493, 208.7737504861039, 112.69800939077666, 155.98006285271384, 82.04735518813098, 248.39317961223102, 234.15589669069408, 206.91101164272334, 164.87695577198554, 464.6540877736164, 245.2436008142454, 115.80901255017478, 129.87698392824663, 130.0383743991468, 8.743647413123963, 37.5395502231507, 52.938123097590164, 54.60848710042675, 56.51495855379875, 57.01217341692329, 57.80764851529958, 58.69639085837498, 59.739194756183814, 60.266160468059454, 60.40627902043326, 60.459474371611996, 61.09902721249704, 61.91868036864562, 62.738956221078006, 63.05648713671098, 63.15874493188319, 63.55793507254663, 64.46039582353818, 64.9248170155437, 65.14324832820077, 193.3539751468984, 112.69800939077666, 163.88793156410213, 111.34410657664445, 92.01273492457429, 92.52188517533742, 162.3282158856275, 118.18094671749274, 109.81332189230535, 110.05453483894013, 75.0867056785773, 115.50815049570807, 116.13381375117696, 154.23090641921235, 181.08978608883226, 109.60508756173917, 172.24527051848554, 162.135035129378, 168.56981291957803, 92.06364297143328, 137.15252448445372, 724.6648984945587, 295.01045038662534, 8.743647413123963, 37.5395502231507, 52.938123097590164, 54.60848710042675, 56.51495855379875, 57.01217341692329, 57.80764851529958, 58.69639085837498, 59.739194756183814, 60.266160468059454, 60.40627902043326, 60.459474371611996, 61.09902721249704, 61.91868036864562, 62.738956221078006, 63.05648713671098, 63.15874493188319, 63.55793507254663, 64.46039582353818, 64.9248170155437, 65.14324832820077, 65.28951046948484, 65.45049273462617, 65.45806788306587, 66.09498088388823, 66.21660075929515, 66.21887228292564, 66.31278837910702, 185.67301798907326, 307.5416206667764, 85.08273422086755, 262.6265723514819, 95.53337678959204, 164.87695577198554, 76.77407419811047, 125.28056745616134, 90.69884025061366, 79.36076647920132, 88.22317152128021, 116.13381375117696, 85.67290264630219, 333.61030789068485, 126.98894397049509, 90.1864310829497, 112.60385004176797, 96.38220533329729, 88.2826991118348, 144.34718772376914, 218.9496773899955, 162.135035129378, 78.14330722833876, 135.9497750993875, 72.65153363396456, 113.68867557808053, 234.14212971125593, 494.20992107976974, 573.8681976101241, 8.743647413123963, 37.5395502231507, 52.938123097590164, 54.60848710042675, 56.51495855379875, 57.01217341692329, 57.80764851529958, 58.69639085837498, 59.739194756183814, 60.266160468059454, 60.40627902043326, 60.459474371611996, 61.09902721249704, 61.91868036864562, 62.738956221078006, 63.05648713671098, 63.15874493188319, 63.55793507254663, 64.46039582353818, 64.9248170155437, 65.14324832820077, 65.28951046948484, 65.45049273462617, 65.45806788306587, 66.09498088388823, 66.21660075929515, 66.21887228292564, 66.31278837910702, 192.95724810412887, 150.94198406117027, 159.1051242866387, 78.52057234135525, 88.46492994532419, 85.68281793013162, 79.35034409113081, 116.13381375117696, 85.91225727065246, 103.21893672057594, 75.96052761983783, 136.13550813333455, 516.9030392334656, 171.4122459244465, 144.19420546705294, 98.53451443158137, 127.24638744907801, 153.07818562150212, 88.11523778535414, 108.79601222055433, 170.17776672612655, 76.77407419811047, 483.1313237112405, 96.1330439841462, 285.00702193975235, 100.89237615001002, 91.62092619339514, 70.79980116035168, 483.1313237112405, 202.42311672849183, 8.743647413123963, 37.5395502231507, 52.938123097590164, 54.60848710042675, 56.51495855379875, 57.01217341692329, 57.80764851529958, 58.69639085837498, 59.739194756183814, 60.266160468059454, 60.40627902043326, 60.459474371611996, 61.09902721249704, 61.91868036864562, 62.738956221078006, 63.05648713671098, 63.15874493188319, 63.55793507254663, 64.46039582353818, 64.9248170155437, 65.14324832820077, 65.28951046948484, 65.45049273462617, 65.45806788306587, 66.09498088388823, 66.21660075929515, 66.21887228292564, 66.31278837910702, 192.95724810412887, 103.416303717039, 85.17617029276283, 112.69800939077666, 105.21785501948429, 92.52188517533742, 104.68097146276247, 220.52240747714282, 119.09524924407175, 92.94693999911844, 118.18094671749274, 102.98423505981647, 84.24954355949629, 105.78340286962275, 88.52901673066559, 516.9030392334656, 85.09664113177254, 176.80465190977822, 113.06042368258835, 262.56945179360577, 80.03981252316987, 137.33352999404477, 86.2977949649801, 88.5467652278555, 185.9074327891245, 469.8159482942565, 116.13381375117696], \"Category\": [\"Default\", \"Default\", \"Default\", \"Default\", \"Default\", \"Default\", \"Default\", \"Default\", \"Default\", \"Default\", \"Default\", \"Default\", \"Default\", \"Default\", \"Default\", \"Default\", \"Default\", \"Default\", \"Default\", \"Default\", \"Default\", \"Default\", \"Default\", \"Default\", \"Default\", \"Default\", \"Default\", \"Default\", \"Default\", \"Default\", \"Topic1\", \"Topic1\", \"Topic1\", \"Topic1\", \"Topic1\", \"Topic1\", \"Topic1\", \"Topic1\", \"Topic1\", \"Topic1\", \"Topic1\", \"Topic1\", \"Topic1\", \"Topic1\", \"Topic1\", \"Topic1\", \"Topic1\", \"Topic1\", \"Topic1\", \"Topic1\", \"Topic1\", \"Topic1\", \"Topic1\", \"Topic1\", \"Topic1\", \"Topic1\", \"Topic1\", \"Topic1\", \"Topic1\", \"Topic1\", \"Topic1\", \"Topic1\", \"Topic1\", \"Topic1\", \"Topic1\", \"Topic1\", \"Topic1\", \"Topic1\", \"Topic1\", \"Topic1\", \"Topic1\", \"Topic1\", \"Topic1\", \"Topic1\", \"Topic1\", \"Topic1\", \"Topic1\", \"Topic1\", \"Topic1\", \"Topic1\", \"Topic1\", \"Topic1\", \"Topic1\", \"Topic1\", \"Topic1\", \"Topic1\", \"Topic1\", \"Topic1\", \"Topic1\", \"Topic1\", \"Topic1\", \"Topic2\", \"Topic2\", \"Topic2\", \"Topic2\", \"Topic2\", \"Topic2\", \"Topic2\", \"Topic2\", \"Topic2\", \"Topic2\", \"Topic2\", \"Topic2\", \"Topic2\", \"Topic2\", \"Topic2\", \"Topic2\", \"Topic2\", \"Topic2\", \"Topic2\", \"Topic2\", \"Topic2\", \"Topic2\", \"Topic2\", \"Topic2\", \"Topic2\", \"Topic2\", \"Topic2\", \"Topic2\", \"Topic2\", \"Topic2\", \"Topic2\", \"Topic2\", \"Topic2\", \"Topic2\", \"Topic2\", \"Topic2\", \"Topic2\", \"Topic2\", \"Topic2\", \"Topic2\", \"Topic2\", \"Topic2\", \"Topic2\", \"Topic2\", \"Topic2\", \"Topic2\", \"Topic2\", \"Topic2\", \"Topic2\", \"Topic2\", \"Topic3\", \"Topic3\", \"Topic3\", \"Topic3\", \"Topic3\", \"Topic3\", \"Topic3\", \"Topic3\", \"Topic3\", \"Topic3\", \"Topic3\", \"Topic3\", \"Topic3\", \"Topic3\", \"Topic3\", \"Topic3\", \"Topic3\", \"Topic3\", \"Topic3\", \"Topic3\", \"Topic3\", \"Topic3\", \"Topic3\", \"Topic3\", \"Topic3\", \"Topic3\", \"Topic3\", \"Topic3\", \"Topic3\", \"Topic3\", \"Topic3\", \"Topic3\", \"Topic3\", \"Topic3\", \"Topic3\", \"Topic3\", \"Topic3\", \"Topic3\", \"Topic3\", \"Topic3\", \"Topic3\", \"Topic3\", \"Topic3\", \"Topic3\", \"Topic3\", \"Topic3\", \"Topic3\", \"Topic3\", \"Topic3\", \"Topic3\", \"Topic3\", \"Topic4\", \"Topic4\", \"Topic4\", \"Topic4\", \"Topic4\", \"Topic4\", \"Topic4\", \"Topic4\", \"Topic4\", \"Topic4\", \"Topic4\", \"Topic4\", \"Topic4\", \"Topic4\", \"Topic4\", \"Topic4\", \"Topic4\", \"Topic4\", \"Topic4\", \"Topic4\", \"Topic4\", \"Topic4\", \"Topic4\", \"Topic4\", \"Topic4\", \"Topic4\", \"Topic4\", \"Topic4\", \"Topic4\", \"Topic4\", \"Topic4\", \"Topic4\", \"Topic4\", \"Topic4\", \"Topic4\", \"Topic4\", \"Topic4\", \"Topic4\", \"Topic4\", \"Topic4\", \"Topic4\", \"Topic4\", \"Topic4\", \"Topic4\", \"Topic4\", \"Topic4\", \"Topic4\", \"Topic4\", \"Topic4\", \"Topic5\", \"Topic5\", \"Topic5\", \"Topic5\", \"Topic5\", \"Topic5\", \"Topic5\", \"Topic5\", \"Topic5\", \"Topic5\", \"Topic5\", \"Topic5\", \"Topic5\", \"Topic5\", \"Topic5\", \"Topic5\", \"Topic5\", \"Topic5\", \"Topic5\", \"Topic5\", \"Topic5\", \"Topic5\", \"Topic5\", \"Topic5\", \"Topic5\", \"Topic5\", \"Topic5\", \"Topic5\", \"Topic5\", \"Topic5\", \"Topic5\", \"Topic5\", \"Topic5\", \"Topic5\", \"Topic5\", \"Topic5\", \"Topic6\", \"Topic6\", \"Topic6\", \"Topic6\", \"Topic6\", \"Topic6\", \"Topic6\", \"Topic6\", \"Topic6\", \"Topic6\", \"Topic6\", \"Topic6\", \"Topic6\", \"Topic6\", \"Topic6\", \"Topic6\", \"Topic6\", \"Topic6\", \"Topic6\", \"Topic6\", \"Topic6\", \"Topic6\", \"Topic6\", \"Topic6\", \"Topic6\", \"Topic6\", \"Topic6\", \"Topic6\", \"Topic6\", \"Topic6\", \"Topic6\", \"Topic6\", \"Topic6\", \"Topic6\", \"Topic6\", \"Topic7\", \"Topic7\", \"Topic7\", \"Topic7\", \"Topic7\", \"Topic7\", \"Topic7\", \"Topic7\", \"Topic7\", \"Topic7\", \"Topic7\", \"Topic7\", \"Topic7\", \"Topic7\", \"Topic7\", \"Topic7\", \"Topic7\", \"Topic7\", \"Topic7\", \"Topic7\", \"Topic7\", \"Topic7\", \"Topic7\", \"Topic7\", \"Topic7\", \"Topic7\", \"Topic7\", \"Topic7\", \"Topic7\", \"Topic7\", \"Topic7\", \"Topic7\", \"Topic7\", \"Topic7\", \"Topic7\", \"Topic7\", \"Topic7\", \"Topic7\", \"Topic7\", \"Topic8\", \"Topic8\", \"Topic8\", \"Topic8\", \"Topic8\", \"Topic8\", \"Topic8\", \"Topic8\", \"Topic8\", \"Topic8\", \"Topic8\", \"Topic8\", \"Topic8\", \"Topic8\", \"Topic8\", \"Topic8\", \"Topic8\", \"Topic8\", \"Topic8\", \"Topic8\", \"Topic8\", \"Topic8\", \"Topic8\", \"Topic8\", \"Topic8\", \"Topic8\", \"Topic8\", \"Topic8\", \"Topic8\", \"Topic8\", \"Topic8\", \"Topic8\", \"Topic8\", \"Topic8\", \"Topic8\", \"Topic8\", \"Topic8\", \"Topic8\", \"Topic8\", \"Topic9\", \"Topic9\", \"Topic9\", \"Topic9\", \"Topic9\", \"Topic9\", \"Topic9\", \"Topic9\", \"Topic9\", \"Topic9\", \"Topic9\", \"Topic9\", \"Topic9\", \"Topic9\", \"Topic9\", \"Topic9\", \"Topic9\", \"Topic9\", \"Topic9\", \"Topic9\", \"Topic9\", \"Topic9\", \"Topic9\", \"Topic9\", \"Topic9\", \"Topic9\", \"Topic9\", \"Topic9\", \"Topic9\", \"Topic9\", \"Topic9\", \"Topic9\", \"Topic9\", \"Topic9\", \"Topic9\", \"Topic9\", \"Topic9\", \"Topic10\", \"Topic10\", \"Topic10\", \"Topic10\", \"Topic10\", \"Topic10\", \"Topic10\", \"Topic10\", \"Topic10\", \"Topic10\", \"Topic10\", \"Topic10\", \"Topic10\", \"Topic10\", \"Topic10\", \"Topic10\", \"Topic10\", \"Topic10\", \"Topic10\", \"Topic10\", \"Topic10\", \"Topic10\", \"Topic10\", \"Topic10\", \"Topic10\", \"Topic10\", \"Topic10\", \"Topic10\", \"Topic10\", \"Topic10\", \"Topic10\", \"Topic10\", \"Topic10\", \"Topic10\", \"Topic10\", \"Topic11\", \"Topic11\", \"Topic11\", \"Topic11\", \"Topic11\", \"Topic11\", \"Topic11\", \"Topic11\", \"Topic11\", \"Topic11\", \"Topic11\", \"Topic11\", \"Topic11\", \"Topic11\", \"Topic11\", \"Topic11\", \"Topic11\", \"Topic11\", \"Topic11\", \"Topic11\", \"Topic11\", \"Topic11\", \"Topic11\", \"Topic11\", \"Topic11\", \"Topic11\", \"Topic11\", \"Topic11\", \"Topic11\", \"Topic11\", \"Topic11\", \"Topic11\", \"Topic12\", \"Topic12\", \"Topic12\", \"Topic12\", \"Topic12\", \"Topic12\", \"Topic12\", \"Topic12\", \"Topic12\", \"Topic12\", \"Topic12\", \"Topic12\", \"Topic12\", \"Topic12\", \"Topic12\", \"Topic12\", \"Topic12\", \"Topic12\", \"Topic12\", \"Topic12\", \"Topic12\", \"Topic12\", \"Topic12\", \"Topic12\", \"Topic12\", \"Topic12\", \"Topic12\", \"Topic12\", \"Topic12\", \"Topic12\", \"Topic12\", \"Topic13\", \"Topic13\", \"Topic13\", \"Topic13\", \"Topic13\", \"Topic13\", \"Topic13\", \"Topic13\", \"Topic13\", \"Topic13\", \"Topic13\", \"Topic13\", \"Topic13\", \"Topic13\", \"Topic13\", \"Topic13\", \"Topic13\", \"Topic13\", \"Topic13\", \"Topic13\", \"Topic13\", \"Topic13\", \"Topic13\", \"Topic13\", \"Topic13\", \"Topic13\", \"Topic13\", \"Topic13\", \"Topic13\", \"Topic13\", \"Topic13\", \"Topic13\", \"Topic13\", \"Topic14\", \"Topic14\", \"Topic14\", \"Topic14\", \"Topic14\", \"Topic14\", \"Topic14\", \"Topic14\", \"Topic14\", \"Topic14\", \"Topic14\", \"Topic14\", \"Topic14\", \"Topic14\", \"Topic14\", \"Topic14\", \"Topic14\", \"Topic14\", \"Topic14\", \"Topic14\", \"Topic14\", \"Topic14\", \"Topic14\", \"Topic14\", \"Topic14\", \"Topic14\", \"Topic14\", \"Topic14\", \"Topic14\", \"Topic14\", \"Topic14\", \"Topic14\", \"Topic14\", \"Topic14\", \"Topic14\", \"Topic14\", \"Topic14\", \"Topic15\", \"Topic15\", \"Topic15\", \"Topic15\", \"Topic15\", \"Topic15\", \"Topic15\", \"Topic15\", \"Topic15\", \"Topic15\", \"Topic15\", \"Topic15\", \"Topic15\", \"Topic15\", \"Topic15\", \"Topic15\", \"Topic15\", \"Topic15\", \"Topic15\", \"Topic15\", \"Topic15\", \"Topic15\", \"Topic15\", \"Topic15\", \"Topic15\", \"Topic15\", \"Topic15\", \"Topic15\", \"Topic15\", \"Topic15\", \"Topic15\", \"Topic15\", \"Topic15\", \"Topic15\", \"Topic15\", \"Topic15\", \"Topic15\", \"Topic15\", \"Topic15\", \"Topic15\", \"Topic15\", \"Topic15\", \"Topic15\", \"Topic15\", \"Topic15\", \"Topic15\", \"Topic15\", \"Topic15\", \"Topic16\", \"Topic16\", \"Topic16\", \"Topic16\", \"Topic16\", \"Topic16\", \"Topic16\", \"Topic16\", \"Topic16\", \"Topic16\", \"Topic16\", \"Topic16\", \"Topic16\", \"Topic16\", \"Topic16\", \"Topic16\", \"Topic16\", \"Topic16\", \"Topic16\", \"Topic16\", \"Topic16\", \"Topic16\", \"Topic16\", \"Topic16\", \"Topic16\", \"Topic16\", \"Topic16\", \"Topic16\", \"Topic16\", \"Topic16\", \"Topic16\", \"Topic16\", \"Topic16\", \"Topic16\", \"Topic16\", \"Topic16\", \"Topic16\", \"Topic16\", \"Topic16\", \"Topic16\", \"Topic16\", \"Topic16\", \"Topic16\", \"Topic16\", \"Topic16\", \"Topic16\", \"Topic16\", \"Topic16\", \"Topic16\", \"Topic16\", \"Topic16\", \"Topic16\", \"Topic16\", \"Topic16\", \"Topic17\", \"Topic17\", \"Topic17\", \"Topic17\", \"Topic17\", \"Topic17\", \"Topic17\", \"Topic17\", \"Topic17\", \"Topic17\", \"Topic17\", \"Topic17\", \"Topic17\", \"Topic17\", \"Topic17\", \"Topic17\", \"Topic17\", \"Topic17\", \"Topic17\", \"Topic17\", \"Topic17\", \"Topic17\", \"Topic17\", \"Topic17\", \"Topic17\", \"Topic17\", \"Topic17\", \"Topic17\", \"Topic17\", \"Topic17\", \"Topic17\", \"Topic17\", \"Topic17\", \"Topic17\", \"Topic17\", \"Topic17\", \"Topic17\", \"Topic17\", \"Topic17\", \"Topic17\", \"Topic17\", \"Topic17\", \"Topic17\", \"Topic17\", \"Topic17\", \"Topic17\", \"Topic17\", \"Topic17\", \"Topic17\", \"Topic17\", \"Topic17\", \"Topic18\", \"Topic18\", \"Topic18\", \"Topic18\", \"Topic18\", \"Topic18\", \"Topic18\", \"Topic18\", \"Topic18\", \"Topic18\", \"Topic18\", \"Topic18\", \"Topic18\", \"Topic18\", \"Topic18\", \"Topic18\", \"Topic18\", \"Topic18\", \"Topic18\", \"Topic18\", \"Topic18\", \"Topic18\", \"Topic18\", \"Topic18\", \"Topic18\", \"Topic18\", \"Topic18\", \"Topic18\", \"Topic18\", \"Topic18\", \"Topic18\", \"Topic18\", \"Topic18\", \"Topic18\", \"Topic18\", \"Topic18\", \"Topic18\", \"Topic18\", \"Topic18\", \"Topic18\", \"Topic18\", \"Topic18\", \"Topic18\", \"Topic18\", \"Topic18\", \"Topic18\", \"Topic18\", \"Topic18\", \"Topic18\", \"Topic18\", \"Topic18\", \"Topic18\", \"Topic18\", \"Topic18\", \"Topic18\", \"Topic18\", \"Topic18\", \"Topic19\", \"Topic19\", \"Topic19\", \"Topic19\", \"Topic19\", \"Topic19\", \"Topic19\", \"Topic19\", \"Topic19\", \"Topic19\", \"Topic19\", \"Topic19\", \"Topic19\", \"Topic19\", \"Topic19\", \"Topic19\", \"Topic19\", \"Topic19\", \"Topic19\", \"Topic19\", \"Topic19\", \"Topic19\", \"Topic19\", \"Topic19\", \"Topic19\", \"Topic19\", \"Topic19\", \"Topic19\", \"Topic19\", \"Topic19\", \"Topic19\", \"Topic19\", \"Topic19\", \"Topic19\", \"Topic19\", \"Topic19\", \"Topic19\", \"Topic19\", \"Topic19\", \"Topic19\", \"Topic19\", \"Topic19\", \"Topic19\", \"Topic19\", \"Topic19\", \"Topic19\", \"Topic19\", \"Topic19\", \"Topic19\", \"Topic19\", \"Topic19\", \"Topic19\", \"Topic19\", \"Topic19\", \"Topic19\", \"Topic19\", \"Topic19\", \"Topic19\", \"Topic20\", \"Topic20\", \"Topic20\", \"Topic20\", \"Topic20\", \"Topic20\", \"Topic20\", \"Topic20\", \"Topic20\", \"Topic20\", \"Topic20\", \"Topic20\", \"Topic20\", \"Topic20\", \"Topic20\", \"Topic20\", \"Topic20\", \"Topic20\", \"Topic20\", \"Topic20\", \"Topic20\", \"Topic20\", \"Topic20\", \"Topic20\", \"Topic20\", \"Topic20\", \"Topic20\", \"Topic20\", \"Topic20\", \"Topic20\", \"Topic20\", \"Topic20\", \"Topic20\", \"Topic20\", \"Topic20\", \"Topic20\", \"Topic20\", \"Topic20\", \"Topic20\", \"Topic20\", \"Topic20\", \"Topic20\", \"Topic20\", \"Topic20\", \"Topic20\", \"Topic20\", \"Topic20\", \"Topic20\", \"Topic20\", \"Topic20\", \"Topic20\", \"Topic20\", \"Topic20\", \"Topic20\", \"Topic20\", \"Topic20\", \"Topic20\"], \"logprob\": [30.0, 29.0, 28.0, 27.0, 26.0, 25.0, 24.0, 23.0, 22.0, 21.0, 20.0, 19.0, 18.0, 17.0, 16.0, 15.0, 14.0, 13.0, 12.0, 11.0, 10.0, 9.0, 8.0, 7.0, 6.0, 5.0, 4.0, 3.0, 2.0, 1.0, -5.4188, -5.6991, -6.1603, -6.0227, -6.745, -6.2878, -6.6638, -6.651, -6.7712, -5.6986, -6.3363, -6.4495, -5.431, -6.2422, -6.5143, -6.6478, -6.9424, -6.218, -6.3082, -6.6241, -6.0677, -6.8576, -6.1437, -6.583, -6.4729, -4.9559, -6.846, -6.0838, -6.9029, -6.3535, -6.1674, -6.0779, -5.4549, -5.1181, -5.614, -5.7971, -5.8285, -5.7751, -5.7681, -5.3365, -5.4824, -5.6337, -5.5021, -5.7784, -5.4556, -5.7812, -5.834, -5.6752, -5.7023, -5.3597, -5.3984, -5.8375, -5.6804, -5.479, -5.5012, -5.6567, -5.4347, -5.4454, -5.6125, -5.7456, -5.7857, -5.4836, -5.8346, -6.4344, -6.1179, -5.5538, -5.3982, -5.6604, -6.0363, -5.2693, -6.2494, -5.863, -6.1908, -5.354, -5.9869, -5.8995, -6.3098, -5.641, -5.571, -5.8163, -5.3357, -6.0367, -5.7637, -6.2712, -5.7156, -6.371, -5.4873, -6.2389, -5.87, -5.5917, -5.7098, -5.7775, -5.0131, -5.6825, -5.5797, -4.7471, -5.185, -5.1434, -5.5658, -5.3963, -5.0466, -5.6131, -5.5058, -5.6428, -5.5972, -5.7101, -5.452, -5.6347, -5.5543, -5.6675, -5.6293, -5.4974, -5.665, -5.496, -5.8628, -4.1329, -6.0828, -5.1944, -5.9563, -5.9284, -4.8471, -5.8781, -6.0538, -6.1032, -5.886, -5.8894, -6.0374, -5.6717, -5.6354, -5.5529, -5.3202, -5.5396, -6.0602, -5.2561, -6.1896, -4.3517, -5.775, -5.9452, -6.1028, -6.4961, -6.2656, -4.3592, -5.2194, -5.5338, -5.145, -5.6653, -5.734, -4.6998, -4.9584, -5.371, -5.1319, -5.5548, -5.5701, -5.638, -5.6936, -5.7308, -5.7376, -5.4801, -5.6124, -5.6151, -5.6459, -5.6709, -4.6585, -4.3552, -5.353, -5.2593, -4.4506, -5.5088, -5.5082, -5.555, -5.1266, -5.6032, -5.0463, -4.7411, -6.0042, -5.7375, -5.5959, -5.4668, -4.5896, -5.3953, -6.0737, -5.5554, -5.5499, -5.3252, -4.8936, -5.5673, -5.7947, -6.1072, -6.084, -5.4164, -5.8263, -6.043, -4.3158, -4.8277, -4.9632, -5.6159, -5.5345, -5.3159, -4.1881, -4.9385, -5.0847, -5.2848, -5.3194, -5.2767, -5.2101, -5.4101, -5.2028, -5.1632, -5.3144, -5.3659, -5.3496, -3.2755, -3.4552, -3.6803, -3.862, -3.9905, -4.3333, -4.2911, -3.4422, -4.5879, -4.5385, -4.453, -3.5682, -4.8603, -4.7459, -5.1255, -3.936, -4.8817, -4.7199, -4.0926, -5.2803, -4.7135, -4.6447, -5.2332, -4.7167, -4.9709, -5.3577, -4.5162, -4.781, -5.6161, -4.5188, -4.0793, -3.672, -4.6492, -4.2845, -4.6962, -4.6475, -3.0272, -3.5567, -3.1306, -3.4849, -3.4115, -3.631, -2.7672, -3.9844, -3.8475, -3.9908, -3.8384, -4.0724, -4.0634, -4.2935, -4.3169, -4.521, -3.985, -4.6227, -4.0206, -4.6204, -4.5705, -4.9483, -4.6536, -4.4168, -4.6676, -3.8444, -4.8402, -4.8143, -4.9198, -4.9814, -4.5714, -4.522, -4.3546, -4.5835, -4.7428, -3.2983, -4.0059, -4.0315, -4.1003, -4.388, -3.6517, -4.3674, -3.9156, -4.7459, -3.9488, -4.8342, -4.4495, -4.7979, -4.5998, -4.8515, -4.8792, -3.5425, -4.8054, -4.9474, -4.3023, -5.1485, -4.8899, -5.2038, -4.5543, -5.2947, -5.0618, -4.6509, -5.2909, -4.8819, -4.3043, -3.5199, -4.0842, -4.6912, -4.5824, -4.5019, -4.1544, -4.3335, -4.7763, -4.819, -2.3355, -3.1806, -3.5946, -3.4825, -3.3276, -3.5085, -3.7805, -4.0342, -3.4357, -4.2717, -4.2749, -3.4404, -4.6086, -3.8563, -4.3034, -4.6416, -4.5294, -4.1688, -4.735, -4.3207, -4.7011, -4.8944, -4.8369, -5.1346, -5.1596, -4.3832, -5.004, -4.7927, -5.0583, -5.5565, -3.6211, -4.3738, -4.3235, -4.1537, -4.3623, -4.693, -4.415, -4.4802, -4.6866, -2.8276, -2.7379, -2.7172, -3.4637, -3.7762, -3.9822, -3.7672, -3.4359, -3.6923, -4.339, -3.6879, -4.6161, -4.0455, -3.5412, -2.5282, -3.6783, -4.6582, -4.6267, -4.3068, -4.6796, -4.3328, -5.1097, -4.5625, -5.3115, -4.9165, -4.6556, -4.6005, -5.0125, -4.5626, -4.3124, -4.0211, -3.8612, -4.4615, -4.2622, -4.46, -4.6103, -4.6181, -2.1401, -2.5805, -2.4291, -2.7775, -3.3842, -3.3157, -3.4124, -3.6651, -3.2688, -3.4877, -3.6596, -4.2421, -4.2513, -4.3229, -4.0574, -4.2938, -4.5766, -3.8973, -4.1513, -4.3922, -5.1297, -5.1401, -4.1962, -5.1772, -4.2574, -4.4448, -3.9901, -3.6653, -4.4919, -4.667, -4.6076, -3.9967, -4.5487, -4.1937, -4.2194, -2.7666, -2.4975, -2.3122, -2.7212, -2.8055, -3.2949, -2.8787, -2.828, -1.9424, -3.511, -4.2193, -4.232, -3.3715, -4.2405, -4.4217, -4.741, -4.5179, -4.2311, -4.5086, -4.9967, -4.0495, -5.4068, -4.5897, -4.5488, -5.7069, -5.7648, -4.9874, -5.3772, -3.8755, -5.2042, -4.9194, -5.2845, -1.5103, -1.6378, -2.3006, -2.9828, -2.6579, -3.3634, -3.652, -3.6643, -4.2487, -4.2206, -4.5304, -4.5386, -4.15, -4.3939, -4.3151, -3.9247, -4.6683, -5.4496, -4.8988, -5.0298, -4.8037, -4.3636, -4.716, -4.656, -5.4085, -4.6385, -6.3387, -5.0103, -5.4108, -5.6621, -6.1419, -2.4124, -3.1084, -2.2461, -2.3523, -3.0978, -2.6816, -3.3772, -2.6184, -4.6441, -3.8606, -3.9108, -3.8233, -3.668, -4.4573, -4.6893, -4.2729, -4.2326, -4.6419, -4.5954, -4.1758, -4.2963, -4.9642, -4.6859, -4.6327, -4.9318, -5.1271, -3.8159, -5.4902, -5.467, -4.1751, -4.5143, -4.9788, -4.5737, -2.5534, -2.2796, -2.6855, -1.9979, -3.0801, -2.6443, -3.2849, -3.0141, -3.5954, -2.8415, -3.9505, -3.5145, -4.3549, -3.3941, -4.0855, -4.8996, -3.4273, -3.9743, -3.7947, -4.6764, -4.0596, -9.2472, -5.0581, -5.0845, -9.2472, -9.2472, -9.2472, -9.2472, -9.2472, -9.2472, -9.2459, -9.2467, -9.2469, -9.247, -9.2471, -9.2471, -9.2472, -1.8771, -1.8541, -1.3585, -2.7157, -3.0487, -3.8615, -3.0924, -3.9634, -4.9726, -4.1073, -3.8964, -4.3526, -8.6232, -8.6232, -8.6232, -8.6232, -8.6232, -8.6232, -8.6232, -8.6232, -8.6232, -8.6232, -8.6232, -8.6232, -8.6232, -8.6232, -8.6232, -8.6232, -8.6232, -8.6232, -8.6226, -8.6229, -8.6229, -8.6232, -8.6232, -8.6232, -8.6232, -8.6232, -8.6232, -8.6232, -8.6232, -8.6232, -8.6232, -8.6232, -8.6232, -8.6232, -8.6232, -8.6232, -1.3056, -1.8014, -1.8428, -2.4582, -3.2129, -3.5701, -8.2818, -8.2818, -8.2818, -8.2818, -8.2818, -8.2818, -8.2818, -8.2818, -8.2818, -8.2818, -8.2818, -8.2818, -8.2818, -8.2818, -8.2818, -8.2818, -8.2818, -8.2818, -8.2818, -8.2818, -8.2818, -8.2818, -8.2818, -8.2818, -8.2816, -8.2817, -8.2817, -8.2818, -8.2818, -8.2818, -8.2818, -8.2818, -8.2818, -8.2818, -8.2818, -8.2818, -8.2818, -8.2818, -8.2818, -8.2818, -8.2818, -8.2818, -8.2818, -8.2818, -8.2818, -8.2818, -8.2818, -8.2818, -1.6097, -2.3978, -2.5313, -2.8209, -1.8577, -2.6108, -3.4635, -3.3674, -3.7296, -8.2822, -8.2822, -8.2822, -8.2822, -8.2822, -8.2822, -8.2822, -8.2822, -8.2822, -8.2822, -8.2822, -8.2822, -8.2822, -8.2822, -8.2822, -8.2822, -8.2822, -8.2822, -8.2822, -8.2822, -8.2822, -8.2818, -8.2819, -8.2822, -8.2822, -8.2822, -8.2822, -8.2822, -8.2822, -8.2822, -8.2822, -8.2822, -8.2822, -8.2822, -8.2822, -8.2822, -8.2822, -8.2822, -8.2822, -8.2822, -8.2822, -8.2822, -0.3869, -3.6373, -8.1281, -8.1281, -8.1281, -8.1281, -8.1281, -8.1281, -8.1281, -8.1281, -8.1281, -8.1281, -8.1281, -8.1281, -8.1281, -8.1281, -8.1281, -8.1281, -8.1281, -8.1281, -8.1281, -8.1281, -8.1281, -8.1281, -8.1281, -8.1281, -8.1281, -8.1281, -8.1281, -8.1281, -8.1281, -8.1281, -8.1281, -8.1281, -8.1281, -8.1281, -8.1281, -8.1281, -8.1281, -8.1281, -8.1281, -8.1281, -8.1281, -8.1281, -8.1281, -8.1281, -8.1281, -8.1281, -8.1281, -8.1281, -8.1281, -8.1281, -8.1281, -8.1281, -8.1281, -8.1281, -8.1281, -1.0183, -1.7202, -7.6828, -7.6828, -7.6828, -7.6828, -7.6828, -7.6828, -7.6828, -7.6828, -7.6828, -7.6828, -7.6828, -7.6828, -7.6828, -7.6828, -7.6828, -7.6828, -7.6828, -7.6828, -7.6828, -7.6828, -7.6828, -7.6828, -7.6828, -7.6828, -7.6828, -7.6828, -7.6828, -7.6828, -7.6827, -7.6827, -7.6827, -7.6828, -7.6828, -7.6828, -7.6828, -7.6828, -7.6828, -7.6828, -7.6828, -7.6828, -7.6828, -7.6828, -7.6828, -7.6828, -7.6828, -7.6828, -7.6828, -7.6828, -7.6828, -7.6828, -7.6828, -7.6828, -7.6828, -7.6828, -7.6828, -7.6828, -0.8384, -2.7581, -7.5906, -7.5906, -7.5906, -7.5906, -7.5906, -7.5906, -7.5906, -7.5906, -7.5906, -7.5906, -7.5906, -7.5906, -7.5906, -7.5906, -7.5906, -7.5906, -7.5906, -7.5906, -7.5906, -7.5906, -7.5906, -7.5906, -7.5906, -7.5906, -7.5906, -7.5906, -7.5906, -7.5906, -7.5905, -7.5905, -7.5905, -7.5905, -7.5906, -7.5906, -7.5906, -7.5906, -7.5906, -7.5906, -7.5906, -7.5906, -7.5906, -7.5906, -7.5906, -7.5906, -7.5906, -7.5906, -7.5906, -7.5906, -7.5906, -7.5906, -7.5906, -7.5906, -7.5906, -7.5906, -7.5906], \"loglift\": [30.0, 29.0, 28.0, 27.0, 26.0, 25.0, 24.0, 23.0, 22.0, 21.0, 20.0, 19.0, 18.0, 17.0, 16.0, 15.0, 14.0, 13.0, 12.0, 11.0, 10.0, 9.0, 8.0, 7.0, 6.0, 5.0, 4.0, 3.0, 2.0, 1.0, 1.0525, 0.9935, 0.9797, 0.9783, 0.975, 0.9374, 0.9302, 0.9212, 0.8998, 0.897, 0.893, 0.892, 0.8778, 0.8753, 0.8743, 0.8576, 0.8492, 0.8458, 0.8377, 0.8374, 0.8336, 0.8251, 0.8236, 0.8232, 0.8007, 0.7945, 0.7942, 0.7889, 0.7845, 0.7771, 0.7695, 0.7655, 0.694, 0.6148, 0.6794, 0.7005, 0.6934, 0.6806, 0.6777, 0.4961, 0.5048, 0.5569, 0.472, 0.5831, 0.4462, 0.5547, 0.5741, 0.48, 0.4286, 0.1067, 0.1132, 0.5152, 0.3036, -0.0502, -0.0384, 0.1546, -0.2298, -0.2195, 0.0036, 0.2349, -0.0326, 1.5006, 1.4842, 1.4293, 1.413, 1.3994, 1.3757, 1.3654, 1.3646, 1.315, 1.304, 1.3022, 1.2917, 1.2454, 1.2285, 1.2233, 1.2159, 1.2111, 1.2045, 1.2011, 1.1905, 1.1885, 1.1807, 1.1782, 1.1761, 1.1749, 1.1728, 1.1561, 1.1514, 1.1322, 1.1246, 1.0993, 0.9936, 1.0745, 0.9975, 0.6817, 0.8213, 0.7909, 0.9345, 0.7923, 0.4162, 0.9223, 0.7705, 0.7873, 0.5886, 0.8817, -0.2471, 0.5006, 0.0618, 0.4167, -0.1629, 1.7105, 1.6365, 1.6016, 1.5918, 1.5787, 1.5561, 1.5547, 1.5521, 1.5292, 1.5208, 1.518, 1.5104, 1.4983, 1.4946, 1.4835, 1.483, 1.4705, 1.453, 1.4421, 1.4246, 1.3749, 1.3421, 1.3408, 1.3355, 1.3265, 1.3257, 1.2929, 1.2774, 1.2691, 1.2593, 1.1717, 1.2087, 1.2177, 1.1483, 1.1735, 1.1992, 0.5051, 0.508, 0.8691, 0.4842, 0.9496, 0.9569, 0.9919, 1.0309, 1.0944, 1.0606, -0.0513, 0.5003, 0.3193, 0.485, 0.6785, 2.1063, 2.0666, 2.0291, 1.9982, 1.9125, 1.8918, 1.8758, 1.8114, 1.7959, 1.7804, 1.7505, 1.7492, 1.7339, 1.7138, 1.7128, 1.6725, 1.6682, 1.6588, 1.6171, 1.614, 1.6056, 1.5749, 1.545, 1.5165, 1.5035, 1.4911, 1.486, 1.4698, 1.4534, 1.438, 1.4373, 1.3766, 1.3568, 1.4207, 1.4071, 1.3503, 1.0379, 1.1136, 1.0793, 1.0926, 1.0814, 0.7906, 0.5228, 1.1384, 0.2636, 0.0416, 0.5874, 0.7871, 0.6344, 3.3895, 3.2904, 3.1452, 3.0809, 3.0156, 2.9466, 2.8259, 2.7979, 2.7447, 2.7065, 2.5768, 2.5422, 2.4717, 2.3879, 2.3411, 2.3317, 2.2451, 2.1979, 2.1845, 2.1744, 2.1658, 2.159, 2.1049, 2.08, 2.0625, 2.0514, 2.0393, 2.0134, 1.9962, 1.9962, 1.9452, 1.5329, 1.7516, 1.4381, 1.5724, 0.9686, 3.6918, 3.6495, 3.6044, 3.5483, 3.4735, 3.4188, 3.3301, 3.306, 3.2872, 3.1837, 3.0798, 3.0503, 2.9732, 2.9544, 2.8263, 2.8171, 2.795, 2.7399, 2.7297, 2.696, 2.5694, 2.5612, 2.5421, 2.5202, 2.3154, 2.3086, 2.2919, 2.1998, 2.1719, 2.1579, 2.1018, 2.0392, 1.8118, 1.5934, 1.8907, 3.9148, 3.1246, 3.077, 2.9838, 2.9485, 2.8244, 2.7472, 2.6711, 2.6147, 2.6123, 2.5961, 2.5389, 2.4977, 2.4843, 2.4739, 2.4422, 2.4415, 2.4184, 2.4016, 2.3698, 2.3555, 2.3237, 2.2785, 2.2582, 2.2399, 2.2182, 2.1978, 2.1938, 2.1891, 2.1415, 2.0359, 1.9698, 2.1008, 2.0499, 1.8617, 1.3085, 1.4456, 1.6989, 1.5081, 3.8264, 3.798, 3.5555, 3.4507, 3.401, 3.3964, 3.3287, 3.1454, 3.1401, 3.1311, 2.993, 2.9211, 2.7954, 2.7772, 2.5894, 2.5609, 2.5292, 2.529, 2.4781, 2.4537, 2.4269, 2.4101, 2.4093, 2.309, 2.3039, 2.2868, 2.1866, 2.1836, 2.1655, 2.1414, 2.132, 2.1166, 2.0889, 2.0014, 1.9465, 2.0435, 1.569, 1.516, 1.8451, 4.2756, 3.63, 3.5499, 3.3656, 3.2957, 3.182, 3.166, 3.1656, 3.0875, 3.0314, 2.9306, 2.8845, 2.874, 2.7171, 2.6978, 2.6215, 2.549, 2.5426, 2.496, 2.4603, 2.4334, 2.4249, 2.411, 2.4005, 2.3831, 2.3539, 2.3221, 2.2967, 2.2942, 2.2546, 2.1832, 2.118, 2.087, 1.9148, 1.7306, 2.0945, 1.7019, 4.2217, 4.1193, 3.9309, 3.9176, 3.8629, 3.605, 3.576, 3.4321, 3.1321, 3.1138, 2.889, 2.8759, 2.8671, 2.8251, 2.7569, 2.6825, 2.6733, 2.5778, 2.5311, 2.4118, 2.3709, 2.3504, 2.28, 2.2064, 2.1707, 2.152, 2.0619, 2.0463, 1.9817, 1.9814, 1.9542, 1.5341, 1.8192, 1.3179, 1.2434, 4.3848, 4.2989, 4.1413, 4.0913, 3.8834, 3.7532, 3.7221, 3.6307, 3.6134, 3.5976, 3.2508, 3.1018, 3.0573, 2.9679, 2.8937, 2.313, 2.2441, 2.2268, 2.1325, 2.1262, 2.0858, 1.7953, 1.7597, 1.759, 1.7077, 1.6798, 1.6766, 1.6199, 1.5873, 1.4919, 1.2254, 0.9926, 4.4518, 4.3584, 3.9394, 3.7757, 3.7712, 3.5883, 3.4288, 3.3466, 3.0558, 3.032, 2.9767, 2.6103, 2.5324, 2.5, 2.4214, 2.2242, 2.0917, 1.9638, 1.7924, 1.7675, 1.7233, 1.6904, 1.6849, 1.2459, 1.0039, 0.8731, 0.8643, 0.7226, 0.7019, 0.6143, 0.5793, 4.1106, 4.093, 4.0788, 3.9364, 3.8827, 3.8683, 3.8391, 3.193, 2.96, 2.9362, 2.8859, 2.8728, 2.7296, 2.5205, 2.4843, 2.3682, 2.3312, 2.2807, 2.2753, 2.2628, 2.2299, 2.215, 2.0084, 1.9694, 1.9566, 1.9486, 1.6469, 1.6371, 1.626, 1.5578, 1.4729, 1.2763, 0.9821, 4.0318, 3.9319, 3.7896, 3.7811, 3.6111, 3.6107, 3.6098, 3.3548, 3.2639, 3.2206, 3.1117, 2.99, 2.9819, 2.9509, 2.8689, 2.5819, 2.4053, 2.1952, 2.1396, 2.1305, 1.9276, 0.4484, 0.1679, 0.1204, -1.0086, -1.3524, -1.3834, -1.4177, -1.4265, -1.4404, -2.7308, -2.37, -1.9104, -2.2641, -2.6456, -1.6771, -1.9476, 4.5777, 4.3154, 4.2445, 3.7531, 3.6299, 3.1918, 3.1762, 2.8551, 2.5082, 2.2607, 2.1708, 1.6541, 1.0725, -0.3846, -0.7283, -0.7594, -0.7937, -0.8025, -0.8163, -0.8316, -0.8492, -0.858, -0.8603, -0.8612, -0.8717, -0.885, -0.8982, -0.9032, -0.9049, -0.9112, -1.4154, -1.7449, -1.4837, -1.2866, -1.2811, -2.4439, -1.8865, -2.0015, -1.584, -0.9761, -2.6269, -2.4568, -2.6611, -1.0859, -2.1552, -1.1738, -2.2959, -1.9233, 4.563, 4.3779, 4.1817, 4.0097, 3.4087, 3.3392, 1.4139, -0.0432, -0.3869, -0.418, -0.4523, -0.4611, -0.4749, -0.4902, -0.5078, -0.5166, -0.5189, -0.5198, -0.5303, -0.5436, -0.5568, -0.5618, -0.5634, -0.5697, -0.5838, -0.591, -0.5944, -0.5966, -0.5991, -0.5992, -0.7443, -0.8764, -2.1153, -1.1786, -0.9654, -1.1498, -3.0769, -0.9452, -0.7721, -1.2485, -1.3453, -0.954, -0.7917, -1.0289, -1.5604, -2.0006, -0.9959, -0.9043, -1.072, -3.0558, -1.759, -1.1425, -1.4675, -0.8251, 4.7393, 4.0102, 4.0004, 3.9379, 3.865, 3.7509, 3.6486, 3.63, 3.2666, 1.4134, -0.0437, -0.3874, -0.4184, -0.4528, -0.4615, -0.4754, -0.4906, -0.5082, -0.517, -0.5194, -0.5202, -0.5308, -0.5441, -0.5572, -0.5623, -0.5639, -0.5702, -0.5843, -0.5915, -0.5948, -1.6823, -1.1426, -1.5174, -1.1309, -0.9402, -0.9457, -1.5079, -1.1905, -1.117, -1.1192, -0.7369, -1.1676, -1.173, -1.4567, -1.6173, -1.1151, -1.5672, -1.5067, -1.5456, -0.9407, -1.3394, 4.8913, 2.5396, 1.5675, 0.1104, -0.2333, -0.2644, -0.2987, -0.3074, -0.3213, -0.3366, -0.3542, -0.3629, -0.3653, -0.3662, -0.3767, -0.39, -0.4032, -0.4082, -0.4098, -0.4161, -0.4302, -0.4374, -0.4408, -0.443, -0.4455, -0.4456, -0.4553, -0.4571, -0.4571, -0.4586, -1.4882, -1.9928, -0.7078, -1.8349, -0.8237, -1.3694, -0.605, -1.0947, -0.7717, -0.6382, -0.744, -1.0189, -0.7147, -2.0742, -1.1083, -0.7661, -0.9881, -0.8325, -0.7447, -1.2364, -1.653, -1.3526, -0.6227, -1.1765, -0.5499, -0.9976, -1.7201, 4.6427, 3.7914, 2.0129, 0.5558, 0.2121, 0.181, 0.1467, 0.1379, 0.1241, 0.1088, 0.0912, 0.0824, 0.0801, 0.0792, 0.0687, 0.0554, 0.0422, 0.0372, 0.0355, 0.0292, 0.0151, 0.008, 0.0046, 0.0024, -0.0001, -0.0002, -0.0099, -0.0117, -0.0118, -0.0132, -1.0812, -0.8357, -0.8883, -0.1822, -0.3014, -0.2695, -0.1927, -0.5736, -0.2721, -0.4557, -0.149, -0.7325, -2.0667, -0.9629, -0.79, -0.4092, -0.6649, -0.8498, -0.2975, -0.5083, -0.9557, -0.1597, -1.9991, -0.3845, -1.4713, -0.4329, -0.3365, -0.0787, 4.8453, 3.7955, 2.1051, 0.648, 0.3043, 0.2732, 0.2389, 0.2301, 0.2163, 0.201, 0.1834, 0.1746, 0.1723, 0.1714, 0.1609, 0.1476, 0.1344, 0.1294, 0.1277, 0.1214, 0.1073, 0.1002, 0.0968, 0.0946, 0.0921, 0.092, 0.0823, 0.0805, 0.0804, 0.079, -0.989, -0.3653, -0.1713, -0.4513, -0.3826, -0.254, -0.3775, -1.1226, -0.5065, -0.2586, -0.4988, -0.3612, -0.1604, -0.388, -0.2099, -1.9745, -0.1704, -0.9017, -0.4545, -1.2971, -0.1091, -0.649, -0.1844, -0.2101, -0.9519, -1.8789, -0.4813]}, \"token.table\": {\"Topic\": [1, 2, 3, 4, 17, 20, 1, 2, 3, 4, 13, 20, 1, 2, 3, 4, 8, 9, 20, 1, 2, 3, 4, 5, 6, 12, 20, 1, 2, 3, 6, 9, 20, 1, 2, 3, 4, 6, 13, 20, 1, 2, 3, 20, 1, 2, 3, 4, 6, 20, 1, 2, 3, 4, 20, 1, 2, 3, 4, 6, 7, 14, 20, 1, 2, 4, 6, 9, 10, 20, 1, 2, 3, 6, 8, 20, 1, 2, 3, 4, 5, 6, 20, 1, 2, 3, 4, 5, 15, 20, 1, 2, 3, 4, 6, 7, 10, 20, 1, 2, 20, 1, 2, 3, 4, 20, 1, 2, 3, 4, 6, 20, 1, 2, 3, 6, 20, 1, 2, 3, 4, 5, 6, 8, 20, 1, 2, 3, 20, 1, 2, 3, 4, 8, 20, 1, 2, 6, 20, 1, 2, 3, 4, 5, 6, 7, 20, 1, 2, 3, 4, 20, 1, 2, 3, 4, 10, 20, 1, 2, 3, 4, 20, 1, 2, 3, 4, 5, 20, 1, 2, 3, 4, 8, 15, 20, 1, 2, 3, 4, 5, 20, 1, 2, 20, 1, 2, 3, 4, 5, 20, 1, 2, 3, 4, 5, 8, 17, 20, 1, 2, 3, 4, 5, 20, 1, 2, 3, 20, 1, 2, 3, 4, 7, 20, 1, 2, 3, 20, 1, 2, 3, 4, 7, 11, 20, 1, 2, 3, 4, 6, 7, 11, 13, 20, 1, 2, 3, 4, 20, 1, 2, 3, 6, 7, 20, 1, 2, 3, 4, 6, 7, 20, 1, 2, 3, 4, 5, 8, 9, 20, 1, 2, 3, 4, 9, 20, 1, 2, 3, 5, 13, 20, 1, 2, 3, 20, 1, 2, 3, 4, 7, 20, 1, 2, 3, 4, 20, 1, 2, 3, 4, 7, 10, 20, 1, 2, 3, 4, 7, 10, 20, 1, 3, 4, 9, 10, 20, 1, 2, 3, 4, 14, 20, 1, 2, 3, 4, 20, 1, 2, 4, 20, 1, 2, 3, 4, 5, 6, 16, 20, 1, 2, 3, 4, 5, 8, 10, 20, 1, 2, 3, 4, 5, 7, 11, 20, 1, 2, 3, 7, 20, 1, 2, 3, 4, 5, 20, 1, 2, 3, 5, 20, 1, 2, 3, 4, 7, 20, 1, 2, 3, 4, 20, 1, 2, 3, 6, 20, 1, 2, 3, 4, 8, 20, 1, 2, 3, 4, 5, 12, 20, 1, 2, 3, 4, 6, 20, 1, 2, 3, 20, 1, 2, 3, 4, 5, 9, 20, 1, 2, 3, 20, 1, 2, 3, 4, 7, 8, 20, 1, 2, 3, 6, 10, 20, 1, 2, 3, 6, 7, 8, 20, 1, 2, 3, 4, 7, 12, 20, 1, 2, 3, 4, 14, 20, 1, 2, 3, 5, 20, 1, 2, 3, 20, 1, 2, 3, 4, 9, 11, 20, 1, 2, 3, 4, 5, 20, 1, 2, 3, 4, 5, 7, 11, 20, 1, 2, 3, 4, 7, 11, 20, 1, 2, 3, 4, 5, 20, 1, 2, 3, 4, 7, 11, 20, 1, 2, 3, 4, 5, 6, 20, 1, 2, 3, 4, 5, 11, 20, 1, 2, 3, 4, 5, 20, 1, 2, 3, 4, 6, 8, 9, 15, 20, 1, 2, 3, 20, 1, 2, 3, 4, 20, 1, 2, 3, 4, 6, 9, 13, 20, 1, 2, 3, 4, 9, 13, 20, 1, 2, 3, 4, 5, 15, 20, 1, 2, 3, 4, 13, 20, 1, 2, 3, 4, 5, 12, 20, 1, 2, 4, 8, 20, 1, 2, 4, 6, 8, 9, 20, 1, 2, 3, 6, 20, 1, 2, 5, 20, 1, 2, 3, 20, 1, 2, 3, 4, 5, 6, 7, 12, 14, 20, 1, 2, 3, 4, 5, 14, 20, 1, 2, 3, 4, 5, 20, 1, 2, 3, 4, 6, 20, 1, 2, 3, 4, 9, 16, 20, 1, 2, 3, 4, 6, 20, 1, 2, 3, 4, 7, 8, 20, 1, 2, 3, 4, 6, 7, 20, 1, 2, 3, 4, 8, 9, 20, 1, 2, 4, 6, 7, 9, 20, 1, 2, 3, 20, 1, 2, 3, 4, 6, 8, 9, 20, 1, 2, 3, 4, 8, 20, 1, 2, 3, 5, 6, 20, 1, 2, 3, 4, 5, 7, 13, 14, 20, 1, 2, 3, 4, 10, 20, 1, 2, 3, 4, 6, 7, 20, 1, 2, 3, 4, 20, 1, 2, 3, 4, 14, 20, 1, 2, 3, 4, 6, 7, 8, 20, 1, 2, 3, 4, 6, 7, 8, 20, 1, 2, 3, 6, 8, 11, 20, 1, 2, 3, 5, 6, 8, 9, 14, 20, 1, 2, 3, 4, 7, 10, 14, 20, 1, 2, 3, 4, 17, 20, 1, 2, 3, 4, 13, 20, 1, 2, 3, 4, 5, 19, 20, 1, 2, 3, 4, 20, 1, 2, 3, 4, 5, 20, 1, 2, 3, 5, 20, 18, 20, 1, 2, 5, 20, 1, 2, 3, 6, 12, 20, 1, 2, 3, 20, 1, 2, 3, 4, 5, 7, 20, 1, 2, 3, 4, 6, 14, 15, 20, 1, 2, 3, 4, 20, 1, 2, 3, 4, 5, 11, 13, 20, 1, 2, 3, 4, 13, 20, 1, 2, 3, 4, 9, 20, 1, 2, 3, 4, 9, 20, 1, 2, 3, 20, 1, 2, 3, 4, 9, 20, 1, 2, 3, 7, 20, 1, 2, 3, 4, 7, 20, 1, 2, 3, 20, 1, 2, 3, 4, 13, 20, 1, 2, 3, 4, 7, 9, 20, 1, 2, 3, 4, 5, 20, 1, 2, 3, 4, 20, 1, 2, 3, 5, 20, 1, 2, 3, 4, 20, 1, 2, 3, 4, 14, 20, 1, 2, 3, 20, 1, 2, 3, 4, 20, 1, 2, 3, 4, 6, 15, 20, 1, 2, 3, 4, 5, 8, 20, 1, 2, 3, 4, 9, 20, 1, 2, 3, 20, 1, 2, 3, 4, 7, 20, 1, 2, 3, 4, 8, 20, 1, 2, 3, 4, 12, 20, 1, 2, 3, 20, 1, 2, 3, 4, 20, 1, 2, 3, 4, 8, 20, 1, 2, 8, 10, 20, 1, 3, 4, 20, 1, 2, 3, 4, 9, 20, 1, 2, 3, 4, 20, 1, 2, 3, 4, 20, 1, 2, 3, 4, 5, 20, 1, 2, 3, 5, 8, 17, 20, 1, 2, 20, 1, 2, 3, 4, 20, 1, 2, 3, 4, 6, 9, 16, 20, 1, 2, 3, 4, 6, 7, 20, 1, 2, 3, 4, 6, 20, 1, 2, 3, 4, 20, 1, 2, 3, 6, 7, 9, 20, 1, 2, 3, 20, 1, 2, 3, 4, 20, 1, 2, 3, 4, 20, 1, 2, 3, 4, 6, 20, 1, 2, 3, 6, 8, 9, 12, 20, 1, 2, 3, 4, 6, 8, 11, 20, 1, 2, 3, 6, 20, 1, 2, 3, 4, 13, 20, 1, 2, 3, 4, 13, 20, 1, 2, 3, 4, 8, 14, 20, 1, 2, 3, 4, 20, 1, 2, 3, 4, 7, 10, 12, 13, 20, 1, 2, 3, 4, 7, 8, 10, 20, 1, 2, 3, 4, 7, 13, 20, 1, 2, 3, 5, 20, 1, 2, 3, 4, 6, 20, 1, 2, 3, 4, 6, 7, 20, 1, 2, 4, 7, 11, 20, 1, 2, 3, 7, 11, 20, 1, 2, 3, 6, 20, 1, 2, 3, 4, 20, 1, 2, 3, 4, 12, 20, 1, 2, 3, 4, 5, 20, 1, 2, 3, 4, 5, 20, 1, 2, 3, 4, 5, 6, 9, 18, 20, 1, 2, 3, 4, 20, 1, 2, 3, 20, 1, 2, 3, 4, 7, 20, 1, 2, 3, 4, 5, 12, 20, 1, 2, 3, 4, 5, 9, 20, 1, 2, 3, 4, 5, 6, 9, 20, 1, 2, 3, 4, 5, 6, 20, 1, 2, 3, 20, 1, 2, 3, 4, 20, 1, 2, 3, 4, 5, 6, 7, 11, 20, 1, 2, 3, 5, 8, 20, 1, 3, 4, 6, 20, 1, 2, 3, 4, 7, 20, 1, 2, 3, 4, 20, 1, 2, 3, 4, 5, 20, 1, 2, 3, 4, 5, 20, 1, 2, 3, 17, 20, 1, 2, 3, 4, 20, 1, 2, 3, 20, 1, 2, 3, 4, 9, 20, 1, 3, 4, 9, 20, 1, 2, 3, 4, 9, 20, 1, 2, 3, 4, 9, 20, 1, 2, 3, 4, 20, 1, 2, 3, 4, 9, 15, 20, 1, 2, 3, 4, 5, 9, 20, 1, 2, 3, 4, 9, 20, 1, 2, 3, 4, 5, 20, 1, 2, 3, 4, 7, 20, 1, 2, 3, 5, 6, 20, 1, 2, 3, 4, 20, 1, 2, 3, 4, 10, 20, 1, 2, 3, 5, 20, 1, 2, 3, 4, 10, 20, 1, 2, 3, 4, 20, 1, 2, 3, 4, 6, 13, 20, 1, 2, 3, 4, 7, 12, 20, 1, 2, 3, 4, 20, 1, 2, 3, 4, 6, 20, 1, 2, 3, 4, 10, 20, 1, 2, 3, 4, 5, 20, 1, 2, 3, 4, 5, 8, 9, 20, 1, 2, 3, 4, 6, 20, 1, 2, 3, 4, 10, 20, 1, 2, 3, 4, 10, 20, 1, 2, 3, 6, 20, 1, 2, 3, 4, 20, 1, 2, 3, 20, 1, 2, 3, 4, 20, 1, 2, 3, 4, 5, 20, 1, 2, 3, 4, 13, 20, 1, 2, 3, 4, 5, 8, 20, 1, 2, 3, 11, 20, 1, 2, 3, 5, 20, 1, 2, 3, 20, 1, 2, 3, 4, 8, 20, 1, 2, 3, 6, 10, 20, 1, 2, 3, 4, 10, 20, 1, 2, 3, 4, 20, 1, 2, 3, 20, 1, 2, 3, 4, 8, 10, 20, 1, 2, 3, 4, 9, 13, 20, 1, 2, 3, 4, 7, 20, 1, 2, 3, 4, 20, 1, 2, 3, 4, 6, 7, 8, 20, 1, 3, 4, 20, 1, 2, 3, 4, 7, 12, 20, 1, 2, 3, 6, 9, 12, 20, 1, 2, 3, 20, 1, 2, 3, 4, 9, 10, 20, 1, 2, 3, 6, 10, 20, 1, 2, 3, 20, 1, 2, 3, 4, 20, 1, 2, 3, 20, 1, 2, 3, 4, 20, 1, 2, 3, 20, 1, 2, 3, 4, 20, 1, 2, 3, 4, 9, 20, 1, 2, 3, 4, 5, 8, 20, 1, 2, 3, 4, 20, 1, 2, 3, 4, 8, 20, 1, 2, 3, 4, 8, 9, 20, 1, 2, 3, 4, 9, 20, 1, 2, 3, 4, 7, 11, 20, 1, 2, 3, 4, 7, 20, 1, 2, 3, 20, 1, 2, 3, 5, 20, 1, 2, 3, 4, 5, 13, 20, 1, 2, 3, 4, 5, 10, 20, 1, 2, 3, 20, 1, 2, 3, 4, 5, 20, 1, 2, 3, 5, 20, 1, 2, 3, 20, 1, 2, 3, 14, 20, 1, 2, 3, 4, 13, 20, 1, 2, 3, 4, 13, 20, 1, 2, 3, 4, 9, 20, 1, 2, 4, 7, 20, 1, 2, 3, 4, 20, 1, 2, 3, 4, 20, 1, 2, 3, 4, 20, 1, 2, 3, 4, 5, 8, 9, 12, 20, 1, 2, 3, 4, 5, 8, 12, 20, 1, 2, 3, 4, 5, 8, 12, 20, 1, 2, 3, 20, 1, 2, 3, 4, 5, 20, 1, 2, 3, 4, 20, 1, 2, 3, 4, 5, 11, 20, 1, 2, 3, 4, 5, 8, 20, 1, 2, 3, 4, 7, 8, 20, 1, 2, 3, 20, 1, 2, 3, 20, 3, 20, 1, 2, 3, 4, 6, 20, 1, 2, 3, 20, 1, 2, 3, 11, 20, 1, 2, 3, 4, 6, 11, 20, 1, 2, 3, 4, 5, 7, 8, 20, 1, 2, 3, 4, 5, 8, 9, 20, 1, 2, 3, 4, 8, 9, 20, 1, 2, 3, 4, 14, 20, 1, 2, 3, 4, 5, 15, 20, 1, 2, 3, 4, 20, 1, 2, 3, 20, 1, 2, 3, 4, 6, 9, 10, 13, 14, 20, 1, 2, 3, 4, 11, 20, 1, 2, 3, 20, 1, 2, 3, 4, 6, 10, 20, 1, 2, 3, 4, 5, 20, 1, 2, 4, 8, 20, 1, 2, 3, 4, 8, 20, 1, 2, 3, 4, 8, 20, 1, 2, 3, 4, 5, 7, 20, 1, 2, 3, 11, 20, 1, 2, 3, 4, 20, 1, 2, 3, 4, 13, 20, 1, 2, 3, 4, 5, 6, 7, 11, 20, 1, 2, 3, 4, 5, 6, 8, 20, 1, 2, 3, 20, 1, 2, 3, 20, 1, 2, 3, 20, 1, 2, 3, 20, 1, 2, 3, 4, 5, 13, 20, 1, 2, 3, 6, 20, 1, 2, 3, 4, 6, 7, 20, 1, 2, 3, 4, 7, 10, 20, 1, 2, 3, 4, 8, 20, 1, 2, 3, 4, 8, 9, 20, 1, 2, 3, 8, 20, 1, 2, 3, 7, 20, 1, 2, 3, 4, 6, 7, 20, 1, 2, 3, 4, 5, 20, 1, 2, 3, 4, 8, 12, 20, 1, 2, 3, 4, 6, 12, 20, 1, 2, 3, 4, 10, 12, 20, 1, 2, 3, 4, 5, 13, 20, 1, 2, 3, 14, 20, 1, 2, 3, 4, 7, 20, 1, 2, 3, 4, 8, 20, 1, 2, 3, 4, 8, 20, 1, 2, 3, 4, 5, 7, 20, 1, 2, 3, 4, 5, 7, 20, 1, 2, 3, 4, 9, 20, 1, 2, 3, 4, 9, 20, 1, 2, 3, 4, 20, 1, 2, 3, 4, 7, 20, 1, 2, 11, 20, 1, 2, 3, 20, 1, 2, 3, 20, 1, 2, 3, 4, 8, 10, 20, 1, 2, 3, 4, 20, 1, 2, 3, 4, 5, 6, 12, 20, 1, 2, 3, 4, 5, 6, 8, 20, 1, 2, 3, 4, 13, 20, 1, 2, 3, 4, 6, 14, 20, 1, 2, 3, 5, 20, 1, 2, 3, 5, 20, 1, 2, 3, 4, 9, 10, 20, 1, 2, 3, 20, 1, 3, 4, 9, 10, 20, 1, 2, 3, 4, 7, 20, 1, 2, 3, 4, 20, 1, 2, 3, 4, 20, 1, 2, 3, 4, 7, 10, 11, 13, 20, 1, 2, 3, 4, 11, 13, 20, 1, 2, 3, 4, 5, 16, 20, 1, 2, 3, 4, 7, 9, 10, 20, 1, 2, 3, 4, 10, 20, 1, 2, 3, 4, 6, 20, 1, 2, 3, 6, 7, 12, 14, 20, 1, 2, 6, 7, 20, 1, 2, 3, 4, 8, 12, 20, 1, 2, 3, 4, 5, 8, 20, 1, 2, 3, 4, 7, 20, 1, 2, 3, 4, 7, 11, 13, 20, 1, 2, 3, 20, 1, 2, 3, 4, 9, 20, 1, 2, 3, 4, 20, 1, 2, 3, 5, 20, 1, 2, 3, 7, 20, 1, 2, 3, 4, 6, 7, 8, 20, 1, 2, 3, 4, 6, 8, 20, 1, 2, 3, 4, 7, 8, 20, 1, 2, 3, 20, 1, 2, 3, 20, 1, 2, 3, 4, 5, 9, 20, 1, 2, 3, 7, 11, 20, 1, 2, 3, 4, 5, 20, 1, 2, 3, 4, 5, 7, 20, 1, 2, 3, 4, 20, 1, 2, 3, 4, 6, 7, 20, 1, 2, 3, 4, 7, 8, 20, 1, 2, 3, 4, 6, 7, 8, 10, 20, 1, 2, 3, 4, 20, 1, 2, 3, 4, 20, 1, 2, 3, 4, 20, 1, 2, 3, 20, 1, 2, 3, 4, 20, 1, 2, 3, 4, 17, 20, 1, 2, 3, 6, 7, 10, 20, 1, 2, 3, 4, 5, 6, 12, 20, 1, 2, 3, 4, 10, 12, 19, 20, 1, 2, 3, 4, 12, 20, 1, 2, 3, 7, 11, 20, 1, 2, 3, 4, 5, 11, 20, 1, 2, 3, 20, 1, 2, 3, 4, 6, 15, 20, 1, 2, 3, 4, 5, 13, 20, 1, 2, 3, 4, 5, 10, 13, 20, 1, 2, 3, 4, 8, 20, 1, 2, 3, 4, 12, 20, 1, 2, 3, 4, 5, 13, 20, 1, 2, 3, 4, 5, 20, 1, 2, 3, 4, 6, 7, 20, 1, 2, 3, 4, 6, 7, 20, 1, 2, 3, 4, 10, 20, 1, 2, 3, 4, 6, 20, 1, 2, 3, 4, 20, 1, 2, 3, 4, 8, 9, 17, 20, 1, 2, 3, 4, 12, 20, 1, 2, 3, 16, 20, 1, 3, 4, 10, 20, 1, 2, 3, 4, 20, 1, 2, 3, 4, 7, 20, 1, 2, 3, 4, 6, 14, 20, 1, 2, 3, 4, 17, 20, 1, 2, 3, 4, 11, 20, 1, 2, 3, 4, 5, 7, 9, 20, 1, 2, 3, 15, 20, 1, 2, 3, 4, 7, 9, 20, 1, 2, 3, 4, 9, 20, 1, 2, 3, 20, 1, 2, 3, 4, 6, 20, 1, 2, 3, 4, 6, 15, 20, 1, 2, 3, 20, 1, 2, 3, 7, 9, 11, 13, 20, 1, 2, 3, 4, 5, 20, 1, 2, 3, 5, 20, 1, 2, 3, 4, 11, 20, 1, 2, 3, 20, 1, 2, 3, 4, 9, 12, 20, 1, 2, 3, 4, 5, 7, 10, 20, 1, 3, 4, 8, 9, 13, 20, 1, 2, 3, 5, 20, 1, 2, 3, 4, 5, 6, 7, 20, 1, 2, 3, 4, 5, 9, 20, 1, 2, 3, 4, 8, 14, 20, 1, 2, 3, 4, 8, 11, 13, 14, 20, 1, 2, 3, 4, 7, 12, 20, 1, 2, 3, 4, 7, 8, 20, 1, 2, 3, 4, 6, 20, 1, 2, 3, 4, 7, 8, 12, 20, 1, 2, 3, 6, 20, 1, 2, 3, 4, 20, 1, 2, 3, 20, 1, 2, 3, 20, 1, 2, 3, 4, 20, 1, 2, 3, 6, 9, 20, 1, 2, 3, 4, 5, 7, 20, 1, 2, 3, 4, 6, 20, 1, 2, 3, 4, 6, 7, 9, 20, 1, 2, 6, 9, 20, 1, 2, 3, 4, 13, 20, 1, 2, 3, 4, 20, 1, 2, 3, 20, 1, 2, 3, 4, 20, 1, 2, 3, 4, 5, 20, 1, 2, 3, 4, 8, 20, 1, 2, 3, 6, 20, 1, 2, 3, 9, 20, 1, 2, 3, 4, 10, 12, 20, 1, 2, 3, 4, 5, 8, 20, 1, 2, 3, 4, 10, 20, 1, 2, 3, 4, 8, 14, 20, 1, 2, 3, 4, 5, 7, 8, 20, 1, 2, 3, 6, 20, 1, 2, 3, 4, 7, 20, 1, 2, 3, 4, 7, 20, 1, 2, 3, 4, 5, 20, 1, 2, 3, 6, 20, 1, 2, 3, 4, 20, 1, 2, 3, 4, 13, 20, 1, 2, 3, 4, 13, 20, 1, 2, 3, 4, 5, 13, 20, 1, 2, 3, 5, 6, 14, 20, 1, 2, 3, 20, 1, 2, 3, 4, 6, 20, 1, 2, 3, 7, 11, 20, 1, 2, 3, 20, 1, 3, 4, 10, 20, 1, 4, 9, 13, 20, 1, 2, 3, 4, 20, 1, 2, 3, 4, 6, 20, 1, 2, 3, 6, 7, 9, 20, 1, 2, 3, 4, 6, 9, 15, 20, 1, 2, 3, 4, 5, 6, 20, 1, 2, 3, 4, 7, 20, 1, 2, 3, 4, 20, 1, 2, 3, 8, 12, 20, 1, 2, 3, 4, 8, 20, 1, 2, 3, 20, 1, 2, 3, 4, 7, 9, 20, 1, 2, 3, 4, 20, 1, 2, 3, 6, 8, 20, 1, 2, 3, 4, 6, 8, 20, 1, 2, 3, 4, 5, 16, 20, 1, 2, 3, 4, 8, 9, 20, 1, 2, 3, 4, 8, 20, 1, 2, 3, 4, 6, 20, 1, 2, 3, 8, 20, 1, 2, 3, 20, 1, 2, 3, 4, 7, 20, 1, 2, 3, 5, 20, 1, 2, 3, 4, 17, 20, 11, 20, 1, 2, 3, 4, 8, 20, 1, 2, 3, 4, 5, 20, 1, 2, 3, 4, 5, 6, 20], \"Freq\": [0.41591299288276945, 0.11009461576308603, 0.08562914559351135, 0.053008518700745126, 0.3262062689276623, 0.004077578361595779, 0.41485077615015664, 0.31632371681449445, 0.08297015523003133, 0.10371269403753916, 0.06741325112440046, 0.005185634701876958, 0.3273316758657152, 0.05455527931095254, 0.07793611330136077, 0.38188695517666776, 0.007793611330136077, 0.1324913926123133, 0.007793611330136077, 0.2975517328851118, 0.1335946555810706, 0.2671893111621412, 0.15181210861485295, 0.03643490606756471, 0.006072484344594118, 0.08501478082431765, 0.006072484344594118, 0.35345441584928944, 0.036564249915443735, 0.42658291568017687, 0.036564249915443735, 0.1218808330514791, 0.012188083305147911, 0.19710655503172833, 0.09855327751586417, 0.12508685223167373, 0.053067149431619165, 0.030324085389496665, 0.48518536623194664, 0.003790510673687083, 0.36995374710220535, 0.0968926480505776, 0.5108885079030455, 0.008808422550052509, 0.5875672568859066, 0.04700538055087253, 0.07050807082630879, 0.1175134513771813, 0.14101614165261758, 0.011751345137718132, 0.5861032857528183, 0.05671967281478887, 0.21742541245669067, 0.11343934562957773, 0.00945327880246481, 0.24591863965142863, 0.16849980865005293, 0.03643239105947091, 0.013662146647301589, 0.04781751326555556, 0.06831073323650795, 0.41214142386026464, 0.002277024441216932, 0.3374011747427486, 0.01775795656540782, 0.20421650050218992, 0.23973241363300557, 0.15094263080596648, 0.03551591313081564, 0.00887897828270391, 0.26489541430244484, 0.3326593574960935, 0.13552788638729735, 0.09240537708224819, 0.16016932027589686, 0.00616035847214988, 0.1732075770452528, 0.0974292620879547, 0.0324764206959849, 0.108254735653283, 0.2598113655678792, 0.3031132598291924, 0.0108254735653283, 0.32319295483929117, 0.0742972309975382, 0.2266065545424915, 0.01857430774938455, 0.1485944619950764, 0.19688766214347625, 0.0037148615498769104, 0.21946371244334584, 0.06401024946264254, 0.045721606759030385, 0.23318019447105495, 0.03200512473132127, 0.26975747987827925, 0.12344833824938203, 0.004572160675903038, 0.5718437356583185, 0.1143687471316637, 0.1143687471316637, 0.056566459183113114, 0.03393987550986787, 0.022626583673245246, 0.8484968877466967, 0.011313291836622623, 0.6885029644304985, 0.10871099438376293, 0.15944279176285228, 0.007247399625584195, 0.007247399625584195, 0.007247399625584195, 0.6496766841494922, 0.0749626943249414, 0.19990051819984375, 0.0374813471624707, 0.012493782387490234, 0.2969395145715402, 0.10021708616789483, 0.1261992936929046, 0.10021708616789483, 0.31920997816440577, 0.014846975728577011, 0.029693951457154023, 0.003711743932144253, 0.12446985948405324, 0.689371529450141, 0.15319367321114244, 0.009574604575696402, 0.4046918290930477, 0.13875148426047348, 0.1271888605721007, 0.05781311844186395, 0.2312524737674558, 0.01156262368837279, 0.5628553943622158, 0.3807551197156165, 0.01655457042241811, 0.01655457042241811, 0.3047720045097451, 0.3994117322259292, 0.16682257088954472, 0.08982753817129331, 0.022456884542823328, 0.0016040631816302375, 0.011228442271411664, 0.0016040631816302375, 0.1656140485090085, 0.6387970442490327, 0.14195489872200728, 0.02365914978700121, 0.007886383262333737, 0.1253168907972893, 0.34014584644978524, 0.2774874010511406, 0.01790241297104133, 0.2058777491669753, 0.008951206485520665, 0.254571544781537, 0.04848981805362609, 0.03636736354021956, 0.6182451801837326, 0.012122454513406522, 0.3241879315277583, 0.2547190890575244, 0.16209396576387916, 0.1505158253521735, 0.06946884247023392, 0.011578140411705653, 0.5374022538312109, 0.10585195908796578, 0.07328212552243785, 0.056997208739673885, 0.008142458391381984, 0.1954190013931676, 0.008142458391381984, 0.4625958129256194, 0.21516084322121834, 0.258193011865462, 0.03227412648318275, 0.010758042161060917, 0.0053790210805304585, 0.8563750131358275, 0.09515277923731416, 0.015858796539552363, 0.5680310509006457, 0.2135455078573856, 0.09396002345724966, 0.04698001172862483, 0.06406365235721567, 0.004270910157147712, 0.18938819718911926, 0.05165132650612344, 0.13988900928741765, 0.1097590688255123, 0.1312804548697304, 0.00860855441768724, 0.36586356275170767, 0.00215213860442181, 0.1829000502884897, 0.09682943838802398, 0.23669418272628082, 0.08607061190046575, 0.3658001005769794, 0.010758826487558219, 0.1383137068747702, 0.7837776722903645, 0.03457842671869255, 0.011526142239564186, 0.3249696234706037, 0.1529268816332253, 0.25806411275606767, 0.07646344081661265, 0.16248481173530185, 0.00955793010207658, 0.06563480150065194, 0.8269984989082144, 0.06563480150065194, 0.013126960300130388, 0.27907244507433826, 0.2965144728914844, 0.10029165994859032, 0.03052354868000575, 0.021802534771432677, 0.2572699103029056, 0.004360506954286535, 0.1717266644057612, 0.06604871707913892, 0.04843572585803521, 0.5239864888278354, 0.04843572585803521, 0.02201623902637964, 0.013209743415827785, 0.0924682039107945, 0.004403247805275928, 0.21243861504723838, 0.5462707244071844, 0.17703217920603198, 0.05058062263029485, 0.005058062263029485, 0.3358656222971975, 0.268692497837758, 0.14274288947630895, 0.04198320278714969, 0.19312273282088857, 0.008396640557429938, 0.40617184156310804, 0.1710197227634139, 0.08550986138170695, 0.07482112870899359, 0.042754930690853475, 0.19239718810884066, 0.010688732672713369, 0.26126176945788226, 0.04180188311326116, 0.09753772726427604, 0.4424032629486806, 0.01393396103775372, 0.02090094155663058, 0.11147168830202976, 0.00348349025943843, 0.18922486694693647, 0.04204997043265255, 0.05256246304081569, 0.6202370638816251, 0.07358744825714196, 0.010512492608163138, 0.16795032816128275, 0.6571969362832802, 0.0803240699901787, 0.05841750544740269, 0.021906564542776008, 0.007302188180925337, 0.11787332524317178, 0.8177461938745042, 0.044202496966189414, 0.007367082827698236, 0.44071562015912635, 0.12927658191334374, 0.18803866460122726, 0.13515279018213208, 0.09401933230061363, 0.005876208268788352, 0.22610300989375284, 0.048450644977232754, 0.048450644977232754, 0.6298583847040258, 0.016150214992410917, 0.09156952805417644, 0.06867714604063233, 0.02289238201354411, 0.15261588009029406, 0.19840064411738229, 0.44258605226185277, 0.0076307940045147035, 0.43155252025621893, 0.0951954088800483, 0.10788813006405473, 0.11423449065605795, 0.0951954088800483, 0.13961993302407083, 0.0063463605920032196, 0.11401489301986603, 0.12437988329439931, 0.1658398443925324, 0.30058471796146496, 0.2798547374123984, 0.005182495137266638, 0.18616345717210625, 0.4441328192534535, 0.24201249432373814, 0.03989216939402277, 0.07978433878804554, 0.002659477959601518, 0.14454463278132926, 0.24966800207684145, 0.565038109963378, 0.019710631742908536, 0.006570210580969512, 0.14734501767645328, 0.07933962490270562, 0.7253908562533085, 0.011334232128957945, 0.11059673902660216, 0.023283524005600457, 0.05529836951330108, 0.07276101251750143, 0.21828303755250428, 0.005820881001400114, 0.50932708762251, 0.002910440500700057, 0.45623952443559607, 0.18466837893821744, 0.152079841478532, 0.05431422909947572, 0.04345138327958058, 0.010862845819895144, 0.09233418946910872, 0.005431422909947572, 0.12041685548052065, 0.3130838242493537, 0.19266696876883305, 0.06020842774026033, 0.16858359767272893, 0.04816674219220826, 0.06020842774026033, 0.012041685548052065, 0.031047459073395227, 0.03518712028318126, 0.00827932241957206, 0.006209491814679045, 0.9148651273627126, 0.06681792353085082, 0.10022688529627623, 0.06681792353085082, 0.6793155558969833, 0.044545282353900546, 0.011136320588475137, 0.14931809176557656, 0.47639581658541097, 0.07821423854387344, 0.2773050275646422, 0.007110385322170313, 0.6298068410768365, 0.12862252388188913, 0.05322311333043689, 0.03548207555362459, 0.13305778332609222, 0.004435259444203074, 0.06157515967828626, 0.8004770758177213, 0.09852025548525802, 0.024630063871314504, 0.006157515967828626, 0.09488458641514243, 0.17079225554725638, 0.018976917283028485, 0.6926574808305398, 0.009488458641514243, 0.25867730829712576, 0.13880245811065287, 0.504736211311465, 0.037855215848359866, 0.04416441848975318, 0.006309202641393312, 0.3384967604018923, 0.1750845312423581, 0.19842913540800586, 0.12839532291106262, 0.046689208331295494, 0.07003381249694324, 0.011672302082823873, 0.5141436239483437, 0.14606352953077947, 0.09348065889969885, 0.11100828244339239, 0.11685082362462357, 0.005842541181231178, 0.785274623491407, 0.0755071753357122, 0.09060861040285464, 0.01510143506714244, 0.2721294968906564, 0.2721294968906564, 0.10731867483011802, 0.14181396316837022, 0.022996858892168147, 0.17247644169126108, 0.003832809815361358, 0.4423607596951795, 0.24772202542930055, 0.24772202542930055, 0.017694430387807183, 0.3926834366469072, 0.13859415411067313, 0.034648538527668284, 0.034648538527668284, 0.05774756421278047, 0.3118368467490145, 0.011549512842556094, 0.4151686996566148, 0.017666753176877225, 0.008833376588438612, 0.48583571236412365, 0.04416688294219306, 0.008833376588438612, 0.3630077125671069, 0.1910566908247931, 0.12418684903611552, 0.11463401449487587, 0.009552834541239655, 0.16239818720107416, 0.009552834541239655, 0.23090029203858242, 0.20684817828456342, 0.45699016132636106, 0.028862536504822803, 0.0048104227508038, 0.057725073009645606, 0.0048104227508038, 0.3755484155995123, 0.19448042950689032, 0.13412443414268296, 0.03353110853567074, 0.2481302031639635, 0.006706221707134148, 0.16399321161993857, 0.6266883444047652, 0.0995673070549627, 0.0937104066399649, 0.005856900414997806, 0.28283358637470263, 0.5109251882897854, 0.1824732815320662, 0.00912366407660331, 0.2239812310458923, 0.016591202299695726, 0.2488680344954359, 0.12443401724771795, 0.34011964714376236, 0.02488680344954359, 0.008295601149847863, 0.16592349628778136, 0.44537359529878157, 0.2794500990110002, 0.052396893564562536, 0.04366407797046878, 0.004366407797046878, 0.26588519206792816, 0.2987105244219933, 0.1969519941243912, 0.1444314623578869, 0.00984759970621956, 0.0328253323540652, 0.04267293206028476, 0.00328253323540652, 0.1797055419424564, 0.16173498774821077, 0.0943454095197896, 0.05391166258273692, 0.04043374693705269, 0.45824913195326383, 0.00449263854856141, 0.371895673727473, 0.23243479607967063, 0.046486959215934126, 0.06973043882390119, 0.24405653588365414, 0.011621739803983532, 0.1792490749210953, 0.3177597237237598, 0.1955444453684676, 0.07332916701317535, 0.0977722226842338, 0.12221527835529225, 0.00814768522368615, 0.1925183339266521, 0.1691827782991791, 0.17501666720604736, 0.36170111222583123, 0.0641727779755507, 0.02333555562747298, 0.005833888906868245, 0.33816561080259366, 0.3316624259794669, 0.16908280540129683, 0.019509554469380404, 0.032515924115634004, 0.09754777234690201, 0.0032515924115634003, 0.371198314986255, 0.0890875955967012, 0.1633272585939522, 0.1286820825285684, 0.23756692159120318, 0.0049493108664834, 0.07795507681255047, 0.03692608901647128, 0.04513188657568711, 0.1682188499639247, 0.09026377315137422, 0.020514493898039596, 0.47593625843451864, 0.07795507681255047, 0.00410289877960792, 0.7321745549284195, 0.10459636498977422, 0.1494233785568203, 0.007471168927841015, 0.30582480477871105, 0.10194160159290369, 0.11650468753474706, 0.4587372071680666, 0.007281542970921691, 0.2042311636821824, 0.12253869820930942, 0.06126934910465471, 0.4799432346531286, 0.01021155818410912, 0.08169246547287295, 0.02042311636821824, 0.01021155818410912, 0.2664723505619266, 0.11658165337084288, 0.05829082668542144, 0.4163630477530103, 0.04996356573036123, 0.06661808764048165, 0.008327260955060206, 0.2687389352337206, 0.546054644996177, 0.09148559497318148, 0.02001247390038345, 0.025730323586207294, 0.04288387264367882, 0.0028589248429119214, 0.43791090392189547, 0.24160601595690787, 0.08305206798518708, 0.09815244398249381, 0.12080300797845393, 0.007550187998653371, 0.4165758926127048, 0.1041439731531762, 0.15274449395799175, 0.16663035704508192, 0.02082879463063524, 0.12497276778381143, 0.00694293154354508, 0.6135832508940873, 0.07362999010729047, 0.12271665017881746, 0.1349883151966992, 0.012271665017881746, 0.6446573533631963, 0.05605716116201707, 0.1681714834860512, 0.004671430096834755, 0.06540002135568658, 0.046714300968347555, 0.004671430096834755, 0.4721450207299419, 0.044541983087730365, 0.15144274249828324, 0.3028854849965665, 0.008908396617546074, 0.12394959599833655, 0.17498766493882806, 0.6780772016379587, 0.007291152705784502, 0.7104109702454092, 0.2029745629272598, 0.05074364073181495, 0.010148728146362989, 0.2551833902641879, 0.15772641709796537, 0.2898062623100827, 0.11669190208060852, 0.14362080256074897, 0.007693971565754409, 0.012823285942924013, 0.002564657188584803, 0.010258628754339211, 0.0012823285942924014, 0.19729196387669667, 0.26729878976842775, 0.21002047767519325, 0.0954638534887242, 0.13364939488421387, 0.07637108279097936, 0.0063642568992482796, 0.16636332483926952, 0.2138957033647751, 0.2851942711530335, 0.09506475705101115, 0.22815541692242677, 0.0047532378525505575, 0.1422820208847481, 0.042684606265424425, 0.09248331357508625, 0.30590634490220836, 0.3912755574330572, 0.007114101044237404, 0.34901853481725, 0.1480684693164091, 0.06874607503976136, 0.1797974270270682, 0.010576319236886364, 0.2326790232115, 0.005288159618443182, 0.4623238672556888, 0.1335602283183101, 0.11301250088472393, 0.22602500176944787, 0.030821591150379253, 0.010273863716793084, 0.4071393065559631, 0.057478490337312435, 0.19159496779104146, 0.23470383554402577, 0.014369622584328109, 0.07663798711641658, 0.004789874194776036, 0.2403066023394481, 0.1113615962060857, 0.4923354779637473, 0.07619477635153232, 0.03516681985455338, 0.02344454656970225, 0.005861136642425563, 0.560143586535615, 0.12371269395878613, 0.037801100931851316, 0.1855690409381792, 0.01374585488430957, 0.07216573814262524, 0.0034364637210773925, 0.21841511341464162, 0.09555661211890572, 0.49143400518294367, 0.054603778353660405, 0.08190566753049061, 0.013650944588415101, 0.013650944588415101, 0.6422592644118079, 0.20778976201558494, 0.09444989182526588, 0.018889978365053177, 0.2704685661513017, 0.07628600583754663, 0.04854564007843877, 0.31901420622974047, 0.0208052743193309, 0.1872474688739781, 0.05548073151821574, 0.0069350914397769674, 0.15123517559542038, 0.17013957254484793, 0.037808793898855095, 0.4348011298368336, 0.1795917710195617, 0.009452198474713774, 0.556505206437186, 0.11262605368371621, 0.18550173547906199, 0.11262605368371621, 0.013250123962790142, 0.006625061981395071, 0.2822197896458235, 0.1319469146396058, 0.08063422561309243, 0.0879646097597372, 0.018325960366611917, 0.007330384146644766, 0.03298672865990145, 0.3481932469656264, 0.003665192073322383, 0.14958866973468846, 0.04642406991766193, 0.6705698988106723, 0.015474689972553978, 0.10832282980787784, 0.005158229990851326, 0.241280760334323, 0.18096057025074225, 0.15080047520895187, 0.22620071281342782, 0.06032019008358075, 0.09048028512537112, 0.015080047520895187, 0.21570977641573646, 0.0829652986214371, 0.630536269522922, 0.03318611944857484, 0.01659305972428742, 0.4170736977954498, 0.20051620086319702, 0.11629939650065427, 0.07619615632801487, 0.18046458077687733, 0.00401032401726394, 0.35727017595408755, 0.01931190140292365, 0.009655950701461824, 0.2703666196409311, 0.01931190140292365, 0.17380711262631285, 0.12552735911900373, 0.009655950701461824, 0.2687780419563776, 0.05972845376808392, 0.039818969178722616, 0.24886855736701632, 0.13936639212552915, 0.21402695933563404, 0.01493211344202098, 0.004977371147340327, 0.23714171709237136, 0.2694792239686038, 0.10779168958744152, 0.07545418271120907, 0.021558337917488304, 0.2694792239686038, 0.010779168958744152, 0.3613025546489063, 0.15980689917163163, 0.06948126050940506, 0.02084437815282152, 0.006948126050940506, 0.006948126050940506, 0.006948126050940506, 0.3474063025470253, 0.006948126050940506, 0.15071956439205, 0.1004797095947, 0.04567259527031818, 0.02283629763515909, 0.08677793101360455, 0.16442134297314545, 0.4156206169598955, 0.004567259527031818, 0.25473541650103826, 0.16982361100069218, 0.1213025792862087, 0.042455902750173045, 0.39423338268017827, 0.006065128964310435, 0.35310833632679967, 0.15536766798379184, 0.22598933524915177, 0.02824866690614397, 0.1836163348899358, 0.014124333453071986, 0.08903099295106627, 0.07082010802925727, 0.05665608642340581, 0.01821088492180901, 0.012140589947872675, 0.7486697134521482, 0.002023431657978779, 0.3404632473792901, 0.09079019930114404, 0.32911447246664716, 0.20427794842757407, 0.011348774912643005, 0.3947858759506675, 0.23222698585333382, 0.27286670837766724, 0.08127944504866684, 0.005805674646333346, 0.005805674646333346, 0.6884310294101583, 0.15430350659193204, 0.11869500507071694, 0.011869500507071695, 0.011869500507071695, 0.9963225782011867, 0.0013799481692537213, 0.011044245195689363, 0.049699103380602135, 0.9221944738400618, 0.005522122597844682, 0.05468305636963019, 0.030075681003296606, 0.008202458455444529, 0.005468305636963019, 0.8968021244619351, 0.0027341528184815097, 0.10392299580300444, 0.09093262132762889, 0.7664320940471577, 0.012990374475375556, 0.21317218554935283, 0.32602804848724554, 0.17555356457005528, 0.07523724195859512, 0.0626977016321626, 0.13166517342754147, 0.00626977016321626, 0.12111334302565703, 0.09756352632622373, 0.04373537387037615, 0.02018555717094284, 0.01009277858547142, 0.08410648821226183, 0.6122952341852661, 0.0033642595284904733, 0.36407876573399706, 0.04160900179817109, 0.062413502697256644, 0.49930802157805315, 0.010402250449542773, 0.15017440041453672, 0.09321169680902279, 0.06731955880651645, 0.1346391176130329, 0.010356855201002532, 0.5023074772486228, 0.02589213800250633, 0.005178427600501266, 0.5874553946116728, 0.1578238373583599, 0.12275187350094657, 0.06137593675047329, 0.052607945786119964, 0.008767990964353326, 0.41456639587837807, 0.0391100373470168, 0.03519903361231512, 0.43412141455188646, 0.07039806722463024, 0.00391100373470168, 0.26031301576156385, 0.019523476182117288, 0.05857042854635186, 0.273328666549642, 0.36443822206618937, 0.006507825394039096, 0.14519745976878015, 0.6533885689595106, 0.15729724808284515, 0.012099788314065012, 0.22519556148889258, 0.11259778074444629, 0.20267600534000332, 0.36031289838222813, 0.06755866844666777, 0.011259778074444629, 0.08657397730882696, 0.5540734547764926, 0.08657397730882696, 0.2510645341955982, 0.008657397730882697, 0.44870239371131554, 0.18604733397786252, 0.10943960822227208, 0.04377584328890883, 0.17510337315563532, 0.010943960822227207, 0.35152800578762766, 0.4184857211757472, 0.16739428847029889, 0.016739428847029888, 0.15611093931507344, 0.3030388821998484, 0.3122218786301469, 0.08264696787268594, 0.11019595716358126, 0.009182996430298438, 0.5002144724449734, 0.10634480910247467, 0.047264359601099856, 0.24419919127234924, 0.07089653940164978, 0.01969348316712494, 0.003938696633424988, 0.12997918777120984, 0.1588634517203676, 0.5776852789831548, 0.014442131974578871, 0.1010949238220521, 0.007221065987289436, 0.16942673858235877, 0.030804861560428866, 0.1848291693625732, 0.569889938867934, 0.015402430780214433, 0.24328810579181698, 0.3284389428189529, 0.12164405289590849, 0.26761691637099866, 0.01216440528959085, 0.24086130106464645, 0.1384952481121717, 0.5901101876083839, 0.018064597579848483, 0.006021532526616162, 0.1881288239522722, 0.14579983856301096, 0.4515091774854533, 0.014109661796420415, 0.1881288239522722, 0.0047032205988068055, 0.786528151157822, 0.1068124649720499, 0.08739201679531355, 0.009710224088368172, 0.7102545322376879, 0.10399365425287017, 0.14160838025922748, 0.0376147260063573, 0.0022126309415504294, 0.2871589340006001, 0.34958478921812186, 0.06242585521752176, 0.12485171043504352, 0.049940684174017404, 0.09988136834803481, 0.012485171043504351, 0.16146225696083508, 0.2926503407415136, 0.16146225696083508, 0.06054834636031315, 0.030274173180156575, 0.2724675586214092, 0.010091391060052192, 0.05486695176307392, 0.03657796784204928, 0.15545636332870943, 0.5578140095912515, 0.16460085528922178, 0.00914449196051232, 0.19591998105236144, 0.137143986736653, 0.6367399384201747, 0.009795999052618073, 0.18090016037208206, 0.32371607645530476, 0.20946334358872662, 0.15233697715543754, 0.10473167179436331, 0.009521061072214846, 0.5748074555483075, 0.07745632379728967, 0.040766486209099825, 0.03668983758818984, 0.2568288631173289, 0.004076648620909983, 0.20501942642916787, 0.18757096460540892, 0.11341500185443329, 0.026172692735638454, 0.45366000741773316, 0.004362115455939742, 0.6126871489743067, 0.26638571694535074, 0.05327714338907015, 0.026638571694535075, 0.07044239858069577, 0.08453087829683494, 0.7889548641037927, 0.014088479716139156, 0.014088479716139156, 0.38839909763834973, 0.14712087031755672, 0.029424174063511343, 0.005884834812702269, 0.41782327170186107, 0.005884834812702269, 0.12836687168399627, 0.34231165782399003, 0.04992045009933188, 0.45641554376532, 0.007131492871333125, 0.024406922229264112, 0.0427121139012122, 0.9213613141547202, 0.006101730557316028, 0.1763996767385456, 0.08084985183850006, 0.09187483163465916, 0.591673915727205, 0.0440999191846364, 0.003674993265386366, 0.07208065592487627, 0.06607393459780324, 0.828927543136077, 0.012013442654146044, 0.006006721327073022, 0.35465908780073685, 0.04015008541140417, 0.2676672360760278, 0.32789236419313406, 0.0033458404509503475, 0.2190789924006417, 0.11392107604833368, 0.17526319392051334, 0.17526319392051334, 0.28918426996884705, 0.008763159696025667, 0.20298581340137709, 0.20781880895855273, 0.01933198222870258, 0.053162951128932094, 0.0869939200291616, 0.4204706134742811, 0.004832995557175645, 0.3567072772344668, 0.5945121287241113, 0.013211380638313584, 0.6316393488676506, 0.14783048590519482, 0.19262760284616295, 0.013439135082290438, 0.004479711694096813, 0.09165032930569185, 0.08460030397448479, 0.25380091192345433, 0.25380091192345433, 0.049350177318449456, 0.02820010132482826, 0.218550785267419, 0.007050025331207065, 0.3216361349358997, 0.08300287353184509, 0.11412895110628699, 0.21788254302109333, 0.031126077574441906, 0.19713182463813209, 0.010375359191480636, 0.6424695970045596, 0.025698783880182385, 0.038548175820273575, 0.025698783880182385, 0.23128905492164145, 0.012849391940091192, 0.5354300010426283, 0.2327956526272297, 0.17459673947042229, 0.02327956526272297, 0.011639782631361485, 0.27671004224634843, 0.144943355462373, 0.23718003621115583, 0.013176668678397545, 0.144943355462373, 0.144943355462373, 0.013176668678397545, 0.026329464297687163, 0.34228303586993314, 0.5924129466979612, 0.013164732148843582, 0.02567126792078677, 0.05134253584157354, 0.8214805734651767, 0.05134253584157354, 0.012835633960393385, 0.03130857777856826, 0.020872385185712175, 0.8975125629856235, 0.020872385185712175, 0.010436192592856088, 0.26833761634292563, 0.09288609796485887, 0.061924065309905914, 0.051603387758254925, 0.4953925224792473, 0.010320677551650986, 0.0763928024870817, 0.0169761783304626, 0.0056587261101542, 0.0056587261101542, 0.062245987211696205, 0.0084880891652313, 0.8148565598622048, 0.0028293630550771, 0.1693241946911993, 0.28573457854139883, 0.11641038385019951, 0.03174828650459987, 0.07407933517739969, 0.07407933517739969, 0.22223800553219908, 0.010582762168199956, 0.3272201798891007, 0.015961959994590276, 0.007980979997295138, 0.6304974197863159, 0.007980979997295138, 0.3255266906817974, 0.06813349339851574, 0.05299271708773446, 0.07570388155390637, 0.4617936774788289, 0.007570388155390637, 0.3396177585291664, 0.02953197900253621, 0.06398595450549513, 0.09843993000845404, 0.45282367803888857, 0.004921996500422702, 0.526081596875853, 0.15374074063951867, 0.0816747684647443, 0.12491435176960891, 0.0024021990724924793, 0.10329456011717661, 0.0024021990724924793, 0.7413491409434195, 0.026795752082292273, 0.098251090968405, 0.098251090968405, 0.008931917360764091, 0.5935898150647609, 0.05000939833878939, 0.05653236333950105, 0.1891659850206381, 0.010871608334519431, 0.03044050333665441, 0.021743216669038862, 0.04566075500498161, 0.002174321666903886, 0.24123720114897979, 0.24123720114897979, 0.06784796282315057, 0.052770637751339326, 0.07538662535905619, 0.12061860057448989, 0.18092790086173485, 0.007538662535905618, 0.3897534808859293, 0.30502446330203165, 0.09320191934228746, 0.11014772285906699, 0.025418705275169304, 0.05083741055033861, 0.008472901758389769, 0.21998034417134876, 0.18226942802768897, 0.345683397983548, 0.23255064955256868, 0.006285152690609965, 0.23395298165916312, 0.006880970048798915, 0.12385746087838047, 0.034404850243994575, 0.5848824541479077, 0.006880970048798915, 0.24728619536322255, 0.050083280073564065, 0.07512492011034609, 0.10329676515172588, 0.5039630057402383, 0.009390615013793261, 0.003130205004597754, 0.03199964364928495, 0.0639992872985699, 0.006399928729856991, 0.15359828951656776, 0.7231919464738399, 0.006399928729856991, 0.12047043130957216, 0.06023521565478608, 0.008605030807826583, 0.3442012323130633, 0.4388565711991557, 0.008605030807826583, 0.7061361105028964, 0.06140314004373012, 0.16885863512025784, 0.01535078501093253, 0.01535078501093253, 0.45949188137995717, 0.22974594068997858, 0.18379675255198288, 0.07658198022999287, 0.015316396045998572, 0.18412086525989724, 0.3096578188461908, 0.08369130239086238, 0.07532217215177615, 0.31802694908527707, 0.00836913023908624, 0.29177902799484323, 0.1585755586928496, 0.12051742460656568, 0.025372089390855935, 0.39326738555826696, 0.003171511173856992, 0.4857868254096278, 0.15052549519734945, 0.04789447574461119, 0.027368271854063538, 0.27368271854063536, 0.0068420679635158846, 0.3220224906456634, 0.1694855213924544, 0.10169131283547264, 0.0847427606962272, 0.04406623556203815, 0.0881324711240763, 0.0847427606962272, 0.09491189197977447, 0.0033897104278490884, 0.4347329565033501, 0.064221914028904, 0.08892265019386707, 0.07904235572788183, 0.32110957014451996, 0.6865088840243759, 0.22443559670027677, 0.06601046961772845, 0.0066010469617728456, 0.4449339341723377, 0.2113436187318604, 0.07230176430300486, 0.08342511265731331, 0.17241189949178085, 0.005561674177154221, 0.28668717170642627, 0.23293332701147132, 0.12542563762156148, 0.02687692234747746, 0.1702205082006906, 0.14334358585321313, 0.008958974115825821, 0.2633704298616673, 0.08531718150448378, 0.02225665604464794, 0.17805324835718353, 0.00741888534821598, 0.43771423554474287, 0.00370944267410799, 0.22854222484821526, 0.1623852650237319, 0.06615695982448337, 0.16839953409868494, 0.0721712288994364, 0.27665637744783955, 0.012028538149906067, 0.006014269074953033, 0.3659882974104864, 0.03956630242275529, 0.10880733166257704, 0.10880733166257704, 0.009891575605688822, 0.34620514619910875, 0.009891575605688822, 0.7496201956635625, 0.08518411314358666, 0.11925775840102132, 0.017036822628717332, 0.3559356148103756, 0.45678403900664866, 0.160171026664669, 0.011864520493679186, 0.005932260246839593, 0.24631168224896455, 0.2617061623895248, 0.1308530811947624, 0.11545860105420214, 0.015394480140560284, 0.03078896028112057, 0.12315584112448227, 0.06157792056224114, 0.007697240070280142, 0.5493528413805534, 0.1831176137935178, 0.11848786774874681, 0.04308649736318066, 0.08617299472636132, 0.005385812170397583, 0.1419723390545482, 0.07985944071818335, 0.5945091697909205, 0.1597188814363667, 0.008873271190909263, 0.3500979708417734, 0.07502099375180858, 0.050013995834539055, 0.3375944718831386, 0.15004198750361716, 0.012503498958634764, 0.1978402004734731, 0.6539717737873139, 0.11540678360952597, 0.021982244497052564, 0.005495561124263141, 0.4802396333248585, 0.1964616681783512, 0.05457268560509755, 0.032743611363058533, 0.2073762052993707, 0.01091453712101951, 0.24107415553172482, 0.2474182122562439, 0.13956924793941963, 0.08881679414326704, 0.2664503824298011, 0.006344056724519075, 0.33836165826669, 0.42295207283336256, 0.015380075375758638, 0.19994097988486229, 0.007690037687879319, 0.1280704525445418, 0.16222257322308628, 0.6574283230619813, 0.025614090508908362, 0.008538030169636121, 0.04247351153314279, 0.8919437421959987, 0.04247351153314279, 0.010618377883285698, 0.4695587869007189, 0.04471988446673513, 0.08943976893347026, 0.10061974005015405, 0.25713933568372704, 0.011179971116683783, 0.4275865489134729, 0.07278068917676135, 0.1728541367948082, 0.30022034285414056, 0.009097586147095169, 0.45860083684814756, 0.022554139517122013, 0.0601443720456587, 0.29320381372258614, 0.1428428836084394, 0.007518046505707338, 0.389109457775449, 0.010516471831768891, 0.06309883099061335, 0.37859298594368007, 0.1261976619812267, 0.010516471831768891, 0.3984765049629708, 0.22314684277926367, 0.17532966218370716, 0.15939060198518834, 0.015939060198518835, 0.4378189988839051, 0.12877029378938384, 0.10945474972097627, 0.12877029378938384, 0.03219257344734596, 0.14164732316832224, 0.006438514689469192, 0.31102237030472696, 0.11597444316447446, 0.16869009914832647, 0.14760383675478567, 0.005271565598385202, 0.23722045192733412, 0.005271565598385202, 0.33214951488017724, 0.043323849766979644, 0.08664769953395929, 0.20939860720706827, 0.29604630674102755, 0.007220641627829941, 0.7343524332391492, 0.12588898855528272, 0.07693215967267276, 0.013987665395031414, 0.02098149809254712, 0.006993832697515707, 0.4433273655168108, 0.2216636827584054, 0.12666496157623164, 0.06333248078811582, 0.07916560098514479, 0.015833120197028955, 0.13538561370850596, 0.15230881542206923, 0.37231043769839145, 0.16077041627885086, 0.16077041627885086, 0.008461600856781623, 0.08080292537167016, 0.1846924008495318, 0.6695099530795529, 0.023086550106191477, 0.011543275053095738, 0.4955160366108227, 0.16517201220360755, 0.1789363465539082, 0.08258600610180378, 0.02752866870060126, 0.01376433435030063, 0.04788706065985492, 0.089788238737228, 0.01197176516496373, 0.8320376789649794, 0.005985882582481865, 0.1246132922533758, 0.045313924455773015, 0.022656962227886508, 0.6683803857226519, 0.11328481113943253, 0.011328481113943254, 0.19659704151693638, 0.04212793746791493, 0.224682333162213, 0.49149260379234094, 0.014042645822638313, 0.5455100418907247, 0.1381038080736012, 0.055241523229440474, 0.0690519040368006, 0.1035778560552009, 0.0690519040368006, 0.006905190403680059, 0.3623624399444186, 0.21614601680895143, 0.289254228376685, 0.08264406525048143, 0.01589308947124643, 0.022250325259745, 0.0031786178942492856, 0.641340546758997, 0.10529471663207414, 0.19623106281431998, 0.04786123483276097, 0.004786123483276097, 0.47880303876669844, 0.0556747719496161, 0.0556747719496161, 0.23940151938334922, 0.15032188426396345, 0.00556747719496161, 0.19363915279461474, 0.08882529944707097, 0.5649289044833714, 0.0906018054360124, 0.05862469763506684, 0.0017765059889414195, 0.10391612220880146, 0.6512076991751559, 0.16626579553408233, 0.013855482961173528, 0.04156644888352058, 0.006927741480586764, 0.3393234828377882, 0.20025648167476023, 0.11681628097694347, 0.13072298109324626, 0.0806588606745562, 0.02225072018608447, 0.10569092088390122, 0.0027813400232605586, 0.07434572658918721, 0.17347336204143682, 0.30977386078828006, 0.12390954431531202, 0.29738290635674886, 0.006195477215765601, 0.03692485504703932, 0.05333590173461236, 0.8000385260191853, 0.016411046687573035, 0.0779524717659719, 0.004102761671893259, 0.13612852536885964, 0.05104819701332236, 0.2977811492443805, 0.11060442686219846, 0.38286147759991773, 0.008508032835553727, 0.43264242959071625, 0.16640093445796778, 0.08874716504424948, 0.27733489076327966, 0.011093395630531185, 0.7628168579211503, 0.09108260990103287, 0.06831195742577464, 0.03415597871288732, 0.011385326237629109, 0.04027959137217304, 0.7384591751565057, 0.1745448959460832, 0.013426530457391013, 0.15671981486161438, 0.6791191977336624, 0.11753986114621079, 0.013059984571801199, 0.013059984571801199, 0.15522464597232202, 0.5093308695966816, 0.20373234783867267, 0.04850770186635063, 0.06791078261289088, 0.004850770186635063, 0.0913205485335612, 0.663275563033234, 0.13457765047051123, 0.009612689319322233, 0.08651420387390009, 0.004806344659661116, 0.20608458598122062, 0.5152114649530516, 0.18266588302880918, 0.04215366531434058, 0.04215366531434058, 0.004683740590482287, 0.004683740590482287, 0.03575745481495154, 0.16984791037101982, 0.01787872740747577, 0.7643155966695891, 0.004469681851868942, 0.3600711992268868, 0.11456810884491853, 0.40917181730328045, 0.08183436346065609, 0.016366872692131218, 0.23972286222080869, 0.4927636612316623, 0.22640492543076376, 0.013317936790044928, 0.40334843849199437, 0.09308040888276793, 0.20167421924599718, 0.15513401480461322, 0.12410721184369057, 0.015513401480461321, 0.04893645545351618, 0.02854626568121777, 0.053014493407975864, 0.008156075908919364, 0.8482318945276138, 0.004078037954459682, 0.08536159999937565, 0.028453866666458546, 0.13088778666570933, 0.11381546666583418, 0.6259850666620881, 0.00569077333329171, 0.48654598967004603, 0.13269436081910346, 0.14743817868789272, 0.19166963229426054, 0.014743817868789273, 0.7348384354461588, 0.1224730725743598, 0.11022576531692382, 0.01224730725743598, 0.37727329495933665, 0.20179734381545913, 0.09651177312913263, 0.1052855706863265, 0.15792835602948976, 0.035095190228775504, 0.008773797557193876, 0.19558385076577522, 0.08149327115240634, 0.048895962691443806, 0.5867515522973257, 0.03259730846096254, 0.03259730846096254, 0.008149327115240634, 0.3258957611545246, 0.20055123763355362, 0.11281007116887391, 0.18801678528145652, 0.13787897587306813, 0.012534452352097101, 0.17284386703827676, 0.0230458489384369, 0.0230458489384369, 0.7374671660299807, 0.01152292446921845, 0.5563424443217655, 0.06358199363677319, 0.0794774920459665, 0.21061535392181122, 0.015895498409193298, 0.011921623806894975, 0.0476864952275799, 0.0039738746022983246, 0.03897262337396388, 0.0649543722899398, 0.8833794631431813, 0.0043302914859959865, 0.4136562832021932, 0.1858455765111303, 0.11990037194266469, 0.09891780685269837, 0.11390535334553147, 0.05695267667276573, 0.0029975092985666174, 0.5294810325105811, 0.1638869862532751, 0.15758364062814914, 0.05673011062613369, 0.018910036875377897, 0.06303345625125965, 0.006303345625125965, 0.8072029051070629, 0.09576983619914306, 0.0547256206852246, 0.01368140517130615, 0.22610003555799862, 0.03932174531443454, 0.04915218164304318, 0.3489804896656066, 0.10321958145039067, 0.22610003555799862, 0.004915218164304317, 0.6012962225103694, 0.1521351888279248, 0.15937972162925454, 0.007244532801329752, 0.06520079521196777, 0.007244532801329752, 0.7820676835734287, 0.05431025580371033, 0.13034461392890478, 0.010862051160742067, 0.9190142680370793, 0.027297453506051863, 0.036396604674735815, 0.004549575584341977, 0.004549575584341977, 0.5911731776132602, 0.30843817962430964, 0.06425795408839784, 0.012851590817679568, 0.5554096407447874, 0.056674453137223205, 0.283372265686116, 0.07934423439211248, 0.011334890627444642, 0.6556270381477377, 0.16955871676234593, 0.14695088786069982, 0.011303914450823063, 0.27092142812289033, 0.1271672009556424, 0.14928323590444978, 0.4312626815017438, 0.005529008737201844, 0.2084036853210766, 0.1042018426605383, 0.4037821403095859, 0.23445414598621117, 0.026050460665134573, 0.013025230332567287, 0.38999726949561003, 0.1772714861343682, 0.24030134787103244, 0.1260597234733285, 0.04727239630249818, 0.007878732717083031, 0.003939366358541516, 0.40999374818304274, 0.1366645827276809, 0.20499687409152137, 0.2254965615006735, 0.006833229136384045, 0.5727255678114844, 0.12836952381981548, 0.03949831502148169, 0.06912205128759295, 0.15799326008592676, 0.009874578755370423, 0.4486053927534626, 0.05883349413160166, 0.06986477428127696, 0.21694850961028112, 0.0036770933832251038, 0.1912088559277054, 0.0036770933832251038, 0.3716457050774466, 0.03716457050774466, 0.08671733118473754, 0.21059923287721974, 0.27873427880808493, 0.00619409508462411, 0.5022936791056279, 0.18159848398434242, 0.13523291360536138, 0.04636557037898104, 0.05409316544214455, 0.06954835556847157, 0.0038637975315817534, 0.26570895846203063, 0.23249533865427677, 0.18821051224393834, 0.06642723961550766, 0.22142413205169217, 0.011071206602584609, 0.08449852798454656, 0.14595200288239862, 0.7374416987742246, 0.0076816843622315055, 0.022417718261373332, 0.06725315478412, 0.7734112800173799, 0.10087973217617999, 0.011208859130686666, 0.1385919001369876, 0.20158821838107288, 0.08189521371731086, 0.14489153196139612, 0.24568564115193256, 0.17009005925903023, 0.0062996318244085275, 0.20919418295928927, 0.34367615771883236, 0.24904069399915388, 0.03486569715988155, 0.05976976655979693, 0.0896546498396954, 0.0049808138799830775, 0.15480817542949854, 0.7376154241052577, 0.0728509060844699, 0.009106363260558737, 0.10097301797794982, 0.15534310458146125, 0.046602931374438376, 0.03883577614536531, 0.6369067287839911, 0.007767155229073062, 0.11234359242625278, 0.24511329256636968, 0.03063916157079621, 0.5923571237020601, 0.01021305385693207, 0.08504512163539439, 0.2055257106188698, 0.6945351600223876, 0.007087093469616199, 0.20537114205717366, 0.5011055866195038, 0.06571876545829557, 0.2135859877394606, 0.008214845682286946, 0.258728984878551, 0.03833021998200756, 0.057495329973011336, 0.052704052475260395, 0.5797445772278643, 0.004791277497750945, 0.2454996246955939, 0.05665375954513705, 0.05665375954513705, 0.04721146628761421, 0.5665375954513705, 0.009442293257522843, 0.5223585444207665, 0.11396913696453086, 0.0949742808037757, 0.07597942464302057, 0.1614562773664187, 0.009497428080377571, 0.0764290897083859, 0.03821454485419295, 0.05732181728128942, 0.7929518057245036, 0.009553636213548237, 0.3880849877273497, 0.24393913514290552, 0.2550272776494012, 0.07761699754546994, 0.011088142506495705, 0.15991435451798622, 0.6529836142817771, 0.13326196209832186, 0.013326196209832187, 0.013326196209832187, 0.385709491388817, 0.128569830462939, 0.4071377964659735, 0.053570762692891245, 0.010714152538578249, 0.3260113354395062, 0.24450850157962967, 0.12439906220718, 0.09437170236406758, 0.00857924566946069, 0.11153019370298897, 0.05147547401676414, 0.030027359843112413, 0.004289622834730345, 0.17969814536534298, 0.3026495079837356, 0.17024034824085127, 0.09457797124491736, 0.12295136261839257, 0.08512017412042563, 0.02837339137347521, 0.009457797124491737, 0.2583340603525847, 0.4343007391434757, 0.1310390161208763, 0.07113546589419, 0.06739149400502209, 0.0037439718891678943, 0.01871985944583947, 0.0037439718891678943, 0.112568639665909, 0.7379499711431813, 0.112568639665909, 0.012507626629545446, 0.35121169143328357, 0.2554266846787517, 0.0798208389621099, 0.03991041948105495, 0.24744460078254069, 0.00798208389621099, 0.0533941690052378, 0.15128347884817375, 0.7653164224084085, 0.008899028167539633, 0.008899028167539633, 0.17529202414696476, 0.38564245312332246, 0.24540883380575065, 0.03505840482939295, 0.05843067471565492, 0.0701168096587859, 0.011686134943130984, 0.18032470213691593, 0.08014431206085153, 0.013357385343475255, 0.040072156030425764, 0.040072156030425764, 0.6344758038150745, 0.0033393463358688136, 0.2744164832915362, 0.07943635042649731, 0.007221486402408847, 0.07221486402408847, 0.10832229603613269, 0.43328918414453077, 0.007221486402408847, 0.04879818340611113, 0.10979591266375004, 0.8051700262008337, 0.012199545851527783, 0.2217480757401464, 0.4785090055445264, 0.2684318811591246, 0.011670951354744547, 0.9694172151780854, 0.009504090344883191, 0.4995023042291, 0.11018433181524266, 0.2644423963565824, 0.0954930875732103, 0.0073456221210161775, 0.0073456221210161775, 0.17067143292465872, 0.7033731781137451, 0.10860909367932828, 0.005171861603777537, 0.11877515536591259, 0.23755031073182517, 0.039591718455304195, 0.5882198170502337, 0.00565595977932917, 0.2647928067316346, 0.11033033613818106, 0.24272673950399834, 0.18204505462799878, 0.11584685294509012, 0.06619820168290864, 0.005516516806909053, 0.3994329246057727, 0.17689172375398504, 0.05135566173502791, 0.08559276955837986, 0.09129895419560517, 0.005706184637225323, 0.1711855391167597, 0.005706184637225323, 0.3106034483338627, 0.042153325131024225, 0.03106034483338627, 0.47034236461984924, 0.008874384238110364, 0.11758559115496231, 0.013311576357165544, 0.002218596059527591, 0.3651369645891072, 0.013778753380721027, 0.05511501352288411, 0.4891457450155965, 0.027557506761442054, 0.034446883451802565, 0.0068893766903605136, 0.14034741925921954, 0.3227990642962049, 0.03157816933332439, 0.014034741925921952, 0.4771812254813464, 0.003508685481480488, 0.18138675089758172, 0.10119471365865086, 0.04391468705941452, 0.07637336879898178, 0.02100267641971999, 0.5708909317723888, 0.0019093342199745446, 0.06774400957719007, 0.24839470178303028, 0.6322774227204406, 0.022581336525730022, 0.011290668262865011, 0.03915645228889523, 0.24799086449633648, 0.665659688911219, 0.013052150762965077, 0.2566877914595218, 0.11262831666081059, 0.07726826375567239, 0.3156212129680855, 0.014405947479871123, 0.18727731723832458, 0.018334842247108702, 0.0026192631781583858, 0.010477052712633543, 0.0013096315890791929, 0.38665783354759886, 0.13694131604810791, 0.3463809758863906, 0.04833222919344986, 0.06847065802405396, 0.004027685766120821, 0.16866919941578723, 0.05903421979552553, 0.7505779374002532, 0.008433459970789361, 0.15250260291826104, 0.06535825839354045, 0.588224325541864, 0.056643823941068386, 0.02178608613118015, 0.10893043065590075, 0.00435721722623603, 0.1192894866355863, 0.3419631950220141, 0.06362105953897937, 0.0397631622118621, 0.40558425456099345, 0.007952632442372421, 0.12846336342967263, 0.226700053111187, 0.007556668437039567, 0.6196468118372445, 0.007556668437039567, 0.42430754442084684, 0.10607688610521171, 0.08082048465158986, 0.05556408319796804, 0.31823065831563513, 0.0050512802907243665, 0.3767337333638118, 0.05381910476625883, 0.01793970158875294, 0.03587940317750588, 0.4843719428963294, 0.00896985079437647, 0.2291307135371971, 0.36250530798422226, 0.1949320995764214, 0.1196951488627149, 0.04787805954508596, 0.034198613960775684, 0.0034198613960775685, 0.052371832322653133, 0.689562458914933, 0.13092958080663283, 0.10474366464530627, 0.008728638720442189, 0.15699382658428304, 0.6214338968961204, 0.19624228323035378, 0.006541409441011793, 0.006541409441011793, 0.32121853029505004, 0.33812476873163166, 0.181742063193252, 0.004226559609145396, 0.14370302671094345, 0.004226559609145396, 0.273509219664247, 0.13113455737326912, 0.0674406295062527, 0.13113455737326912, 0.2772559213034833, 0.059947226227780176, 0.014986806556945044, 0.03372031475312635, 0.003746701639236261, 0.40663532851774126, 0.2618063074018334, 0.10583659235393265, 0.11419211280292733, 0.03899242876197519, 0.033422081795978734, 0.033422081795978734, 0.002785173482998228, 0.24063514147602608, 0.6416937106027362, 0.08021171382534202, 0.011458816260763147, 0.19975670053072886, 0.6791727818044782, 0.09987835026536443, 0.006658556684357629, 0.459931055503449, 0.35379311961803767, 0.15920690382811695, 0.008844827990450941, 0.05319424601266116, 0.9043021822152397, 0.015198356003617474, 0.007599178001808737, 0.32114340098709315, 0.21474046692510446, 0.2843860237656789, 0.09092614365297216, 0.08125314964733682, 0.0019345988011270673, 0.0019345988011270673, 0.36951406811101595, 0.08694448661435669, 0.3912501897646051, 0.11954866909474045, 0.010868060826794586, 0.3339337677052669, 0.1973244990985668, 0.05312582668038337, 0.0986622495492834, 0.18214569147560014, 0.10625165336076674, 0.007589403811483339, 0.46036708896823975, 0.1302925723495018, 0.060803200429767515, 0.034744685959867155, 0.06948937191973431, 0.21715428724916971, 0.008686171489966789, 0.6949480757355803, 0.07917129976734459, 0.0879681108526051, 0.07037448868208408, 0.03518724434104204, 0.00879681108526051, 0.5803645553324049, 0.09193893945859881, 0.03447710229697455, 0.16089314405254793, 0.017238551148487276, 0.10343130689092365, 0.0057461837161624256, 0.19339310419295885, 0.6575365542560601, 0.07735724167718354, 0.03867862083859177, 0.009669655209647942, 0.25428761396461347, 0.5933377659174314, 0.0665991369907321, 0.0665991369907321, 0.006054466999157463, 0.31492914517811427, 0.09116369991998044, 0.0580132635854421, 0.32321675426174884, 0.04143804541817293, 0.14088935442178796, 0.008287609083634587, 0.07855794354824949, 0.6677425201601206, 0.12569270967719917, 0.015711588709649896, 0.08641373790307444, 0.007855794354824948, 0.09747964168866537, 0.20940071177565153, 0.09386928458908517, 0.014441428398320796, 0.03971392809538219, 0.5379432078374496, 0.003610357099580199, 0.27456804191869294, 0.46150798535269666, 0.13436308434319016, 0.05841873232312616, 0.04089311262618831, 0.017525619696937847, 0.005841873232312616, 0.15733890558618627, 0.30343931791621637, 0.15171965895810818, 0.0899079460492493, 0.15733890558618627, 0.12924267244579588, 0.005619246628078081, 0.3525947811291587, 0.2957246551405847, 0.09667921418057576, 0.13648830237257756, 0.02843506299428699, 0.06824415118628878, 0.0056870125988573985, 0.22177985131168057, 0.3778471540865669, 0.11910399422293956, 0.2669572284307266, 0.00410703428354964, 0.36106540908988494, 0.11755617970368346, 0.0755718298095108, 0.1007624397460144, 0.31068418921687774, 0.008396869978834534, 0.5238805579110299, 0.15552704062983702, 0.03274253486943937, 0.09004197089095828, 0.17189830806455672, 0.008185633717359843, 0.6135381554459073, 0.12030159910704065, 0.03609047973211219, 0.060150799553520325, 0.14436191892844877, 0.012030159910704065, 0.3881447316453973, 0.18385803077939872, 0.07150034530309951, 0.13278635556289908, 0.05107167521649965, 0.14300069060619902, 0.01021433504329993, 0.272674475644757, 0.10555140992700271, 0.0351838033090009, 0.11434736075425293, 0.07916355744525203, 0.36063398391725926, 0.008795950827250225, 0.40330643333860533, 0.24442814141733657, 0.07332844242520097, 0.11610336717323487, 0.14665688485040193, 0.006110703535433414, 0.40563592890446043, 0.10140898222611511, 0.06971867528045413, 0.25352245556528774, 0.15211347333917266, 0.006338061389132194, 0.05849629006117862, 0.04387221754588397, 0.8335721333717954, 0.02924814503058931, 0.014624072515294654, 0.28491533587034557, 0.08310030629551746, 0.24930091888655237, 0.14245766793517278, 0.21368650190275917, 0.011871472327931065, 0.05667973552870596, 0.031488741960392204, 0.8942802716751386, 0.006297748392078441, 0.1261895514232574, 0.034415332206342936, 0.8030244181480017, 0.011471777402114311, 0.09505863628666343, 0.7921553023888619, 0.0871370832627748, 0.00792155302388862, 0.16511470774189108, 0.15642445996600207, 0.11297322108655705, 0.2693976810525591, 0.04345123887944502, 0.2172561943972251, 0.008690247775889004, 0.517143700222183, 0.3055849137676536, 0.07051959548484314, 0.07051959548484314, 0.011753265914140523, 0.35645172475210746, 0.17156321331526667, 0.29149089640943365, 0.14491261707211844, 0.0183222849171644, 0.009993973591180582, 0.0033313245303935274, 0.0016656622651967637, 0.3790158495676414, 0.09726955431381948, 0.21130972144036644, 0.18112261837745697, 0.013416490250181996, 0.11068604456400147, 0.003354122562545499, 0.003354122562545499, 0.3693221312308331, 0.15970686755927915, 0.09482595261332201, 0.2645144993950561, 0.09981679222454948, 0.0049908396112274735, 0.25077118560691786, 0.49416674810774996, 0.02950249242434328, 0.02212686931825746, 0.02212686931825746, 0.16226370833388803, 0.00737562310608582, 0.018052675581653667, 0.0433264213959688, 0.41882207349436507, 0.5090854514026334, 0.0036105351163307335, 0.0173554233275138, 0.0260331349912707, 0.39917473653281743, 0.520662699825414, 0.0086777116637569, 0.19823103353481691, 0.37663896371615213, 0.09911551676740846, 0.03964620670696339, 0.07929241341392677, 0.17840793018133524, 0.009911551676740847, 0.1764327572911535, 0.3402631747757961, 0.45368423303439476, 0.012602339806510966, 0.3183878982862812, 0.19103273897176873, 0.10188412745160999, 0.22923928676612246, 0.1273551593145125, 0.012735515931451249, 0.2555958121615237, 0.23003623094537134, 0.11501811547268567, 0.20447664972921897, 0.16613727790499042, 0.012779790608076186, 0.396960116664013, 0.2481000729150081, 0.1984800583320065, 0.11578003402700378, 0.01654000486100054, 0.7333787416180276, 0.12222979026967128, 0.04583617135112673, 0.06111489513483564, 0.01527872378370891, 0.3087005829223254, 0.3053812218156337, 0.11617763873420847, 0.05476945826041257, 0.058088819367104236, 0.04315169438699172, 0.059748499920450074, 0.04979041660037506, 0.0016596805533458353, 0.3417739873401762, 0.2563304905051322, 0.0968359630797166, 0.06835479746803524, 0.05126609810102643, 0.16519076054775184, 0.005696233122336271, 0.146095317707758, 0.047565917393223536, 0.0747464416179227, 0.05775861397748572, 0.04416835186513614, 0.618356926111906, 0.0033975655280873954, 0.15557254086324057, 0.22139169276691928, 0.12266296491140122, 0.3410628780463351, 0.02094245742389777, 0.029917796319853956, 0.09872872785551806, 0.002991779631985396, 0.021284930910299305, 0.014899451637209514, 0.8492687433209423, 0.012770958546179583, 0.09578218909634688, 0.0021284930910299305, 0.06406329846578254, 0.008007912308222818, 0.09609494769867381, 0.46445891387692345, 0.352348141561804, 0.008007912308222818, 0.31178464697199737, 0.08503217644690837, 0.028344058815636123, 0.10770742349941727, 0.039681682341890574, 0.06235692939439948, 0.3457975175507607, 0.005668811763127225, 0.44313839825357276, 0.09727428254346719, 0.11889078977534878, 0.30263110124634235, 0.010808253615940799, 0.5397642810376206, 0.09490360985276847, 0.029657378078990146, 0.09490360985276847, 0.10676656108436453, 0.11862951231596058, 0.005931475615798029, 0.5097261462633226, 0.1472542200316265, 0.0339817430842215, 0.158581467726367, 0.0339817430842215, 0.0792907338631835, 0.0113272476947405, 0.48341309834290064, 0.07185870380772848, 0.09798914155599338, 0.30703264354211257, 0.01306521887413245, 0.006532609437066225, 0.35586662764912635, 0.18871715102605185, 0.14558180222009715, 0.06470302320893206, 0.026959593003721694, 0.10244645341414244, 0.10244645341414244, 0.005391918600744339, 0.030565113334348776, 0.748845276691545, 0.20376742222899183, 0.005094185555724796, 0.22846126902840583, 0.05330762943996136, 0.5521147334853141, 0.1370767614170435, 0.019038439085700486, 0.0038076878171400975, 0.08971534551158211, 0.11363943764800401, 0.7296848101608678, 0.04784818427284379, 0.005981023034105474, 0.034044680850832426, 0.059578191488956746, 0.8681393616962269, 0.017022340425416213, 0.008511170212708107, 0.7300302403504699, 0.12746559752151063, 0.10429003433578142, 0.011587781592864603, 0.011587781592864603, 0.11593354962487946, 0.04637341984995179, 0.03709873587996143, 0.6445905359143298, 0.018549367939980715, 0.009274683969990358, 0.11593354962487946, 0.004637341984995179, 0.08983161207426704, 0.02858278565999406, 0.03674929584856379, 0.7554021924427001, 0.04491580603713352, 0.02858278565999406, 0.0040832550942848655, 0.27679300353990616, 0.25550123403683644, 0.07452119326074397, 0.10645884751534852, 0.1809800407760925, 0.07452119326074397, 0.010645884751534853, 0.12425304613362669, 0.05647865733346667, 0.7794054712018401, 0.011295731466693335, 0.036487596173703056, 0.07297519234740611, 0.8635397761109723, 0.01216253205790102, 0.17292398608647908, 0.07822751751531196, 0.658758042234206, 0.07411027975134817, 0.006175856645945681, 0.004117237763963787, 0.0020586188819818937, 0.333534485372809, 0.17294380723034541, 0.08647190361517271, 0.06176564543940908, 0.3088282271970454, 0.012353129087881816, 0.2718351560423955, 0.2567332029289291, 0.3020390622693283, 0.060407812453865666, 0.060407812453865666, 0.015101953113466416, 0.30524850646706553, 0.20571095001041373, 0.16589592742775303, 0.13935257903931253, 0.019907511291330362, 0.14598841613642266, 0.006635837097110121, 0.7068827292481112, 0.0883603411560139, 0.16312678367264105, 0.027187797278773507, 0.006796949319693377, 0.4037528545622956, 0.08935513994411459, 0.0595700932960764, 0.2448992724394252, 0.18201972951578899, 0.0099283488826794, 0.0033094496275598, 0.3370315425591845, 0.09191769342523212, 0.03574576966536805, 0.2042615409449603, 0.22979423356308032, 0.08681115490160812, 0.005106538523624007, 0.4332165754691127, 0.03912923907462953, 0.01676967388912694, 0.20962092361408677, 0.00838483694456347, 0.18167146713220853, 0.06707869555650776, 0.03353934777825388, 0.002794945648187824, 0.7488498932077603, 0.1481241547004361, 0.05760383793905848, 0.02468735911673935, 0.008229119705579784, 0.6322136823840622, 0.20565987258276722, 0.114255484768204, 0.03808516158940133, 0.0038085161589401337, 0.29759803269506, 0.09919934423168666, 0.027054366608641817, 0.5591235765785976, 0.009018122202880606, 0.7028747709855858, 0.1464322439553304, 0.10250257076873126, 0.014643224395533038, 0.677608039611648, 0.12422814059546879, 0.14681507524919038, 0.011293467326860799, 0.011293467326860799, 0.2849519158597661, 0.1813330373653057, 0.12952359811807548, 0.08634906541205033, 0.2935868224009711, 0.008634906541205033, 0.30132056072050917, 0.16027689400027084, 0.23079872736039, 0.012822151520021667, 0.08334398488014083, 0.19874334856033585, 0.006411075760010833, 0.11519795004804073, 0.11519795004804073, 0.11519795004804073, 0.09094575003792689, 0.06669355002781305, 0.02425220001011384, 0.45472875018963443, 0.00606305000252846, 0.3589674438449241, 0.11849410767696522, 0.12023666808397943, 0.006970241628056778, 0.04704913098938325, 0.024395845698198724, 0.3188885544835976, 0.0017425604070141945, 0.6427043420204782, 0.09228575167473534, 0.13183678810676477, 0.02966327732402207, 0.09558167137740445, 0.003295919702669119, 0.30428357042826665, 0.25673926254885, 0.14263292363824998, 0.03803544630353333, 0.23772153939708332, 0.009508861575883333, 0.2962826039972413, 0.20649999672535, 0.2962826039972413, 0.07182608581751304, 0.004489130363594565, 0.11222825908986413, 0.004489130363594565, 0.10370123321871011, 0.35647298918931597, 0.5249874931697199, 0.006481327076169382, 0.20711759182287476, 0.3302685923662057, 0.06717327302363506, 0.011195545503939176, 0.061575500271665466, 0.3078775013583273, 0.005597772751969588, 0.2683485014533386, 0.0958387505190495, 0.0575032503114297, 0.0766710004152396, 0.02875162515571485, 0.4408582523876277, 0.00958387505190495, 0.18232608970048114, 0.1568852399748326, 0.08904297403976985, 0.3307310464334309, 0.1780859480795397, 0.02120070810470711, 0.02968099134658995, 0.004240141620941422, 0.12933946821788544, 0.26791746987990556, 0.21248626921509753, 0.0369541337765387, 0.3233486705447136, 0.009238533444134675, 0.24193167064799986, 0.24193167064799986, 0.13267220648438702, 0.07023822696232254, 0.2965614027298063, 0.00780424744025806, 0.3601636429492359, 0.13852447805739843, 0.08311468683443905, 0.25857902570714375, 0.036939860815306244, 0.08311468683443905, 0.009234965203826561, 0.28228323460446164, 0.48758013249861554, 0.16423751831532313, 0.02052968978941539, 0.030794534684123086, 0.005132422447353848, 0.32862206601187127, 0.04694600943026732, 0.08450281697448118, 0.25350845092344354, 0.22534084526528314, 0.03755680754421386, 0.009389201886053465, 0.35516934893485697, 0.05073847841926528, 0.08698024871874048, 0.15221543525779585, 0.22469897585674625, 0.11597366495832065, 0.007248354059895041, 0.07733786828242337, 0.012211242360382638, 0.24422484720765275, 0.02035207060063773, 0.6349846027398971, 0.0040704141201275456, 0.5374646538914224, 0.15356132968326355, 0.16972568017623865, 0.09294501533460689, 0.036369788609194, 0.004041087623243777, 0.510820002854792, 0.1964692318672277, 0.220045539691295, 0.047152615648134645, 0.007858769274689108, 0.1452024077997573, 0.1580143849585594, 0.038435931476406344, 0.17509702117029555, 0.04270659052934038, 0.004270659052934038, 0.42279524624046977, 0.004270659052934038, 0.43583081180410904, 0.1281855328835615, 0.1281855328835615, 0.06409276644178075, 0.20509685261369837, 0.012818553288356148, 0.16778340316203494, 0.07708967172309714, 0.3174280600362823, 0.42626053776300765, 0.00453468657194689, 0.11860384479786637, 0.03953461493262212, 0.2273240358625772, 0.5930192239893318, 0.00988365373315553, 0.2239413172765285, 0.14929421151768565, 0.47454231518121515, 0.1386303392664224, 0.005331936125631631, 0.5502710535958223, 0.11517301121773024, 0.19195501869621706, 0.051188004985657884, 0.051188004985657884, 0.012797001246414471, 0.13743790462676284, 0.049977419864277395, 0.13743790462676284, 0.42480806884635786, 0.08746048476248544, 0.12494354966069349, 0.012494354966069349, 0.40037886950568957, 0.1462922792424635, 0.11549390466510276, 0.023098780933020552, 0.292584558484927, 0.007699593644340184, 0.34960897961442117, 0.21732450084139693, 0.22677339218232723, 0.11338669609116361, 0.07559113072744242, 0.009448891340930302, 0.32546227256748644, 0.12517779714134095, 0.08011379017045821, 0.24534848239702825, 0.05007111885653638, 0.040056895085229104, 0.1201706852556873, 0.005007111885653638, 0.11635068582470863, 0.04475026377873409, 0.031325184645113864, 0.7965546952614667, 0.004475026377873409, 0.29929766016226916, 0.20843944189872315, 0.1068920214865247, 0.21912864404737564, 0.1229258247095034, 0.026723005371631175, 0.005344601074326235, 0.5953769623822135, 0.07717849512362027, 0.07717849512362027, 0.19845898746073784, 0.02205099860674865, 0.011025499303374325, 0.5165764068608113, 0.2700285763136059, 0.17610559324800384, 0.011740372883200257, 0.023315150435464813, 0.023315150435464813, 0.06994545130639444, 0.1398909026127889, 0.7227696634994093, 0.005828787608866203, 0.213303972707684, 0.29953323827036477, 0.07261411836857327, 0.02269191199017915, 0.03176867678625081, 0.3494554446487589, 0.00453838239803583, 0.24207586999847777, 0.48415173999695554, 0.24207586999847777, 0.01512974187490486, 0.20217382467676048, 0.09835483362653213, 0.09289067620283589, 0.12203284912921579, 0.0036427716157974863, 0.44988229455098955, 0.025499401310582405, 0.0018213858078987431, 0.1842685310333726, 0.6074036763692652, 0.10237140612965144, 0.027299041634573716, 0.06142284367779086, 0.006824760408643429, 0.08544317910310659, 0.17088635820621317, 0.484178014917604, 0.22784847760828422, 0.014240529850517764, 0.310327982050237, 0.2981582572639532, 0.23730963333253416, 0.024339449572567607, 0.11561238546969613, 0.006084862393141902, 0.2286471658518845, 0.2385883469758795, 0.5070002373237439, 0.009941181123994978, 0.4994372005909623, 0.14159302078609756, 0.10555116094963636, 0.2008046476602838, 0.005148837119494457, 0.036041859836461194, 0.0025744185597472284, 0.3192251921593681, 0.20977655484758476, 0.14137115652772017, 0.07752611809584654, 0.08208647798383752, 0.06384503843187363, 0.09120719775981946, 0.004560359887990973, 0.583294161692356, 0.08332773738462229, 0.145823540423089, 0.010415967173077786, 0.13540757325001124, 0.010415967173077786, 0.010415967173077786, 0.1426432646398523, 0.08428920183263999, 0.03241892378178461, 0.7197001079556183, 0.006483784756356923, 0.14671954067163923, 0.3348215158916895, 0.22196033075965935, 0.22196033075965935, 0.04138243454841106, 0.022572237026406036, 0.0037620395044010058, 0.0037620395044010058, 0.19231879955572162, 0.0783521035227014, 0.028491674008255054, 0.36326884360525197, 0.08547502202476517, 0.22081047356397668, 0.007122918502063764, 0.407948804332446, 0.23268191061924698, 0.06345870289615826, 0.051371330915937645, 0.0030218429950551557, 0.23570375361430215, 0.0030218429950551557, 0.52991624634031, 0.10654400720069725, 0.0841136898952873, 0.13738569349563592, 0.014018948315881215, 0.014018948315881215, 0.04205684494764365, 0.06448716225305359, 0.002803789663176243, 0.33790698760276544, 0.1888303754250748, 0.10932284893030647, 0.09938440811846043, 0.029815322435538128, 0.21864569786061294, 0.009938440811846043, 0.5173767690437464, 0.13929374551177787, 0.1426102632620583, 0.06633035500560851, 0.02321562425196298, 0.1028120502586932, 0.0033165177502804256, 0.7727228374921221, 0.04341139536472596, 0.06077595351061635, 0.017364558145890385, 0.07814051165650673, 0.008682279072945193, 0.1765357830305681, 0.24273670166703112, 0.029422630505094683, 0.022066972878821013, 0.044133945757642026, 0.08091223388901038, 0.3751385389399572, 0.007355657626273671, 0.4034226134794707, 0.3332621589613019, 0.19294124992496425, 0.017540113629542206, 0.017540113629542206, 0.4920313523555862, 0.16185241853802176, 0.28486025662691833, 0.05179277393216697, 0.0032370483707604356, 0.6930376613035142, 0.0882047932568109, 0.1764095865136218, 0.012600684750972984, 0.8499759611606462, 0.05408937934658658, 0.0695434877313256, 0.0077270541923695115, 0.8628283205684487, 0.05676502109002952, 0.03405901265401771, 0.02838251054501476, 0.005676502109002952, 0.7883111340427347, 0.056675963885425375, 0.06698068459186635, 0.06698068459186635, 0.005152360353220488, 0.005152360353220488, 0.31970877678515836, 0.2325154740255697, 0.12594588176385027, 0.1840747502702427, 0.10656959226171946, 0.009688144751065405, 0.009688144751065405, 0.2757454008441335, 0.045957566807355583, 0.018383026722942234, 0.19302178059089345, 0.4320011279891425, 0.009191513361471117, 0.37760823998774967, 0.11013573666309366, 0.06293470666462495, 0.15733676666156238, 0.06293470666462495, 0.04720102999846871, 0.14160308999540613, 0.015733676666156236, 0.01711794065477861, 0.008558970327389306, 0.04279485163694653, 0.9072508547032665, 0.008558970327389306, 0.11970183122437973, 0.01890028914069154, 0.02520038552092205, 0.6426098307835123, 0.17640269864645436, 0.006300096380230513, 0.10985566526261822, 0.00998687866023802, 0.01997375732047604, 0.8289109287997557, 0.00998687866023802, 0.03662434369078814, 0.8423599048881273, 0.05493651553618221, 0.01831217184539407, 0.6400537117542058, 0.19028623862962873, 0.08649374483164943, 0.034597497932659774, 0.017298748966329887, 0.3353557294839223, 0.15885271396606845, 0.10590180931071229, 0.03530060310357076, 0.3353557294839223, 0.00882515077589269, 0.7696048902380059, 0.046408335089729004, 0.04254097383225158, 0.030938890059819334, 0.09668403143693542, 0.0038673612574774167, 0.8525463380194449, 0.026642073063107653, 0.07104552816828708, 0.01776138204207177, 0.008880691021035884, 0.8109944680470098, 0.04194798972656947, 0.08389597945313894, 0.027965326484379646, 0.013982663242189823, 0.25019343763458035, 0.11873586870793645, 0.2586745711137187, 0.016962266958276635, 0.28411797155113366, 0.05512736761439906, 0.004240566739569159, 0.11835520391284528, 0.28602507612270944, 0.009862933659403774, 0.07890346927523019, 0.46355788199197734, 0.009862933659403774, 0.009862933659403774, 0.46648419224278687, 0.16389985132854673, 0.13868448958569338, 0.07564608522856003, 0.1260768087142667, 0.012607680871426672, 0.16825749518355693, 0.030592271851555806, 0.07648067962888952, 0.12746779938148253, 0.04588840777733371, 0.5302660454269673, 0.005098711975259301, 0.3182021798517135, 0.30584481364387994, 0.13902036983812724, 0.09885892966266827, 0.08650156345483473, 0.03398275707154222, 0.00926802465587515, 0.0030893415519583833, 0.26492302984707383, 0.5137901184912946, 0.15253144142710312, 0.040139853007132395, 0.008027970601426479, 0.367642882946729, 0.2532650971410799, 0.09803810211912772, 0.1715666787084735, 0.10212302304075804, 0.004084920921630322, 0.2747496951084056, 0.07493173502956516, 0.03746586751478258, 0.474567655187246, 0.11239760254434773, 0.012488622504927526, 0.1507237544645024, 0.2260856316967536, 0.06459589477050103, 0.043063929847000686, 0.4844692107787577, 0.010765982461750171, 0.3002035513057008, 0.09736331393698405, 0.03245443797899469, 0.5517254456429096, 0.008113609494748672, 0.3513699799555212, 0.24443129040384085, 0.19860042345312068, 0.15276955650240054, 0.015276955650240053, 0.19256937515901626, 0.07466975771472059, 0.1061096556998661, 0.05501982147400465, 0.5619881764844761, 0.003929987248143189, 0.45449619296309224, 0.19672223277506978, 0.21707280857938735, 0.02713410107242342, 0.09496935375348196, 0.006783525268105855, 0.37393021196407034, 0.17873393779414684, 0.16227160141837016, 0.028221148072760025, 0.01646233637577668, 0.23047270926087354, 0.0023517623393966686, 0.29189595218629766, 0.41081652529923374, 0.054054805960425494, 0.021621922384170197, 0.010810961192085099, 0.18378634026544666, 0.010810961192085099, 0.8219111420428648, 0.058017257085378686, 0.09669542847563115, 0.009669542847563115, 0.34037946345295267, 0.03491071420030284, 0.2007366066517413, 0.02618303565022713, 0.38401785620333123, 0.00872767855007571, 0.2349093581038393, 0.08100322693235838, 0.048601936159415035, 0.09720387231883007, 0.5184206523670937, 0.008100322693235839, 0.09134081844580529, 0.24792507863861435, 0.6132883524218354, 0.013048688349400756, 0.03430786528307311, 0.1429494386794713, 0.03430786528307311, 0.7662089913219662, 0.005717977547178852, 0.0857330866210694, 0.671575845198377, 0.12859962993160412, 0.09287751050615853, 0.007144423885089117, 0.48035677825758505, 0.26773984361898184, 0.11024581796075722, 0.11812051924366845, 0.00787470128291123, 0.04146131076122531, 0.023692177577843036, 0.07107653273352911, 0.18361437622828353, 0.663380972179605, 0.005923044394460759, 0.2542309502302923, 0.15889434389393267, 0.1906732126727192, 0.2648239064898878, 0.02118591251919102, 0.08474365007676408, 0.01059295625959551, 0.17314065170994447, 0.20351620464151368, 0.25819219991833825, 0.24604197874571057, 0.030375552931569204, 0.00911266587947076, 0.07290132703576609, 0.0030375552931569206, 0.27309374700099076, 0.1409516113553501, 0.19380846561360635, 0.0880947570970938, 0.0880947570970938, 0.1761895141941876, 0.00880947570970938, 0.5147208635829169, 0.21585068472832, 0.2269199506118236, 0.016603898825255384, 0.016603898825255384, 0.0027673164708758974, 0.7550056811753777, 0.08957694522419736, 0.1151703581453966, 0.012796706460599622, 0.012796706460599622, 0.47103956242550155, 0.10467545831677812, 0.020935091663355623, 0.15701318747516718, 0.21981846246523407, 0.010467545831677812, 0.5272328283728229, 0.19979349285706974, 0.02219927698411886, 0.09989674642853487, 0.13874548115074287, 0.005549819246029715, 0.31802415094680947, 0.5542706630787251, 0.09995044744042585, 0.009086404312765986, 0.44322619262853286, 0.10769982250786779, 0.05799221211962112, 0.33552637012066505, 0.024853805194123335, 0.020711504328436114, 0.004142300865687223, 0.2938312627284711, 0.09234696828609092, 0.07555661041589257, 0.5121059150410496, 0.008395178935099175, 0.16847192803414482, 0.3509831834044684, 0.014039327336178735, 0.02807865467235747, 0.4141601564172727, 0.0070196636680893675, 0.24614817184297536, 0.23544607741501988, 0.026755236069888624, 0.1337761803494431, 0.11772303870750994, 0.22474398298706444, 0.005351047213977725, 0.027393122716490192, 0.029883406599807483, 0.14443646523240283, 0.012451419416586451, 0.03486397436644206, 0.7445948811118698, 0.0024902838833172902, 0.24081561739731588, 0.1939903584589489, 0.04013593623288598, 0.36122342609597385, 0.026757290821923987, 0.12709713140413895, 0.006689322705480997, 0.3003688577767946, 0.05588257819103156, 0.006985322273878945, 0.5378698150886788, 0.0768385450126684, 0.006985322273878945, 0.2975162513245472, 0.1644168757319866, 0.25054000111540814, 0.10178187545313455, 0.1644168757319866, 0.007829375034856504, 0.23249042744647114, 0.27554421030692877, 0.07749680914882372, 0.3874840457441186, 0.008610756572091524, 0.13572136857149092, 0.027144273714298183, 0.7871839377146473, 0.013572136857149092, 0.30864610898103895, 0.4572534947867244, 0.14860738580568542, 0.037151846451421354, 0.037151846451421354, 0.0028578343424170275, 0.13568936524079933, 0.6722791277839603, 0.10485087314061765, 0.07401238104043599, 0.006167698420036333, 0.02415525260945835, 0.060388131523645874, 0.0161035017396389, 0.00805175086981945, 0.87764084481032, 0.004025875434909725, 0.9699660208388082, 0.008981166859618596, 0.3082423020848488, 0.28956095044334285, 0.1401101373112949, 0.10274743402828293, 0.12142878566978893, 0.009340675820752995, 0.09847182907611349, 0.2707975299593121, 0.19694365815222697, 0.07385387180708512, 0.32003344449736887, 0.012308978634514186, 0.3635152900719623, 0.445820638767501, 0.09602290681146175, 0.05144084293471165, 0.02057633717388466, 0.013717558115923107, 0.003429389528980777], \"Term\": [\"acceso\", \"acceso\", \"acceso\", \"acceso\", \"acceso\", \"acceso\", \"actividades\", \"actividades\", \"actividades\", \"actividades\", \"actividades\", \"actividades\", \"activos\", \"activos\", \"activos\", \"activos\", \"activos\", \"activos\", \"activos\", \"actual\", \"actual\", \"actual\", \"actual\", \"actual\", \"actual\", \"actual\", \"actual\", \"acuerdos\", \"acuerdos\", \"acuerdos\", \"acuerdos\", \"acuerdos\", \"acuerdos\", \"agencia\", \"agencia\", \"agencia\", \"agencia\", \"agencia\", \"agencia\", \"agencia\", \"agenda\", \"agenda\", \"agenda\", \"agenda\", \"agricola\", \"agricola\", \"agricola\", \"agricola\", \"agricola\", \"agricola\", \"agricultura\", \"agricultura\", \"agricultura\", \"agricultura\", \"agricultura\", \"agua\", \"agua\", \"agua\", \"agua\", \"agua\", \"agua\", \"agua\", \"agua\", \"ahorro\", \"ahorro\", \"ahorro\", \"ahorro\", \"ahorro\", \"ahorro\", \"ahorro\", \"aire\", \"aire\", \"aire\", \"aire\", \"aire\", \"aire\", \"alemania\", \"alemania\", \"alemania\", \"alemania\", \"alemania\", \"alemania\", \"alemania\", \"alianza\", \"alianza\", \"alianza\", \"alianza\", \"alianza\", \"alianza\", \"alianza\", \"alimentos\", \"alimentos\", \"alimentos\", \"alimentos\", \"alimentos\", \"alimentos\", \"alimentos\", \"alimentos\", \"alumnado\", \"alumnado\", \"alumnado\", \"alza\", \"alza\", \"alza\", \"alza\", \"alza\", \"ambiental\", \"ambiental\", \"ambiental\", \"ambiental\", \"ambiental\", \"ambiental\", \"ambientales\", \"ambientales\", \"ambientales\", \"ambientales\", \"ambientales\", \"america\", \"america\", \"america\", \"america\", \"america\", \"america\", \"america\", \"america\", \"amigo\", \"amigo\", \"amigo\", \"amigo\", \"amplia\", \"amplia\", \"amplia\", \"amplia\", \"amplia\", \"amplia\", \"andalucia\", \"andalucia\", \"andalucia\", \"andalucia\", \"ano\", \"ano\", \"ano\", \"ano\", \"ano\", \"ano\", \"ano\", \"ano\", \"antioquia\", \"antioquia\", \"antioquia\", \"antioquia\", \"antioquia\", \"antonio\", \"antonio\", \"antonio\", \"antonio\", \"antonio\", \"antonio\", \"anual\", \"anual\", \"anual\", \"anual\", \"anual\", \"apertura\", \"apertura\", \"apertura\", \"apertura\", \"apertura\", \"apertura\", \"aplicacion\", \"aplicacion\", \"aplicacion\", \"aplicacion\", \"aplicacion\", \"aplicacion\", \"aplicacion\", \"apoyo\", \"apoyo\", \"apoyo\", \"apoyo\", \"apoyo\", \"apoyo\", \"aprendizaje\", \"aprendizaje\", \"aprendizaje\", \"area\", \"area\", \"area\", \"area\", \"area\", \"area\", \"argentina\", \"argentina\", \"argentina\", \"argentina\", \"argentina\", \"argentina\", \"argentina\", \"argentina\", \"argentino\", \"argentino\", \"argentino\", \"argentino\", \"argentino\", \"argentino\", \"arte\", \"arte\", \"arte\", \"arte\", \"articulo\", \"articulo\", \"articulo\", \"articulo\", \"articulo\", \"articulo\", \"artistas\", \"artistas\", \"artistas\", \"artistas\", \"atencion\", \"atencion\", \"atencion\", \"atencion\", \"atencion\", \"atencion\", \"atencion\", \"aumento\", \"aumento\", \"aumento\", \"aumento\", \"aumento\", \"aumento\", \"aumento\", \"aumento\", \"aumento\", \"autoridades\", \"autoridades\", \"autoridades\", \"autoridades\", \"autoridades\", \"ayuda\", \"ayuda\", \"ayuda\", \"ayuda\", \"ayuda\", \"ayuda\", \"ayudar\", \"ayudar\", \"ayudar\", \"ayudar\", \"ayudar\", \"ayudar\", \"ayudar\", \"banco\", \"banco\", \"banco\", \"banco\", \"banco\", \"banco\", \"banco\", \"banco\", \"bancos\", \"bancos\", \"bancos\", \"bancos\", \"bancos\", \"bancos\", \"barranquilla\", \"barranquilla\", \"barranquilla\", \"barranquilla\", \"barranquilla\", \"barranquilla\", \"barrio\", \"barrio\", \"barrio\", \"barrio\", \"base\", \"base\", \"base\", \"base\", \"base\", \"base\", \"basicos\", \"basicos\", \"basicos\", \"basicos\", \"basicos\", \"bebidas\", \"bebidas\", \"bebidas\", \"bebidas\", \"bebidas\", \"bebidas\", \"bebidas\", \"beneficios\", \"beneficios\", \"beneficios\", \"beneficios\", \"beneficios\", \"beneficios\", \"beneficios\", \"billones\", \"billones\", \"billones\", \"billones\", \"billones\", \"billones\", \"bogota\", \"bogota\", \"bogota\", \"bogota\", \"bogota\", \"bogota\", \"bolivar\", \"bolivar\", \"bolivar\", \"bolivar\", \"bolivar\", \"bolsa\", \"bolsa\", \"bolsa\", \"bolsa\", \"brasil\", \"brasil\", \"brasil\", \"brasil\", \"brasil\", \"brasil\", \"brasil\", \"brasil\", \"busca\", \"busca\", \"busca\", \"busca\", \"busca\", \"busca\", \"busca\", \"busca\", \"cabeza\", \"cabeza\", \"cabeza\", \"cabeza\", \"cabeza\", \"cabeza\", \"cabeza\", \"cabeza\", \"cafe\", \"cafe\", \"cafe\", \"cafe\", \"cafe\", \"caida\", \"caida\", \"caida\", \"caida\", \"caida\", \"caida\", \"cali\", \"cali\", \"cali\", \"cali\", \"cali\", \"calidad\", \"calidad\", \"calidad\", \"calidad\", \"calidad\", \"calidad\", \"calle\", \"calle\", \"calle\", \"calle\", \"calle\", \"calor\", \"calor\", \"calor\", \"calor\", \"calor\", \"camara\", \"camara\", \"camara\", \"camara\", \"camara\", \"camara\", \"cambiar\", \"cambiar\", \"cambiar\", \"cambiar\", \"cambiar\", \"cambiar\", \"cambiar\", \"capacidad\", \"capacidad\", \"capacidad\", \"capacidad\", \"capacidad\", \"capacidad\", \"capacidades\", \"capacidades\", \"capacidades\", \"capacidades\", \"capital\", \"capital\", \"capital\", \"capital\", \"capital\", \"capital\", \"capital\", \"caracter\", \"caracter\", \"caracter\", \"caracter\", \"caracteristicas\", \"caracteristicas\", \"caracteristicas\", \"caracteristicas\", \"caracteristicas\", \"caracteristicas\", \"caracteristicas\", \"carbono\", \"carbono\", \"carbono\", \"carbono\", \"carbono\", \"carbono\", \"carga\", \"carga\", \"carga\", \"carga\", \"carga\", \"carga\", \"carga\", \"cargo\", \"cargo\", \"cargo\", \"cargo\", \"cargo\", \"cargo\", \"cargo\", \"caribe\", \"caribe\", \"caribe\", \"caribe\", \"caribe\", \"caribe\", \"carrera\", \"carrera\", \"carrera\", \"carrera\", \"carrera\", \"cartagena\", \"cartagena\", \"cartagena\", \"cartagena\", \"cartera\", \"cartera\", \"cartera\", \"cartera\", \"cartera\", \"cartera\", \"cartera\", \"casa\", \"casa\", \"casa\", \"casa\", \"casa\", \"casa\", \"caso\", \"caso\", \"caso\", \"caso\", \"caso\", \"caso\", \"caso\", \"caso\", \"casos\", \"casos\", \"casos\", \"casos\", \"casos\", \"casos\", \"casos\", \"categoria\", \"categoria\", \"categoria\", \"categoria\", \"categoria\", \"categoria\", \"causa\", \"causa\", \"causa\", \"causa\", \"causa\", \"causa\", \"causa\", \"central\", \"central\", \"central\", \"central\", \"central\", \"central\", \"central\", \"centro\", \"centro\", \"centro\", \"centro\", \"centro\", \"centro\", \"centro\", \"chile\", \"chile\", \"chile\", \"chile\", \"chile\", \"chile\", \"china\", \"china\", \"china\", \"china\", \"china\", \"china\", \"china\", \"china\", \"china\", \"ciencia\", \"ciencia\", \"ciencia\", \"ciencia\", \"ciento\", \"ciento\", \"ciento\", \"ciento\", \"ciento\", \"cifra\", \"cifra\", \"cifra\", \"cifra\", \"cifra\", \"cifra\", \"cifra\", \"cifra\", \"cifras\", \"cifras\", \"cifras\", \"cifras\", \"cifras\", \"cifras\", \"cifras\", \"ciudad\", \"ciudad\", \"ciudad\", \"ciudad\", \"ciudad\", \"ciudad\", \"ciudad\", \"ciudades\", \"ciudades\", \"ciudades\", \"ciudades\", \"ciudades\", \"ciudades\", \"clave\", \"clave\", \"clave\", \"clave\", \"clave\", \"clave\", \"clave\", \"cliente\", \"cliente\", \"cliente\", \"cliente\", \"cliente\", \"clientes\", \"clientes\", \"clientes\", \"clientes\", \"clientes\", \"clientes\", \"clientes\", \"climatico\", \"climatico\", \"climatico\", \"climatico\", \"climatico\", \"club\", \"club\", \"club\", \"club\", \"colaboracion\", \"colaboracion\", \"colaboracion\", \"colaboracion\", \"colombia\", \"colombia\", \"colombia\", \"colombia\", \"colombia\", \"colombia\", \"colombia\", \"colombia\", \"colombia\", \"colombia\", \"colombiana\", \"colombiana\", \"colombiana\", \"colombiana\", \"colombiana\", \"colombiana\", \"colombiana\", \"colombiano\", \"colombiano\", \"colombiano\", \"colombiano\", \"colombiano\", \"colombiano\", \"combustible\", \"combustible\", \"combustible\", \"combustible\", \"combustible\", \"combustible\", \"comercial\", \"comercial\", \"comercial\", \"comercial\", \"comercial\", \"comercial\", \"comercial\", \"comerciales\", \"comerciales\", \"comerciales\", \"comerciales\", \"comerciales\", \"comerciales\", \"comercio\", \"comercio\", \"comercio\", \"comercio\", \"comercio\", \"comercio\", \"comercio\", \"comision\", \"comision\", \"comision\", \"comision\", \"comision\", \"comision\", \"comision\", \"compania\", \"compania\", \"compania\", \"compania\", \"compania\", \"compania\", \"compania\", \"comparacion\", \"comparacion\", \"comparacion\", \"comparacion\", \"comparacion\", \"comparacion\", \"comparacion\", \"competencias\", \"competencias\", \"competencias\", \"competencias\", \"compra\", \"compra\", \"compra\", \"compra\", \"compra\", \"compra\", \"compra\", \"compra\", \"comprar\", \"comprar\", \"comprar\", \"comprar\", \"comprar\", \"comprar\", \"compromiso\", \"compromiso\", \"compromiso\", \"compromiso\", \"compromiso\", \"compromiso\", \"condiciones\", \"condiciones\", \"condiciones\", \"condiciones\", \"condiciones\", \"condiciones\", \"condiciones\", \"condiciones\", \"condiciones\", \"congreso\", \"congreso\", \"congreso\", \"congreso\", \"congreso\", \"congreso\", \"consecuencia\", \"consecuencia\", \"consecuencia\", \"consecuencia\", \"consecuencia\", \"consecuencia\", \"consecuencia\", \"constitucion\", \"constitucion\", \"constitucion\", \"constitucion\", \"constitucion\", \"construccion\", \"construccion\", \"construccion\", \"construccion\", \"construccion\", \"construccion\", \"consumidores\", \"consumidores\", \"consumidores\", \"consumidores\", \"consumidores\", \"consumidores\", \"consumidores\", \"consumidores\", \"consumo\", \"consumo\", \"consumo\", \"consumo\", \"consumo\", \"consumo\", \"consumo\", \"consumo\", \"contacto\", \"contacto\", \"contacto\", \"contacto\", \"contacto\", \"contacto\", \"contacto\", \"contar\", \"contar\", \"contar\", \"contar\", \"contar\", \"contar\", \"contar\", \"contar\", \"contar\", \"contenido\", \"contenido\", \"contenido\", \"contenido\", \"contenido\", \"contenido\", \"contenido\", \"contenido\", \"contenidos\", \"contenidos\", \"contenidos\", \"contenidos\", \"contenidos\", \"contenidos\", \"contratacion\", \"contratacion\", \"contratacion\", \"contratacion\", \"contratacion\", \"contratacion\", \"contrato\", \"contrato\", \"contrato\", \"contrato\", \"contrato\", \"contrato\", \"contrato\", \"contratos\", \"contratos\", \"contratos\", \"contratos\", \"contratos\", \"control\", \"control\", \"control\", \"control\", \"control\", \"control\", \"convocatoria\", \"convocatoria\", \"convocatoria\", \"convocatoria\", \"convocatoria\", \"cooky\", \"cooky\", \"copa\", \"copa\", \"copa\", \"copa\", \"correo\", \"correo\", \"correo\", \"correo\", \"correo\", \"correo\", \"corrupcion\", \"corrupcion\", \"corrupcion\", \"corrupcion\", \"cosas\", \"cosas\", \"cosas\", \"cosas\", \"cosas\", \"cosas\", \"cosas\", \"costa\", \"costa\", \"costa\", \"costa\", \"costa\", \"costa\", \"costa\", \"costa\", \"costos\", \"costos\", \"costos\", \"costos\", \"costos\", \"covid\", \"covid\", \"covid\", \"covid\", \"covid\", \"covid\", \"covid\", \"covid\", \"creacion\", \"creacion\", \"creacion\", \"creacion\", \"creacion\", \"creacion\", \"crecimiento\", \"crecimiento\", \"crecimiento\", \"crecimiento\", \"crecimiento\", \"crecimiento\", \"credito\", \"credito\", \"credito\", \"credito\", \"credito\", \"credito\", \"cruz\", \"cruz\", \"cruz\", \"cruz\", \"cuentas\", \"cuentas\", \"cuentas\", \"cuentas\", \"cuentas\", \"cuentas\", \"cuerpo\", \"cuerpo\", \"cuerpo\", \"cuerpo\", \"cuerpo\", \"cuidado\", \"cuidado\", \"cuidado\", \"cuidado\", \"cuidado\", \"cuidado\", \"culturales\", \"culturales\", \"culturales\", \"culturales\", \"daniel\", \"daniel\", \"daniel\", \"daniel\", \"daniel\", \"daniel\", \"datos\", \"datos\", \"datos\", \"datos\", \"datos\", \"datos\", \"datos\", \"defensa\", \"defensa\", \"defensa\", \"defensa\", \"defensa\", \"defensa\", \"deficit\", \"deficit\", \"deficit\", \"deficit\", \"deficit\", \"deporte\", \"deporte\", \"deporte\", \"deporte\", \"deporte\", \"derecho\", \"derecho\", \"derecho\", \"derecho\", \"derecho\", \"derechos\", \"derechos\", \"derechos\", \"derechos\", \"derechos\", \"derechos\", \"desarrollar\", \"desarrollar\", \"desarrollar\", \"desarrollar\", \"desarrollo\", \"desarrollo\", \"desarrollo\", \"desarrollo\", \"desarrollo\", \"destino\", \"destino\", \"destino\", \"destino\", \"destino\", \"destino\", \"destino\", \"detalles\", \"detalles\", \"detalles\", \"detalles\", \"detalles\", \"detalles\", \"detalles\", \"deuda\", \"deuda\", \"deuda\", \"deuda\", \"deuda\", \"deuda\", \"dialogo\", \"dialogo\", \"dialogo\", \"dialogo\", \"diario\", \"diario\", \"diario\", \"diario\", \"diario\", \"diario\", \"digital\", \"digital\", \"digital\", \"digital\", \"digital\", \"digital\", \"direccion\", \"direccion\", \"direccion\", \"direccion\", \"direccion\", \"direccion\", \"discapacidad\", \"discapacidad\", \"discapacidad\", \"discapacidad\", \"discurso\", \"discurso\", \"discurso\", \"discurso\", \"discurso\", \"diseno\", \"diseno\", \"diseno\", \"diseno\", \"diseno\", \"diseno\", \"disfrutar\", \"disfrutar\", \"disfrutar\", \"disfrutar\", \"disfrutar\", \"dolar\", \"dolar\", \"dolar\", \"dolar\", \"dolares\", \"dolares\", \"dolares\", \"dolares\", \"dolares\", \"dolares\", \"duque\", \"duque\", \"duque\", \"duque\", \"duque\", \"economia\", \"economia\", \"economia\", \"economia\", \"economia\", \"ecuador\", \"ecuador\", \"ecuador\", \"ecuador\", \"ecuador\", \"ecuador\", \"edicion\", \"edicion\", \"edicion\", \"edicion\", \"edicion\", \"edicion\", \"edicion\", \"edificio\", \"edificio\", \"edificio\", \"educacion\", \"educacion\", \"educacion\", \"educacion\", \"educacion\", \"eeuu\", \"eeuu\", \"eeuu\", \"eeuu\", \"eeuu\", \"eeuu\", \"eeuu\", \"eeuu\", \"efectos\", \"efectos\", \"efectos\", \"efectos\", \"efectos\", \"efectos\", \"efectos\", \"eficiencia\", \"eficiencia\", \"eficiencia\", \"eficiencia\", \"eficiencia\", \"eficiencia\", \"ejecucion\", \"ejecucion\", \"ejecucion\", \"ejecucion\", \"ejecucion\", \"ejercicio\", \"ejercicio\", \"ejercicio\", \"ejercicio\", \"ejercicio\", \"ejercicio\", \"ejercicio\", \"ejercito\", \"ejercito\", \"ejercito\", \"ejercito\", \"elecciones\", \"elecciones\", \"elecciones\", \"elecciones\", \"elecciones\", \"electo\", \"electo\", \"electo\", \"electo\", \"electo\", \"electrica\", \"electrica\", \"electrica\", \"electrica\", \"electrica\", \"electrica\", \"electronico\", \"electronico\", \"electronico\", \"electronico\", \"electronico\", \"electronico\", \"electronico\", \"electronico\", \"emergencia\", \"emergencia\", \"emergencia\", \"emergencia\", \"emergencia\", \"emergencia\", \"emergencia\", \"emergencia\", \"emisiones\", \"emisiones\", \"emisiones\", \"emisiones\", \"emisiones\", \"empleados\", \"empleados\", \"empleados\", \"empleados\", \"empleados\", \"empleados\", \"empleo\", \"empleo\", \"empleo\", \"empleo\", \"empleo\", \"empleo\", \"empresa\", \"empresa\", \"empresa\", \"empresa\", \"empresa\", \"empresa\", \"empresa\", \"empresarial\", \"empresarial\", \"empresarial\", \"empresarial\", \"empresarial\", \"empresas\", \"empresas\", \"empresas\", \"empresas\", \"empresas\", \"empresas\", \"empresas\", \"empresas\", \"empresas\", \"encontrar\", \"encontrar\", \"encontrar\", \"encontrar\", \"encontrar\", \"encontrar\", \"encontrar\", \"encontrar\", \"encuentran\", \"encuentran\", \"encuentran\", \"encuentran\", \"encuentran\", \"encuentran\", \"encuentran\", \"encuentro\", \"encuentro\", \"encuentro\", \"encuentro\", \"encuentro\", \"energetica\", \"energetica\", \"energetica\", \"energetica\", \"energetica\", \"energetica\", \"energia\", \"energia\", \"energia\", \"energia\", \"energia\", \"energia\", \"energia\", \"enfermedad\", \"enfermedad\", \"enfermedad\", \"enfermedad\", \"enfermedad\", \"enfermedad\", \"enfermedades\", \"enfermedades\", \"enfermedades\", \"enfermedades\", \"enfermedades\", \"enfermedades\", \"enfoque\", \"enfoque\", \"enfoque\", \"enfoque\", \"enfoque\", \"entender\", \"entender\", \"entender\", \"entender\", \"entender\", \"entrada\", \"entrada\", \"entrada\", \"entrada\", \"entrada\", \"entrada\", \"equipo\", \"equipo\", \"equipo\", \"equipo\", \"equipo\", \"equipo\", \"equipos\", \"equipos\", \"equipos\", \"equipos\", \"equipos\", \"equipos\", \"espana\", \"espana\", \"espana\", \"espana\", \"espana\", \"espana\", \"espana\", \"espana\", \"espana\", \"estrategia\", \"estrategia\", \"estrategia\", \"estrategia\", \"estrategia\", \"estudiantes\", \"estudiantes\", \"estudiantes\", \"estudiantes\", \"estudio\", \"estudio\", \"estudio\", \"estudio\", \"estudio\", \"estudio\", \"etapa\", \"etapa\", \"etapa\", \"etapa\", \"etapa\", \"etapa\", \"etapa\", \"euro\", \"euro\", \"euro\", \"euro\", \"euro\", \"euro\", \"euro\", \"europa\", \"europa\", \"europa\", \"europa\", \"europa\", \"europa\", \"europa\", \"europa\", \"europea\", \"europea\", \"europea\", \"europea\", \"europea\", \"europea\", \"europea\", \"evaluacion\", \"evaluacion\", \"evaluacion\", \"evaluacion\", \"evento\", \"evento\", \"evento\", \"evento\", \"evento\", \"evitar\", \"evitar\", \"evitar\", \"evitar\", \"evitar\", \"evitar\", \"evitar\", \"evitar\", \"evitar\", \"experiencia\", \"experiencia\", \"experiencia\", \"experiencia\", \"experiencia\", \"experiencia\", \"exportaciones\", \"exportaciones\", \"exportaciones\", \"exportaciones\", \"exportaciones\", \"factores\", \"factores\", \"factores\", \"factores\", \"factores\", \"factores\", \"familia\", \"familia\", \"familia\", \"familia\", \"familia\", \"fase\", \"fase\", \"fase\", \"fase\", \"fase\", \"fase\", \"fecha\", \"fecha\", \"fecha\", \"fecha\", \"fecha\", \"fecha\", \"feria\", \"feria\", \"feria\", \"feria\", \"feria\", \"fernandez\", \"fernandez\", \"fernandez\", \"fernandez\", \"fernandez\", \"festival\", \"festival\", \"festival\", \"festival\", \"financiacion\", \"financiacion\", \"financiacion\", \"financiacion\", \"financiacion\", \"financiacion\", \"financiamiento\", \"financiamiento\", \"financiamiento\", \"financiamiento\", \"financiamiento\", \"financiera\", \"financiera\", \"financiera\", \"financiera\", \"financiera\", \"financiera\", \"financieros\", \"financieros\", \"financieros\", \"financieros\", \"financieros\", \"financieros\", \"fine\", \"fine\", \"fine\", \"fine\", \"fine\", \"firma\", \"firma\", \"firma\", \"firma\", \"firma\", \"firma\", \"firma\", \"fondo\", \"fondo\", \"fondo\", \"fondo\", \"fondo\", \"fondo\", \"fondo\", \"fondos\", \"fondos\", \"fondos\", \"fondos\", \"fondos\", \"fondos\", \"formacion\", \"formacion\", \"formacion\", \"formacion\", \"formacion\", \"formacion\", \"formas\", \"formas\", \"formas\", \"formas\", \"formas\", \"formas\", \"francia\", \"francia\", \"francia\", \"francia\", \"francia\", \"francia\", \"fuerzas\", \"fuerzas\", \"fuerzas\", \"fuerzas\", \"fuerzas\", \"funcion\", \"funcion\", \"funcion\", \"funcion\", \"funcion\", \"funcion\", \"futbol\", \"futbol\", \"futbol\", \"futbol\", \"futbol\", \"ganancias\", \"ganancias\", \"ganancias\", \"ganancias\", \"ganancias\", \"ganancias\", \"gasto\", \"gasto\", \"gasto\", \"gasto\", \"gasto\", \"generacion\", \"generacion\", \"generacion\", \"generacion\", \"generacion\", \"generacion\", \"generacion\", \"general\", \"general\", \"general\", \"general\", \"general\", \"general\", \"general\", \"gestion\", \"gestion\", \"gestion\", \"gestion\", \"gestion\", \"global\", \"global\", \"global\", \"global\", \"global\", \"global\", \"gobierno\", \"gobierno\", \"gobierno\", \"gobierno\", \"gobierno\", \"gobierno\", \"gomez\", \"gomez\", \"gomez\", \"gomez\", \"gomez\", \"gomez\", \"grupo\", \"grupo\", \"grupo\", \"grupo\", \"grupo\", \"grupo\", \"grupo\", \"grupo\", \"guerra\", \"guerra\", \"guerra\", \"guerra\", \"guerra\", \"guerra\", \"gustavo\", \"gustavo\", \"gustavo\", \"gustavo\", \"gustavo\", \"gustavo\", \"hacienda\", \"hacienda\", \"hacienda\", \"hacienda\", \"hacienda\", \"hacienda\", \"hectareas\", \"hectareas\", \"hectareas\", \"hectareas\", \"hectareas\", \"herramientas\", \"herramientas\", \"herramientas\", \"herramientas\", \"herramientas\", \"hijo\", \"hijo\", \"hijo\", \"hijo\", \"hijos\", \"hijos\", \"hijos\", \"hijos\", \"hijos\", \"historia\", \"historia\", \"historia\", \"historia\", \"historia\", \"historia\", \"hombre\", \"hombre\", \"hombre\", \"hombre\", \"hombre\", \"hombre\", \"horas\", \"horas\", \"horas\", \"horas\", \"horas\", \"horas\", \"horas\", \"hospital\", \"hospital\", \"hospital\", \"hospital\", \"hospital\", \"igualdad\", \"igualdad\", \"igualdad\", \"igualdad\", \"igualdad\", \"imagen\", \"imagen\", \"imagen\", \"imagen\", \"implica\", \"implica\", \"implica\", \"implica\", \"implica\", \"implica\", \"impuesto\", \"impuesto\", \"impuesto\", \"impuesto\", \"impuesto\", \"impuesto\", \"impuestos\", \"impuestos\", \"impuestos\", \"impuestos\", \"impuestos\", \"impuestos\", \"impulso\", \"impulso\", \"impulso\", \"impulso\", \"impulso\", \"inclusion\", \"inclusion\", \"inclusion\", \"inclusion\", \"incluye\", \"incluye\", \"incluye\", \"incluye\", \"incluye\", \"incluye\", \"incluye\", \"incremento\", \"incremento\", \"incremento\", \"incremento\", \"incremento\", \"incremento\", \"incremento\", \"indica\", \"indica\", \"indica\", \"indica\", \"indica\", \"indica\", \"indice\", \"indice\", \"indice\", \"indice\", \"indice\", \"industria\", \"industria\", \"industria\", \"industria\", \"industria\", \"industria\", \"industria\", \"industria\", \"inflacion\", \"inflacion\", \"inflacion\", \"inflacion\", \"informacion\", \"informacion\", \"informacion\", \"informacion\", \"informacion\", \"informacion\", \"informacion\", \"infraestructura\", \"infraestructura\", \"infraestructura\", \"infraestructura\", \"infraestructura\", \"infraestructura\", \"infraestructura\", \"ingenieria\", \"ingenieria\", \"ingenieria\", \"ingenieria\", \"ingresos\", \"ingresos\", \"ingresos\", \"ingresos\", \"ingresos\", \"ingresos\", \"ingresos\", \"iniciativa\", \"iniciativa\", \"iniciativa\", \"iniciativa\", \"iniciativa\", \"iniciativa\", \"iniciativas\", \"iniciativas\", \"iniciativas\", \"iniciativas\", \"innovacion\", \"innovacion\", \"innovacion\", \"innovacion\", \"innovacion\", \"instalaciones\", \"instalaciones\", \"instalaciones\", \"instalaciones\", \"integracion\", \"integracion\", \"integracion\", \"integracion\", \"integracion\", \"integral\", \"integral\", \"integral\", \"integral\", \"interes\", \"interes\", \"interes\", \"interes\", \"interes\", \"intereses\", \"intereses\", \"intereses\", \"intereses\", \"intereses\", \"intereses\", \"internacional\", \"internacional\", \"internacional\", \"internacional\", \"internacional\", \"internacional\", \"internacional\", \"internacionales\", \"internacionales\", \"internacionales\", \"internacionales\", \"internacionales\", \"internet\", \"internet\", \"internet\", \"internet\", \"internet\", \"internet\", \"inversion\", \"inversion\", \"inversion\", \"inversion\", \"inversion\", \"inversion\", \"inversion\", \"inversiones\", \"inversiones\", \"inversiones\", \"inversiones\", \"inversiones\", \"inversiones\", \"investigacion\", \"investigacion\", \"investigacion\", \"investigacion\", \"investigacion\", \"investigacion\", \"investigacion\", \"investigaciones\", \"investigaciones\", \"investigaciones\", \"investigaciones\", \"investigaciones\", \"investigaciones\", \"ivan\", \"ivan\", \"ivan\", \"ivan\", \"izquierda\", \"izquierda\", \"izquierda\", \"izquierda\", \"izquierda\", \"jornada\", \"jornada\", \"jornada\", \"jornada\", \"jornada\", \"jornada\", \"jornada\", \"jose\", \"jose\", \"jose\", \"jose\", \"jose\", \"jose\", \"jose\", \"joven\", \"joven\", \"joven\", \"joven\", \"juego\", \"juego\", \"juego\", \"juego\", \"juego\", \"juego\", \"juegos\", \"juegos\", \"juegos\", \"juegos\", \"juegos\", \"justicia\", \"justicia\", \"justicia\", \"justicia\", \"kilometros\", \"kilometros\", \"kilometros\", \"kilometros\", \"kilometros\", \"laboral\", \"laboral\", \"laboral\", \"laboral\", \"laboral\", \"laboral\", \"laborales\", \"laborales\", \"laborales\", \"laborales\", \"laborales\", \"laborales\", \"latinoamerica\", \"latinoamerica\", \"latinoamerica\", \"latinoamerica\", \"latinoamerica\", \"latinoamerica\", \"leche\", \"leche\", \"leche\", \"leche\", \"leche\", \"legal\", \"legal\", \"legal\", \"legal\", \"legal\", \"libro\", \"libro\", \"libro\", \"libro\", \"libro\", \"lideres\", \"lideres\", \"lideres\", \"lideres\", \"lideres\", \"linea\", \"linea\", \"linea\", \"linea\", \"linea\", \"linea\", \"linea\", \"linea\", \"linea\", \"llega\", \"llega\", \"llega\", \"llega\", \"llega\", \"llega\", \"llega\", \"llega\", \"lugar\", \"lugar\", \"lugar\", \"lugar\", \"lugar\", \"lugar\", \"lugar\", \"lugar\", \"madre\", \"madre\", \"madre\", \"madre\", \"madrid\", \"madrid\", \"madrid\", \"madrid\", \"madrid\", \"madrid\", \"mandatario\", \"mandatario\", \"mandatario\", \"mandatario\", \"mandatario\", \"manos\", \"manos\", \"manos\", \"manos\", \"manos\", \"manos\", \"manos\", \"marca\", \"marca\", \"marca\", \"marca\", \"marca\", \"marca\", \"marca\", \"marcas\", \"marcas\", \"marcas\", \"marcas\", \"marcas\", \"marcas\", \"marcas\", \"marquez\", \"marquez\", \"marquez\", \"marquez\", \"martin\", \"martin\", \"martin\", \"martin\", \"massa\", \"massa\", \"materia\", \"materia\", \"materia\", \"materia\", \"materia\", \"materia\", \"medellin\", \"medellin\", \"medellin\", \"medellin\", \"medico\", \"medico\", \"medico\", \"medico\", \"medico\", \"medidas\", \"medidas\", \"medidas\", \"medidas\", \"medidas\", \"medidas\", \"medidas\", \"mejores\", \"mejores\", \"mejores\", \"mejores\", \"mejores\", \"mejores\", \"mejores\", \"mejores\", \"mercado\", \"mercado\", \"mercado\", \"mercado\", \"mercado\", \"mercado\", \"mercado\", \"mercado\", \"mercados\", \"mercados\", \"mercados\", \"mercados\", \"mercados\", \"mercados\", \"mercados\", \"metro\", \"metro\", \"metro\", \"metro\", \"metro\", \"metro\", \"mexico\", \"mexico\", \"mexico\", \"mexico\", \"mexico\", \"mexico\", \"mexico\", \"militar\", \"militar\", \"militar\", \"militar\", \"militar\", \"militares\", \"militares\", \"militares\", \"militares\", \"millones\", \"millones\", \"millones\", \"millones\", \"millones\", \"millones\", \"millones\", \"millones\", \"millones\", \"millones\", \"ministerio\", \"ministerio\", \"ministerio\", \"ministerio\", \"ministerio\", \"ministerio\", \"ministra\", \"ministra\", \"ministra\", \"ministra\", \"ministro\", \"ministro\", \"ministro\", \"ministro\", \"ministro\", \"ministro\", \"ministro\", \"minutos\", \"minutos\", \"minutos\", \"minutos\", \"minutos\", \"minutos\", \"moda\", \"moda\", \"moda\", \"moda\", \"moda\", \"modelo\", \"modelo\", \"modelo\", \"modelo\", \"modelo\", \"modelo\", \"modelos\", \"modelos\", \"modelos\", \"modelos\", \"modelos\", \"modelos\", \"momento\", \"momento\", \"momento\", \"momento\", \"momento\", \"momento\", \"momento\", \"muerte\", \"muerte\", \"muerte\", \"muerte\", \"muerte\", \"mujer\", \"mujer\", \"mujer\", \"mujer\", \"mujer\", \"mujeres\", \"mujeres\", \"mujeres\", \"mujeres\", \"mujeres\", \"mujeres\", \"mundial\", \"mundial\", \"mundial\", \"mundial\", \"mundial\", \"mundial\", \"mundial\", \"mundial\", \"mundial\", \"mundo\", \"mundo\", \"mundo\", \"mundo\", \"mundo\", \"mundo\", \"mundo\", \"mundo\", \"municipal\", \"municipal\", \"municipal\", \"municipal\", \"municipio\", \"municipio\", \"municipio\", \"municipio\", \"municipios\", \"municipios\", \"municipios\", \"municipios\", \"musica\", \"musica\", \"musica\", \"musica\", \"nacional\", \"nacional\", \"nacional\", \"nacional\", \"nacional\", \"nacional\", \"nacional\", \"naciones\", \"naciones\", \"naciones\", \"naciones\", \"naciones\", \"natural\", \"natural\", \"natural\", \"natural\", \"natural\", \"natural\", \"natural\", \"naturales\", \"naturales\", \"naturales\", \"naturales\", \"naturales\", \"naturales\", \"naturales\", \"necesidades\", \"necesidades\", \"necesidades\", \"necesidades\", \"necesidades\", \"necesidades\", \"negocio\", \"negocio\", \"negocio\", \"negocio\", \"negocio\", \"negocio\", \"negocio\", \"nina\", \"nina\", \"nina\", \"nina\", \"nina\", \"ninos\", \"ninos\", \"ninos\", \"ninos\", \"ninos\", \"niveles\", \"niveles\", \"niveles\", \"niveles\", \"niveles\", \"niveles\", \"niveles\", \"noche\", \"noche\", \"noche\", \"noche\", \"noche\", \"noche\", \"nombre\", \"nombre\", \"nombre\", \"nombre\", \"nombre\", \"nombre\", \"nombre\", \"norte\", \"norte\", \"norte\", \"norte\", \"norte\", \"norte\", \"norte\", \"noticias\", \"noticias\", \"noticias\", \"noticias\", \"noticias\", \"noticias\", \"noticias\", \"numero\", \"numero\", \"numero\", \"numero\", \"numero\", \"numero\", \"numero\", \"obras\", \"obras\", \"obras\", \"obras\", \"obras\", \"obtener\", \"obtener\", \"obtener\", \"obtener\", \"obtener\", \"obtener\", \"ofrece\", \"ofrece\", \"ofrece\", \"ofrece\", \"ofrece\", \"ofrece\", \"ofrecer\", \"ofrecer\", \"ofrecer\", \"ofrecer\", \"ofrecer\", \"ofrecer\", \"opcion\", \"opcion\", \"opcion\", \"opcion\", \"opcion\", \"opcion\", \"opcion\", \"opciones\", \"opciones\", \"opciones\", \"opciones\", \"opciones\", \"opciones\", \"opciones\", \"operacion\", \"operacion\", \"operacion\", \"operacion\", \"operacion\", \"operacion\", \"operaciones\", \"operaciones\", \"operaciones\", \"operaciones\", \"operaciones\", \"operaciones\", \"oposicion\", \"oposicion\", \"oposicion\", \"oposicion\", \"oposicion\", \"organismo\", \"organismo\", \"organismo\", \"organismo\", \"organismo\", \"organismo\", \"pacientes\", \"pacientes\", \"pacientes\", \"pacientes\", \"pacto\", \"pacto\", \"pacto\", \"pacto\", \"padre\", \"padre\", \"padre\", \"padre\", \"pagar\", \"pagar\", \"pagar\", \"pagar\", \"pagar\", \"pagar\", \"pagar\", \"pagina\", \"pagina\", \"pagina\", \"pagina\", \"pagina\", \"pais\", \"pais\", \"pais\", \"pais\", \"pais\", \"pais\", \"pais\", \"pais\", \"paises\", \"paises\", \"paises\", \"paises\", \"paises\", \"paises\", \"paises\", \"paises\", \"pandemia\", \"pandemia\", \"pandemia\", \"pandemia\", \"pandemia\", \"pandemia\", \"parque\", \"parque\", \"parque\", \"parque\", \"parque\", \"parque\", \"parque\", \"partido\", \"partido\", \"partido\", \"partido\", \"partido\", \"partidos\", \"partidos\", \"partidos\", \"partidos\", \"partidos\", \"patrimonio\", \"patrimonio\", \"patrimonio\", \"patrimonio\", \"patrimonio\", \"patrimonio\", \"patrimonio\", \"pedro\", \"pedro\", \"pedro\", \"pedro\", \"pensiones\", \"pensiones\", \"pensiones\", \"pensiones\", \"pensiones\", \"pensiones\", \"perdida\", \"perdida\", \"perdida\", \"perdida\", \"perdida\", \"perdida\", \"perfil\", \"perfil\", \"perfil\", \"perfil\", \"perfil\", \"permiten\", \"permiten\", \"permiten\", \"permiten\", \"permiten\", \"persona\", \"persona\", \"persona\", \"persona\", \"persona\", \"persona\", \"persona\", \"persona\", \"persona\", \"personal\", \"personal\", \"personal\", \"personal\", \"personal\", \"personal\", \"personal\", \"peru\", \"peru\", \"peru\", \"peru\", \"peru\", \"peru\", \"peru\", \"peso\", \"peso\", \"peso\", \"peso\", \"peso\", \"peso\", \"peso\", \"peso\", \"petro\", \"petro\", \"petro\", \"petro\", \"petro\", \"petro\", \"petroleo\", \"petroleo\", \"petroleo\", \"petroleo\", \"petroleo\", \"petroleo\", \"planta\", \"planta\", \"planta\", \"planta\", \"planta\", \"planta\", \"planta\", \"planta\", \"plantas\", \"plantas\", \"plantas\", \"plantas\", \"plantas\", \"plataforma\", \"plataforma\", \"plataforma\", \"plataforma\", \"plataforma\", \"plataforma\", \"plataforma\", \"plataformas\", \"plataformas\", \"plataformas\", \"plataformas\", \"plataformas\", \"plataformas\", \"plataformas\", \"plazo\", \"plazo\", \"plazo\", \"plazo\", \"plazo\", \"plazo\", \"poblacion\", \"poblacion\", \"poblacion\", \"poblacion\", \"poblacion\", \"poblacion\", \"poblacion\", \"poblacion\", \"policia\", \"policia\", \"policia\", \"policia\", \"politica\", \"politica\", \"politica\", \"politica\", \"politica\", \"politica\", \"politico\", \"politico\", \"politico\", \"politico\", \"politico\", \"posesion\", \"posesion\", \"posesion\", \"posesion\", \"posesion\", \"practicas\", \"practicas\", \"practicas\", \"practicas\", \"practicas\", \"precio\", \"precio\", \"precio\", \"precio\", \"precio\", \"precio\", \"precio\", \"precio\", \"precios\", \"precios\", \"precios\", \"precios\", \"precios\", \"precios\", \"precios\", \"presenta\", \"presenta\", \"presenta\", \"presenta\", \"presenta\", \"presenta\", \"presenta\", \"presidencia\", \"presidencia\", \"presidencia\", \"presidencia\", \"presidencial\", \"presidencial\", \"presidencial\", \"presidencial\", \"presidente\", \"presidente\", \"presidente\", \"presidente\", \"presidente\", \"presidente\", \"presidente\", \"prevencion\", \"prevencion\", \"prevencion\", \"prevencion\", \"prevencion\", \"prevencion\", \"principio\", \"principio\", \"principio\", \"principio\", \"principio\", \"principio\", \"problemas\", \"problemas\", \"problemas\", \"problemas\", \"problemas\", \"problemas\", \"problemas\", \"procesos\", \"procesos\", \"procesos\", \"procesos\", \"procesos\", \"produccion\", \"produccion\", \"produccion\", \"produccion\", \"produccion\", \"produccion\", \"produccion\", \"producto\", \"producto\", \"producto\", \"producto\", \"producto\", \"producto\", \"producto\", \"productos\", \"productos\", \"productos\", \"productos\", \"productos\", \"productos\", \"productos\", \"productos\", \"productos\", \"profesionales\", \"profesionales\", \"profesionales\", \"profesionales\", \"profesionales\", \"programa\", \"programa\", \"programa\", \"programa\", \"programa\", \"promedio\", \"promedio\", \"promedio\", \"promedio\", \"promedio\", \"promocion\", \"promocion\", \"promocion\", \"promocion\", \"promover\", \"promover\", \"promover\", \"promover\", \"promover\", \"propiedad\", \"propiedad\", \"propiedad\", \"propiedad\", \"propiedad\", \"propiedad\", \"propuesta\", \"propuesta\", \"propuesta\", \"propuesta\", \"propuesta\", \"propuesta\", \"propuesta\", \"proxima\", \"proxima\", \"proxima\", \"proxima\", \"proxima\", \"proxima\", \"proxima\", \"proxima\", \"proyecto\", \"proyecto\", \"proyecto\", \"proyecto\", \"proyecto\", \"proyecto\", \"proyecto\", \"proyecto\", \"proyectos\", \"proyectos\", \"proyectos\", \"proyectos\", \"proyectos\", \"proyectos\", \"pruebas\", \"pruebas\", \"pruebas\", \"pruebas\", \"pruebas\", \"pruebas\", \"publica\", \"publica\", \"publica\", \"publica\", \"publica\", \"publica\", \"publica\", \"pueblo\", \"pueblo\", \"pueblo\", \"pueblo\", \"puerto\", \"puerto\", \"puerto\", \"puerto\", \"puerto\", \"puerto\", \"puerto\", \"puestos\", \"puestos\", \"puestos\", \"puestos\", \"puestos\", \"puestos\", \"puestos\", \"puntos\", \"puntos\", \"puntos\", \"puntos\", \"puntos\", \"puntos\", \"puntos\", \"puntos\", \"radio\", \"radio\", \"radio\", \"radio\", \"radio\", \"radio\", \"recibir\", \"recibir\", \"recibir\", \"recibir\", \"recibir\", \"recibir\", \"recuperacion\", \"recuperacion\", \"recuperacion\", \"recuperacion\", \"recuperacion\", \"recuperacion\", \"recuperacion\", \"redes\", \"redes\", \"redes\", \"redes\", \"redes\", \"redes\", \"reduccion\", \"reduccion\", \"reduccion\", \"reduccion\", \"reduccion\", \"reduccion\", \"reduccion\", \"reducir\", \"reducir\", \"reducir\", \"reducir\", \"reducir\", \"reducir\", \"reducir\", \"reforma\", \"reforma\", \"reforma\", \"reforma\", \"reforma\", \"reforma\", \"region\", \"region\", \"region\", \"region\", \"region\", \"region\", \"regional\", \"regional\", \"regional\", \"regional\", \"regional\", \"registro\", \"registro\", \"registro\", \"registro\", \"registro\", \"registro\", \"registro\", \"registro\", \"relacionados\", \"relacionados\", \"relacionados\", \"relacionados\", \"relacionados\", \"relacionados\", \"relaciones\", \"relaciones\", \"relaciones\", \"relaciones\", \"relaciones\", \"renta\", \"renta\", \"renta\", \"renta\", \"renta\", \"republica\", \"republica\", \"republica\", \"republica\", \"republica\", \"requiere\", \"requiere\", \"requiere\", \"requiere\", \"requiere\", \"requiere\", \"reservas\", \"reservas\", \"reservas\", \"reservas\", \"reservas\", \"reservas\", \"reservas\", \"responsable\", \"responsable\", \"responsable\", \"responsable\", \"responsable\", \"responsable\", \"respuesta\", \"respuesta\", \"respuesta\", \"respuesta\", \"respuesta\", \"respuesta\", \"resultados\", \"resultados\", \"resultados\", \"resultados\", \"resultados\", \"resultados\", \"resultados\", \"resultados\", \"rica\", \"rica\", \"rica\", \"rica\", \"rica\", \"riesgo\", \"riesgo\", \"riesgo\", \"riesgo\", \"riesgo\", \"riesgo\", \"riesgo\", \"riesgos\", \"riesgos\", \"riesgos\", \"riesgos\", \"riesgos\", \"riesgos\", \"rural\", \"rural\", \"rural\", \"rural\", \"rusia\", \"rusia\", \"rusia\", \"rusia\", \"rusia\", \"rusia\", \"ruta\", \"ruta\", \"ruta\", \"ruta\", \"ruta\", \"ruta\", \"ruta\", \"sala\", \"sala\", \"sala\", \"sala\", \"salud\", \"salud\", \"salud\", \"salud\", \"salud\", \"salud\", \"salud\", \"salud\", \"santa\", \"santa\", \"santa\", \"santa\", \"santa\", \"santa\", \"santos\", \"santos\", \"santos\", \"santos\", \"santos\", \"secretaria\", \"secretaria\", \"secretaria\", \"secretaria\", \"secretaria\", \"secretaria\", \"secretario\", \"secretario\", \"secretario\", \"secretario\", \"sector\", \"sector\", \"sector\", \"sector\", \"sector\", \"sector\", \"sector\", \"seguir\", \"seguir\", \"seguir\", \"seguir\", \"seguir\", \"seguir\", \"seguir\", \"seguir\", \"seguros\", \"seguros\", \"seguros\", \"seguros\", \"seguros\", \"seguros\", \"seguros\", \"seleccion\", \"seleccion\", \"seleccion\", \"seleccion\", \"seleccion\", \"semana\", \"semana\", \"semana\", \"semana\", \"semana\", \"semana\", \"semana\", \"semana\", \"semestre\", \"semestre\", \"semestre\", \"semestre\", \"semestre\", \"semestre\", \"semestre\", \"servicio\", \"servicio\", \"servicio\", \"servicio\", \"servicio\", \"servicio\", \"servicio\", \"servicios\", \"servicios\", \"servicios\", \"servicios\", \"servicios\", \"servicios\", \"servicios\", \"servicios\", \"servicios\", \"siguientes\", \"siguientes\", \"siguientes\", \"siguientes\", \"siguientes\", \"siguientes\", \"siguientes\", \"sistema\", \"sistema\", \"sistema\", \"sistema\", \"sistema\", \"sistema\", \"sistema\", \"sistemas\", \"sistemas\", \"sistemas\", \"sistemas\", \"sistemas\", \"sistemas\", \"sitio\", \"sitio\", \"sitio\", \"sitio\", \"sitio\", \"sitio\", \"sitio\", \"sitio\", \"situaciones\", \"situaciones\", \"situaciones\", \"situaciones\", \"situaciones\", \"social\", \"social\", \"social\", \"social\", \"social\", \"socios\", \"socios\", \"socios\", \"socios\", \"soluciones\", \"soluciones\", \"soluciones\", \"soluciones\", \"sostenibilidad\", \"sostenibilidad\", \"sostenibilidad\", \"sostenibilidad\", \"sostenibilidad\", \"sostenible\", \"sostenible\", \"sostenible\", \"sostenible\", \"sostenible\", \"sostenible\", \"suma\", \"suma\", \"suma\", \"suma\", \"suma\", \"suma\", \"suma\", \"suministro\", \"suministro\", \"suministro\", \"suministro\", \"suministro\", \"suministro\", \"supone\", \"supone\", \"supone\", \"supone\", \"supone\", \"supone\", \"supone\", \"supone\", \"taiwan\", \"taiwan\", \"taiwan\", \"taiwan\", \"taiwan\", \"tasa\", \"tasa\", \"tasa\", \"tasa\", \"tasa\", \"tasa\", \"tasas\", \"tasas\", \"tasas\", \"tasas\", \"tasas\", \"teatro\", \"teatro\", \"teatro\", \"teatro\", \"tecnicas\", \"tecnicas\", \"tecnicas\", \"tecnicas\", \"tecnicas\", \"tecnico\", \"tecnico\", \"tecnico\", \"tecnico\", \"tecnico\", \"tecnico\", \"tecnologia\", \"tecnologia\", \"tecnologia\", \"tecnologia\", \"tecnologia\", \"tecnologia\", \"tecnologias\", \"tecnologias\", \"tecnologias\", \"tecnologias\", \"tecnologias\", \"tecnologica\", \"tecnologica\", \"tecnologica\", \"tecnologica\", \"tecnologica\", \"temas\", \"temas\", \"temas\", \"temas\", \"temas\", \"temas\", \"temas\", \"temporada\", \"temporada\", \"temporada\", \"temporada\", \"temporada\", \"temporada\", \"temporada\", \"tengan\", \"tengan\", \"tengan\", \"tengan\", \"tengan\", \"tengan\", \"terminos\", \"terminos\", \"terminos\", \"terminos\", \"terminos\", \"terminos\", \"terminos\", \"tiempo\", \"tiempo\", \"tiempo\", \"tiempo\", \"tiempo\", \"tiempo\", \"tiempo\", \"tiempo\", \"tierra\", \"tierra\", \"tierra\", \"tierra\", \"tierra\", \"tipo\", \"tipo\", \"tipo\", \"tipo\", \"tipo\", \"tipo\", \"tipos\", \"tipos\", \"tipos\", \"tipos\", \"tipos\", \"tipos\", \"titulo\", \"titulo\", \"titulo\", \"titulo\", \"titulo\", \"titulo\", \"toneladas\", \"toneladas\", \"toneladas\", \"toneladas\", \"toneladas\", \"torno\", \"torno\", \"torno\", \"torno\", \"torno\", \"trabajadores\", \"trabajadores\", \"trabajadores\", \"trabajadores\", \"trabajadores\", \"trabajadores\", \"trabajar\", \"trabajar\", \"trabajar\", \"trabajar\", \"trabajar\", \"trabajar\", \"trabajo\", \"trabajo\", \"trabajo\", \"trabajo\", \"trabajo\", \"trabajo\", \"trabajo\", \"trabajos\", \"trabajos\", \"trabajos\", \"trabajos\", \"trabajos\", \"trabajos\", \"trabajos\", \"transformacion\", \"transformacion\", \"transformacion\", \"transformacion\", \"transicion\", \"transicion\", \"transicion\", \"transicion\", \"transicion\", \"transicion\", \"tratamiento\", \"tratamiento\", \"tratamiento\", \"tratamiento\", \"tratamiento\", \"tratamiento\", \"tribunal\", \"tribunal\", \"tribunal\", \"tribunal\", \"tributaria\", \"tributaria\", \"tributaria\", \"tributaria\", \"tributaria\", \"trimestre\", \"trimestre\", \"trimestre\", \"trimestre\", \"trimestre\", \"turismo\", \"turismo\", \"turismo\", \"turismo\", \"turismo\", \"ucrania\", \"ucrania\", \"ucrania\", \"ucrania\", \"ucrania\", \"ucrania\", \"unido\", \"unido\", \"unido\", \"unido\", \"unido\", \"unido\", \"unido\", \"unidos\", \"unidos\", \"unidos\", \"unidos\", \"unidos\", \"unidos\", \"unidos\", \"unidos\", \"union\", \"union\", \"union\", \"union\", \"union\", \"union\", \"union\", \"universidad\", \"universidad\", \"universidad\", \"universidad\", \"universidad\", \"universidad\", \"universidades\", \"universidades\", \"universidades\", \"universidades\", \"universidades\", \"usuario\", \"usuario\", \"usuario\", \"usuario\", \"usuario\", \"usuario\", \"usuarios\", \"usuarios\", \"usuarios\", \"usuarios\", \"usuarios\", \"usuarios\", \"valle\", \"valle\", \"valle\", \"valle\", \"valor\", \"valor\", \"valor\", \"valor\", \"valor\", \"valor\", \"valor\", \"valores\", \"valores\", \"valores\", \"valores\", \"valores\", \"vehiculo\", \"vehiculo\", \"vehiculo\", \"vehiculo\", \"vehiculo\", \"vehiculo\", \"vehiculos\", \"vehiculos\", \"vehiculos\", \"vehiculos\", \"vehiculos\", \"vehiculos\", \"vehiculos\", \"venezuela\", \"venezuela\", \"venezuela\", \"venezuela\", \"venezuela\", \"venezuela\", \"venezuela\", \"venta\", \"venta\", \"venta\", \"venta\", \"venta\", \"venta\", \"venta\", \"ventas\", \"ventas\", \"ventas\", \"ventas\", \"ventas\", \"ventas\", \"verde\", \"verde\", \"verde\", \"verde\", \"verde\", \"verde\", \"version\", \"version\", \"version\", \"version\", \"version\", \"vicepresidenta\", \"vicepresidenta\", \"vicepresidenta\", \"vicepresidenta\", \"vida\", \"vida\", \"vida\", \"vida\", \"vida\", \"vida\", \"video\", \"video\", \"video\", \"video\", \"video\", \"vino\", \"vino\", \"vino\", \"vino\", \"vino\", \"vino\", \"viruela\", \"viruela\", \"vista\", \"vista\", \"vista\", \"vista\", \"vista\", \"vista\", \"vuelta\", \"vuelta\", \"vuelta\", \"vuelta\", \"vuelta\", \"vuelta\", \"zona\", \"zona\", \"zona\", \"zona\", \"zona\", \"zona\", \"zona\"]}, \"R\": 30, \"lambda.step\": 0.01, \"plot.opts\": {\"xlab\": \"PC1\", \"ylab\": \"PC2\"}, \"topic.order\": [17, 8, 20, 1, 19, 14, 16, 15, 4, 11, 5, 6, 13, 18, 10, 3, 2, 7, 12, 9]};\n",
              "\n",
              "function LDAvis_load_lib(url, callback){\n",
              "  var s = document.createElement('script');\n",
              "  s.src = url;\n",
              "  s.async = true;\n",
              "  s.onreadystatechange = s.onload = callback;\n",
              "  s.onerror = function(){console.warn(\"failed to load library \" + url);};\n",
              "  document.getElementsByTagName(\"head\")[0].appendChild(s);\n",
              "}\n",
              "\n",
              "if(typeof(LDAvis) !== \"undefined\"){\n",
              "   // already loaded: just create the visualization\n",
              "   !function(LDAvis){\n",
              "       new LDAvis(\"#\" + \"ldavis_el2258825248558118729551238264\", ldavis_el2258825248558118729551238264_data);\n",
              "   }(LDAvis);\n",
              "}else if(typeof define === \"function\" && define.amd){\n",
              "   // require.js is available: use it to load d3/LDAvis\n",
              "   require.config({paths: {d3: \"https://d3js.org/d3.v5\"}});\n",
              "   require([\"d3\"], function(d3){\n",
              "      window.d3 = d3;\n",
              "      LDAvis_load_lib(\"https://cdn.jsdelivr.net/gh/bmabey/pyLDAvis@3.3.1/pyLDAvis/js/ldavis.v3.0.0.js\", function(){\n",
              "        new LDAvis(\"#\" + \"ldavis_el2258825248558118729551238264\", ldavis_el2258825248558118729551238264_data);\n",
              "      });\n",
              "    });\n",
              "}else{\n",
              "    // require.js not available: dynamically load d3 & LDAvis\n",
              "    LDAvis_load_lib(\"https://d3js.org/d3.v5.js\", function(){\n",
              "         LDAvis_load_lib(\"https://cdn.jsdelivr.net/gh/bmabey/pyLDAvis@3.3.1/pyLDAvis/js/ldavis.v3.0.0.js\", function(){\n",
              "                 new LDAvis(\"#\" + \"ldavis_el2258825248558118729551238264\", ldavis_el2258825248558118729551238264_data);\n",
              "            })\n",
              "         });\n",
              "}\n",
              "</script>"
            ],
            "text/plain": [
              "PreparedData(topic_coordinates=                x           y  topics  cluster       Freq\n",
              "topic                                                    \n",
              "16     -10.878068   10.538728       1        1  32.046604\n",
              "7      -60.884026  -75.591820       2        1  20.170684\n",
              "19      -2.336119  -53.289074       3        1  17.508670\n",
              "0      -61.385319  -12.914634       4        1  11.186976\n",
              "18     -28.737743  126.296997       5        1   3.104765\n",
              "13       1.066606 -123.552811       6        1   1.803639\n",
              "15      45.140720   -7.947869       7        1   1.588416\n",
              "14    -140.795975  -98.530548       8        1   1.385609\n",
              "3       61.531681  -83.240562       9        1   1.261315\n",
              "10     -72.563057 -140.396881      10        1   1.247032\n",
              "4       15.984491   63.578186      11        1   1.212352\n",
              "5     -160.851624   68.945145      12        1   1.043999\n",
              "12      85.961830   51.922935      13        1   0.949753\n",
              "17     -99.020836  109.936348      14        1   0.938678\n",
              "9     -176.764130   -8.681684      15        1   0.817476\n",
              "2     -117.189880  -37.420200      16        1   0.775715\n",
              "1      108.829918  -22.946203      17        1   0.768635\n",
              "6       47.588097  121.934814      18        1   0.748196\n",
              "11    -106.467834   30.176889      19        1   0.721303\n",
              "8      -50.613804   59.328842      20        1   0.720183, topic_info=          Term        Freq       Total Category  logprob  loglift\n",
              "213      cooky  724.000000  724.000000  Default  30.0000  30.0000\n",
              "209   contrato  494.000000  494.000000  Default  29.0000  29.0000\n",
              "102       cafe  483.000000  483.000000  Default  28.0000  28.0000\n",
              "604     mexico  523.000000  523.000000  Default  27.0000  27.0000\n",
              "793   proyecto  573.000000  573.000000  Default  26.0000  26.0000\n",
              "..         ...         ...         ...      ...      ...      ...\n",
              "745  practicas    0.516839   86.297795  Topic20  -7.5906  -0.1844\n",
              "784   promover    0.516839   88.546765  Topic20  -7.5906  -0.2101\n",
              "53       apoyo    0.516839  185.907433  Topic20  -7.5906  -0.9519\n",
              "720      petro    0.516839  469.815948  Topic20  -7.5906  -1.8789\n",
              "979    version    0.516839  116.133814  Topic20  -7.5906  -0.4813\n",
              "\n",
              "[920 rows x 6 columns], token_table=      Topic      Freq    Term\n",
              "term                         \n",
              "1         1  0.415913  acceso\n",
              "1         2  0.110095  acceso\n",
              "1         3  0.085629  acceso\n",
              "1         4  0.053009  acceso\n",
              "1        17  0.326206  acceso\n",
              "...     ...       ...     ...\n",
              "999       3  0.096023    zona\n",
              "999       4  0.051441    zona\n",
              "999       5  0.020576    zona\n",
              "999       6  0.013718    zona\n",
              "999      20  0.003429    zona\n",
              "\n",
              "[3231 rows x 3 columns], R=30, lambda_step=0.01, plot_opts={'xlab': 'PC1', 'ylab': 'PC2'}, topic_order=[17, 8, 20, 1, 19, 14, 16, 15, 4, 11, 5, 6, 13, 18, 10, 3, 2, 7, 12, 9])"
            ]
          },
          "execution_count": 21,
          "metadata": {},
          "output_type": "execute_result"
        }
      ],
      "source": [
        "import pyLDAvis \n",
        "import pyLDAvis.sklearn \n",
        "\n",
        "pyLDAvis.enable_notebook()\n",
        "\n",
        "pyLDAvis.sklearn.prepare(lda_model, vect_text, vect, mds='tsne') #t-distributed Stochastic Neighbor Embedding"
      ]
    },
    {
      "cell_type": "markdown",
      "metadata": {
        "id": "_G5Os_huqgmU"
      },
      "source": [
        "Se añade la columna que contiene la categoría o tema más relacionado a cada noticia al dataframe. La lista de tópicos se ha creado leyendo las palabras clave y relacionándolas con uno de los tópicos, para los tópicos que no se sabía o no era tan claro el tema adecuado. Con ayuda de Hugging Face se pasó la lista de palabras concatenadas como string junto con los tópicos de Macroeconomía, Sostenibilidad, innovación, etc., y con la distribución de probabilidad resultante por Hugging Face se le otorgó la de mayor probabilidad. "
      ]
    },
    {
      "cell_type": "code",
      "execution_count": null,
      "metadata": {
        "colab": {
          "base_uri": "https://localhost:8080/"
        },
        "id": "QIWg6Oc4gdIV",
        "outputId": "e972d316-1fdd-432c-bfa3-795808588f4d"
      },
      "outputs": [
        {
          "name": "stderr",
          "output_type": "stream",
          "text": [
            "S:\\Anaconda\\lib\\site-packages\\ipykernel\\ipkernel.py:287: DeprecationWarning: `should_run_async` will not call `transform_cell` automatically in the future. Please pass the result to `transformed_cell` argument and any exception that happen during thetransform in `preprocessing_exc_tuple` in IPython 7.17 and above.\n",
            "  and should_run_async(code)\n",
            "<ipython-input-22-7c7d0761f435>:9: SettingWithCopyWarning: \n",
            "A value is trying to be set on a copy of a slice from a DataFrame.\n",
            "Try using .loc[row_indexer,col_indexer] = value instead\n",
            "\n",
            "See the caveats in the documentation: https://pandas.pydata.org/pandas-docs/stable/user_guide/indexing.html#returning-a-view-versus-a-copy\n",
            "  noticias_unicas[\"category\"] = np.r_[topic_new]\n"
          ]
        }
      ],
      "source": [
        "topicos=[\"macroeconomia\", \"otra\", \"alianzas\", \"macroeconomia\", \"descartable\", \"descartable\", \"descartable\",\n",
        "         \"regulaciones\", \"macroeconomia\", \"alianzas\", \"reputacion\", \"innovacion\", \"regulaciones\", \n",
        "         \"sostenibilidad\", \"reputacion\", \"regulaciones\", \"innovacion\", \"sostenibilidad\", \"descartable\", \"regulaciones\"]\n",
        "topic_new = []         \n",
        "for i in range(len(lda_top)):\n",
        "  topic_number = np.argsort(lda_top[i])[::-1][0]\n",
        "  topic_new.append(topicos[topic_number])\n",
        "\n",
        "noticias_unicas[\"category\"] = np.r_[topic_new]"
      ]
    },
    {
      "cell_type": "markdown",
      "metadata": {
        "id": "VnM6LamR0DtR"
      },
      "source": [
        "Se observa cómo quedaron distribuídos los temas a lo largo de todas las noticias únicas del dataset:"
      ]
    },
    {
      "cell_type": "code",
      "execution_count": null,
      "metadata": {
        "id": "1xxfGU4P0DtS",
        "outputId": "db0c8ff9-e636-4d59-ee60-29afafc2b61d"
      },
      "outputs": [
        {
          "name": "stderr",
          "output_type": "stream",
          "text": [
            "S:\\Anaconda\\lib\\site-packages\\ipykernel\\ipkernel.py:287: DeprecationWarning: `should_run_async` will not call `transform_cell` automatically in the future. Please pass the result to `transformed_cell` argument and any exception that happen during thetransform in `preprocessing_exc_tuple` in IPython 7.17 and above.\n",
            "  and should_run_async(code)\n"
          ]
        },
        {
          "data": {
            "text/html": [
              "<div>\n",
              "<style scoped>\n",
              "    .dataframe tbody tr th:only-of-type {\n",
              "        vertical-align: middle;\n",
              "    }\n",
              "\n",
              "    .dataframe tbody tr th {\n",
              "        vertical-align: top;\n",
              "    }\n",
              "\n",
              "    .dataframe thead th {\n",
              "        text-align: right;\n",
              "    }\n",
              "</style>\n",
              "<table border=\"1\" class=\"dataframe\">\n",
              "  <thead>\n",
              "    <tr style=\"text-align: right;\">\n",
              "      <th></th>\n",
              "      <th>news_id</th>\n",
              "      <th>news_text_content</th>\n",
              "      <th>news_text_content_cleaned</th>\n",
              "    </tr>\n",
              "    <tr>\n",
              "      <th>category</th>\n",
              "      <th></th>\n",
              "      <th></th>\n",
              "      <th></th>\n",
              "    </tr>\n",
              "  </thead>\n",
              "  <tbody>\n",
              "    <tr>\n",
              "      <th>alianzas</th>\n",
              "      <td>64</td>\n",
              "      <td>64</td>\n",
              "      <td>64</td>\n",
              "    </tr>\n",
              "    <tr>\n",
              "      <th>descartable</th>\n",
              "      <td>1287</td>\n",
              "      <td>1287</td>\n",
              "      <td>1287</td>\n",
              "    </tr>\n",
              "    <tr>\n",
              "      <th>innovacion</th>\n",
              "      <td>7784</td>\n",
              "      <td>7784</td>\n",
              "      <td>7784</td>\n",
              "    </tr>\n",
              "    <tr>\n",
              "      <th>macroeconomia</th>\n",
              "      <td>3078</td>\n",
              "      <td>3078</td>\n",
              "      <td>3078</td>\n",
              "    </tr>\n",
              "    <tr>\n",
              "      <th>otra</th>\n",
              "      <td>31</td>\n",
              "      <td>31</td>\n",
              "      <td>31</td>\n",
              "    </tr>\n",
              "    <tr>\n",
              "      <th>regulaciones</th>\n",
              "      <td>10524</td>\n",
              "      <td>10523</td>\n",
              "      <td>10524</td>\n",
              "    </tr>\n",
              "    <tr>\n",
              "      <th>reputacion</th>\n",
              "      <td>297</td>\n",
              "      <td>297</td>\n",
              "      <td>297</td>\n",
              "    </tr>\n",
              "    <tr>\n",
              "      <th>sostenibilidad</th>\n",
              "      <td>273</td>\n",
              "      <td>273</td>\n",
              "      <td>273</td>\n",
              "    </tr>\n",
              "  </tbody>\n",
              "</table>\n",
              "</div>"
            ],
            "text/plain": [
              "                news_id  news_text_content  news_text_content_cleaned\n",
              "category                                                             \n",
              "alianzas             64                 64                         64\n",
              "descartable        1287               1287                       1287\n",
              "innovacion         7784               7784                       7784\n",
              "macroeconomia      3078               3078                       3078\n",
              "otra                 31                 31                         31\n",
              "regulaciones      10524              10523                      10524\n",
              "reputacion          297                297                        297\n",
              "sostenibilidad      273                273                        273"
            ]
          },
          "execution_count": 24,
          "metadata": {},
          "output_type": "execute_result"
        }
      ],
      "source": [
        "noticias_unicas.groupby(by=\"category\").count()"
      ]
    },
    {
      "cell_type": "markdown",
      "metadata": {
        "id": "1Qhbe58SI61I"
      },
      "source": [
        "Finalmente guardamos los resultados en un .csv para continuar sobre este las próximas sesiones."
      ]
    },
    {
      "cell_type": "code",
      "execution_count": null,
      "metadata": {
        "colab": {
          "base_uri": "https://localhost:8080/",
          "height": 424
        },
        "id": "KghoM0rDWFbh",
        "outputId": "fe0d2bd5-ff1e-4955-f25c-cbbeeff871fc"
      },
      "outputs": [
        {
          "name": "stderr",
          "output_type": "stream",
          "text": [
            "S:\\Anaconda\\lib\\site-packages\\ipykernel\\ipkernel.py:287: DeprecationWarning: `should_run_async` will not call `transform_cell` automatically in the future. Please pass the result to `transformed_cell` argument and any exception that happen during thetransform in `preprocessing_exc_tuple` in IPython 7.17 and above.\n",
            "  and should_run_async(code)\n"
          ]
        },
        {
          "data": {
            "text/html": [
              "<div>\n",
              "<style scoped>\n",
              "    .dataframe tbody tr th:only-of-type {\n",
              "        vertical-align: middle;\n",
              "    }\n",
              "\n",
              "    .dataframe tbody tr th {\n",
              "        vertical-align: top;\n",
              "    }\n",
              "\n",
              "    .dataframe thead th {\n",
              "        text-align: right;\n",
              "    }\n",
              "</style>\n",
              "<table border=\"1\" class=\"dataframe\">\n",
              "  <thead>\n",
              "    <tr style=\"text-align: right;\">\n",
              "      <th></th>\n",
              "      <th>news_id</th>\n",
              "      <th>news_text_content</th>\n",
              "      <th>news_text_content_cleaned</th>\n",
              "      <th>category</th>\n",
              "    </tr>\n",
              "  </thead>\n",
              "  <tbody>\n",
              "    <tr>\n",
              "      <th>0</th>\n",
              "      <td>news15986</td>\n",
              "      <td>guia de arte y cultura semana del  al  de  art...</td>\n",
              "      <td>guia arte cultura semana arte agustina galinde...</td>\n",
              "      <td>regulaciones</td>\n",
              "    </tr>\n",
              "    <tr>\n",
              "      <th>1</th>\n",
              "      <td>news89860</td>\n",
              "      <td>wall street cierra el  en verde wall street ce...</td>\n",
              "      <td>wall street cierra verde wall street cerro ver...</td>\n",
              "      <td>macroeconomia</td>\n",
              "    </tr>\n",
              "    <tr>\n",
              "      <th>2</th>\n",
              "      <td>news89859</td>\n",
              "      <td>wall street termina al alza su mejor mes del a...</td>\n",
              "      <td>wall street termina alza pese disparada inflac...</td>\n",
              "      <td>macroeconomia</td>\n",
              "    </tr>\n",
              "    <tr>\n",
              "      <th>3</th>\n",
              "      <td>news89850</td>\n",
              "      <td>pagina  el informe ofrece los desarrollos regi...</td>\n",
              "      <td>pagina informe ofrece desarrollos regionales m...</td>\n",
              "      <td>innovacion</td>\n",
              "    </tr>\n",
              "    <tr>\n",
              "      <th>4</th>\n",
              "      <td>news69546</td>\n",
              "      <td>wall street cierra a la baja este  y el dow jo...</td>\n",
              "      <td>wall street cierra baja jones pierde wall stre...</td>\n",
              "      <td>macroeconomia</td>\n",
              "    </tr>\n",
              "    <tr>\n",
              "      <th>...</th>\n",
              "      <td>...</td>\n",
              "      <td>...</td>\n",
              "      <td>...</td>\n",
              "      <td>...</td>\n",
              "    </tr>\n",
              "    <tr>\n",
              "      <th>23333</th>\n",
              "      <td>news79504</td>\n",
              "      <td>amazon comprara a fabricante de aspiradoras ro...</td>\n",
              "      <td>amazon comprara fabricante aspiradoras roomba ...</td>\n",
              "      <td>macroeconomia</td>\n",
              "    </tr>\n",
              "    <tr>\n",
              "      <th>23334</th>\n",
              "      <td>news79523</td>\n",
              "      <td>pokemon company presento todas las novedades d...</td>\n",
              "      <td>pokemon company presento novedades takato utsu...</td>\n",
              "      <td>regulaciones</td>\n",
              "    </tr>\n",
              "    <tr>\n",
              "      <th>23335</th>\n",
              "      <td>news79502</td>\n",
              "      <td>el proyecto de ley sobre el clima de ee uu pod...</td>\n",
              "      <td>proyecto clima reducir degc calentamiento apro...</td>\n",
              "      <td>innovacion</td>\n",
              "    </tr>\n",
              "    <tr>\n",
              "      <th>23336</th>\n",
              "      <td>news79511</td>\n",
              "      <td>aduanas certifica  empresas como operadores ec...</td>\n",
              "      <td>aduanas certifica empresas operadores economic...</td>\n",
              "      <td>innovacion</td>\n",
              "    </tr>\n",
              "    <tr>\n",
              "      <th>23337</th>\n",
              "      <td>news79518</td>\n",
              "      <td>mclaren vendera zapatillas deportivas por us c...</td>\n",
              "      <td>mclaren vendera zapatillas deportivas impulso ...</td>\n",
              "      <td>innovacion</td>\n",
              "    </tr>\n",
              "  </tbody>\n",
              "</table>\n",
              "<p>23338 rows × 4 columns</p>\n",
              "</div>"
            ],
            "text/plain": [
              "         news_id                                  news_text_content  \\\n",
              "0      news15986  guia de arte y cultura semana del  al  de  art...   \n",
              "1      news89860  wall street cierra el  en verde wall street ce...   \n",
              "2      news89859  wall street termina al alza su mejor mes del a...   \n",
              "3      news89850  pagina  el informe ofrece los desarrollos regi...   \n",
              "4      news69546  wall street cierra a la baja este  y el dow jo...   \n",
              "...          ...                                                ...   \n",
              "23333  news79504  amazon comprara a fabricante de aspiradoras ro...   \n",
              "23334  news79523  pokemon company presento todas las novedades d...   \n",
              "23335  news79502  el proyecto de ley sobre el clima de ee uu pod...   \n",
              "23336  news79511  aduanas certifica  empresas como operadores ec...   \n",
              "23337  news79518  mclaren vendera zapatillas deportivas por us c...   \n",
              "\n",
              "                               news_text_content_cleaned       category  \n",
              "0      guia arte cultura semana arte agustina galinde...   regulaciones  \n",
              "1      wall street cierra verde wall street cerro ver...  macroeconomia  \n",
              "2      wall street termina alza pese disparada inflac...  macroeconomia  \n",
              "3      pagina informe ofrece desarrollos regionales m...     innovacion  \n",
              "4      wall street cierra baja jones pierde wall stre...  macroeconomia  \n",
              "...                                                  ...            ...  \n",
              "23333  amazon comprara fabricante aspiradoras roomba ...  macroeconomia  \n",
              "23334  pokemon company presento novedades takato utsu...   regulaciones  \n",
              "23335  proyecto clima reducir degc calentamiento apro...     innovacion  \n",
              "23336  aduanas certifica empresas operadores economic...     innovacion  \n",
              "23337  mclaren vendera zapatillas deportivas impulso ...     innovacion  \n",
              "\n",
              "[23338 rows x 4 columns]"
            ]
          },
          "execution_count": 23,
          "metadata": {},
          "output_type": "execute_result"
        }
      ],
      "source": [
        "noticias_unicas.to_csv(\"category.csv\")\n",
        "noticias_unicas"
      ]
    },
    {
      "cell_type": "markdown",
      "metadata": {
        "id": "RN5IfIGgGfzg"
      },
      "source": [
        "# Participación\n",
        "\n",
        "Para identificar si el cliente participa directamente en la noticia, su sector se menciona en esta o ninguna de las anteriores, procedemos de la siguiente manera.\n",
        "\n",
        "Se crean cinco funciones:\n",
        "* `remove_stopwords`   que se encargan de remover los stop words y eliminar todas las letras sueltas que queden en el texto de la noticia.\n",
        "* `lemmatizer` lemmatiza el texto ingresado.\n",
        "* `tokenize` tokenizaa el texto ingresado convirtiendolo en una lista con las palabras que contenía el texto. \n",
        "\n",
        "Dos identificadores:\n",
        "* `is_sector` verifica si dada una lista con palabras alguna de estas se encuentra en el texto ingresado para saber si el sector del cliente se menciona en el texto.\n",
        "* `is_client` verifica si dado un nombre de cliente y un texto este se encuentra en él.\n",
        "\n",
        "La implementación de todas estas funcionalidades se muestran en la celda siguiente:"
      ]
    },
    {
      "cell_type": "code",
      "execution_count": null,
      "metadata": {
        "id": "dl9rfW62p9iJ"
      },
      "outputs": [],
      "source": [
        "def remove_stopwords(headline):\n",
        "  word_tokens=word_tokenize(str(headline))\n",
        "  tokens=[w for w in word_tokens if w not in stop_words and len(w)>1]\n",
        "  cleaned_text=\" \".join(tokens)\n",
        "  return cleaned_text\n",
        "\n",
        "def lemmatizer(text_):\n",
        "  text = remove_stopwords(text_)\n",
        "  nlp = spacy.load(\"es_core_news_sm\", disable=[\"parser\", \"tagger\", \"ner\"])\n",
        "  nlp.max_length = 2_000_000\n",
        "\n",
        "  if len(text)<500000:\n",
        "    doc = nlp(text)\n",
        "    empty_list = []\n",
        "    for token in doc:\n",
        "        empty_list.append(normalize(token.lemma_))\n",
        "    text1 = ' '.join(map(str,empty_list))\n",
        "    return text1\n",
        "  \n",
        "  else: \n",
        "    return text\n",
        "\n",
        "def tokenize(headline_):\n",
        "  #headline = lemmatizer(headline_)\n",
        "  word_tokens=word_tokenize(str(headline_))\n",
        "  tokens=[w for w in word_tokens]\n",
        "  return np.unique(tokens)\n",
        "\n",
        "def is_sector(tokens, text):\n",
        "  #text = lemmatizer(text_)\n",
        "  return any(re.search(r\"\\b\" + re.escape(word) + r\"\\b\", text) for word in tokens)\n",
        "\n",
        "def is_client(name, text):\n",
        "  value = False\n",
        "  if re.findall(name, text): \n",
        "    value = True\n",
        "  return value"
      ]
    },
    {
      "cell_type": "markdown",
      "metadata": {
        "id": "m7nZ_lBX0DtZ"
      },
      "source": [
        "Se lematizan todas las noticias únicas del dataset (**NOTA IMPORTANTE**: este proceso tomó alrededor de **3 horas**, por esto se recomienda no volver a ejecutar) y se guardó un .csv con el resultado.\n",
        "\n",
        "**Nota adicional**\n",
        "Debido a la eliminación de acentos en los datos suministrados, la lematización no puede ser precisa. Para resultados más \"limpios\" se recomienda texto con acentos. Recordemos que en el idioma Español es de gran relevancia los acentos."
      ]
    },
    {
      "cell_type": "code",
      "execution_count": null,
      "metadata": {
        "id": "8t6qG64Lup7E"
      },
      "outputs": [],
      "source": [
        "noticias_unicas = pd.read_csv('category.csv', index_col=[0])\n",
        "noticias_unicas.news_text_content = noticias_unicas.news_text_content.astype(str, copy=False).apply(lemmatizer)"
      ]
    },
    {
      "cell_type": "code",
      "execution_count": null,
      "metadata": {
        "id": "PmK1vGv21Ips"
      },
      "outputs": [],
      "source": [
        "noticias_unicas.to_csv('noticias_lemma.csv') #3 horas"
      ]
    },
    {
      "cell_type": "markdown",
      "metadata": {
        "id": "_eEkiyvs0Dtb"
      },
      "source": [
        "Una vez lemmatizadas todas las noticias, se lee el archivo y se escogen las columnas a usar concernientes a la participación del cliente en la noticia."
      ]
    },
    {
      "cell_type": "code",
      "execution_count": null,
      "metadata": {
        "id": "rSYapM7t0Dtc"
      },
      "outputs": [],
      "source": [
        "noticias_unicas = pd.read_csv('noticias_lemma.csv', index_col=[0]) #carga de noticias lemmatizadas\n",
        "users_news = pd.read_csv('data_set.csv', index_col=[0])"
      ]
    },
    {
      "cell_type": "code",
      "execution_count": null,
      "metadata": {
        "id": "Yg6YrR7l0Dtd",
        "outputId": "64722962-b85d-42b7-b53f-6cdc975fa82e"
      },
      "outputs": [
        {
          "data": {
            "text/html": [
              "<div>\n",
              "<style scoped>\n",
              "    .dataframe tbody tr th:only-of-type {\n",
              "        vertical-align: middle;\n",
              "    }\n",
              "\n",
              "    .dataframe tbody tr th {\n",
              "        vertical-align: top;\n",
              "    }\n",
              "\n",
              "    .dataframe thead th {\n",
              "        text-align: right;\n",
              "    }\n",
              "</style>\n",
              "<table border=\"1\" class=\"dataframe\">\n",
              "  <thead>\n",
              "    <tr style=\"text-align: right;\">\n",
              "      <th></th>\n",
              "      <th>news_id</th>\n",
              "      <th>news_title</th>\n",
              "      <th>news_text_content</th>\n",
              "    </tr>\n",
              "  </thead>\n",
              "  <tbody>\n",
              "    <tr>\n",
              "      <th>0</th>\n",
              "      <td>news15986</td>\n",
              "      <td>guia de arte y cultura semana del  al  de</td>\n",
              "      <td>arte agustina galindez quesada exhibe catarsis...</td>\n",
              "    </tr>\n",
              "    <tr>\n",
              "      <th>1</th>\n",
              "      <td>news89860</td>\n",
              "      <td>wall street cierra el  en verde</td>\n",
              "      <td>wall street cerro en verde este  y el dow jone...</td>\n",
              "    </tr>\n",
              "    <tr>\n",
              "      <th>2</th>\n",
              "      <td>news89859</td>\n",
              "      <td>wall street termina al alza su mejor mes del a...</td>\n",
              "      <td>la bolsa de nueva york finalizo con nota posit...</td>\n",
              "    </tr>\n",
              "    <tr>\n",
              "      <th>3</th>\n",
              "      <td>news89850</td>\n",
              "      <td>pagina</td>\n",
              "      <td>el informe ofrece los desarrollos regionales d...</td>\n",
              "    </tr>\n",
              "    <tr>\n",
              "      <th>4</th>\n",
              "      <td>news69546</td>\n",
              "      <td>wall street cierra a la baja este  y el dow jo...</td>\n",
              "      <td>wall street cerro este  en rojo y el dow jones...</td>\n",
              "    </tr>\n",
              "    <tr>\n",
              "      <th>...</th>\n",
              "      <td>...</td>\n",
              "      <td>...</td>\n",
              "      <td>...</td>\n",
              "    </tr>\n",
              "    <tr>\n",
              "      <th>74612</th>\n",
              "      <td>news96699</td>\n",
              "      <td>tres hoteles del sur de la florida entre los  ...</td>\n",
              "      <td>como todos los anos la popular publicacion dig...</td>\n",
              "    </tr>\n",
              "    <tr>\n",
              "      <th>74613</th>\n",
              "      <td>news96696</td>\n",
              "      <td>catar en el paredon denuncian acoso sexual y r...</td>\n",
              "      <td>hola aqui tambien puedes encontrar mis noticia...</td>\n",
              "    </tr>\n",
              "    <tr>\n",
              "      <th>74614</th>\n",
              "      <td>news96693</td>\n",
              "      <td>hotel estelar registro ocupacion de  durante e...</td>\n",
              "      <td>en su primer semestre de operacion el hotel es...</td>\n",
              "    </tr>\n",
              "    <tr>\n",
              "      <th>74615</th>\n",
              "      <td>news98685</td>\n",
              "      <td>el desempleo en colombia sigue cayendo en  lle...</td>\n",
              "      <td>el departamento nacional de estadisticas dane ...</td>\n",
              "    </tr>\n",
              "    <tr>\n",
              "      <th>74616</th>\n",
              "      <td>news79518</td>\n",
              "      <td>mclaren vendera zapatillas deportivas por us c...</td>\n",
              "      <td>mclaren group ltd esta incursionando en las za...</td>\n",
              "    </tr>\n",
              "  </tbody>\n",
              "</table>\n",
              "<p>74617 rows × 3 columns</p>\n",
              "</div>"
            ],
            "text/plain": [
              "         news_id                                         news_title  \\\n",
              "0      news15986         guia de arte y cultura semana del  al  de    \n",
              "1      news89860                    wall street cierra el  en verde   \n",
              "2      news89859  wall street termina al alza su mejor mes del a...   \n",
              "3      news89850                                            pagina    \n",
              "4      news69546  wall street cierra a la baja este  y el dow jo...   \n",
              "...          ...                                                ...   \n",
              "74612  news96699  tres hoteles del sur de la florida entre los  ...   \n",
              "74613  news96696  catar en el paredon denuncian acoso sexual y r...   \n",
              "74614  news96693  hotel estelar registro ocupacion de  durante e...   \n",
              "74615  news98685  el desempleo en colombia sigue cayendo en  lle...   \n",
              "74616  news79518  mclaren vendera zapatillas deportivas por us c...   \n",
              "\n",
              "                                       news_text_content  \n",
              "0      arte agustina galindez quesada exhibe catarsis...  \n",
              "1      wall street cerro en verde este  y el dow jone...  \n",
              "2      la bolsa de nueva york finalizo con nota posit...  \n",
              "3      el informe ofrece los desarrollos regionales d...  \n",
              "4      wall street cerro este  en rojo y el dow jones...  \n",
              "...                                                  ...  \n",
              "74612  como todos los anos la popular publicacion dig...  \n",
              "74613  hola aqui tambien puedes encontrar mis noticia...  \n",
              "74614  en su primer semestre de operacion el hotel es...  \n",
              "74615  el departamento nacional de estadisticas dane ...  \n",
              "74616  mclaren group ltd esta incursionando en las za...  \n",
              "\n",
              "[74617 rows x 3 columns]"
            ]
          },
          "execution_count": 46,
          "metadata": {},
          "output_type": "execute_result"
        }
      ],
      "source": [
        "users_news[[\"news_id\", \"news_title\", \"news_text_content\"]]"
      ]
    },
    {
      "cell_type": "markdown",
      "metadata": {
        "id": "gtZS9KL80Dte"
      },
      "source": [
        "Se crea otra columna en el dataset anterior donde las noticias no están lemmatizadas, pero sí se han eliminado las stop words y letras sueltas."
      ]
    },
    {
      "cell_type": "code",
      "execution_count": null,
      "metadata": {
        "id": "aiuzRX7H0Dte",
        "outputId": "74775a4b-bc3a-4e8c-ab98-1066efa12b63"
      },
      "outputs": [
        {
          "name": "stderr",
          "output_type": "stream",
          "text": [
            "<ipython-input-48-03c979a261a5>:2: SettingWithCopyWarning: \n",
            "A value is trying to be set on a copy of a slice from a DataFrame\n",
            "\n",
            "See the caveats in the documentation: https://pandas.pydata.org/pandas-docs/stable/user_guide/indexing.html#returning-a-view-versus-a-copy\n",
            "  noticias.drop_duplicates(inplace=True, ignore_index=True)\n"
          ]
        }
      ],
      "source": [
        "noticias = users_news[[\"news_id\", \"news_title\", \"news_text_content\"]]\n",
        "noticias.drop_duplicates(inplace=True, ignore_index=True)\n",
        "noticias_unicas[\"news_text_content_cleaned\"] = noticias.news_title + \" \" + noticias.news_text_content\n",
        "noticias_unicas[\"news_text_content_cleaned\"] = noticias_unicas[\"news_text_content_cleaned\"].apply(lambda x: remove_stopwords(str(x)))"
      ]
    },
    {
      "cell_type": "code",
      "execution_count": null,
      "metadata": {
        "id": "RxRn3KXO0Dtg",
        "outputId": "d5c346eb-3e9c-400f-a94e-455f9a642985"
      },
      "outputs": [
        {
          "data": {
            "text/html": [
              "<div>\n",
              "<style scoped>\n",
              "    .dataframe tbody tr th:only-of-type {\n",
              "        vertical-align: middle;\n",
              "    }\n",
              "\n",
              "    .dataframe tbody tr th {\n",
              "        vertical-align: top;\n",
              "    }\n",
              "\n",
              "    .dataframe thead th {\n",
              "        text-align: right;\n",
              "    }\n",
              "</style>\n",
              "<table border=\"1\" class=\"dataframe\">\n",
              "  <thead>\n",
              "    <tr style=\"text-align: right;\">\n",
              "      <th></th>\n",
              "      <th>news_id</th>\n",
              "      <th>news_text_content</th>\n",
              "      <th>news_text_content_cleaned</th>\n",
              "      <th>category</th>\n",
              "    </tr>\n",
              "  </thead>\n",
              "  <tbody>\n",
              "    <tr>\n",
              "      <th>0</th>\n",
              "      <td>news15986</td>\n",
              "      <td>guia arte cultura seman arte agustin galindez ...</td>\n",
              "      <td>guia arte cultura semana arte agustina galinde...</td>\n",
              "      <td>regulaciones</td>\n",
              "    </tr>\n",
              "    <tr>\n",
              "      <th>1</th>\n",
              "      <td>news89860</td>\n",
              "      <td>wall street cierra verde wall street cerro ver...</td>\n",
              "      <td>wall street cierra verde wall street cerro ver...</td>\n",
              "      <td>macroeconomia</td>\n",
              "    </tr>\n",
              "    <tr>\n",
              "      <th>2</th>\n",
              "      <td>news89859</td>\n",
              "      <td>wall street terminar alza mes ano pese dispara...</td>\n",
              "      <td>wall street termina alza mes ano pese disparad...</td>\n",
              "      <td>macroeconomia</td>\n",
              "    </tr>\n",
              "    <tr>\n",
              "      <th>3</th>\n",
              "      <td>news89850</td>\n",
              "      <td>pagina informe ofrecer desarrollo regional mer...</td>\n",
              "      <td>pagina informe ofrece desarrollos regionales m...</td>\n",
              "      <td>innovacion</td>\n",
              "    </tr>\n",
              "    <tr>\n",
              "      <th>4</th>\n",
              "      <td>news69546</td>\n",
              "      <td>wall street cerrar bajo dow jones perder wall ...</td>\n",
              "      <td>wall street cierra baja dow jones pierde wall ...</td>\n",
              "      <td>macroeconomia</td>\n",
              "    </tr>\n",
              "    <tr>\n",
              "      <th>...</th>\n",
              "      <td>...</td>\n",
              "      <td>...</td>\n",
              "      <td>...</td>\n",
              "      <td>...</td>\n",
              "    </tr>\n",
              "    <tr>\n",
              "      <th>23333</th>\n",
              "      <td>news79504</td>\n",
              "      <td>amazon comprar fabricante aspiradora roomba ir...</td>\n",
              "      <td>amazon comprara fabricante aspiradoras roomba ...</td>\n",
              "      <td>macroeconomia</td>\n",
              "    </tr>\n",
              "    <tr>\n",
              "      <th>23334</th>\n",
              "      <td>news79523</td>\n",
              "      <td>pokemon company presento novedad takatir utsun...</td>\n",
              "      <td>pokemon company presento novedades takato utsu...</td>\n",
              "      <td>regulaciones</td>\n",
              "    </tr>\n",
              "    <tr>\n",
              "      <th>23335</th>\n",
              "      <td>news79502</td>\n",
              "      <td>proyecto ley climo ee uu reducir degc calentam...</td>\n",
              "      <td>proyecto ley clima ee uu reducir degc calentam...</td>\n",
              "      <td>innovacion</td>\n",
              "    </tr>\n",
              "    <tr>\n",
              "      <th>23336</th>\n",
              "      <td>news79511</td>\n",
              "      <td>aduana certificar empresa operador economico a...</td>\n",
              "      <td>aduanas certifica empresas operadores economic...</td>\n",
              "      <td>innovacion</td>\n",
              "    </tr>\n",
              "    <tr>\n",
              "      <th>23337</th>\n",
              "      <td>news79518</td>\n",
              "      <td>mclarir vendero zapatilla deportivo us impulso...</td>\n",
              "      <td>mclaren vendera zapatillas deportivas us impul...</td>\n",
              "      <td>innovacion</td>\n",
              "    </tr>\n",
              "  </tbody>\n",
              "</table>\n",
              "<p>23338 rows × 4 columns</p>\n",
              "</div>"
            ],
            "text/plain": [
              "         news_id                                  news_text_content  \\\n",
              "0      news15986  guia arte cultura seman arte agustin galindez ...   \n",
              "1      news89860  wall street cierra verde wall street cerro ver...   \n",
              "2      news89859  wall street terminar alza mes ano pese dispara...   \n",
              "3      news89850  pagina informe ofrecer desarrollo regional mer...   \n",
              "4      news69546  wall street cerrar bajo dow jones perder wall ...   \n",
              "...          ...                                                ...   \n",
              "23333  news79504  amazon comprar fabricante aspiradora roomba ir...   \n",
              "23334  news79523  pokemon company presento novedad takatir utsun...   \n",
              "23335  news79502  proyecto ley climo ee uu reducir degc calentam...   \n",
              "23336  news79511  aduana certificar empresa operador economico a...   \n",
              "23337  news79518  mclarir vendero zapatilla deportivo us impulso...   \n",
              "\n",
              "                               news_text_content_cleaned       category  \n",
              "0      guia arte cultura semana arte agustina galinde...   regulaciones  \n",
              "1      wall street cierra verde wall street cerro ver...  macroeconomia  \n",
              "2      wall street termina alza mes ano pese disparad...  macroeconomia  \n",
              "3      pagina informe ofrece desarrollos regionales m...     innovacion  \n",
              "4      wall street cierra baja dow jones pierde wall ...  macroeconomia  \n",
              "...                                                  ...            ...  \n",
              "23333  amazon comprara fabricante aspiradoras roomba ...  macroeconomia  \n",
              "23334  pokemon company presento novedades takato utsu...   regulaciones  \n",
              "23335  proyecto ley clima ee uu reducir degc calentam...     innovacion  \n",
              "23336  aduanas certifica empresas operadores economic...     innovacion  \n",
              "23337  mclaren vendera zapatillas deportivas us impul...     innovacion  \n",
              "\n",
              "[23338 rows x 4 columns]"
            ]
          },
          "execution_count": 49,
          "metadata": {},
          "output_type": "execute_result"
        }
      ],
      "source": [
        "noticias_unicas"
      ]
    },
    {
      "cell_type": "markdown",
      "metadata": {
        "id": "V9nKykzZ0Dth"
      },
      "source": [
        "Se fusiona este dataset anterior (`noticias_unicas`) con el dataset donde aparecen los clientes con sus respectivas noticas lematizadas y no lematizadas, etc. (`users_news`) para crear el dataset (`participacion`) que es el que contendrá la información suficiente para llevar a cabo la participación de cada cliente en la noticia."
      ]
    },
    {
      "cell_type": "code",
      "execution_count": null,
      "metadata": {
        "id": "dF45f0MapFrX"
      },
      "outputs": [],
      "source": [
        "users_news.drop(columns=['news_text_content'], inplace=True)\n",
        "participacion = pd.merge(users_news, noticias_unicas[['news_id', 'category', 'news_text_content', 'news_text_content_cleaned']], on='news_id')\n",
        "clientes = pd.read_csv('clientes.csv')\n"
      ]
    },
    {
      "cell_type": "markdown",
      "metadata": {
        "id": "d0UYmmW40Dtj"
      },
      "source": [
        "Con el dataset (`clientes`) que tiene la información de los clientes extraemos la información concerniente al `subsector`, y `códigos ciiu división`, `ciuu grupo` y `ciiuu clase`; además, se almacena concatenándolos como un string, pues estas palabras serán los tokens usados sobre:\n",
        "* las noticias **lemmatizadas** para verificar que el **sector** del cliente aparece en la noticia,\n",
        "* y el nombre del **cliente** será usado sobre las noticias **sin lemmatizar** para verificar la participación directa en la noticia.\n",
        "\n",
        "Ademas se lemmatiza este string concatenado mencionado anteriormente (_se demora aproximadamente 30 min. en compilar_), lo almacenamos en el dataset (`clientes`) y lo guardamos como otro .csv  "
      ]
    },
    {
      "cell_type": "code",
      "execution_count": null,
      "metadata": {
        "id": "vZLF_xPG0Dtj",
        "outputId": "578eb1de-3b59-4f16-8ee8-e9aa1f359fbf"
      },
      "outputs": [
        {
          "name": "stderr",
          "output_type": "stream",
          "text": [
            "S:\\Anaconda\\lib\\site-packages\\spacy\\language.py:1895: UserWarning: [W123] Argument disable with value ['parser', 'tagger', 'ner'] is used instead of ['senter'] as specified in the config. Be aware that this might affect other components in your pipeline.\n",
            "  warnings.warn(\n"
          ]
        }
      ],
      "source": [
        "clientes[\"participate_sectors\"] = clientes[\"subsec\"].str.lower()+\" \"+clientes[\"desc_ciiu_division\"].str.lower()+ \" \" + clientes[\"desc_ciuu_grupo\"].str.lower()+ \" \" + clientes[\"desc_ciiuu_clase\"].str.lower()\n",
        "clientes[\"participate_sectors\"] = clientes[\"participate_sectors\"].apply(lemmatizer)"
      ]
    },
    {
      "cell_type": "code",
      "execution_count": null,
      "metadata": {
        "id": "HDXNd29E0Dtk"
      },
      "outputs": [],
      "source": [
        "clientes.to_csv('clientes_lemma.csv')"
      ]
    },
    {
      "cell_type": "markdown",
      "metadata": {
        "id": "gZesX-TL0Dtl"
      },
      "source": [
        "Se lee el .csv con los clientes lemmatizados."
      ]
    },
    {
      "cell_type": "code",
      "execution_count": null,
      "metadata": {
        "id": "s3AAufyJ0Dtm"
      },
      "outputs": [],
      "source": [
        "clientes = pd.read_csv('clientes_lemma.csv', index_col=[0])"
      ]
    },
    {
      "cell_type": "markdown",
      "metadata": {
        "id": "KMYDQqDJ0Dtn"
      },
      "source": [
        "  Finalmente, fusionamos la información del string concatenado almacenada en el dataset (clientes) con el dataset (participacion), anexamos al texto de la noticia lemmatizada la URL del sitio web de la noticia porque en ocasiones dentro del mismo link aparece el sector del que habla la noticia, eliminamos las columnas que no se usarán, se eliminan los tipos de sociedades colombianas como SAS, SA, LTD, etc. de los nombres de los clientes y los espacios múltiples que hayan quedado."
      ]
    },
    {
      "cell_type": "code",
      "execution_count": null,
      "metadata": {
        "id": "tWOHcc79AmVs"
      },
      "outputs": [],
      "source": [
        "participacion = pd.merge(participacion, clientes[['nit', 'participate_sectors']], on='nit')\n",
        "participacion[\"news_text\"] = (participacion.news_url_absolute  +  \" \" + participacion.news_text_content)\n",
        "\n",
        "#for col in participacion.columns[5:]:\n",
        "#  participacion[col] = participacion[col].str.lower()\n",
        "participacion.drop(columns=[\"news_url_absolute\", \"subsec\", \"news_title\", \"news_text_content\"], inplace=True)\n",
        "participacion[\"nombre\"] = participacion[\"nombre\"].apply(lambda x: re.sub(\"\\\\sinc\\\\b|\\\\ssas\\\\b|\\\\ssa\\\\b|\\\\sltda?\\\\b|[^\\sa-z]\", \"\",x.lower()))\n",
        "participacion[\"nombre\"] = participacion[\"nombre\"].apply(lambda x: re.sub(\"\\s{2,}\", \" \",x.lower()))\n"
      ]
    },
    {
      "cell_type": "code",
      "execution_count": null,
      "metadata": {
        "colab": {
          "base_uri": "https://localhost:8080/",
          "height": 225
        },
        "id": "H3xsIK2qIb4Q",
        "outputId": "9d6e6ac6-802d-442d-9136-9faf65e3e3e3"
      },
      "outputs": [
        {
          "data": {
            "text/html": [
              "<div>\n",
              "<style scoped>\n",
              "    .dataframe tbody tr th:only-of-type {\n",
              "        vertical-align: middle;\n",
              "    }\n",
              "\n",
              "    .dataframe tbody tr th {\n",
              "        vertical-align: top;\n",
              "    }\n",
              "\n",
              "    .dataframe thead th {\n",
              "        text-align: right;\n",
              "    }\n",
              "</style>\n",
              "<table border=\"1\" class=\"dataframe\">\n",
              "  <thead>\n",
              "    <tr style=\"text-align: right;\">\n",
              "      <th></th>\n",
              "      <th>nit</th>\n",
              "      <th>news_id</th>\n",
              "      <th>nombre</th>\n",
              "      <th>category</th>\n",
              "      <th>news_text_content_cleaned</th>\n",
              "      <th>participate_sectors</th>\n",
              "      <th>news_text</th>\n",
              "    </tr>\n",
              "  </thead>\n",
              "  <tbody>\n",
              "    <tr>\n",
              "      <th>0</th>\n",
              "      <td>800000946</td>\n",
              "      <td>news15986</td>\n",
              "      <td>procter gamble colombia</td>\n",
              "      <td>regulaciones</td>\n",
              "      <td>guia arte cultura semana arte agustina galinde...</td>\n",
              "      <td>manufactura producto tocador articulo aseo fab...</td>\n",
              "      <td>https://www.infobae.com/cultura/agenda-cultura...</td>\n",
              "    </tr>\n",
              "    <tr>\n",
              "      <th>1</th>\n",
              "      <td>800000946</td>\n",
              "      <td>news89860</td>\n",
              "      <td>procter gamble colombia</td>\n",
              "      <td>macroeconomia</td>\n",
              "      <td>wall street cierra verde wall street cerro ver...</td>\n",
              "      <td>manufactura producto tocador articulo aseo fab...</td>\n",
              "      <td>https://acento.com.do/economia/wall-street-cie...</td>\n",
              "    </tr>\n",
              "  </tbody>\n",
              "</table>\n",
              "</div>"
            ],
            "text/plain": [
              "         nit    news_id                   nombre       category  \\\n",
              "0  800000946  news15986  procter gamble colombia   regulaciones   \n",
              "1  800000946  news89860  procter gamble colombia  macroeconomia   \n",
              "\n",
              "                           news_text_content_cleaned  \\\n",
              "0  guia arte cultura semana arte agustina galinde...   \n",
              "1  wall street cierra verde wall street cerro ver...   \n",
              "\n",
              "                                 participate_sectors  \\\n",
              "0  manufactura producto tocador articulo aseo fab...   \n",
              "1  manufactura producto tocador articulo aseo fab...   \n",
              "\n",
              "                                           news_text  \n",
              "0  https://www.infobae.com/cultura/agenda-cultura...  \n",
              "1  https://acento.com.do/economia/wall-street-cie...  "
            ]
          },
          "execution_count": 55,
          "metadata": {},
          "output_type": "execute_result"
        }
      ],
      "source": [
        "participacion.head(2)"
      ]
    },
    {
      "cell_type": "markdown",
      "metadata": {
        "id": "5FrMr6xg0Dtq"
      },
      "source": [
        "Con un ciclo `for` generamos el array (`roles`) que contiene la participación de cada cliente. **Recordemos** que para la identificar si el cliente está en la noticia se usa la noticia sin lemmatizar y para identificar si es el sector quien participa se usa la noticia lemmatizada."
      ]
    },
    {
      "cell_type": "code",
      "execution_count": null,
      "metadata": {
        "id": "jhVSi-7WQmrl"
      },
      "outputs": [],
      "source": [
        "roles = []\n",
        "for i in range(len(participacion)):\n",
        "  rol = \"no_aplica\"\n",
        "  row = participacion.iloc[i]\n",
        "  tokens = tokenize(row.participate_sectors)\n",
        "\n",
        "  if is_client(row.nombre, str(row.news_text_content_cleaned)):\n",
        "    rol = \"cliente\"\n",
        "  elif is_sector(tokens, str(row.news_text)):\n",
        "    rol = \"sector\"\n",
        "  roles.append(rol)\n",
        "\n",
        "participacion[\"participacion\"] = np.r_[roles]  "
      ]
    },
    {
      "cell_type": "markdown",
      "metadata": {
        "id": "Ztazneih0Dtr"
      },
      "source": [
        "Se muestra el dataset (`participacion`) resultante"
      ]
    },
    {
      "cell_type": "code",
      "execution_count": null,
      "metadata": {
        "id": "TWJfJBnU0Dts",
        "outputId": "3427fc9e-178c-438c-b032-8aa7b9123d48"
      },
      "outputs": [
        {
          "data": {
            "text/html": [
              "<div>\n",
              "<style scoped>\n",
              "    .dataframe tbody tr th:only-of-type {\n",
              "        vertical-align: middle;\n",
              "    }\n",
              "\n",
              "    .dataframe tbody tr th {\n",
              "        vertical-align: top;\n",
              "    }\n",
              "\n",
              "    .dataframe thead th {\n",
              "        text-align: right;\n",
              "    }\n",
              "</style>\n",
              "<table border=\"1\" class=\"dataframe\">\n",
              "  <thead>\n",
              "    <tr style=\"text-align: right;\">\n",
              "      <th></th>\n",
              "      <th>nit</th>\n",
              "      <th>news_id</th>\n",
              "      <th>nombre</th>\n",
              "      <th>category</th>\n",
              "      <th>news_text_content_cleaned</th>\n",
              "      <th>participate_sectors</th>\n",
              "      <th>news_text</th>\n",
              "      <th>participacion</th>\n",
              "    </tr>\n",
              "  </thead>\n",
              "  <tbody>\n",
              "    <tr>\n",
              "      <th>0</th>\n",
              "      <td>800000946</td>\n",
              "      <td>news15986</td>\n",
              "      <td>procter gamble colombia</td>\n",
              "      <td>regulaciones</td>\n",
              "      <td>guia arte cultura semana arte agustina galinde...</td>\n",
              "      <td>manufactura producto tocador articulo aseo fab...</td>\n",
              "      <td>https://www.infobae.com/cultura/agenda-cultura...</td>\n",
              "      <td>sector</td>\n",
              "    </tr>\n",
              "    <tr>\n",
              "      <th>1</th>\n",
              "      <td>800000946</td>\n",
              "      <td>news89860</td>\n",
              "      <td>procter gamble colombia</td>\n",
              "      <td>macroeconomia</td>\n",
              "      <td>wall street cierra verde wall street cerro ver...</td>\n",
              "      <td>manufactura producto tocador articulo aseo fab...</td>\n",
              "      <td>https://acento.com.do/economia/wall-street-cie...</td>\n",
              "      <td>sector</td>\n",
              "    </tr>\n",
              "    <tr>\n",
              "      <th>2</th>\n",
              "      <td>800000946</td>\n",
              "      <td>news89859</td>\n",
              "      <td>procter gamble colombia</td>\n",
              "      <td>macroeconomia</td>\n",
              "      <td>wall street termina alza mes ano pese disparad...</td>\n",
              "      <td>manufactura producto tocador articulo aseo fab...</td>\n",
              "      <td>https://www.semana.com/economia/inversionistas...</td>\n",
              "      <td>sector</td>\n",
              "    </tr>\n",
              "    <tr>\n",
              "      <th>3</th>\n",
              "      <td>800000946</td>\n",
              "      <td>news89850</td>\n",
              "      <td>procter gamble colombia</td>\n",
              "      <td>innovacion</td>\n",
              "      <td>pagina informe ofrece desarrollos regionales m...</td>\n",
              "      <td>manufactura producto tocador articulo aseo fab...</td>\n",
              "      <td>https://sportingcristal.org/page/9954/ pagina ...</td>\n",
              "      <td>sector</td>\n",
              "    </tr>\n",
              "    <tr>\n",
              "      <th>4</th>\n",
              "      <td>800000946</td>\n",
              "      <td>news69546</td>\n",
              "      <td>procter gamble colombia</td>\n",
              "      <td>macroeconomia</td>\n",
              "      <td>wall street cierra baja dow jones pierde wall ...</td>\n",
              "      <td>manufactura producto tocador articulo aseo fab...</td>\n",
              "      <td>https://acento.com.do/economia/wall-street-cie...</td>\n",
              "      <td>no_aplica</td>\n",
              "    </tr>\n",
              "    <tr>\n",
              "      <th>...</th>\n",
              "      <td>...</td>\n",
              "      <td>...</td>\n",
              "      <td>...</td>\n",
              "      <td>...</td>\n",
              "      <td>...</td>\n",
              "      <td>...</td>\n",
              "      <td>...</td>\n",
              "      <td>...</td>\n",
              "    </tr>\n",
              "    <tr>\n",
              "      <th>74612</th>\n",
              "      <td>900178724</td>\n",
              "      <td>news26364</td>\n",
              "      <td>medplus medicina prepagada</td>\n",
              "      <td>innovacion</td>\n",
              "      <td>adultos colombia contaba superintendencia fina...</td>\n",
              "      <td>eps salud prepagado salud seguro reaseguro seg...</td>\n",
              "      <td>https://m.vanguardia.com/economia/nacional/9-d...</td>\n",
              "      <td>sector</td>\n",
              "    </tr>\n",
              "    <tr>\n",
              "      <th>74613</th>\n",
              "      <td>900178724</td>\n",
              "      <td>news98977</td>\n",
              "      <td>medplus medicina prepagada</td>\n",
              "      <td>innovacion</td>\n",
              "      <td>penetracion seguros mantuvo alza primas inform...</td>\n",
              "      <td>eps salud prepagado salud seguro reaseguro seg...</td>\n",
              "      <td>https://www.larepublica.co/finanzas/la-penetra...</td>\n",
              "      <td>sector</td>\n",
              "    </tr>\n",
              "    <tr>\n",
              "      <th>74614</th>\n",
              "      <td>900178724</td>\n",
              "      <td>news98981</td>\n",
              "      <td>medplus medicina prepagada</td>\n",
              "      <td>regulaciones</td>\n",
              "      <td>responde colombia gobierno problemas adquirir ...</td>\n",
              "      <td>eps salud prepagado salud seguro reaseguro seg...</td>\n",
              "      <td>https://publimotos.com/19-mundo/colombia/5929-...</td>\n",
              "      <td>sector</td>\n",
              "    </tr>\n",
              "    <tr>\n",
              "      <th>74615</th>\n",
              "      <td>900178724</td>\n",
              "      <td>news59181</td>\n",
              "      <td>medplus medicina prepagada</td>\n",
              "      <td>innovacion</td>\n",
              "      <td>axa colpatria comprometida inversiones verdes ...</td>\n",
              "      <td>eps salud prepagado salud seguro reaseguro seg...</td>\n",
              "      <td>https://www.larepublica.co/especiales/seguros-...</td>\n",
              "      <td>sector</td>\n",
              "    </tr>\n",
              "    <tr>\n",
              "      <th>74616</th>\n",
              "      <td>900178724</td>\n",
              "      <td>news98976</td>\n",
              "      <td>medplus medicina prepagada</td>\n",
              "      <td>innovacion</td>\n",
              "      <td>raincoat startup ofrece seguros desastres ano ...</td>\n",
              "      <td>eps salud prepagado salud seguro reaseguro seg...</td>\n",
              "      <td>https://www.entrepreneur.com/es/emprendedores/...</td>\n",
              "      <td>sector</td>\n",
              "    </tr>\n",
              "  </tbody>\n",
              "</table>\n",
              "<p>74617 rows × 8 columns</p>\n",
              "</div>"
            ],
            "text/plain": [
              "             nit    news_id                      nombre       category  \\\n",
              "0      800000946  news15986     procter gamble colombia   regulaciones   \n",
              "1      800000946  news89860     procter gamble colombia  macroeconomia   \n",
              "2      800000946  news89859     procter gamble colombia  macroeconomia   \n",
              "3      800000946  news89850     procter gamble colombia     innovacion   \n",
              "4      800000946  news69546     procter gamble colombia  macroeconomia   \n",
              "...          ...        ...                         ...            ...   \n",
              "74612  900178724  news26364  medplus medicina prepagada     innovacion   \n",
              "74613  900178724  news98977  medplus medicina prepagada     innovacion   \n",
              "74614  900178724  news98981  medplus medicina prepagada   regulaciones   \n",
              "74615  900178724  news59181  medplus medicina prepagada     innovacion   \n",
              "74616  900178724  news98976  medplus medicina prepagada     innovacion   \n",
              "\n",
              "                               news_text_content_cleaned  \\\n",
              "0      guia arte cultura semana arte agustina galinde...   \n",
              "1      wall street cierra verde wall street cerro ver...   \n",
              "2      wall street termina alza mes ano pese disparad...   \n",
              "3      pagina informe ofrece desarrollos regionales m...   \n",
              "4      wall street cierra baja dow jones pierde wall ...   \n",
              "...                                                  ...   \n",
              "74612  adultos colombia contaba superintendencia fina...   \n",
              "74613  penetracion seguros mantuvo alza primas inform...   \n",
              "74614  responde colombia gobierno problemas adquirir ...   \n",
              "74615  axa colpatria comprometida inversiones verdes ...   \n",
              "74616  raincoat startup ofrece seguros desastres ano ...   \n",
              "\n",
              "                                     participate_sectors  \\\n",
              "0      manufactura producto tocador articulo aseo fab...   \n",
              "1      manufactura producto tocador articulo aseo fab...   \n",
              "2      manufactura producto tocador articulo aseo fab...   \n",
              "3      manufactura producto tocador articulo aseo fab...   \n",
              "4      manufactura producto tocador articulo aseo fab...   \n",
              "...                                                  ...   \n",
              "74612  eps salud prepagado salud seguro reaseguro seg...   \n",
              "74613  eps salud prepagado salud seguro reaseguro seg...   \n",
              "74614  eps salud prepagado salud seguro reaseguro seg...   \n",
              "74615  eps salud prepagado salud seguro reaseguro seg...   \n",
              "74616  eps salud prepagado salud seguro reaseguro seg...   \n",
              "\n",
              "                                               news_text participacion  \n",
              "0      https://www.infobae.com/cultura/agenda-cultura...        sector  \n",
              "1      https://acento.com.do/economia/wall-street-cie...        sector  \n",
              "2      https://www.semana.com/economia/inversionistas...        sector  \n",
              "3      https://sportingcristal.org/page/9954/ pagina ...        sector  \n",
              "4      https://acento.com.do/economia/wall-street-cie...     no_aplica  \n",
              "...                                                  ...           ...  \n",
              "74612  https://m.vanguardia.com/economia/nacional/9-d...        sector  \n",
              "74613  https://www.larepublica.co/finanzas/la-penetra...        sector  \n",
              "74614  https://publimotos.com/19-mundo/colombia/5929-...        sector  \n",
              "74615  https://www.larepublica.co/especiales/seguros-...        sector  \n",
              "74616  https://www.entrepreneur.com/es/emprendedores/...        sector  \n",
              "\n",
              "[74617 rows x 8 columns]"
            ]
          },
          "execution_count": 57,
          "metadata": {},
          "output_type": "execute_result"
        }
      ],
      "source": [
        "participacion"
      ]
    },
    {
      "cell_type": "markdown",
      "metadata": {
        "id": "HYeYGyHh0Dtt"
      },
      "source": [
        "Se muestra **la distribución de participacion** por cliente, sector y no_aplica a lo largo de todo el dataset (`participacion`)."
      ]
    },
    {
      "cell_type": "code",
      "execution_count": null,
      "metadata": {
        "id": "Q-cEnVBQ0Dtu",
        "outputId": "4bb90a0d-6d94-4cf5-d932-231a238f43f8"
      },
      "outputs": [
        {
          "data": {
            "text/html": [
              "<div>\n",
              "<style scoped>\n",
              "    .dataframe tbody tr th:only-of-type {\n",
              "        vertical-align: middle;\n",
              "    }\n",
              "\n",
              "    .dataframe tbody tr th {\n",
              "        vertical-align: top;\n",
              "    }\n",
              "\n",
              "    .dataframe thead th {\n",
              "        text-align: right;\n",
              "    }\n",
              "</style>\n",
              "<table border=\"1\" class=\"dataframe\">\n",
              "  <thead>\n",
              "    <tr style=\"text-align: right;\">\n",
              "      <th></th>\n",
              "      <th>nit</th>\n",
              "      <th>news_id</th>\n",
              "      <th>nombre</th>\n",
              "      <th>category</th>\n",
              "      <th>news_text_content_cleaned</th>\n",
              "      <th>participate_sectors</th>\n",
              "      <th>news_text</th>\n",
              "    </tr>\n",
              "    <tr>\n",
              "      <th>participacion</th>\n",
              "      <th></th>\n",
              "      <th></th>\n",
              "      <th></th>\n",
              "      <th></th>\n",
              "      <th></th>\n",
              "      <th></th>\n",
              "      <th></th>\n",
              "    </tr>\n",
              "  </thead>\n",
              "  <tbody>\n",
              "    <tr>\n",
              "      <th>cliente</th>\n",
              "      <td>2790</td>\n",
              "      <td>2790</td>\n",
              "      <td>2790</td>\n",
              "      <td>2790</td>\n",
              "      <td>2790</td>\n",
              "      <td>2790</td>\n",
              "      <td>2790</td>\n",
              "    </tr>\n",
              "    <tr>\n",
              "      <th>no_aplica</th>\n",
              "      <td>17887</td>\n",
              "      <td>17887</td>\n",
              "      <td>17887</td>\n",
              "      <td>17887</td>\n",
              "      <td>17887</td>\n",
              "      <td>17887</td>\n",
              "      <td>17887</td>\n",
              "    </tr>\n",
              "    <tr>\n",
              "      <th>sector</th>\n",
              "      <td>53940</td>\n",
              "      <td>53940</td>\n",
              "      <td>53940</td>\n",
              "      <td>53940</td>\n",
              "      <td>53940</td>\n",
              "      <td>53940</td>\n",
              "      <td>53940</td>\n",
              "    </tr>\n",
              "  </tbody>\n",
              "</table>\n",
              "</div>"
            ],
            "text/plain": [
              "                 nit  news_id  nombre  category  news_text_content_cleaned  \\\n",
              "participacion                                                                \n",
              "cliente         2790     2790    2790      2790                       2790   \n",
              "no_aplica      17887    17887   17887     17887                      17887   \n",
              "sector         53940    53940   53940     53940                      53940   \n",
              "\n",
              "               participate_sectors  news_text  \n",
              "participacion                                  \n",
              "cliente                       2790       2790  \n",
              "no_aplica                    17887      17887  \n",
              "sector                       53940      53940  "
            ]
          },
          "execution_count": 58,
          "metadata": {},
          "output_type": "execute_result"
        }
      ],
      "source": [
        "participacion.groupby(by=\"participacion\").count()"
      ]
    },
    {
      "cell_type": "markdown",
      "metadata": {
        "id": "fPrn6fLn0Dtv"
      },
      "source": [
        "Se añade una columna con el nombre del equipo y se eliminan las columnas innecesarias. Se guarda el .csv.\n",
        "\n",
        "**Esto corresponde al primer entregable**."
      ]
    },
    {
      "cell_type": "code",
      "execution_count": null,
      "metadata": {
        "id": "40aVM9o-0Dtv",
        "outputId": "ffb48035-5883-40b2-9304-d18a2544a51d"
      },
      "outputs": [
        {
          "name": "stderr",
          "output_type": "stream",
          "text": [
            "S:\\Anaconda\\lib\\site-packages\\pandas\\core\\frame.py:4441: SettingWithCopyWarning: \n",
            "A value is trying to be set on a copy of a slice from a DataFrame\n",
            "\n",
            "See the caveats in the documentation: https://pandas.pydata.org/pandas-docs/stable/user_guide/indexing.html#returning-a-view-versus-a-copy\n",
            "  return super().rename(\n"
          ]
        },
        {
          "data": {
            "text/html": [
              "<div>\n",
              "<style scoped>\n",
              "    .dataframe tbody tr th:only-of-type {\n",
              "        vertical-align: middle;\n",
              "    }\n",
              "\n",
              "    .dataframe tbody tr th {\n",
              "        vertical-align: top;\n",
              "    }\n",
              "\n",
              "    .dataframe thead th {\n",
              "        text-align: right;\n",
              "    }\n",
              "</style>\n",
              "<table border=\"1\" class=\"dataframe\">\n",
              "  <thead>\n",
              "    <tr style=\"text-align: right;\">\n",
              "      <th></th>\n",
              "      <th>nombre_equipo</th>\n",
              "      <th>nit</th>\n",
              "      <th>news_id</th>\n",
              "      <th>participacion</th>\n",
              "      <th>categoria</th>\n",
              "    </tr>\n",
              "  </thead>\n",
              "  <tbody>\n",
              "    <tr>\n",
              "      <th>0</th>\n",
              "      <td>Physicist.py</td>\n",
              "      <td>800000946</td>\n",
              "      <td>news15986</td>\n",
              "      <td>sector</td>\n",
              "      <td>regulaciones</td>\n",
              "    </tr>\n",
              "    <tr>\n",
              "      <th>1</th>\n",
              "      <td>Physicist.py</td>\n",
              "      <td>800000946</td>\n",
              "      <td>news89860</td>\n",
              "      <td>sector</td>\n",
              "      <td>macroeconomia</td>\n",
              "    </tr>\n",
              "    <tr>\n",
              "      <th>2</th>\n",
              "      <td>Physicist.py</td>\n",
              "      <td>800000946</td>\n",
              "      <td>news89859</td>\n",
              "      <td>sector</td>\n",
              "      <td>macroeconomia</td>\n",
              "    </tr>\n",
              "    <tr>\n",
              "      <th>3</th>\n",
              "      <td>Physicist.py</td>\n",
              "      <td>800000946</td>\n",
              "      <td>news89850</td>\n",
              "      <td>sector</td>\n",
              "      <td>innovacion</td>\n",
              "    </tr>\n",
              "    <tr>\n",
              "      <th>4</th>\n",
              "      <td>Physicist.py</td>\n",
              "      <td>800000946</td>\n",
              "      <td>news69546</td>\n",
              "      <td>no_aplica</td>\n",
              "      <td>macroeconomia</td>\n",
              "    </tr>\n",
              "    <tr>\n",
              "      <th>...</th>\n",
              "      <td>...</td>\n",
              "      <td>...</td>\n",
              "      <td>...</td>\n",
              "      <td>...</td>\n",
              "      <td>...</td>\n",
              "    </tr>\n",
              "    <tr>\n",
              "      <th>74612</th>\n",
              "      <td>Physicist.py</td>\n",
              "      <td>900178724</td>\n",
              "      <td>news26364</td>\n",
              "      <td>sector</td>\n",
              "      <td>innovacion</td>\n",
              "    </tr>\n",
              "    <tr>\n",
              "      <th>74613</th>\n",
              "      <td>Physicist.py</td>\n",
              "      <td>900178724</td>\n",
              "      <td>news98977</td>\n",
              "      <td>sector</td>\n",
              "      <td>innovacion</td>\n",
              "    </tr>\n",
              "    <tr>\n",
              "      <th>74614</th>\n",
              "      <td>Physicist.py</td>\n",
              "      <td>900178724</td>\n",
              "      <td>news98981</td>\n",
              "      <td>sector</td>\n",
              "      <td>regulaciones</td>\n",
              "    </tr>\n",
              "    <tr>\n",
              "      <th>74615</th>\n",
              "      <td>Physicist.py</td>\n",
              "      <td>900178724</td>\n",
              "      <td>news59181</td>\n",
              "      <td>sector</td>\n",
              "      <td>innovacion</td>\n",
              "    </tr>\n",
              "    <tr>\n",
              "      <th>74616</th>\n",
              "      <td>Physicist.py</td>\n",
              "      <td>900178724</td>\n",
              "      <td>news98976</td>\n",
              "      <td>sector</td>\n",
              "      <td>innovacion</td>\n",
              "    </tr>\n",
              "  </tbody>\n",
              "</table>\n",
              "<p>74617 rows × 5 columns</p>\n",
              "</div>"
            ],
            "text/plain": [
              "      nombre_equipo        nit    news_id participacion      categoria\n",
              "0      Physicist.py  800000946  news15986        sector   regulaciones\n",
              "1      Physicist.py  800000946  news89860        sector  macroeconomia\n",
              "2      Physicist.py  800000946  news89859        sector  macroeconomia\n",
              "3      Physicist.py  800000946  news89850        sector     innovacion\n",
              "4      Physicist.py  800000946  news69546     no_aplica  macroeconomia\n",
              "...             ...        ...        ...           ...            ...\n",
              "74612  Physicist.py  900178724  news26364        sector     innovacion\n",
              "74613  Physicist.py  900178724  news98977        sector     innovacion\n",
              "74614  Physicist.py  900178724  news98981        sector   regulaciones\n",
              "74615  Physicist.py  900178724  news59181        sector     innovacion\n",
              "74616  Physicist.py  900178724  news98976        sector     innovacion\n",
              "\n",
              "[74617 rows x 5 columns]"
            ]
          },
          "execution_count": 64,
          "metadata": {},
          "output_type": "execute_result"
        }
      ],
      "source": [
        "participacion[\"nombre_equipo\"] = \"Physicist.py\"\n",
        "participacion_category = participacion[[\"nombre_equipo\", \"nit\", \"news_id\", \"participacion\", \"category\"]]\n",
        "participacion_category.rename(columns = {'category':'categoria'}, inplace = True)\n",
        "participacion_category.to_csv('categorizacion.csv')\n",
        "participacion_category"
      ]
    },
    {
      "cell_type": "markdown",
      "metadata": {
        "id": "MLk_2HQE0Dtx"
      },
      "source": [
        "# Recomendación\n",
        "\n",
        "Para la recomendación se usa un sistema de pesos de acuerdo al tópico al que pertenece la noticia y de a cuerdo a la participación que tiene el cliente. De manera que:\n",
        "\n",
        "* Categorización:\n",
        "\n",
        "  * `macroeconomia`: 2\n",
        "  * `sostenibilidad`: 1.8\n",
        "  * `innovacion`: 1.7\n",
        "  * `regulaciones`: 1.6\n",
        "  * `alianzas`: 1.4\n",
        "  * `reputacion`: 1.2\n",
        "  * `otra`: 0.5\n",
        "  * `descartable`: 0.3\n",
        "\n",
        "* `Participación`:\n",
        "\n",
        "  * `cliente`: 2\n",
        "  * `sector`: 1.2\n",
        "  * `no_aplica`: 0.3"
      ]
    },
    {
      "cell_type": "markdown",
      "metadata": {
        "id": "o2nm2mJd0Dty"
      },
      "source": [
        "Se empieza cargando los datos que contienen el primer entregable"
      ]
    },
    {
      "cell_type": "code",
      "execution_count": null,
      "metadata": {
        "id": "mTV0xT6B0Dty",
        "outputId": "72ae4567-c1ab-46fd-9dd4-49c6ede264c6"
      },
      "outputs": [
        {
          "data": {
            "text/html": [
              "<div>\n",
              "<style scoped>\n",
              "    .dataframe tbody tr th:only-of-type {\n",
              "        vertical-align: middle;\n",
              "    }\n",
              "\n",
              "    .dataframe tbody tr th {\n",
              "        vertical-align: top;\n",
              "    }\n",
              "\n",
              "    .dataframe thead th {\n",
              "        text-align: right;\n",
              "    }\n",
              "</style>\n",
              "<table border=\"1\" class=\"dataframe\">\n",
              "  <thead>\n",
              "    <tr style=\"text-align: right;\">\n",
              "      <th></th>\n",
              "      <th>nombre_equipo</th>\n",
              "      <th>nit</th>\n",
              "      <th>news_id</th>\n",
              "      <th>participacion</th>\n",
              "      <th>categoria</th>\n",
              "    </tr>\n",
              "  </thead>\n",
              "  <tbody>\n",
              "    <tr>\n",
              "      <th>0</th>\n",
              "      <td>Physicist.py</td>\n",
              "      <td>800000946</td>\n",
              "      <td>news15986</td>\n",
              "      <td>sector</td>\n",
              "      <td>regulaciones</td>\n",
              "    </tr>\n",
              "    <tr>\n",
              "      <th>1</th>\n",
              "      <td>Physicist.py</td>\n",
              "      <td>800000946</td>\n",
              "      <td>news89860</td>\n",
              "      <td>sector</td>\n",
              "      <td>macroeconomia</td>\n",
              "    </tr>\n",
              "    <tr>\n",
              "      <th>2</th>\n",
              "      <td>Physicist.py</td>\n",
              "      <td>800000946</td>\n",
              "      <td>news89859</td>\n",
              "      <td>sector</td>\n",
              "      <td>macroeconomia</td>\n",
              "    </tr>\n",
              "    <tr>\n",
              "      <th>3</th>\n",
              "      <td>Physicist.py</td>\n",
              "      <td>800000946</td>\n",
              "      <td>news89850</td>\n",
              "      <td>sector</td>\n",
              "      <td>innovacion</td>\n",
              "    </tr>\n",
              "    <tr>\n",
              "      <th>4</th>\n",
              "      <td>Physicist.py</td>\n",
              "      <td>800000946</td>\n",
              "      <td>news69546</td>\n",
              "      <td>no_aplica</td>\n",
              "      <td>macroeconomia</td>\n",
              "    </tr>\n",
              "    <tr>\n",
              "      <th>...</th>\n",
              "      <td>...</td>\n",
              "      <td>...</td>\n",
              "      <td>...</td>\n",
              "      <td>...</td>\n",
              "      <td>...</td>\n",
              "    </tr>\n",
              "    <tr>\n",
              "      <th>74612</th>\n",
              "      <td>Physicist.py</td>\n",
              "      <td>900178724</td>\n",
              "      <td>news26364</td>\n",
              "      <td>sector</td>\n",
              "      <td>innovacion</td>\n",
              "    </tr>\n",
              "    <tr>\n",
              "      <th>74613</th>\n",
              "      <td>Physicist.py</td>\n",
              "      <td>900178724</td>\n",
              "      <td>news98977</td>\n",
              "      <td>sector</td>\n",
              "      <td>innovacion</td>\n",
              "    </tr>\n",
              "    <tr>\n",
              "      <th>74614</th>\n",
              "      <td>Physicist.py</td>\n",
              "      <td>900178724</td>\n",
              "      <td>news98981</td>\n",
              "      <td>sector</td>\n",
              "      <td>regulaciones</td>\n",
              "    </tr>\n",
              "    <tr>\n",
              "      <th>74615</th>\n",
              "      <td>Physicist.py</td>\n",
              "      <td>900178724</td>\n",
              "      <td>news59181</td>\n",
              "      <td>sector</td>\n",
              "      <td>innovacion</td>\n",
              "    </tr>\n",
              "    <tr>\n",
              "      <th>74616</th>\n",
              "      <td>Physicist.py</td>\n",
              "      <td>900178724</td>\n",
              "      <td>news98976</td>\n",
              "      <td>sector</td>\n",
              "      <td>innovacion</td>\n",
              "    </tr>\n",
              "  </tbody>\n",
              "</table>\n",
              "<p>74617 rows × 5 columns</p>\n",
              "</div>"
            ],
            "text/plain": [
              "      nombre_equipo        nit    news_id participacion      categoria\n",
              "0      Physicist.py  800000946  news15986        sector   regulaciones\n",
              "1      Physicist.py  800000946  news89860        sector  macroeconomia\n",
              "2      Physicist.py  800000946  news89859        sector  macroeconomia\n",
              "3      Physicist.py  800000946  news89850        sector     innovacion\n",
              "4      Physicist.py  800000946  news69546     no_aplica  macroeconomia\n",
              "...             ...        ...        ...           ...            ...\n",
              "74612  Physicist.py  900178724  news26364        sector     innovacion\n",
              "74613  Physicist.py  900178724  news98977        sector     innovacion\n",
              "74614  Physicist.py  900178724  news98981        sector   regulaciones\n",
              "74615  Physicist.py  900178724  news59181        sector     innovacion\n",
              "74616  Physicist.py  900178724  news98976        sector     innovacion\n",
              "\n",
              "[74617 rows x 5 columns]"
            ]
          },
          "execution_count": 88,
          "metadata": {},
          "output_type": "execute_result"
        }
      ],
      "source": [
        "participacion_category = pd.read_csv('categorizacion.csv', index_col=[0]) \n",
        "participacion_category"
      ]
    },
    {
      "cell_type": "markdown",
      "metadata": {
        "id": "VlQ09IXx0Dt0"
      },
      "source": [
        "Creamos la función (`Recomendacion`) que le entra como argumento un string con la `participación` y otro string con la `categoria` de la noticia en cuestión, luego se hace un diccionario con los pesos establecidos y retorna la multiplicación de los pesos correspondientes. "
      ]
    },
    {
      "cell_type": "code",
      "execution_count": null,
      "metadata": {
        "id": "hrwomTNi0Dt0",
        "outputId": "aeefcead-ff17-4661-858f-127a733a11c7"
      },
      "outputs": [
        {
          "data": {
            "text/html": [
              "<div>\n",
              "<style scoped>\n",
              "    .dataframe tbody tr th:only-of-type {\n",
              "        vertical-align: middle;\n",
              "    }\n",
              "\n",
              "    .dataframe tbody tr th {\n",
              "        vertical-align: top;\n",
              "    }\n",
              "\n",
              "    .dataframe thead th {\n",
              "        text-align: right;\n",
              "    }\n",
              "</style>\n",
              "<table border=\"1\" class=\"dataframe\">\n",
              "  <thead>\n",
              "    <tr style=\"text-align: right;\">\n",
              "      <th></th>\n",
              "      <th>nombre_equipo</th>\n",
              "      <th>nit</th>\n",
              "      <th>news_id</th>\n",
              "      <th>participacion</th>\n",
              "      <th>categoria</th>\n",
              "      <th>recomendacion</th>\n",
              "    </tr>\n",
              "  </thead>\n",
              "  <tbody>\n",
              "    <tr>\n",
              "      <th>0</th>\n",
              "      <td>Physicist.py</td>\n",
              "      <td>800000946</td>\n",
              "      <td>news15986</td>\n",
              "      <td>sector</td>\n",
              "      <td>regulaciones</td>\n",
              "      <td>1.92</td>\n",
              "    </tr>\n",
              "    <tr>\n",
              "      <th>1</th>\n",
              "      <td>Physicist.py</td>\n",
              "      <td>800000946</td>\n",
              "      <td>news89860</td>\n",
              "      <td>sector</td>\n",
              "      <td>macroeconomia</td>\n",
              "      <td>2.40</td>\n",
              "    </tr>\n",
              "    <tr>\n",
              "      <th>2</th>\n",
              "      <td>Physicist.py</td>\n",
              "      <td>800000946</td>\n",
              "      <td>news89859</td>\n",
              "      <td>sector</td>\n",
              "      <td>macroeconomia</td>\n",
              "      <td>2.40</td>\n",
              "    </tr>\n",
              "    <tr>\n",
              "      <th>3</th>\n",
              "      <td>Physicist.py</td>\n",
              "      <td>800000946</td>\n",
              "      <td>news89850</td>\n",
              "      <td>sector</td>\n",
              "      <td>innovacion</td>\n",
              "      <td>2.04</td>\n",
              "    </tr>\n",
              "    <tr>\n",
              "      <th>4</th>\n",
              "      <td>Physicist.py</td>\n",
              "      <td>800000946</td>\n",
              "      <td>news69546</td>\n",
              "      <td>no_aplica</td>\n",
              "      <td>macroeconomia</td>\n",
              "      <td>0.60</td>\n",
              "    </tr>\n",
              "    <tr>\n",
              "      <th>...</th>\n",
              "      <td>...</td>\n",
              "      <td>...</td>\n",
              "      <td>...</td>\n",
              "      <td>...</td>\n",
              "      <td>...</td>\n",
              "      <td>...</td>\n",
              "    </tr>\n",
              "    <tr>\n",
              "      <th>74612</th>\n",
              "      <td>Physicist.py</td>\n",
              "      <td>900178724</td>\n",
              "      <td>news26364</td>\n",
              "      <td>sector</td>\n",
              "      <td>innovacion</td>\n",
              "      <td>2.04</td>\n",
              "    </tr>\n",
              "    <tr>\n",
              "      <th>74613</th>\n",
              "      <td>Physicist.py</td>\n",
              "      <td>900178724</td>\n",
              "      <td>news98977</td>\n",
              "      <td>sector</td>\n",
              "      <td>innovacion</td>\n",
              "      <td>2.04</td>\n",
              "    </tr>\n",
              "    <tr>\n",
              "      <th>74614</th>\n",
              "      <td>Physicist.py</td>\n",
              "      <td>900178724</td>\n",
              "      <td>news98981</td>\n",
              "      <td>sector</td>\n",
              "      <td>regulaciones</td>\n",
              "      <td>1.92</td>\n",
              "    </tr>\n",
              "    <tr>\n",
              "      <th>74615</th>\n",
              "      <td>Physicist.py</td>\n",
              "      <td>900178724</td>\n",
              "      <td>news59181</td>\n",
              "      <td>sector</td>\n",
              "      <td>innovacion</td>\n",
              "      <td>2.04</td>\n",
              "    </tr>\n",
              "    <tr>\n",
              "      <th>74616</th>\n",
              "      <td>Physicist.py</td>\n",
              "      <td>900178724</td>\n",
              "      <td>news98976</td>\n",
              "      <td>sector</td>\n",
              "      <td>innovacion</td>\n",
              "      <td>2.04</td>\n",
              "    </tr>\n",
              "  </tbody>\n",
              "</table>\n",
              "<p>74617 rows × 6 columns</p>\n",
              "</div>"
            ],
            "text/plain": [
              "      nombre_equipo        nit    news_id participacion      categoria  \\\n",
              "0      Physicist.py  800000946  news15986        sector   regulaciones   \n",
              "1      Physicist.py  800000946  news89860        sector  macroeconomia   \n",
              "2      Physicist.py  800000946  news89859        sector  macroeconomia   \n",
              "3      Physicist.py  800000946  news89850        sector     innovacion   \n",
              "4      Physicist.py  800000946  news69546     no_aplica  macroeconomia   \n",
              "...             ...        ...        ...           ...            ...   \n",
              "74612  Physicist.py  900178724  news26364        sector     innovacion   \n",
              "74613  Physicist.py  900178724  news98977        sector     innovacion   \n",
              "74614  Physicist.py  900178724  news98981        sector   regulaciones   \n",
              "74615  Physicist.py  900178724  news59181        sector     innovacion   \n",
              "74616  Physicist.py  900178724  news98976        sector     innovacion   \n",
              "\n",
              "       recomendacion  \n",
              "0               1.92  \n",
              "1               2.40  \n",
              "2               2.40  \n",
              "3               2.04  \n",
              "4               0.60  \n",
              "...              ...  \n",
              "74612           2.04  \n",
              "74613           2.04  \n",
              "74614           1.92  \n",
              "74615           2.04  \n",
              "74616           2.04  \n",
              "\n",
              "[74617 rows x 6 columns]"
            ]
          },
          "execution_count": 89,
          "metadata": {},
          "output_type": "execute_result"
        }
      ],
      "source": [
        "def Recomendacion(participacion, categoria):\n",
        "    labels = [\"macroeconomia\",\"sostenibilidad\",\"innovacion\", \"regulaciones\", \"alianzas\", \"reputacion\", \"otra\", \"descartable\",\n",
        "             \"cliente\", \"sector\", \"no_aplica\"] \n",
        "    weighs = [2, 1.8, 1.7, 1.6, 1.4, 1.2, 0.5, 0.3, 2, 1.2, 0.3]\n",
        "    dicc = dict(zip(labels,weighs))\n",
        "\n",
        "    return dicc[categoria]*dicc[participacion]\n",
        "\n",
        "participacion_category[\"recomendacion\"] = participacion_category.apply(lambda x: Recomendacion(x.participacion, \n",
        "                                                                                               x.categoria), axis=1)\n",
        "participacion_category"
      ]
    },
    {
      "cell_type": "markdown",
      "metadata": {
        "id": "GQXAiwqe0Dt1"
      },
      "source": [
        "Se ordena el dataset (`participacion_category`) teniendo en cuenta dos columnas de la siguiente manera: ordenando de menor a mayor la identificación del cliente (`nit`) y luego para cada nit ordenando de mayor a menor la recomendación. Este nuevo dataframe lo llamamos (`recomendacion_rank`)."
      ]
    },
    {
      "cell_type": "code",
      "execution_count": null,
      "metadata": {
        "id": "0KB2-iRu0Dt2",
        "outputId": "4703af59-020e-43f0-e582-afe8c52a4a7b"
      },
      "outputs": [
        {
          "data": {
            "text/html": [
              "<div>\n",
              "<style scoped>\n",
              "    .dataframe tbody tr th:only-of-type {\n",
              "        vertical-align: middle;\n",
              "    }\n",
              "\n",
              "    .dataframe tbody tr th {\n",
              "        vertical-align: top;\n",
              "    }\n",
              "\n",
              "    .dataframe thead th {\n",
              "        text-align: right;\n",
              "    }\n",
              "</style>\n",
              "<table border=\"1\" class=\"dataframe\">\n",
              "  <thead>\n",
              "    <tr style=\"text-align: right;\">\n",
              "      <th></th>\n",
              "      <th>nombre_equipo</th>\n",
              "      <th>nit</th>\n",
              "      <th>news_id</th>\n",
              "      <th>participacion</th>\n",
              "      <th>categoria</th>\n",
              "      <th>recomendacion</th>\n",
              "    </tr>\n",
              "  </thead>\n",
              "  <tbody>\n",
              "    <tr>\n",
              "      <th>1</th>\n",
              "      <td>Physicist.py</td>\n",
              "      <td>800000946</td>\n",
              "      <td>news89860</td>\n",
              "      <td>sector</td>\n",
              "      <td>macroeconomia</td>\n",
              "      <td>2.40</td>\n",
              "    </tr>\n",
              "    <tr>\n",
              "      <th>2</th>\n",
              "      <td>Physicist.py</td>\n",
              "      <td>800000946</td>\n",
              "      <td>news89859</td>\n",
              "      <td>sector</td>\n",
              "      <td>macroeconomia</td>\n",
              "      <td>2.40</td>\n",
              "    </tr>\n",
              "    <tr>\n",
              "      <th>5</th>\n",
              "      <td>Physicist.py</td>\n",
              "      <td>800000946</td>\n",
              "      <td>news97858</td>\n",
              "      <td>sector</td>\n",
              "      <td>macroeconomia</td>\n",
              "      <td>2.40</td>\n",
              "    </tr>\n",
              "    <tr>\n",
              "      <th>11</th>\n",
              "      <td>Physicist.py</td>\n",
              "      <td>800000946</td>\n",
              "      <td>news97669</td>\n",
              "      <td>sector</td>\n",
              "      <td>macroeconomia</td>\n",
              "      <td>2.40</td>\n",
              "    </tr>\n",
              "    <tr>\n",
              "      <th>3</th>\n",
              "      <td>Physicist.py</td>\n",
              "      <td>800000946</td>\n",
              "      <td>news89850</td>\n",
              "      <td>sector</td>\n",
              "      <td>innovacion</td>\n",
              "      <td>2.04</td>\n",
              "    </tr>\n",
              "    <tr>\n",
              "      <th>...</th>\n",
              "      <td>...</td>\n",
              "      <td>...</td>\n",
              "      <td>...</td>\n",
              "      <td>...</td>\n",
              "      <td>...</td>\n",
              "      <td>...</td>\n",
              "    </tr>\n",
              "    <tr>\n",
              "      <th>45999</th>\n",
              "      <td>Physicist.py</td>\n",
              "      <td>901576411</td>\n",
              "      <td>news79522</td>\n",
              "      <td>no_aplica</td>\n",
              "      <td>regulaciones</td>\n",
              "      <td>0.48</td>\n",
              "    </tr>\n",
              "    <tr>\n",
              "      <th>46001</th>\n",
              "      <td>Physicist.py</td>\n",
              "      <td>901576411</td>\n",
              "      <td>news79523</td>\n",
              "      <td>no_aplica</td>\n",
              "      <td>regulaciones</td>\n",
              "      <td>0.48</td>\n",
              "    </tr>\n",
              "    <tr>\n",
              "      <th>45981</th>\n",
              "      <td>Physicist.py</td>\n",
              "      <td>901576411</td>\n",
              "      <td>news29628</td>\n",
              "      <td>sector</td>\n",
              "      <td>descartable</td>\n",
              "      <td>0.36</td>\n",
              "    </tr>\n",
              "    <tr>\n",
              "      <th>45975</th>\n",
              "      <td>Physicist.py</td>\n",
              "      <td>901576411</td>\n",
              "      <td>news96710</td>\n",
              "      <td>no_aplica</td>\n",
              "      <td>descartable</td>\n",
              "      <td>0.09</td>\n",
              "    </tr>\n",
              "    <tr>\n",
              "      <th>45996</th>\n",
              "      <td>Physicist.py</td>\n",
              "      <td>901576411</td>\n",
              "      <td>news49120</td>\n",
              "      <td>no_aplica</td>\n",
              "      <td>descartable</td>\n",
              "      <td>0.09</td>\n",
              "    </tr>\n",
              "  </tbody>\n",
              "</table>\n",
              "<p>74617 rows × 6 columns</p>\n",
              "</div>"
            ],
            "text/plain": [
              "      nombre_equipo        nit    news_id participacion      categoria  \\\n",
              "1      Physicist.py  800000946  news89860        sector  macroeconomia   \n",
              "2      Physicist.py  800000946  news89859        sector  macroeconomia   \n",
              "5      Physicist.py  800000946  news97858        sector  macroeconomia   \n",
              "11     Physicist.py  800000946  news97669        sector  macroeconomia   \n",
              "3      Physicist.py  800000946  news89850        sector     innovacion   \n",
              "...             ...        ...        ...           ...            ...   \n",
              "45999  Physicist.py  901576411  news79522     no_aplica   regulaciones   \n",
              "46001  Physicist.py  901576411  news79523     no_aplica   regulaciones   \n",
              "45981  Physicist.py  901576411  news29628        sector    descartable   \n",
              "45975  Physicist.py  901576411  news96710     no_aplica    descartable   \n",
              "45996  Physicist.py  901576411  news49120     no_aplica    descartable   \n",
              "\n",
              "       recomendacion  \n",
              "1               2.40  \n",
              "2               2.40  \n",
              "5               2.40  \n",
              "11              2.40  \n",
              "3               2.04  \n",
              "...              ...  \n",
              "45999           0.48  \n",
              "46001           0.48  \n",
              "45981           0.36  \n",
              "45975           0.09  \n",
              "45996           0.09  \n",
              "\n",
              "[74617 rows x 6 columns]"
            ]
          },
          "execution_count": 98,
          "metadata": {},
          "output_type": "execute_result"
        }
      ],
      "source": [
        "#Ordena en cada nit de tal manera que la recomendacion quede de mayor a menor\n",
        "recomendacion_rank = participacion_category.sort_values(by=[\"nit\", \"recomendacion\"], ascending=[True,False])\n",
        "recomendacion_rank"
      ]
    },
    {
      "cell_type": "markdown",
      "metadata": {
        "id": "7su-VqQP0Dt3"
      },
      "source": [
        "Se crea la función que hace la jerarquización. \n",
        "\n",
        "Descripción:\n",
        "\n",
        "* Le ingresa el dataframe (`recomendacion_rank`),\n",
        "* se hace una copia de este para evitar problemas de referencia,\n",
        "* se recorre sobre cada nit único, se crea un dataframe (`jerarq_client`) con solo esos nit's únicos,\n",
        "* se sacan sus índices respectivos para ubicar las posiciones del dataframe (`recomendacion_rank`),\n",
        "* se hace una lista (`scores_reco`) con los puntajes de recomendación únicos en el dataframe (`jerarq_client`), se recorre sobre cada índice, \n",
        "* modificamos la posición con ese índice en el dataframe (`recomendacion_rank`) con el ranking de noticias, este ranking de noticias resulta de encontrar qué posicion de la lista de puntajes (`scores_reco`) concuerda con el puntaje que tiene el índice donde estamos localizados, le suma 1 y el resultado es la posición en el ranking. \n",
        "\n",
        "Cabe aclarar que este sistema de pesos permite que puedan haber empates en la recomendación, por ejemplo 2 noticias que se recomienden leer en primer lugar. \n",
        "\n",
        "**Finalmente se guarda el** `recomendacion.csv` **con los resultados que son los correspondientes a la segunda entrega.** \n",
        "\n",
        "\n",
        "\n"
      ]
    },
    {
      "cell_type": "code",
      "execution_count": null,
      "metadata": {
        "id": "mLZ44kjn0Dt4",
        "outputId": "35a0bb8d-774f-4a13-973b-b9b6c1c9e0e4"
      },
      "outputs": [
        {
          "data": {
            "text/html": [
              "<div>\n",
              "<style scoped>\n",
              "    .dataframe tbody tr th:only-of-type {\n",
              "        vertical-align: middle;\n",
              "    }\n",
              "\n",
              "    .dataframe tbody tr th {\n",
              "        vertical-align: top;\n",
              "    }\n",
              "\n",
              "    .dataframe thead th {\n",
              "        text-align: right;\n",
              "    }\n",
              "</style>\n",
              "<table border=\"1\" class=\"dataframe\">\n",
              "  <thead>\n",
              "    <tr style=\"text-align: right;\">\n",
              "      <th></th>\n",
              "      <th>nombre_equipo</th>\n",
              "      <th>nit</th>\n",
              "      <th>news_id</th>\n",
              "      <th>participacion</th>\n",
              "      <th>categoria</th>\n",
              "      <th>recomendacion</th>\n",
              "    </tr>\n",
              "  </thead>\n",
              "  <tbody>\n",
              "    <tr>\n",
              "      <th>1</th>\n",
              "      <td>Physicist.py</td>\n",
              "      <td>800000946</td>\n",
              "      <td>news89860</td>\n",
              "      <td>sector</td>\n",
              "      <td>macroeconomia</td>\n",
              "      <td>1.0</td>\n",
              "    </tr>\n",
              "    <tr>\n",
              "      <th>2</th>\n",
              "      <td>Physicist.py</td>\n",
              "      <td>800000946</td>\n",
              "      <td>news89859</td>\n",
              "      <td>sector</td>\n",
              "      <td>macroeconomia</td>\n",
              "      <td>1.0</td>\n",
              "    </tr>\n",
              "    <tr>\n",
              "      <th>5</th>\n",
              "      <td>Physicist.py</td>\n",
              "      <td>800000946</td>\n",
              "      <td>news97858</td>\n",
              "      <td>sector</td>\n",
              "      <td>macroeconomia</td>\n",
              "      <td>1.0</td>\n",
              "    </tr>\n",
              "    <tr>\n",
              "      <th>11</th>\n",
              "      <td>Physicist.py</td>\n",
              "      <td>800000946</td>\n",
              "      <td>news97669</td>\n",
              "      <td>sector</td>\n",
              "      <td>macroeconomia</td>\n",
              "      <td>1.0</td>\n",
              "    </tr>\n",
              "    <tr>\n",
              "      <th>3</th>\n",
              "      <td>Physicist.py</td>\n",
              "      <td>800000946</td>\n",
              "      <td>news89850</td>\n",
              "      <td>sector</td>\n",
              "      <td>innovacion</td>\n",
              "      <td>2.0</td>\n",
              "    </tr>\n",
              "    <tr>\n",
              "      <th>...</th>\n",
              "      <td>...</td>\n",
              "      <td>...</td>\n",
              "      <td>...</td>\n",
              "      <td>...</td>\n",
              "      <td>...</td>\n",
              "      <td>...</td>\n",
              "    </tr>\n",
              "    <tr>\n",
              "      <th>45999</th>\n",
              "      <td>Physicist.py</td>\n",
              "      <td>901576411</td>\n",
              "      <td>news79522</td>\n",
              "      <td>no_aplica</td>\n",
              "      <td>regulaciones</td>\n",
              "      <td>6.0</td>\n",
              "    </tr>\n",
              "    <tr>\n",
              "      <th>46001</th>\n",
              "      <td>Physicist.py</td>\n",
              "      <td>901576411</td>\n",
              "      <td>news79523</td>\n",
              "      <td>no_aplica</td>\n",
              "      <td>regulaciones</td>\n",
              "      <td>6.0</td>\n",
              "    </tr>\n",
              "    <tr>\n",
              "      <th>45981</th>\n",
              "      <td>Physicist.py</td>\n",
              "      <td>901576411</td>\n",
              "      <td>news29628</td>\n",
              "      <td>sector</td>\n",
              "      <td>descartable</td>\n",
              "      <td>7.0</td>\n",
              "    </tr>\n",
              "    <tr>\n",
              "      <th>45975</th>\n",
              "      <td>Physicist.py</td>\n",
              "      <td>901576411</td>\n",
              "      <td>news96710</td>\n",
              "      <td>no_aplica</td>\n",
              "      <td>descartable</td>\n",
              "      <td>8.0</td>\n",
              "    </tr>\n",
              "    <tr>\n",
              "      <th>45996</th>\n",
              "      <td>Physicist.py</td>\n",
              "      <td>901576411</td>\n",
              "      <td>news49120</td>\n",
              "      <td>no_aplica</td>\n",
              "      <td>descartable</td>\n",
              "      <td>8.0</td>\n",
              "    </tr>\n",
              "  </tbody>\n",
              "</table>\n",
              "<p>74617 rows × 6 columns</p>\n",
              "</div>"
            ],
            "text/plain": [
              "      nombre_equipo        nit    news_id participacion      categoria  \\\n",
              "1      Physicist.py  800000946  news89860        sector  macroeconomia   \n",
              "2      Physicist.py  800000946  news89859        sector  macroeconomia   \n",
              "5      Physicist.py  800000946  news97858        sector  macroeconomia   \n",
              "11     Physicist.py  800000946  news97669        sector  macroeconomia   \n",
              "3      Physicist.py  800000946  news89850        sector     innovacion   \n",
              "...             ...        ...        ...           ...            ...   \n",
              "45999  Physicist.py  901576411  news79522     no_aplica   regulaciones   \n",
              "46001  Physicist.py  901576411  news79523     no_aplica   regulaciones   \n",
              "45981  Physicist.py  901576411  news29628        sector    descartable   \n",
              "45975  Physicist.py  901576411  news96710     no_aplica    descartable   \n",
              "45996  Physicist.py  901576411  news49120     no_aplica    descartable   \n",
              "\n",
              "       recomendacion  \n",
              "1                1.0  \n",
              "2                1.0  \n",
              "5                1.0  \n",
              "11               1.0  \n",
              "3                2.0  \n",
              "...              ...  \n",
              "45999            6.0  \n",
              "46001            6.0  \n",
              "45981            7.0  \n",
              "45975            8.0  \n",
              "45996            8.0  \n",
              "\n",
              "[74617 rows x 6 columns]"
            ]
          },
          "execution_count": 99,
          "metadata": {},
          "output_type": "execute_result"
        }
      ],
      "source": [
        "#asocia el valor de la participacion al respectivo puesto en el ranking de recomendacion\n",
        "def jerarquia(DataFrame_):\n",
        "    DataFrame = DataFrame_.copy(deep=True)\n",
        "    nit_ = DataFrame[\"nit\"].unique()\n",
        "    \n",
        "    for nit in nit_:\n",
        "        jerarq_client = DataFrame[DataFrame[\"nit\"]==nit]\n",
        "        key_ = jerarq_client.index\n",
        "        scores_reco = jerarq_client.recomendacion.unique()\n",
        "        for key in key_:\n",
        "            DataFrame.loc[key,\"recomendacion\"] = int(np.where(DataFrame.loc[key,\"recomendacion\"] == scores_reco)[0][0]+1)\n",
        "    \n",
        "    return DataFrame\n",
        "\n",
        "recomendacion_rank = jerarquia(recomendacion_rank)\n",
        "recomendacion_rank.to_csv('recomendacion.csv')\n",
        "recomendacion_rank"
      ]
    },
    {
      "cell_type": "markdown",
      "metadata": {
        "id": "WrEHcIns0Dt5"
      },
      "source": [
        "Se muestra la recomendación, categorizacón y participación de las noticias asociadas al primer cliente.  "
      ]
    },
    {
      "cell_type": "code",
      "execution_count": null,
      "metadata": {
        "id": "_x4d2s7U0Dt6",
        "outputId": "6d143d29-b147-45e1-f09e-c9a066a6227f"
      },
      "outputs": [
        {
          "data": {
            "text/html": [
              "<div>\n",
              "<style scoped>\n",
              "    .dataframe tbody tr th:only-of-type {\n",
              "        vertical-align: middle;\n",
              "    }\n",
              "\n",
              "    .dataframe tbody tr th {\n",
              "        vertical-align: top;\n",
              "    }\n",
              "\n",
              "    .dataframe thead th {\n",
              "        text-align: right;\n",
              "    }\n",
              "</style>\n",
              "<table border=\"1\" class=\"dataframe\">\n",
              "  <thead>\n",
              "    <tr style=\"text-align: right;\">\n",
              "      <th></th>\n",
              "      <th>nombre_equipo</th>\n",
              "      <th>nit</th>\n",
              "      <th>news_id</th>\n",
              "      <th>participacion</th>\n",
              "      <th>categoria</th>\n",
              "      <th>recomendacion</th>\n",
              "    </tr>\n",
              "  </thead>\n",
              "  <tbody>\n",
              "    <tr>\n",
              "      <th>1</th>\n",
              "      <td>Physicist.py</td>\n",
              "      <td>800000946</td>\n",
              "      <td>news89860</td>\n",
              "      <td>sector</td>\n",
              "      <td>macroeconomia</td>\n",
              "      <td>1.0</td>\n",
              "    </tr>\n",
              "    <tr>\n",
              "      <th>2</th>\n",
              "      <td>Physicist.py</td>\n",
              "      <td>800000946</td>\n",
              "      <td>news89859</td>\n",
              "      <td>sector</td>\n",
              "      <td>macroeconomia</td>\n",
              "      <td>1.0</td>\n",
              "    </tr>\n",
              "    <tr>\n",
              "      <th>5</th>\n",
              "      <td>Physicist.py</td>\n",
              "      <td>800000946</td>\n",
              "      <td>news97858</td>\n",
              "      <td>sector</td>\n",
              "      <td>macroeconomia</td>\n",
              "      <td>1.0</td>\n",
              "    </tr>\n",
              "    <tr>\n",
              "      <th>11</th>\n",
              "      <td>Physicist.py</td>\n",
              "      <td>800000946</td>\n",
              "      <td>news97669</td>\n",
              "      <td>sector</td>\n",
              "      <td>macroeconomia</td>\n",
              "      <td>1.0</td>\n",
              "    </tr>\n",
              "    <tr>\n",
              "      <th>3</th>\n",
              "      <td>Physicist.py</td>\n",
              "      <td>800000946</td>\n",
              "      <td>news89850</td>\n",
              "      <td>sector</td>\n",
              "      <td>innovacion</td>\n",
              "      <td>2.0</td>\n",
              "    </tr>\n",
              "    <tr>\n",
              "      <th>6</th>\n",
              "      <td>Physicist.py</td>\n",
              "      <td>800000946</td>\n",
              "      <td>news97853</td>\n",
              "      <td>sector</td>\n",
              "      <td>innovacion</td>\n",
              "      <td>2.0</td>\n",
              "    </tr>\n",
              "    <tr>\n",
              "      <th>7</th>\n",
              "      <td>Physicist.py</td>\n",
              "      <td>800000946</td>\n",
              "      <td>news97846</td>\n",
              "      <td>sector</td>\n",
              "      <td>innovacion</td>\n",
              "      <td>2.0</td>\n",
              "    </tr>\n",
              "    <tr>\n",
              "      <th>12</th>\n",
              "      <td>Physicist.py</td>\n",
              "      <td>800000946</td>\n",
              "      <td>news95244</td>\n",
              "      <td>sector</td>\n",
              "      <td>innovacion</td>\n",
              "      <td>2.0</td>\n",
              "    </tr>\n",
              "    <tr>\n",
              "      <th>15</th>\n",
              "      <td>Physicist.py</td>\n",
              "      <td>800000946</td>\n",
              "      <td>news97841</td>\n",
              "      <td>sector</td>\n",
              "      <td>innovacion</td>\n",
              "      <td>2.0</td>\n",
              "    </tr>\n",
              "    <tr>\n",
              "      <th>0</th>\n",
              "      <td>Physicist.py</td>\n",
              "      <td>800000946</td>\n",
              "      <td>news15986</td>\n",
              "      <td>sector</td>\n",
              "      <td>regulaciones</td>\n",
              "      <td>3.0</td>\n",
              "    </tr>\n",
              "    <tr>\n",
              "      <th>8</th>\n",
              "      <td>Physicist.py</td>\n",
              "      <td>800000946</td>\n",
              "      <td>news97845</td>\n",
              "      <td>sector</td>\n",
              "      <td>regulaciones</td>\n",
              "      <td>3.0</td>\n",
              "    </tr>\n",
              "    <tr>\n",
              "      <th>13</th>\n",
              "      <td>Physicist.py</td>\n",
              "      <td>800000946</td>\n",
              "      <td>news94698</td>\n",
              "      <td>sector</td>\n",
              "      <td>regulaciones</td>\n",
              "      <td>3.0</td>\n",
              "    </tr>\n",
              "    <tr>\n",
              "      <th>14</th>\n",
              "      <td>Physicist.py</td>\n",
              "      <td>800000946</td>\n",
              "      <td>news18687</td>\n",
              "      <td>sector</td>\n",
              "      <td>regulaciones</td>\n",
              "      <td>3.0</td>\n",
              "    </tr>\n",
              "    <tr>\n",
              "      <th>4</th>\n",
              "      <td>Physicist.py</td>\n",
              "      <td>800000946</td>\n",
              "      <td>news69546</td>\n",
              "      <td>no_aplica</td>\n",
              "      <td>macroeconomia</td>\n",
              "      <td>4.0</td>\n",
              "    </tr>\n",
              "    <tr>\n",
              "      <th>9</th>\n",
              "      <td>Physicist.py</td>\n",
              "      <td>800000946</td>\n",
              "      <td>news97860</td>\n",
              "      <td>no_aplica</td>\n",
              "      <td>regulaciones</td>\n",
              "      <td>5.0</td>\n",
              "    </tr>\n",
              "  </tbody>\n",
              "</table>\n",
              "</div>"
            ],
            "text/plain": [
              "   nombre_equipo        nit    news_id participacion      categoria  \\\n",
              "1   Physicist.py  800000946  news89860        sector  macroeconomia   \n",
              "2   Physicist.py  800000946  news89859        sector  macroeconomia   \n",
              "5   Physicist.py  800000946  news97858        sector  macroeconomia   \n",
              "11  Physicist.py  800000946  news97669        sector  macroeconomia   \n",
              "3   Physicist.py  800000946  news89850        sector     innovacion   \n",
              "6   Physicist.py  800000946  news97853        sector     innovacion   \n",
              "7   Physicist.py  800000946  news97846        sector     innovacion   \n",
              "12  Physicist.py  800000946  news95244        sector     innovacion   \n",
              "15  Physicist.py  800000946  news97841        sector     innovacion   \n",
              "0   Physicist.py  800000946  news15986        sector   regulaciones   \n",
              "8   Physicist.py  800000946  news97845        sector   regulaciones   \n",
              "13  Physicist.py  800000946  news94698        sector   regulaciones   \n",
              "14  Physicist.py  800000946  news18687        sector   regulaciones   \n",
              "4   Physicist.py  800000946  news69546     no_aplica  macroeconomia   \n",
              "9   Physicist.py  800000946  news97860     no_aplica   regulaciones   \n",
              "\n",
              "    recomendacion  \n",
              "1             1.0  \n",
              "2             1.0  \n",
              "5             1.0  \n",
              "11            1.0  \n",
              "3             2.0  \n",
              "6             2.0  \n",
              "7             2.0  \n",
              "12            2.0  \n",
              "15            2.0  \n",
              "0             3.0  \n",
              "8             3.0  \n",
              "13            3.0  \n",
              "14            3.0  \n",
              "4             4.0  \n",
              "9             5.0  "
            ]
          },
          "execution_count": 101,
          "metadata": {},
          "output_type": "execute_result"
        }
      ],
      "source": [
        "recomendacion_rank[:15]"
      ]
    },
    {
      "cell_type": "code",
      "execution_count": null,
      "metadata": {
        "id": "RGDPCYNf0Dt7"
      },
      "outputs": [],
      "source": []
    }
  ],
  "metadata": {
    "accelerator": "GPU",
    "colab": {
      "collapsed_sections": [
        "8w_69irlMZtN",
        "ViRdVtbjMhuT",
        "gkyHkgmMMm6j",
        "zdhH-Gm8Pc5Z",
        "nuao1_IWTjcx"
      ],
      "provenance": []
    },
    "gpuClass": "standard",
    "kernelspec": {
      "display_name": "Python 3",
      "language": "python",
      "name": "python3"
    },
    "language_info": {
      "codemirror_mode": {
        "name": "ipython",
        "version": 3
      },
      "file_extension": ".py",
      "mimetype": "text/x-python",
      "name": "python",
      "nbconvert_exporter": "python",
      "pygments_lexer": "ipython3",
      "version": "3.8.8"
    }
  },
  "nbformat": 4,
  "nbformat_minor": 0
}